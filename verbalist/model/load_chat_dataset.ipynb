{
 "cells": [
  {
   "cell_type": "code",
   "execution_count": 2,
   "metadata": {},
   "outputs": [],
   "source": [
    "from src.dataset import ChatDatasetSaiga\n",
    "from src.util.io import read_jsonl\n",
    "\n",
    "from transformers import AutoTokenizer\n",
    "\n",
    "train_file = \"./train.jsonl\"\n",
    "# train_file = \"./valid.jsonl\"\n",
    "train_records = read_jsonl(train_file)\n",
    "\n",
    "model_name = \"meta-llama/Llama-2-7b-hf\"\n",
    "tokenizer = AutoTokenizer.from_pretrained(model_name)\n",
    "\n",
    "max_tokens_count = 2048\n",
    "train_sample_rate = 1.0\n",
    "templates_path = \"internal_prompts/saiga_v2.json\"\n",
    "only_target_loss = True"
   ]
  },
  {
   "cell_type": "code",
   "execution_count": 3,
   "metadata": {},
   "outputs": [
    {
     "name": "stdout",
     "output_type": "stream",
     "text": [
      "b'meta-llama/Llama-2-7b-hf1.0internal_prompts/saiga_v2.json2048'\n",
      "./models/temp/d55500fade71e4c59e77ceb93ee626b055084bc3672a59dd14620a0f0d90a68c_train.bin\n"
     ]
    }
   ],
   "source": [
    "train_dataset = ChatDatasetSaiga(\n",
    "    train_records,\n",
    "    tokenizer,\n",
    "    max_tokens_count=max_tokens_count,\n",
    "    sample_rate=train_sample_rate,\n",
    "    templates_path=templates_path,\n",
    "    only_target_loss=only_target_loss,\n",
    "    dataset_type=\"train\",\n",
    "    # dataset_type=\"valid\",\n",
    ")"
   ]
  },
  {
   "cell_type": "code",
   "execution_count": 5,
   "metadata": {},
   "outputs": [
    {
     "data": {
      "text/plain": [
       "{'messages': [{'role': 'user',\n",
       "   'content': 'Расскажи о значении и использовании традиционных русских самоваров.'},\n",
       "  {'role': 'bot',\n",
       "   'content': 'Самовар – это традиционный русский чайник, который используется для подогрева и подачи чая. Слово \"самовар\" происходит от двух русских слов: \"сам\" (само) и \"варить\" (кипятить), что означает \"самокипячущийся\". Самовары имеют длинную историю в России, и их происхождение можно проследить еще до 18-го века.\\n\\nСамовары являются уникальными и заметными элементами русской культуры, и они часто ассоциируются с теплом, гостеприимством и уютом. Традиционно, самовары изготавливаются из меди или латуни и имеют красивые узоры и орнаменты. Они также могут быть изготовлены из серебра или золота, что делает их дорогими предметами искусства и коллекционирования.\\n\\nСамовары работают на принципе конвекции и имеют вертикальную цилиндрическую камеру, в которой размещается трубка с термоэлементом. В самом начале, для поддержания температуры воды использователь уголь или дрова, помещенные в термоэлемент. В последствии, были разработаны электрические самовары.\\n\\nДля того чтобы налить чай из самовара, нужно сначала налить концентрированный чай, который подают из отдельной чайной графинчики, а затем разбавить его горячей водой из самовара. Таким образом, каждый может регулировать крепость чая по своему вкусу.\\n\\nТрадиционно самовар ставится на стол, и вокруг него собираются члены семьи и друзья, слагая особую атмосферу общения и тепла. В российской культуре самовары играют большую роль, и часто их изображения можно найти в литературе, изобразительном искусстве и других произведениях.\\n\\nТаким образом, традиционные русские самовары являются важным символом российской культуры, а также элементом гостеприимства и домашней атмосферы. Они служат не только функциональным предметам для приготовления чая, но и важными предметами искусства и памятниками наследия.'},\n",
       "  {'role': 'user',\n",
       "   'content': 'Напишите короткую историю о том, как вы использовали креативность и изобретательность, чтобы решить необычную проблему в своей жизни.\\nДанные:\\n```xml\\n<root>\\n    <problem_description> Я столкнулся с необычной проблемой: мне нужно было добраться до отдаленного города, где не было общественного транспорта, а моя машина сломалась. </problem_description>\\n    <solution_steps>\\n        <step> Я проанализировал карты и нашел ближайшую станцию электрички. </step>\\n        <step> Я купил велосипед и добрался до станции. </step>\\n        <step> На станции, я встретил незнакомца, который предложил мне подвезти на своей машине до нужного мне города. </step>\\n        <step> В результате, я сумел решить свою проблему благодаря креативности и готовности рассматривать альтернативные варианты. </step>\\n    </solution_steps>\\n</root>\\n```'},\n",
       "  {'role': 'bot',\n",
       "   'content': 'Я столкнулся с необычной проблемой: мне нужно было добраться до отдаленного города, где не было общественного транспорта, а моя машина сломалась. Я начал рассматривать альтернативные варианты и проанализировал карты, чтобы найти ближайшую станцию электрички. Купив велосипед, я добрался до станции, но там узнал, что поезд ходит только раз в день и не останавливается в нужном городе. Тогда я продолжил размышлять и наткнулся на незнакомца, который предложил мне подвезти на своей машине до нужного мне города. Благодаря креативности и готовности рассматривать необычные варианты, я смог решить свою проблему.'}],\n",
       " 'source': 'mixed'}"
      ]
     },
     "execution_count": 5,
     "metadata": {},
     "output_type": "execute_result"
    }
   ],
   "source": [
    "train_records[0]"
   ]
  },
  {
   "cell_type": "code",
   "execution_count": 4,
   "metadata": {},
   "outputs": [
    {
     "data": {
      "text/plain": [
       "{'input_ids': tensor([    1,  1788,    13,  ...,  1805, 29889,     2]),\n",
       " 'labels': tensor([ -100,  -100,  -100,  ...,  1805, 29889,     2]),\n",
       " 'attention_mask': tensor([1, 1, 1,  ..., 1, 1, 1])}"
      ]
     },
     "execution_count": 4,
     "metadata": {},
     "output_type": "execute_result"
    }
   ],
   "source": [
    "train_dataset.records[0]"
   ]
  },
  {
   "cell_type": "code",
   "execution_count": 22,
   "metadata": {},
   "outputs": [
    {
     "data": {
      "text/plain": [
       "53643"
      ]
     },
     "execution_count": 22,
     "metadata": {},
     "output_type": "execute_result"
    }
   ],
   "source": [
    "len(train_dataset.records)"
   ]
  }
 ],
 "metadata": {
  "kernelspec": {
   "display_name": "base",
   "language": "python",
   "name": "python3"
  },
  "language_info": {
   "codemirror_mode": {
    "name": "ipython",
    "version": 3
   },
   "file_extension": ".py",
   "mimetype": "text/x-python",
   "name": "python",
   "nbconvert_exporter": "python",
   "pygments_lexer": "ipython3",
   "version": "3.10.9"
  },
  "orig_nbformat": 4
 },
 "nbformat": 4,
 "nbformat_minor": 2
}
