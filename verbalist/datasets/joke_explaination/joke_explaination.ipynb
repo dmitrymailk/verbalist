{
 "cells": [
  {
   "cell_type": "code",
   "execution_count": 2,
   "metadata": {},
   "outputs": [
    {
     "name": "stderr",
     "output_type": "stream",
     "text": [
      "Found cached dataset json (/home/kosenko/.cache/huggingface/datasets/theblackcat102___json/theblackcat102--joke_explaination-a3955092edb6ea20/0.0.0/fe5dd6ea2639a6df622901539cb550cf8797e5a6b2dd7af1cf934bed8e233e6e)\n"
     ]
    },
    {
     "data": {
      "application/vnd.jupyter.widget-view+json": {
       "model_id": "0aafd8db9d6e41e48f1b99d64f2047fb",
       "version_major": 2,
       "version_minor": 0
      },
      "text/plain": [
       "  0%|          | 0/1 [00:00<?, ?it/s]"
      ]
     },
     "metadata": {},
     "output_type": "display_data"
    },
    {
     "data": {
      "text/plain": [
       "Dataset({\n",
       "    features: ['url', 'joke', 'explaination'],\n",
       "    num_rows: 377\n",
       "})"
      ]
     },
     "execution_count": 2,
     "metadata": {},
     "output_type": "execute_result"
    }
   ],
   "source": [
    "from datasets import load_dataset, Dataset, concatenate_datasets\n",
    "\n",
    "dataset = load_dataset(\"theblackcat102/joke_explaination\")\n",
    "dataset = dataset[\"train\"]\n",
    "dataset"
   ]
  },
  {
   "cell_type": "code",
   "execution_count": 28,
   "metadata": {},
   "outputs": [],
   "source": [
    "# dataset.push_to_hub(\"dim/joke_explaination\", private=True)"
   ]
  },
  {
   "cell_type": "code",
   "execution_count": 10,
   "metadata": {},
   "outputs": [
    {
     "name": "stdout",
     "output_type": "stream",
     "text": [
      "Q: What does a computer do when it is tired? A: It crashes!\n"
     ]
    }
   ],
   "source": [
    "print(dataset[0]['joke'])"
   ]
  },
  {
   "cell_type": "code",
   "execution_count": 8,
   "metadata": {},
   "outputs": [
    {
     "name": "stdout",
     "output_type": "stream",
     "text": [
      "Explanation: Did your computer ever stop working (freeze) or turn itself off when you wanted to use it? If it did, you can say your computer crashed. Computer crashes are frustrating because you cannot get your work done, and sometimes you lose the work you finished most recently, unless you saved it. Thankfully, they do not happen too often.\n",
      "The word crash has other meanings. If someone is tired, a person might say, “I’m going to go crash.” This means that the person will go to bed and sleep. Or you could say, “I crashed lat night at 8:30 because I was so tired.”\n",
      "This joke is funny because it plays with two meanings of the word crash: A computer not working, and someone going to bed.\n"
     ]
    }
   ],
   "source": [
    "print(\"\\n\".join(dataset[0]['explaination'].split(\"\\n\")[:-1]))"
   ]
  },
  {
   "cell_type": "code",
   "execution_count": 22,
   "metadata": {},
   "outputs": [],
   "source": [
    "prompts = []\n",
    "jokes = set()\n",
    "for i, item in enumerate(dataset):\n",
    "    joke = item[\"joke\"]\n",
    "    explaination = \"\\n\".join(item['explaination'].split(\"\\n\")[:-1])\n",
    "    if not joke in jokes:\n",
    "        jokes.add(joke)\n",
    "        prompt = f\"Explain this joke\\n{joke}\"\n",
    "        prompts.append({\n",
    "            \"prompt\": prompt,\n",
    "            \"explaination\": explaination\n",
    "        })"
   ]
  },
  {
   "cell_type": "code",
   "execution_count": 24,
   "metadata": {},
   "outputs": [
    {
     "data": {
      "text/plain": [
       "{'prompt': 'Explain this joke\\nQ: When is an apple grouchy? A: When it is a crab apple!',\n",
       " 'explaination': 'Explanation: In the north it is apple-picking season, and time for pumpkin spice everything!\\nApples are fruit, so of course they are never grouchy. A person who is grouchy thinks that everything is bad, nothing is right; they are irritable and complain a lot. The best example of a grouch is Oscar the Grouch from Sesame Street. Grumpy is a synonym for grouchy, so you could watch at Grumpy Old Men for more examples.\\nCrab apples are small apples that are typically wild, that is, they have not been domesticated to be bought and sold. (You can eat them, though.). Crabby is another synonym for grouchy.\\nThis joke is funny because it plays with the word grouchy and it synonyms, like crabby.'}"
      ]
     },
     "execution_count": 24,
     "metadata": {},
     "output_type": "execute_result"
    }
   ],
   "source": [
    "prompts[10]"
   ]
  },
  {
   "cell_type": "code",
   "execution_count": 25,
   "metadata": {},
   "outputs": [
    {
     "data": {
      "text/plain": [
       "Dataset({\n",
       "    features: ['prompt', 'explaination'],\n",
       "    num_rows: 364\n",
       "})"
      ]
     },
     "execution_count": 25,
     "metadata": {},
     "output_type": "execute_result"
    }
   ],
   "source": [
    "prompts = Dataset.from_list(prompts)\n",
    "prompts"
   ]
  },
  {
   "cell_type": "code",
   "execution_count": 29,
   "metadata": {},
   "outputs": [
    {
     "data": {
      "application/vnd.jupyter.widget-view+json": {
       "model_id": "d942f2b196294bb483446b1a6afc2906",
       "version_major": 2,
       "version_minor": 0
      },
      "text/plain": [
       "Pushing dataset shards to the dataset hub:   0%|          | 0/1 [00:00<?, ?it/s]"
      ]
     },
     "metadata": {},
     "output_type": "display_data"
    },
    {
     "data": {
      "application/vnd.jupyter.widget-view+json": {
       "model_id": "88d35bde062c4f62b0ba476c08966067",
       "version_major": 2,
       "version_minor": 0
      },
      "text/plain": [
       "Creating parquet from Arrow format:   0%|          | 0/1 [00:00<?, ?ba/s]"
      ]
     },
     "metadata": {},
     "output_type": "display_data"
    }
   ],
   "source": [
    "prompts.push_to_hub(\"dim/joke_explaination_prompts\", private=True)"
   ]
  },
  {
   "cell_type": "code",
   "execution_count": null,
   "metadata": {},
   "outputs": [],
   "source": [
    "from datasets import load_dataset, Dataset, concatenate_datasets\n",
    "\n",
    "dataset = load_dataset(\"dim/joke_explaination_prompts\")\n",
    "dataset = dataset[\"train\"]\n",
    "dataset"
   ]
  },
  {
   "cell_type": "code",
   "execution_count": 2,
   "metadata": {},
   "outputs": [
    {
     "data": {
      "text/plain": [
       "{'prompt': 'Explain this joke\\nQ: What does a computer do when it is tired? A: It crashes!',\n",
       " 'explaination': 'Explanation: Did your computer ever stop working (freeze) or turn itself off when you wanted to use it? If it did, you can say your computer crashed. Computer crashes are frustrating because you cannot get your work done, and sometimes you lose the work you finished most recently, unless you saved it. Thankfully, they do not happen too often.\\nThe word crash has other meanings. If someone is tired, a person might say, “I’m going to go crash.” This means that the person will go to bed and sleep. Or you could say, “I crashed lat night at 8:30 because I was so tired.”\\nThis joke is funny because it plays with two meanings of the word crash: A computer not working, and someone going to bed.'}"
      ]
     },
     "execution_count": 2,
     "metadata": {},
     "output_type": "execute_result"
    }
   ],
   "source": [
    "dataset[0]"
   ]
  }
 ],
 "metadata": {
  "kernelspec": {
   "display_name": "base",
   "language": "python",
   "name": "python3"
  },
  "language_info": {
   "codemirror_mode": {
    "name": "ipython",
    "version": 3
   },
   "file_extension": ".py",
   "mimetype": "text/x-python",
   "name": "python",
   "nbconvert_exporter": "python",
   "pygments_lexer": "ipython3",
   "version": "3.10.13"
  },
  "orig_nbformat": 4
 },
 "nbformat": 4,
 "nbformat_minor": 2
}
