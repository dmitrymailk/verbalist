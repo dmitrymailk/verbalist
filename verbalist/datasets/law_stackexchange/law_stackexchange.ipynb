{
 "cells": [
  {
   "cell_type": "code",
   "execution_count": 19,
   "metadata": {},
   "outputs": [
    {
     "name": "stderr",
     "output_type": "stream",
     "text": [
      "Found cached dataset json (/home/kosenko/.cache/huggingface/datasets/ymoslem___json/ymoslem--Law-StackExchange-e01f7688f6f468f4/0.0.0/fe5dd6ea2639a6df622901539cb550cf8797e5a6b2dd7af1cf934bed8e233e6e)\n"
     ]
    },
    {
     "data": {
      "application/vnd.jupyter.widget-view+json": {
       "model_id": "32e53e29d6f747d3ac0d3de3d480fdd3",
       "version_major": 2,
       "version_minor": 0
      },
      "text/plain": [
       "  0%|          | 0/1 [00:00<?, ?it/s]"
      ]
     },
     "metadata": {},
     "output_type": "display_data"
    },
    {
     "data": {
      "text/plain": [
       "Dataset({\n",
       "    features: ['question_id', 'tags', 'score', 'license', 'link', 'question_title', 'question_body', 'answers'],\n",
       "    num_rows: 24370\n",
       "})"
      ]
     },
     "execution_count": 19,
     "metadata": {},
     "output_type": "execute_result"
    }
   ],
   "source": [
    "from datasets import load_dataset, Dataset, concatenate_datasets\n",
    "\n",
    "dataset = load_dataset(\"ymoslem/Law-StackExchange\")\n",
    "dataset = dataset[\"train\"]\n",
    "dataset"
   ]
  },
  {
   "cell_type": "code",
   "execution_count": 21,
   "metadata": {},
   "outputs": [],
   "source": [
    "# dataset.push_to_hub(\"dim/law_stackexchange\", private=True)"
   ]
  },
  {
   "cell_type": "code",
   "execution_count": 12,
   "metadata": {},
   "outputs": [
    {
     "data": {
      "text/plain": [
       "{'question_id': 94665,\n",
       " 'tags': ['criminal-law', 'driving', 'sentencing'],\n",
       " 'score': 23,\n",
       " 'license': 'CC BY-SA 4.0',\n",
       " 'link': 'https://law.stackexchange.com/questions/94665/why-is-drunk-driving-causing-accident-punished-so-much-worse-than-just-drunk-dri',\n",
       " 'question_title': 'Why is drunk driving causing accident punished so much worse than just drunk driving?',\n",
       " 'question_body': \"<p>When people drink and drive and then cause an accident especially where if someone dies they get years and years in prison but just the act of drunk driving is punished way more lenient.  Shouldn't the 2, drunk driving and drunk driving then causing accident be similarly punished?  I feel like a lot of times it's luck whether an accident happens.</p>\\n\",\n",
       " 'answers': [{'answer_id': 94666,\n",
       "   'body': '<h3>Moral luck</h3>\\n<p>You have raised the issue of <em>moral luck</em>, a long recognized problem in criminal theory. The classic expositions of this issue are by <a href=\"https://en.m.wikipedia.org/wiki/Thomas_Nagel\" rel=\"noreferrer\">Thomas Nagel</a>, in his chapter, &quot;<a href=\"https://rintintin.colorado.edu/%7Evancecd/phil1100/Nagel1.pdf\" rel=\"noreferrer\">Moral Luck</a>&quot; (1979) and <a href=\"https://en.m.wikipedia.org/wiki/Bernard_Williams\" rel=\"noreferrer\">Bernard Williams</a>, &quot;<a href=\"https://bibliotecamathom.files.wordpress.com/2012/10/williams_-_moral_luck.pdf\" rel=\"noreferrer\">Moral Luck</a>&quot; (1976). Specifically, you are describing what they call <em>outcome</em> luck, or <em>consequential</em> luck.</p>\\n<p>Driving while intoxicated vs. driving while intoxicated and causing death is not the only example where moral luck results in a distinction in punishment. Other examples are:</p>\\n<ul>\\n<li>dangerous driving vs. dangerous driving that causes death</li>\\n<li>a successful offence vs. an attempted offence (generally resulting in a maximum sentence less than that of the successful offence)</li>\\n</ul>\\n<p>Nagel writes:</p>\\n<blockquote>\\n<p>If someone has had too\\nmuch to drink and his car swerves on to the sidewalk, he can count himself morally lucky if there are no pedestrians in its path. If there were, he would\\nbe to blame for their deaths, and would probably be prosecuted for\\nmanslaughter. But if he hurts no one, although his recklessness is exactly the\\nsame, he is guilty of a far less serious legal offence and will certainly reproach\\nhimself and be reproached by others much less severely. To take another legal\\nexample, the penalty for attempted murder is less than that for successful\\nmurder – however similar the intentions and motives of the assailant may be\\nin the two cases. His degree of culpability can depend, it would seem, on\\nwhether the victim happened to be wearing a bullet-proof vest, or whether a\\nbird flew into the path of the bullet – matters beyond his control.</p>\\n<p>...</p>\\n<p>... How is it possible to be more or less culpable depending\\non whether a child gets into the path of one’s car, or a bird into the path of\\none’s bullet? Perhaps it is true that what is done depends on more than the\\nagent’s state of mind or intention. The problem then is, why is it not irrational to base moral assessment on what people do, in this broad sense? It\\namounts to holding them responsible for the contributions of fate as well as\\nfor their own – provided they have made some contribution to begin with. ... If the object of moral judgment is the person, then to hold him accountable for what he has done in the broader sense is akin to strict liability, which may have its legal uses but seems irrational as a moral position.</p>\\n</blockquote>\\n<h3>Two offered justifications for making distinctions based purely on outcome</h3>\\n<p>Two considerations often raised as justification for differential treatment based on outcome are (<a href=\"https://en.m.wikipedia.org/wiki/David_Enoch_(philosopher)\" rel=\"noreferrer\">David Enoch</a> &amp; <a href=\"https://en.m.wikipedia.org/wiki/Andrei_Marmor\" rel=\"noreferrer\">Andrei Marmor</a>, &quot;<a href=\"https://www.jstor.org/stable/27652623\" rel=\"noreferrer\">The Case against Moral Luck</a>&quot;, 26 LAW &amp; PHIL. 405 (2007), pp. 415–17)</p>\\n<ul>\\n<li>epistemological / evidential — the person who <em>actually</em> killed a person was more likely to have been driving more recklessly</li>\\n<li>the theory that the actor should have to internalize the risk, fully, when they set out on a risky activity — if they happen to kill someone, the risk of this higher punishment was part of what they should have accounted for when deciding to embark on the risky activity</li>\\n</ul>\\n<p>A couple of quotes from Enoch and Marmor:</p>\\n<blockquote>\\n<p>All other things being equal, the occurrence of an accident is plausibly considered as at least some prima facie evidence for recklessness, or indeed for a higher\\ndegree of recklessness.</p>\\n</blockquote>\\n<blockquote>\\n<p>A conception of fairness that requires\\nagents to internalize the costs of their risky activities does not\\nnecessarily reflect a view of responsibility or blameworthiness.\\nIt may simply reflect a judgment about the appropriate distribution of the costs of risky activities.</p>\\n</blockquote>\\n',\n",
       "   'score': 72},\n",
       "  {'answer_id': 94674,\n",
       "   'body': '<p>Drunk driving remains, per se, &quot;victimless&quot; - a breach of regulations - until someone actually becomes a victim. That puts less emphasis on the punitive role of the justice system and more on deterrence and rehabilitation.</p>\\n<p>The standards for charging someone with DUI are much lower than with vehicular homicide. DUI is a strict liability offense, requiring no intent, no mens rea. In about half the states it\\'s even <a href=\"https://stpetelawgroup.com/can-i-get-a-dui-if-im-sleeping-in-my-car-in-fl/\" rel=\"noreferrer\">possible</a> to get a DUI conviction for sleeping in the back seat of a car. In no state is it possible to kill anyone (other than yourself) solely by sleeping under the influence.</p>\\n<p>The system of tiered offenses with different culpability requirements is about as strong a deterrent as the public can accept. It allows handing out the first tier of penalties in as many situations as possible, while allowing for heavier charges when there are consequences or aggravating factors.</p>\\n<p>Not applying the penalty for the worst possible consequences for every act also avoids &quot;in for a penny, in for a pound&quot; perverse incentives, prompting one to exercise whatever amount of caution they still can.</p>\\n',\n",
       "   'score': 26},\n",
       "  {'answer_id': 94677,\n",
       "   'body': '<p>Drivers are negligent all the time. Not only by drunk driving, but also by speeding, driving when really tired, etc.</p>\\n<p>The question is, what level of negligence is enough to call it recklessness?</p>\\n<p>The rough method that is applied here is: If you killed someone, and the killing is connected to your negligent behaviour, then it was probably reckless.</p>\\n<p>It is not the best method, but it is also not completely unreasonable.</p>\\n',\n",
       "   'score': 8},\n",
       "  {'answer_id': 94669,\n",
       "   'body': '<p>Have you seen or watched the movie Minority Report?  People were arrested and imprisoned based upon what they would have done in the future.</p>\\n<p>While you are probably unable to drive in a reasonably safe manner in that condition, getting into an accident moves that from probably to certainly. You didn’t just subject yourself and others to an unmeasurable (possible) increase of risk to their safety, you actually caused harm.</p>\\n',\n",
       "   'score': 7},\n",
       "  {'answer_id': 94681,\n",
       "   'body': '<p><strong>The question &quot;How drunk is drunk?&quot; is legally more flexible than &quot;How dead is dead&quot;</strong></p>\\n<p>Ultimately, the range of &quot;Too drunk&quot; could be heavily varied - depending on the region, the <a href=\"https://en.wikipedia.org/wiki/Blood_alcohol_content\" rel=\"noreferrer\">Blood Alcohol Content (Or BAC)</a> can vary by jurisdiction; some countries have a maximum BAC of 0.02%, and others a BAC of 0.08%. How these limits are determined involves some math math in theory, but in practice usually involves a breath sample via an approved screening device; an important point of the mathematical side, however, does indicate that, with time, the BAC counter goes lower.</p>\\n<p>The timing aspect of the BAC test result means that, ultimately, you could be charging people with a low enough (But too high legally) BAC amount for simply not waiting longer. &quot;Oh, you didn\\'t wait another 40 minutes before getting onto the road after waiting 80 minutes, so we\\'re going to give you extended jail time&quot; does feel a bit harsh - even if the math might be more complicated than that (See also, how body weight can affect the approximate mathematics in the above linked Wikipedia article). It\\'s also a significantly small margin at times, and you could be punishing people who were spiked beyond the limit unexpectedly.</p>\\n<p>Whereas, whether or not someone is dead, is generally much easier to ascertain (Even if there are <a href=\"https://en.wikipedia.org/wiki/Legal_death\" rel=\"noreferrer\">legal grey areas regarding the definition of being dead</a> - if the body is found, medically they can check for brain and cardiovascular signs if brought to a hospital, where a determination can be made with more information.)- which makes the harder part determining if you drove into them, and then the hardest part proving that you were drunk at the time - where the above parts come into play.</p>\\n',\n",
       "   'score': 6},\n",
       "  {'answer_id': 94710,\n",
       "   'body': \"<p>Although some of the answers make a good comparison between retributive and preventative punishment, there is a more utilitarian purpose for this difference.</p>\\n<p>Simply put, the law exists so people do not need to seek whatever they want through illegal means.</p>\\n<p>If someone kills a man in a hypothetical world without law, the family of the man would seek revenge for his death. Then, if they kill the murderer, the murderer's family might seek revenge for his death. This would lead to a cycle of violence, which is what often happened in tribal societies.</p>\\n<p>Thus, one of the main purposes of the law is to be the arbiter between people and sole source of violence so they do not feel the need to take violence into their own hands.</p>\\n<p>The reason, thus, that a drunk driver who kills people is punished more is simply because the law needs to do that if it wishes to prevent many people from feeling their desire for revenge is not fulfilled and falling into lawlessness.</p>\\n<p>As for drunk driving by itself, it is only punished as a preventative measure.</p>\\n\",\n",
       "   'score': 3},\n",
       "  {'answer_id': 94717,\n",
       "   'body': \"<p>Consider these two scenarios:</p>\\n<ul>\\n<li>Alice has never driven whilst drunk before, but this one time she's forgotten that she came to the dinner party by car and drinks some wine. Realising her mistake, she drives home exceedingly careful and slow, which raises the suspicion of a policeman who tests her and finds the alcohol level too high.</li>\\n<li>Bob routinely drives slightly drunk, but has been confident and lucky enough never to have been caught. This time though, his intoxication causes him to not notice a pedestrian who has tripped while crossing the road, and he runs her over.</li>\\n</ul>\\n<p>If both were punished the same way, there wouldn't really be an incentive (besides altruism) to act like Alice, which clearly is the less inappropriate thing to do. She didn't act exactly <em>right</em> either, but she certainly acted in a way that posed less danger to society.</p>\\n\",\n",
       "   'score': 2},\n",
       "  {'answer_id': 94735,\n",
       "   'body': \"<p>We know alcohol impairs higher cognitive function, but the degree to which it does varies greatly from one person to the next (and depends heavily on other factors, such as what else you've eaten or drunk), and the ways in which it affects individuals also varies. Never mind that the same person could also be more or less drunk.</p>\\n<p>So we have a legal limit where the average person would be sufficiently impaired, such that they shouldn't be driving.</p>\\n<p>But this doesn't mean all those people are equally likely to drive too fast, run over traffic lights, swerve, not notice their surroundings, react too slowly, or do any of the other things a drunk person might do, that greatly increase the risk of someone dying.</p>\\n<p>So charging all drunk drivers with homicide-level offenses doesn't make much sense given the amount of variation there.</p>\\n<p>Also note that drunk driving is a preventative charge: drunk driving is not something that causes harm in and of itself, but we collectively agree that people shouldn't do it because of the risk it carries. Since it doesn't necessarily cause harm, it doesn't really make sense to punish it as severely as something which does cause harm. To prevent harm is one of the main reasons laws exist in the first place, so whether harm was or would've been caused is an important consideration.</p>\\n<hr />\\n<p>Drunk driving can be compared to some degree to driving while medicated. Medicine affects different people differently under different circumstances, so it wouldn't really make sense to say driving after taking a single aspirin is equivalent to driving after taking strong prescription pain pills, or that taking something which has no noticeable effect on you is bad because it knocks someone else out.</p>\\n<p>The difference is that alcohol has a more consistent effect, it's a more common known source of accidents, and it's easier to test for.</p>\\n\",\n",
       "   'score': 0},\n",
       "  {'answer_id': 94739,\n",
       "   'body': '<h2>Harming someone, or being drunker, offers different facts that violate more laws.</h2>\\n<p>It\\'s simple: if you do more stuff, you can violate more laws at the same time. And some laws are just written in such a way, that violating them is punished harder. So:</p>\\n<h3>Violating some laws gets you punished harder than others.</h3>\\n<p>And with drunk driving, often laws are written like escalation steps.\\nLet me use the law of <a href=\"/questions/tagged/germany\" class=\"post-tag\" title=\"show questions tagged &#39;germany&#39;\" aria-label=\"show questions tagged &#39;germany&#39;\" rel=\"tag\" aria-labelledby=\"tag-germany-tooltip-container\">germany</a> as an example:</p>\\n<ul>\\n<li>If you are a new driver, you may not have any alcohol. 0.0 is your limit. See <a href=\"https://www.gesetze-im-internet.de/stvg/__24c.html\" rel=\"nofollow noreferrer\">§24c Straßenverkehrsgesetz</a> (Law on Road Traffic)</li>\\n<li>Driving with <em>some</em> blood alcohol is legal, as long as you are below the limit and drive well enough. Without any signs of alcohol-related errors, you can have less than 0.5 permille.</li>\\n<li>Driving under the influence of alcohol in a manner that is noticeable for the intoxication, you gain a hefty fine when caught. That is called Trunkenheit I\\'m Straßenverkehr (~Driving under the Influence of Alcohol) under <a href=\"https://www.gesetze-im-internet.de/stgb/__316.html\" rel=\"nofollow noreferrer\">§316 StGB</a> (Penal Code) and can trigger as early as 0.3 permille alcohol according to the highest German court.</li>\\n<li>Getting caught while driving with more than 0.5 permille gives you a hefty fine and automatic loss of the driver\\'s license for 1 to 3 months, depending on how often you do it. This is regulated in  <a href=\"https://www.gesetze-im-internet.de/stvg/__24a.html\" rel=\"nofollow noreferrer\">§24a StVG</a>, and is called the &quot;0.5 permille limit&quot;</li>\\n<li>Driving with 1.1 permille or more means you are <em>also</em> in for a felony: very hefty fines are leveled, you can go to jail for up to 5 years, your driver\\'s license is on the line for at least 6 months up to 5 years or permanent revocation. This falls under <a href=\"https://www.gesetze-im-internet.de/stgb/__315c.html\" rel=\"nofollow noreferrer\">§315c StGB</a>, Endangering of Road Traffic. At this point, the BGH reasoned, you are absolutely incapable to drive a vehicle safely.</li>\\n<li>Should you be caught with 1.6 permille or more, makes the test to determine if you ever can regain your driver\\'s license mandatory. At this point, it is reasonable to suspect that the person in question is a chronic drunkard.</li>\\n</ul>\\n<p>All of those are <strong>just</strong> driving drunk, where no intent is needed. That\\'s all separate from what comes when an accident happens. The moment your drunk driving harms anyone (or anything), it goes from just punishing your state of drunkenness to making your drunkenness a factor in a totally different crime, the one that revolves around doing the harm. Being intoxicated enough opens you, before anything else, to the reckless versions of harming or killing crimes.</p>\\n<ul>\\n<li>Killing someone by driving them over under alcoholic influence is at least Fahrlässige Tötung under <a href=\"https://www.gesetze-im-internet.de/stgb/__222.html\" rel=\"nofollow noreferrer\">§222 StGB</a> (Reckless Killing)</li>\\n<li>Harming someone but not killing them while driving in such a manner is just Fahrlässige Körperverletung under <a href=\"https://www.gesetze-im-internet.de/stgb/__229.html\" rel=\"nofollow noreferrer\">§229 StGB</a> (reckless harming of someone)</li>\\n</ul>\\n',\n",
       "   'score': 0}]}"
      ]
     },
     "execution_count": 12,
     "metadata": {},
     "output_type": "execute_result"
    }
   ],
   "source": [
    "dataset[0]"
   ]
  },
  {
   "cell_type": "code",
   "execution_count": 24,
   "metadata": {},
   "outputs": [
    {
     "name": "stderr",
     "output_type": "stream",
     "text": [
      "/home/kosenko/miniconda3/lib/python3.10/site-packages/markdownify/__init__.py:96: MarkupResemblesLocatorWarning: The input looks more like a filename than markup. You may want to open this file and pass the filehandle into Beautiful Soup.\n",
      "  soup = BeautifulSoup(html, 'html.parser')\n"
     ]
    }
   ],
   "source": [
    "import markdownify\n",
    "\n",
    "prompts = []\n",
    "\n",
    "for i, item in enumerate(dataset):\n",
    "    question_title = item[\"question_title\"]\n",
    "    question_body = item[\"question_body\"]\n",
    "\n",
    "    question_title = str(markdownify.markdownify(question_title)).strip()\n",
    "    question_body = str(markdownify.markdownify(question_body)).strip()\n",
    "    # print(question_title)\n",
    "    # print(question_body)\n",
    "    if len(item['answers']) > 0:\n",
    "        answer = sorted(item['answers'], key=lambda x: x['score'], reverse=True)[0]\n",
    "        answer = str(markdownify.markdownify(answer['body']))\n",
    "        answer = answer.replace(\"\\n\\n\", \"\\n\").strip()\n",
    "        # print(\"=\"*10)\n",
    "        # print(answer)\n",
    "        # print(\"=\"*100)\n",
    "        prompt = f\"{question_title}\\n{question_body}\"\n",
    "        prompts.append({\n",
    "            \"prompt\": prompt,\n",
    "            \"solution\": answer\n",
    "        })\n",
    "\n",
    "    # if i >= 10:\n",
    "    #     break"
   ]
  },
  {
   "cell_type": "code",
   "execution_count": 25,
   "metadata": {},
   "outputs": [],
   "source": [
    "prompts = Dataset.from_list(prompts)"
   ]
  },
  {
   "cell_type": "code",
   "execution_count": 28,
   "metadata": {},
   "outputs": [],
   "source": [
    "# prompts.push_to_hub(\"dim/law_stackexchange_prompts\", private=True)"
   ]
  },
  {
   "cell_type": "code",
   "execution_count": 29,
   "metadata": {},
   "outputs": [
    {
     "data": {
      "text/plain": [
       "{'prompt': \"Why is drunk driving causing accident punished so much worse than just drunk driving?\\nWhen people drink and drive and then cause an accident especially where if someone dies they get years and years in prison but just the act of drunk driving is punished way more lenient. Shouldn't the 2, drunk driving and drunk driving then causing accident be similarly punished? I feel like a lot of times it's luck whether an accident happens.\",\n",
       " 'solution': '### Moral luck\\n\\nYou have raised the issue of *moral luck*, a long recognized problem in criminal theory. The classic expositions of this issue are by [Thomas Nagel](https://en.m.wikipedia.org/wiki/Thomas_Nagel), in his chapter, \"[Moral Luck](https://rintintin.colorado.edu/%7Evancecd/phil1100/Nagel1.pdf)\" (1979) and [Bernard Williams](https://en.m.wikipedia.org/wiki/Bernard_Williams), \"[Moral Luck](https://bibliotecamathom.files.wordpress.com/2012/10/williams_-_moral_luck.pdf)\" (1976). Specifically, you are describing what they call *outcome* luck, or *consequential* luck.\\n\\nDriving while intoxicated vs. driving while intoxicated and causing death is not the only example where moral luck results in a distinction in punishment. Other examples are:\\n\\n* dangerous driving vs. dangerous driving that causes death\\n* a successful offence vs. an attempted offence (generally resulting in a maximum sentence less than that of the successful offence)\\n\\nNagel writes:\\n\\n> \\n> If someone has had too\\n> much to drink and his car swerves on to the sidewalk, he can count himself morally lucky if there are no pedestrians in its path. If there were, he would\\n> be to blame for their deaths, and would probably be prosecuted for\\n> manslaughter. But if he hurts no one, although his recklessness is exactly the\\n> same, he is guilty of a far less serious legal offence and will certainly reproach\\n> himself and be reproached by others much less severely. To take another legal\\n> example, the penalty for attempted murder is less than that for successful\\n> murder – however similar the intentions and motives of the assailant may be\\n> in the two cases. His degree of culpability can depend, it would seem, on\\n> whether the victim happened to be wearing a bullet-proof vest, or whether a\\n> bird flew into the path of the bullet – matters beyond his control.\\n> \\n> \\n> ...\\n> \\n> \\n> ... How is it possible to be more or less culpable depending\\n> on whether a child gets into the path of one’s car, or a bird into the path of\\n> one’s bullet? Perhaps it is true that what is done depends on more than the\\n> agent’s state of mind or intention. The problem then is, why is it not irrational to base moral assessment on what people do, in this broad sense? It\\n> amounts to holding them responsible for the contributions of fate as well as\\n> for their own – provided they have made some contribution to begin with. ... If the object of moral judgment is the person, then to hold him accountable for what he has done in the broader sense is akin to strict liability, which may have its legal uses but seems irrational as a moral position.\\n> \\n> \\n> \\n\\n### Two offered justifications for making distinctions based purely on outcome\\n\\nTwo considerations often raised as justification for differential treatment based on outcome are ([David Enoch](https://en.m.wikipedia.org/wiki/David_Enoch_(philosopher)) & [Andrei Marmor](https://en.m.wikipedia.org/wiki/Andrei_Marmor), \"[The Case against Moral Luck](https://www.jstor.org/stable/27652623)\", 26 LAW & PHIL. 405 (2007), pp. 415–17)\\n\\n* epistemological / evidential — the person who *actually* killed a person was more likely to have been driving more recklessly\\n* the theory that the actor should have to internalize the risk, fully, when they set out on a risky activity — if they happen to kill someone, the risk of this higher punishment was part of what they should have accounted for when deciding to embark on the risky activity\\n\\nA couple of quotes from Enoch and Marmor:\\n\\n> \\n> All other things being equal, the occurrence of an accident is plausibly considered as at least some prima facie evidence for recklessness, or indeed for a higher\\n> degree of recklessness.\\n> \\n> \\n> \\n\\n> \\n> A conception of fairness that requires\\n> agents to internalize the costs of their risky activities does not\\n> necessarily reflect a view of responsibility or blameworthiness.\\n> It may simply reflect a judgment about the appropriate distribution of the costs of risky activities.\\n> \\n> \\n>'}"
      ]
     },
     "execution_count": 29,
     "metadata": {},
     "output_type": "execute_result"
    }
   ],
   "source": [
    "prompts[0]"
   ]
  },
  {
   "cell_type": "code",
   "execution_count": 2,
   "metadata": {},
   "outputs": [
    {
     "name": "stderr",
     "output_type": "stream",
     "text": [
      "Found cached dataset parquet (/home/kosenko/.cache/huggingface/datasets/dim___parquet/dim--law_stackexchange_prompts-0ea0f16d4dd4aad2/0.0.0/2a3b91fbd88a2c90d1dbbb32b460cf621d31bd5b05b934492fdef7d8d6f236ec)\n"
     ]
    },
    {
     "data": {
      "application/vnd.jupyter.widget-view+json": {
       "model_id": "ba56561800e74cf28c5518feb270b848",
       "version_major": 2,
       "version_minor": 0
      },
      "text/plain": [
       "  0%|          | 0/1 [00:00<?, ?it/s]"
      ]
     },
     "metadata": {},
     "output_type": "display_data"
    },
    {
     "data": {
      "text/plain": [
       "Dataset({\n",
       "    features: ['prompt', 'solution'],\n",
       "    num_rows: 24343\n",
       "})"
      ]
     },
     "execution_count": 2,
     "metadata": {},
     "output_type": "execute_result"
    }
   ],
   "source": [
    "from datasets import load_dataset, Dataset, concatenate_datasets\n",
    "\n",
    "dataset = load_dataset(\"dim/law_stackexchange_prompts\")\n",
    "dataset = dataset[\"train\"]\n",
    "dataset"
   ]
  },
  {
   "cell_type": "code",
   "execution_count": 3,
   "metadata": {},
   "outputs": [
    {
     "data": {
      "text/plain": [
       "{'prompt': \"Can I legally give someone the right to cannibalize me?\\nLet say I and a friend are stranded somewhere, starving, and confident rescue will not come until we both have starved. Realizing that it makes more sense for one to live then both of us to starve we draw straws and I draw poorly. I give my friend permission to both kill me and eat my body to survive.\\n\\n\\nI've agreed to this plan, perhaps we even record me on video giving him permission, saying I'm of sane mind and why I made the decision etc.\\n\\n\\nMy friend gets home afterwards and tells everyone how great I tasted. For some reason people get upset and call the police.\\n\\n\\nMy question, is my friend guilty of a crime? Has my permission, and the necessity of the situation, made his actions legal?\",\n",
       " 'solution': '[germany](/questions/tagged/germany \"show questions tagged \\'germany\\'\")\\n----------------------------------------------------------------------\\n\\nIn Germany this is a solved matter:\\n\\n* Killing on request is illegal.\\n* Killing someone to consume them can be *Mord*.\\n* Eating human remains is illegal, **even** with consent of the dead.\\n\\nWhy do we know this? Because [Armin Meiwes](https://en.wikipedia.org/wiki/Armin_Meiwes) did exactly that: he was involved in killing Bernd-Jürgen Armando Brandes, who wanted to die, and ate the remains of him. He currently is incarcerated for life due to the conviction of Mord. This is because he was found to have killed for his own sexual gratification - one of the factors that can turn an unlawful killing/*Totschlag* ([§ 212 StGB](https://www.gesetze-im-internet.de/stgb/__212.html)) (~manslaughter) into Mord ([§ 211 StGB](https://www.gesetze-im-internet.de/stgb/__211.html)) (~murder 1st degree) under german law.\\n\\nConsuming the remains of a human body is, as the courts found, [*Störung der Totenruhe*](https://de.wikipedia.org/wiki/St%C3%B6rung_der_Totenruhe) under [§ 168 StgB](https://www.gesetze-im-internet.de/stgb/__168.html) (disturbing the rest of human remains). It is not possible to consent to being eaten, as you can not give your body to anything but research or medical education legally and you have to be buried in a designated graveyard.'}"
      ]
     },
     "execution_count": 3,
     "metadata": {},
     "output_type": "execute_result"
    }
   ],
   "source": [
    "dataset[123]"
   ]
  }
 ],
 "metadata": {
  "kernelspec": {
   "display_name": "base",
   "language": "python",
   "name": "python3"
  },
  "language_info": {
   "codemirror_mode": {
    "name": "ipython",
    "version": 3
   },
   "file_extension": ".py",
   "mimetype": "text/x-python",
   "name": "python",
   "nbconvert_exporter": "python",
   "pygments_lexer": "ipython3",
   "version": "3.10.13"
  },
  "orig_nbformat": 4
 },
 "nbformat": 4,
 "nbformat_minor": 2
}
