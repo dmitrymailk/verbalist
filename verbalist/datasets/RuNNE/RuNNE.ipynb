{
 "cells": [
  {
   "cell_type": "code",
   "execution_count": 1,
   "metadata": {},
   "outputs": [
    {
     "name": "stderr",
     "output_type": "stream",
     "text": [
      "/home/kosenko/miniconda3/lib/python3.10/site-packages/tqdm/auto.py:21: TqdmWarning: IProgress not found. Please update jupyter and ipywidgets. See https://ipywidgets.readthedocs.io/en/stable/user_install.html\n",
      "  from .autonotebook import tqdm as notebook_tqdm\n",
      "No config specified, defaulting to: ru_nne/data\n",
      "Found cached dataset ru_nne (/home/kosenko/.cache/huggingface/datasets/iluvvatar___ru_nne/data/1.0.0/5c0467600cde2a64546227a05688adcfcdcb583c442a7cac64b864313a68e588)\n",
      "100%|██████████| 3/3 [00:00<00:00, 122.37it/s]\n"
     ]
    },
    {
     "data": {
      "text/plain": [
       "Dataset({\n",
       "    features: ['id', 'text', 'entities'],\n",
       "    num_rows: 877\n",
       "})"
      ]
     },
     "execution_count": 1,
     "metadata": {},
     "output_type": "execute_result"
    }
   ],
   "source": [
    "from datasets import load_dataset, Dataset, concatenate_datasets\n",
    "import json\n",
    "\n",
    "dataset = load_dataset(\"iluvvatar/RuNNE\")\n",
    "dataset = concatenate_datasets(\n",
    "    [\n",
    "        dataset[\"train\"],\n",
    "        dataset[\"test\"],\n",
    "        dataset[\"dev\"],\n",
    "    ]\n",
    ")\n",
    "dataset"
   ]
  },
  {
   "cell_type": "code",
   "execution_count": 11,
   "metadata": {},
   "outputs": [],
   "source": [
    "new_dataset = []\n",
    "\n",
    "for i in range(len(dataset)):\n",
    "    text = dataset[i][\"text\"]\n",
    "    entities = dataset[i][\"entities\"]\n",
    "    parsed_entities = []\n",
    "    for entit in entities:\n",
    "        start, end, ent_name = list(entit.split())\n",
    "        start, end = int(start), int(end)\n",
    "        text_with_pos = text[:end]\n",
    "        ent = text[start:end]\n",
    "        # print(f\"text_with_pos={text_with_pos}\")\n",
    "        # print(f\"ent_name={ent_name}\")\n",
    "        # print(f'ent={ent}')\n",
    "        # print(\"-\"*10)\n",
    "        parsed_entities.append(\n",
    "            {\n",
    "                # \"text_pos\": text_with_pos,\n",
    "                \"name\": ent_name,\n",
    "                \"ent\": ent,\n",
    "                \"pos\": f\"{start} {end}\",\n",
    "            }\n",
    "        )\n",
    "    parsed_entities = parsed_entities[:30]\n",
    "    if len(parsed_entities) > 0:\n",
    "        parsed_entities = json.dumps(\n",
    "            parsed_entities,\n",
    "            ensure_ascii=False,\n",
    "            # indent=1,\n",
    "        )\n",
    "        new_dataset.append(\n",
    "            {\n",
    "                \"text\": text,\n",
    "                \"parsed_entities\": parsed_entities,\n",
    "            }\n",
    "        )\n",
    "    # break"
   ]
  },
  {
   "cell_type": "code",
   "execution_count": 12,
   "metadata": {},
   "outputs": [
    {
     "data": {
      "text/plain": [
       "554"
      ]
     },
     "execution_count": 12,
     "metadata": {},
     "output_type": "execute_result"
    }
   ],
   "source": [
    "len(new_dataset)"
   ]
  },
  {
   "cell_type": "code",
   "execution_count": 13,
   "metadata": {},
   "outputs": [],
   "source": [
    "from transformers import AutoTokenizer\n",
    "from verbalist.datasets.utils import visualize_hist\n",
    "\n",
    "tokenizer = AutoTokenizer.from_pretrained(\"meta-llama/Llama-2-7b-hf\")"
   ]
  },
  {
   "cell_type": "code",
   "execution_count": 14,
   "metadata": {},
   "outputs": [
    {
     "data": {
      "image/png": "[encoded data removed]",
      "text/plain": [
       "<Figure size 640x480 with 1 Axes>"
      ]
     },
     "metadata": {},
     "output_type": "display_data"
    }
   ],
   "source": [
    "conversation_lengths = []\n",
    "\n",
    "\n",
    "for item in new_dataset:\n",
    "    # all_text = item['text']\n",
    "    all_text = item['text'] + item['parsed_entities']\n",
    "    conversation_lengths.append(len(tokenizer(all_text)[\"input_ids\"]))\n",
    "    # print(all_text)\n",
    "    # print(\"=\"*100)\n",
    "    # print(\"=\"*100)\n",
    "    # print(\"=\"*100)\n",
    "    # break\n",
    "    # if has_cyrillic(all_text):\n",
    "    #     rus_conv.append(conversation)\n",
    "\n",
    "\n",
    "visualize_hist(conversation_lengths, \"text lengths\")"
   ]
  },
  {
   "cell_type": "code",
   "execution_count": 20,
   "metadata": {},
   "outputs": [
    {
     "data": {
      "text/plain": [
       "1977.1499999999996"
      ]
     },
     "execution_count": 20,
     "metadata": {},
     "output_type": "execute_result"
    }
   ],
   "source": [
    "import numpy as np\n",
    "\n",
    "filter_num = 97\n",
    "np.percentile(conversation_lengths, filter_num)"
   ]
  },
  {
   "cell_type": "code",
   "execution_count": 21,
   "metadata": {},
   "outputs": [],
   "source": [
    "short_ents = (np.array(conversation_lengths) < np.percentile(conversation_lengths, filter_num)).tolist()\n",
    "short_dataset = []\n",
    "for i, is_short in enumerate(short_ents):\n",
    "    if is_short:\n",
    "        short_dataset.append(new_dataset[i])"
   ]
  },
  {
   "cell_type": "code",
   "execution_count": 22,
   "metadata": {},
   "outputs": [
    {
     "data": {
      "text/plain": [
       "Dataset({\n",
       "    features: ['text', 'parsed_entities'],\n",
       "    num_rows: 537\n",
       "})"
      ]
     },
     "execution_count": 22,
     "metadata": {},
     "output_type": "execute_result"
    }
   ],
   "source": [
    "short_dataset = Dataset.from_list(short_dataset)\n",
    "short_dataset"
   ]
  },
  {
   "cell_type": "code",
   "execution_count": 25,
   "metadata": {},
   "outputs": [],
   "source": [
    "# for item in short_dataset:\n",
    "#     print(item['parsed_entities'])"
   ]
  },
  {
   "cell_type": "code",
   "execution_count": 24,
   "metadata": {},
   "outputs": [
    {
     "name": "stderr",
     "output_type": "stream",
     "text": [
      "Creating parquet from Arrow format: 100%|██████████| 1/1 [00:00<00:00, 76.38ba/s]\n",
      "Pushing dataset shards to the dataset hub: 100%|██████████| 1/1 [00:02<00:00,  2.25s/it]\n",
      "Deleting unused files from dataset repository: 100%|██████████| 1/1 [00:00<00:00,  2.32it/s]\n",
      "Updating downloaded metadata with the new split.\n"
     ]
    }
   ],
   "source": [
    "short_dataset.push_to_hub(\"dim/runne_prompts\")"
   ]
  },
  {
   "cell_type": "code",
   "execution_count": 1,
   "metadata": {},
   "outputs": [
    {
     "name": "stderr",
     "output_type": "stream",
     "text": [
      "/home/kosenko/miniconda3/lib/python3.10/site-packages/tqdm/auto.py:21: TqdmWarning: IProgress not found. Please update jupyter and ipywidgets. See https://ipywidgets.readthedocs.io/en/stable/user_install.html\n",
      "  from .autonotebook import tqdm as notebook_tqdm\n",
      "Downloading readme: 100%|██████████| 398/398 [00:00<00:00, 3.45MB/s]\n"
     ]
    },
    {
     "name": "stdout",
     "output_type": "stream",
     "text": [
      "Downloading and preparing dataset None/None to /home/kosenko/.cache/huggingface/datasets/dim___parquet/dim--runne_prompts-8506348ea5da8e6e/0.0.0/2a3b91fbd88a2c90d1dbbb32b460cf621d31bd5b05b934492fdef7d8d6f236ec...\n"
     ]
    },
    {
     "name": "stderr",
     "output_type": "stream",
     "text": [
      "Downloading data: 100%|██████████| 1.55M/1.55M [00:00<00:00, 3.44MB/s]\n",
      "Downloading data files: 100%|██████████| 1/1 [00:01<00:00,  1.80s/it]\n",
      "Extracting data files: 100%|██████████| 1/1 [00:00<00:00, 542.53it/s]\n",
      "                                                                      \r"
     ]
    },
    {
     "name": "stdout",
     "output_type": "stream",
     "text": [
      "Dataset parquet downloaded and prepared to /home/kosenko/.cache/huggingface/datasets/dim___parquet/dim--runne_prompts-8506348ea5da8e6e/0.0.0/2a3b91fbd88a2c90d1dbbb32b460cf621d31bd5b05b934492fdef7d8d6f236ec. Subsequent calls will reuse this data.\n"
     ]
    },
    {
     "name": "stderr",
     "output_type": "stream",
     "text": [
      "100%|██████████| 1/1 [00:00<00:00, 717.34it/s]\n"
     ]
    },
    {
     "data": {
      "text/plain": [
       "{'text': 'Ким Чен Нама убили с помощью запрещённого химоружия\\n\\nVX\\nПолиция Малайзии установила вещество, с помощью которого был убит Ким Чен Нам — брат лидера КНДР Ким Чен Ына, — это отравляющее вещество нервно-паралитического действия (VX Nerve Agent), которое является химическим оружием.\\n\\nВ пресс-релизе малайзийской полиции говорится:\\n\\n\\nЦентр анализа химического оружия департамента полиции провёл анализы проб, взятых со слизистой оболочки глаза и лица умершего.\\n\\nВ нём поясняется, что VX причислен к химоружию «Конвенцией о запрещении разработки, производства, накопления и применения химического оружия и о его уничтожении» от 1997 года.\\n\\nПозднее выяснилось, что у одной из подозреваемых в убийстве Ким Чен Нама проявлялись симптомы отравления этим веществом.\\n\\nКим Чен Нам, старший брат лидера КНДР Ким Чен Ына, скончался 13 февраля 2017 года в Малайзии. По предварительным данным, его отравили в аэропорту, когда он направлялся из Малайзии в Макао. По подозрению в причастности к убийству Ким Чен Нама задержаны две девушки — гражданки Вьетнама и Индонезии. Полиция Малайзии считает их непосредственными исполнительницами убийства. Девушки, в свою очередь, утверждают, что им предложили за деньги поучаствовать в розыгрыше.\\n\\n\\n\\n',\n",
       " 'parsed_entities': '[{\"name\": \"PERSON\", \"ent\": \"Ким Чен Нама\", \"pos\": \"0 12\"}, {\"name\": \"ORGANIZATION\", \"ent\": \"Полиция Малайзии\", \"pos\": \"56 72\"}, {\"name\": \"COUNTRY\", \"ent\": \"Малайзии\", \"pos\": \"64 72\"}, {\"name\": \"PERSON\", \"ent\": \"Ким Чен Нам\", \"pos\": \"122 133\"}, {\"name\": \"PROFESSION\", \"ent\": \"лидера КНДР\", \"pos\": \"141 152\"}, {\"name\": \"COUNTRY\", \"ent\": \"КНДР\", \"pos\": \"148 152\"}, {\"name\": \"PERSON\", \"ent\": \"Ким Чен Ына\", \"pos\": \"153 164\"}, {\"name\": \"COUNTRY\", \"ent\": \"малайзийской\", \"pos\": \"296 308\"}, {\"name\": \"ORGANIZATION\", \"ent\": \"Центр анализа химического оружия\", \"pos\": \"330 362\"}, {\"name\": \"ORGANIZATION\", \"ent\": \"департамента полиции\", \"pos\": \"363 383\"}, {\"name\": \"DATE\", \"ent\": \"от 1997 года\", \"pos\": \"620 632\"}, {\"name\": \"PERSON\", \"ent\": \"Ким Чен Нама\", \"pos\": \"695 707\"}, {\"name\": \"PERSON\", \"ent\": \"Ким Чен Нам\", \"pos\": \"757 768\"}, {\"name\": \"PROFESSION\", \"ent\": \"лидера КНДР\", \"pos\": \"783 794\"}, {\"name\": \"COUNTRY\", \"ent\": \"КНДР\", \"pos\": \"790 794\"}, {\"name\": \"PERSON\", \"ent\": \"Ким Чен Ына\", \"pos\": \"795 806\"}, {\"name\": \"DATE\", \"ent\": \"13 февраля 2017 года\", \"pos\": \"818 838\"}, {\"name\": \"COUNTRY\", \"ent\": \"Малайзии\", \"pos\": \"841 849\"}, {\"name\": \"COUNTRY\", \"ent\": \"Малайзии\", \"pos\": \"928 936\"}, {\"name\": \"STATE_OR_PROVINCE\", \"ent\": \"Макао\", \"pos\": \"939 944\"}, {\"name\": \"PERSON\", \"ent\": \"Ким Чен Нама\", \"pos\": \"986 998\"}, {\"name\": \"NUMBER\", \"ent\": \"две\", \"pos\": \"1009 1012\"}, {\"name\": \"COUNTRY\", \"ent\": \"Вьетнама\", \"pos\": \"1033 1041\"}, {\"name\": \"COUNTRY\", \"ent\": \"Индонезии\", \"pos\": \"1044 1053\"}, {\"name\": \"ORGANIZATION\", \"ent\": \"Полиция Малайзии\", \"pos\": \"1055 1071\"}, {\"name\": \"COUNTRY\", \"ent\": \"Малайзии\", \"pos\": \"1063 1071\"}, {\"name\": \"ORGANIZATION\", \"ent\": \"малайзийской полиции\", \"pos\": \"296 316\"}, {\"name\": \"LAW\", \"ent\": \"Конвенцией о запрещении разработки, производства, накопления и применения химического оружия и о его уничтожении\", \"pos\": \"506 618\"}, {\"name\": \"EVENT\", \"ent\": \"убили\", \"pos\": \"13 18\"}, {\"name\": \"EVENT\", \"ent\": \"отравили\", \"pos\": \"882 890\"}]'}"
      ]
     },
     "execution_count": 1,
     "metadata": {},
     "output_type": "execute_result"
    }
   ],
   "source": [
    "from datasets import load_dataset\n",
    "\n",
    "dataset = load_dataset(\"dim/runne_prompts\")\n",
    "dataset = dataset[\"train\"]\n",
    "dataset[0]"
   ]
  }
 ],
 "metadata": {
  "kernelspec": {
   "display_name": "base",
   "language": "python",
   "name": "python3"
  },
  "language_info": {
   "codemirror_mode": {
    "name": "ipython",
    "version": 3
   },
   "file_extension": ".py",
   "mimetype": "text/x-python",
   "name": "python",
   "nbconvert_exporter": "python",
   "pygments_lexer": "ipython3",
   "version": "3.10.9"
  },
  "orig_nbformat": 4
 },
 "nbformat": 4,
 "nbformat_minor": 2
}
