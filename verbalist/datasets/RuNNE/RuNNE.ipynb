{
 "cells": [
  {
   "cell_type": "code",
   "execution_count": 24,
   "metadata": {},
   "outputs": [
    {
     "name": "stderr",
     "output_type": "stream",
     "text": [
      "No config specified, defaulting to: ru_nne/data\n",
      "Found cached dataset ru_nne (/home/kosenko/.cache/huggingface/datasets/iluvvatar___ru_nne/data/1.0.0/5c0467600cde2a64546227a05688adcfcdcb583c442a7cac64b864313a68e588)\n",
      "100%|██████████| 3/3 [00:00<00:00, 1114.62it/s]\n"
     ]
    },
    {
     "data": {
      "text/plain": [
       "Dataset({\n",
       "    features: ['id', 'text', 'entities'],\n",
       "    num_rows: 877\n",
       "})"
      ]
     },
     "execution_count": 24,
     "metadata": {},
     "output_type": "execute_result"
    }
   ],
   "source": [
    "from datasets import load_dataset, Dataset, concatenate_datasets\n",
    "import json\n",
    "\n",
    "dataset = load_dataset(\"iluvvatar/RuNNE\")\n",
    "dataset = concatenate_datasets(\n",
    "    [\n",
    "        dataset[\"train\"],\n",
    "        dataset[\"test\"],\n",
    "        dataset[\"dev\"],\n",
    "    ]\n",
    ")\n",
    "dataset"
   ]
  },
  {
   "cell_type": "code",
   "execution_count": 56,
   "metadata": {},
   "outputs": [],
   "source": [
    "new_dataset = []\n",
    "\n",
    "for i in range(len(dataset)):\n",
    "    text = dataset[i][\"text\"]\n",
    "    entities = dataset[i][\"entities\"]\n",
    "    parsed_entities = []\n",
    "    for entit in entities:\n",
    "        start, end, ent_name = list(entit.split())\n",
    "        start, end = int(start), int(end)\n",
    "        text_with_pos = text[:end]\n",
    "        ent = text[start:end]\n",
    "        # print(f\"text_with_pos={text_with_pos}\")\n",
    "        # print(f\"ent_name={ent_name}\")\n",
    "        # print(f'ent={ent}')\n",
    "        # print(\"-\"*10)\n",
    "        parsed_entities.append(\n",
    "            {\n",
    "                # \"text_pos\": text_with_pos,\n",
    "                \"name\": ent_name,\n",
    "                \"ent\": ent,\n",
    "                \"pos\": f\"{start} {end}\",\n",
    "            }\n",
    "        )\n",
    "    parsed_entities = parsed_entities[:30]\n",
    "    parsed_entities = json.dumps(\n",
    "        parsed_entities,\n",
    "        ensure_ascii=False,\n",
    "        # indent=1,\n",
    "    )\n",
    "    new_dataset.append(\n",
    "        {\n",
    "            \"text\": text,\n",
    "            \"parsed_entities\": parsed_entities,\n",
    "        }\n",
    "    )\n",
    "    # break"
   ]
  },
  {
   "cell_type": "code",
   "execution_count": 49,
   "metadata": {},
   "outputs": [
    {
     "data": {
      "text/plain": [
       "877"
      ]
     },
     "execution_count": 49,
     "metadata": {},
     "output_type": "execute_result"
    }
   ],
   "source": [
    "len(new_dataset)"
   ]
  },
  {
   "cell_type": "code",
   "execution_count": 42,
   "metadata": {},
   "outputs": [],
   "source": [
    "from transformers import AutoTokenizer\n",
    "from verbalist.datasets.utils import visualize_hist\n",
    "\n",
    "tokenizer = AutoTokenizer.from_pretrained(\"meta-llama/Llama-2-7b-hf\")"
   ]
  },
  {
   "cell_type": "code",
   "execution_count": 57,
   "metadata": {},
   "outputs": [
    {
     "data": {
      "image/png": "[encoded data removed]",
      "text/plain": [
       "<Figure size 640x480 with 1 Axes>"
      ]
     },
     "metadata": {},
     "output_type": "display_data"
    }
   ],
   "source": [
    "conversation_lengths = []\n",
    "\n",
    "\n",
    "for item in new_dataset:\n",
    "    # all_text = item['text']\n",
    "    all_text = item['text'] + item['parsed_entities']\n",
    "    conversation_lengths.append(len(tokenizer(all_text)[\"input_ids\"]))\n",
    "    # print(all_text)\n",
    "    # print(\"=\"*100)\n",
    "    # print(\"=\"*100)\n",
    "    # print(\"=\"*100)\n",
    "    # break\n",
    "    # if has_cyrillic(all_text):\n",
    "    #     rus_conv.append(conversation)\n",
    "\n",
    "\n",
    "visualize_hist(conversation_lengths, \"text lengths\")"
   ]
  },
  {
   "cell_type": "code",
   "execution_count": 61,
   "metadata": {},
   "outputs": [
    {
     "data": {
      "text/plain": [
       "1970.48"
      ]
     },
     "execution_count": 61,
     "metadata": {},
     "output_type": "execute_result"
    }
   ],
   "source": [
    "import numpy as np\n",
    "\n",
    "filter_num = 98\n",
    "np.percentile(conversation_lengths, filter_num)"
   ]
  },
  {
   "cell_type": "code",
   "execution_count": 69,
   "metadata": {},
   "outputs": [],
   "source": [
    "short_ents = (np.array(conversation_lengths) < np.percentile(conversation_lengths, filter_num)).tolist()\n",
    "short_dataset = []\n",
    "for i, is_short in enumerate(short_ents):\n",
    "    if is_short:\n",
    "        short_dataset.append(new_dataset[i])"
   ]
  },
  {
   "cell_type": "code",
   "execution_count": 72,
   "metadata": {},
   "outputs": [
    {
     "data": {
      "text/plain": [
       "Dataset({\n",
       "    features: ['text', 'parsed_entities'],\n",
       "    num_rows: 859\n",
       "})"
      ]
     },
     "execution_count": 72,
     "metadata": {},
     "output_type": "execute_result"
    }
   ],
   "source": [
    "short_dataset = Dataset.from_list(short_dataset)\n",
    "short_dataset"
   ]
  },
  {
   "cell_type": "code",
   "execution_count": 73,
   "metadata": {},
   "outputs": [
    {
     "name": "stderr",
     "output_type": "stream",
     "text": [
      "Creating parquet from Arrow format: 100%|██████████| 1/1 [00:00<00:00, 76.07ba/s]\n",
      "Pushing dataset shards to the dataset hub: 100%|██████████| 1/1 [00:02<00:00,  2.26s/it]\n"
     ]
    }
   ],
   "source": [
    "short_dataset.push_to_hub(\"dim/runne_prompts\")"
   ]
  }
 ],
 "metadata": {
  "kernelspec": {
   "display_name": "base",
   "language": "python",
   "name": "python3"
  },
  "language_info": {
   "codemirror_mode": {
    "name": "ipython",
    "version": 3
   },
   "file_extension": ".py",
   "mimetype": "text/x-python",
   "name": "python",
   "nbconvert_exporter": "python",
   "pygments_lexer": "ipython3",
   "version": "3.10.9"
  },
  "orig_nbformat": 4
 },
 "nbformat": 4,
 "nbformat_minor": 2
}
