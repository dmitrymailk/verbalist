{
 "cells": [
  {
   "cell_type": "code",
   "execution_count": 2,
   "metadata": {},
   "outputs": [
    {
     "name": "stderr",
     "output_type": "stream",
     "text": [
      "Found cached dataset json (/home/kosenko/.cache/huggingface/datasets/TigerResearch___json/TigerResearch--tigerbot-kaggle-leetcodesolutions-en-2k-e3984995e8fa8f75/0.0.0/fe5dd6ea2639a6df622901539cb550cf8797e5a6b2dd7af1cf934bed8e233e6e)\n",
      "100%|██████████| 1/1 [00:00<00:00, 644.98it/s]\n"
     ]
    }
   ],
   "source": [
    "from datasets import load_dataset\n",
    "\n",
    "dataset = load_dataset(\"TigerResearch/tigerbot-kaggle-leetcodesolutions-en-2k\")\n",
    "dataset = dataset['train']"
   ]
  },
  {
   "cell_type": "code",
   "execution_count": 3,
   "metadata": {},
   "outputs": [
    {
     "data": {
      "text/plain": [
       "{'instruction': 'Use c++ to solve the following problems, and give an explanation.',\n",
       " 'input': 'Given an array of integers `nums` and an integer `target`, return _indices of the two numbers such that they add up to `target`_.\\n\\nYou may assume that each input would have **_exactly_ one solution**, and you may not use the _same_ element twice.\\n\\nYou can return the answer in any order.\\n\\n**Example 1:**\\n\\n**Input:** nums = \\\\[2,7,11,15\\\\], target = 9\\n**Output:** \\\\[0,1\\\\]\\n**Explanation:** Because nums\\\\[0\\\\] + nums\\\\[1\\\\] == 9, we return \\\\[0, 1\\\\].\\n\\n**Example 2:**\\n\\n**Input:** nums = \\\\[3,2,4\\\\], target = 6\\n**Output:** \\\\[1,2\\\\]\\n\\n**Example 3:**\\n\\n**Input:** nums = \\\\[3,3\\\\], target = 6\\n**Output:** \\\\[0,1\\\\]\\n\\n**Constraints:**\\n\\n*   `2 <= nums.length <= 104`\\n*   `-109 <= nums[i] <= 109`\\n*   `-109 <= target <= 109`\\n*   **Only one valid answer exists.**\\n\\n**Follow-up:** Can you come up with an algorithm that is less than `O(n2)` time complexity?',\n",
       " 'output': \"```cpp\\n#include <vector>\\n#include <unordered_map>\\n\\nstd::vector<int> twoSum(std::vector<int>& nums, int target) {\\n    std::unordered_map<int, int> map;\\n    for (int i = 0; i < nums.size(); i++) {\\n        int complement = target - nums[i];\\n        if (map.find(complement) != map.end()) {\\n            return {map[complement], i};\\n        }\\n        map[nums[i]] = i;\\n    }\\n    return {};\\n}\\n```\\nexplanation\\nThe algorithm leverages a hash map (unordered_map in C++, HashMap in Java, dictionary in Python, and Map in JavaScript). It iterates through the given 'nums' array and calculates the complementary value (target - current value). If the complementary value is already in the hash map, it means that we found a solution, and we return those indices. If the complement is not in the hash map, we store the current element in the hash map with its index. If the algorithm doesn't find the solution, it returns an empty array or throws an exception (in Java).\\n\\nThis approach has a time complexity of O(n) and a space complexity of O(n) as well.\"}"
      ]
     },
     "execution_count": 3,
     "metadata": {},
     "output_type": "execute_result"
    }
   ],
   "source": [
    "dataset[0]"
   ]
  },
  {
   "cell_type": "code",
   "execution_count": null,
   "metadata": {},
   "outputs": [],
   "source": [
    "for item in dataset:\n",
    "    solution = f\"{item['instruction']}\\n{item['input']}\\n\\n{item['output']}\"\n",
    "    print(solution)\n",
    "    print(\"=\"*100)\n",
    "    print(\"=\"*100)\n",
    "    print(\"=\"*100)"
   ]
  },
  {
   "cell_type": "code",
   "execution_count": 5,
   "metadata": {},
   "outputs": [
    {
     "name": "stderr",
     "output_type": "stream",
     "text": [
      "Creating parquet from Arrow format: 100%|██████████| 3/3 [00:00<00:00, 316.25ba/s]\n",
      "Pushing dataset shards to the dataset hub: 100%|██████████| 1/1 [00:02<00:00,  2.09s/it]\n",
      "Downloading metadata: 100%|██████████| 21.0/21.0 [00:00<00:00, 134kB/s]\n"
     ]
    }
   ],
   "source": [
    "# dataset.push_to_hub(\"dim/leetcodesolutions_en_2k\")"
   ]
  }
 ],
 "metadata": {
  "kernelspec": {
   "display_name": "base",
   "language": "python",
   "name": "python3"
  },
  "language_info": {
   "codemirror_mode": {
    "name": "ipython",
    "version": 3
   },
   "file_extension": ".py",
   "mimetype": "text/x-python",
   "name": "python",
   "nbconvert_exporter": "python",
   "pygments_lexer": "ipython3",
   "version": "3.10.9"
  },
  "orig_nbformat": 4
 },
 "nbformat": 4,
 "nbformat_minor": 2
}
