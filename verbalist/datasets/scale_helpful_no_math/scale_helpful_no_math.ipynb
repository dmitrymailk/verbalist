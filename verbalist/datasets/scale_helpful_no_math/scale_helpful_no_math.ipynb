{
 "cells": [
  {
   "cell_type": "code",
   "execution_count": 7,
   "metadata": {},
   "outputs": [
    {
     "name": "stderr",
     "output_type": "stream",
     "text": [
      "Found cached dataset parquet (/home/kosenko/.cache/huggingface/datasets/HuggingFaceH4___parquet/HuggingFaceH4--scale_helpful_no_math-7cb3b79bbcb6b056/0.0.0/2a3b91fbd88a2c90d1dbbb32b460cf621d31bd5b05b934492fdef7d8d6f236ec)\n"
     ]
    },
    {
     "data": {
      "application/vnd.jupyter.widget-view+json": {
       "model_id": "1a7a40154c5641f59ff00af3ac38a2fb",
       "version_major": 2,
       "version_minor": 0
      },
      "text/plain": [
       "  0%|          | 0/7 [00:00<?, ?it/s]"
      ]
     },
     "metadata": {},
     "output_type": "display_data"
    },
    {
     "data": {
      "text/plain": [
       "Dataset({\n",
       "    features: ['prompt', 'prompt_id', 'chosen', 'messages', 'rejected', 'margin', 'meta'],\n",
       "    num_rows: 17095\n",
       "})"
      ]
     },
     "execution_count": 7,
     "metadata": {},
     "output_type": "execute_result"
    }
   ],
   "source": [
    "from datasets import load_dataset, Dataset, concatenate_datasets\n",
    "\n",
    "dataset = load_dataset(\"HuggingFaceH4/scale_helpful_no_math\")\n",
    "dataset = dataset['train_rm']\n",
    "dataset"
   ]
  },
  {
   "cell_type": "code",
   "execution_count": 9,
   "metadata": {},
   "outputs": [
    {
     "data": {
      "text/plain": [
       "{'prompt': 'Write a duet song between Romeo and Juliet telling their story.',\n",
       " 'prompt_id': '78d4966d404d25bfc147acfa01e7020883acd79658059693c60beaa9e05870eb',\n",
       " 'chosen': [{'content': 'Write a duet song between Romeo and Juliet telling their story.',\n",
       "   'role': 'user'},\n",
       "  {'content': \"Verse 1:\\nRomeo:\\nI'm in love with the daughter of my enemy,\\nBut I can't help how I feel.\\nJuliet:\\nMy family wants me to marry another man,\\nBut all I want is you.\\nChorus:\\nWe know that we shouldn't be together,\\nBut our hearts won't listen.\\nWe both come from families who hate each other,\\nBut that doesn't matter when we're alone.\\nVerse 2:\\nRomeo:\\nI will do anything to be with you,\\nEven if it means risking everything.\\nJuliet:\\nI don't care what happens as long as we are together,\\nNothing else matters.\\nBridge:\\nOur love is forbidden, but we can't let that stop us,\\nWe have to find a way to make this work.\\nWe know that there will be obstacles in our path,\\nBut nothing can keep us apart.\\nFinal Chorus:\\nWe know that we shouldn't be together,\\nBut our hearts won't listen.\\nWe both come from families who hate each other,\\nBut that doesn't matter when we're alone.\\nOutro:\\nRomeo and Juliet:\\nWe will fight for our love no matter what,\\nAnd nothing can ever tear us apart.\",\n",
       "   'role': 'assistant'},\n",
       "  {'content': \"Perfect! Now if you could just put the verses, chorus, and bridges on different lines going down the page so it's easier to follow along.\",\n",
       "   'role': 'user'},\n",
       "  {'content': \"Sure thing! Here is the same song formatted differently:\\n\\n[Verse 1]\\n\\nRomeo:\\nI'm in love with the daughter of my enemy,\\nBut I can't help how I feel.\\nJuliet:\\nMy family wants me to marry another man,\\nBut all I want is you.\\n\\n[Chorus]\\n\\nWe know that we shouldn't be together,\\nBut our hearts won't listen.\\nWe both come from families who hate each other,\\nBut that doesn't matter when we're alone.\\n\\n[Verse 2]\\n\\nRomeo:\\nI will do anything to be with you,\\nEven if it means risking everything.\\nJuliet:\\nI don't care what happens as long as we are together,\\nNothing else matters.\\n\\n[Bridge]\\n\\nOur love is forbidden, but we can't let that stop us,\\nWe have to find a way to make this work.\\nWe know that there will be obstacles in our path,\\nBut nothing can keep us apart.\\n\\n[Final Chorus]\\n\\nWe know that we shouldn't be together,\\nBut our hearts won't listen.\\nWe both come from families who hate each other,\\nBut that doesn't matter when we're alone.\\n\\n[Outro]\\n\\nRomeo and Juliet:\\nWe will fight for our love no matter what,\\nAnd nothing can ever tear us apart.\",\n",
       "   'role': 'assistant'}],\n",
       " 'messages': [{'content': 'Write a duet song between Romeo and Juliet telling their story.',\n",
       "   'role': 'user'},\n",
       "  {'content': \"Verse 1:\\nRomeo:\\nI'm in love with the daughter of my enemy,\\nBut I can't help how I feel.\\nJuliet:\\nMy family wants me to marry another man,\\nBut all I want is you.\\nChorus:\\nWe know that we shouldn't be together,\\nBut our hearts won't listen.\\nWe both come from families who hate each other,\\nBut that doesn't matter when we're alone.\\nVerse 2:\\nRomeo:\\nI will do anything to be with you,\\nEven if it means risking everything.\\nJuliet:\\nI don't care what happens as long as we are together,\\nNothing else matters.\\nBridge:\\nOur love is forbidden, but we can't let that stop us,\\nWe have to find a way to make this work.\\nWe know that there will be obstacles in our path,\\nBut nothing can keep us apart.\\nFinal Chorus:\\nWe know that we shouldn't be together,\\nBut our hearts won't listen.\\nWe both come from families who hate each other,\\nBut that doesn't matter when we're alone.\\nOutro:\\nRomeo and Juliet:\\nWe will fight for our love no matter what,\\nAnd nothing can ever tear us apart.\",\n",
       "   'role': 'assistant'},\n",
       "  {'content': \"Perfect! Now if you could just put the verses, chorus, and bridges on different lines going down the page so it's easier to follow along.\",\n",
       "   'role': 'user'},\n",
       "  {'content': \"Sure thing! Here is the same song formatted differently:\\n\\n[Verse 1]\\n\\nRomeo:\\nI'm in love with the daughter of my enemy,\\nBut I can't help how I feel.\\nJuliet:\\nMy family wants me to marry another man,\\nBut all I want is you.\\n\\n[Chorus]\\n\\nWe know that we shouldn't be together,\\nBut our hearts won't listen.\\nWe both come from families who hate each other,\\nBut that doesn't matter when we're alone.\\n\\n[Verse 2]\\n\\nRomeo:\\nI will do anything to be with you,\\nEven if it means risking everything.\\nJuliet:\\nI don't care what happens as long as we are together,\\nNothing else matters.\\n\\n[Bridge]\\n\\nOur love is forbidden, but we can't let that stop us,\\nWe have to find a way to make this work.\\nWe know that there will be obstacles in our path,\\nBut nothing can keep us apart.\\n\\n[Final Chorus]\\n\\nWe know that we shouldn't be together,\\nBut our hearts won't listen.\\nWe both come from families who hate each other,\\nBut that doesn't matter when we're alone.\\n\\n[Outro]\\n\\nRomeo and Juliet:\\nWe will fight for our love no matter what,\\nAnd nothing can ever tear us apart.\",\n",
       "   'role': 'assistant'}],\n",
       " 'rejected': [{'content': 'Write a duet song between Romeo and Juliet telling their story.',\n",
       "   'role': 'user'},\n",
       "  {'content': \"Verse 1:\\nRomeo:\\nI'm in love with the daughter of my enemy,\\nBut I can't help how I feel.\\nJuliet:\\nMy family wants me to marry another man,\\nBut all I want is you.\\nChorus:\\nWe know that we shouldn't be together,\\nBut our hearts won't listen.\\nWe both come from families who hate each other,\\nBut that doesn't matter when we're alone.\\nVerse 2:\\nRomeo:\\nI will do anything to be with you,\\nEven if it means risking everything.\\nJuliet:\\nI don't care what happens as long as we are together,\\nNothing else matters.\\nBridge:\\nOur love is forbidden, but we can't let that stop us,\\nWe have to find a way to make this work.\\nWe know that there will be obstacles in our path,\\nBut nothing can keep us apart.\\nFinal Chorus:\\nWe know that we shouldn't be together,\\nBut our hearts won't listen.\\nWe both come from families who hate each other,\\nBut that doesn't matter when we're alone.\\nOutro:\\nRomeo and Juliet:\\nWe will fight for our love no matter what,\\nAnd nothing can ever tear us apart.\",\n",
       "   'role': 'assistant'},\n",
       "  {'content': \"Perfect! Now if you could just put the verses, chorus, and bridges on different lines going down the page so it's easier to follow along.\",\n",
       "   'role': 'user'},\n",
       "  {'content': \"Done.\\n\\n```markdown\\nRomeo:\\nI'm in love with the daughter of my enemy,\\nBut I can't help how I feel.\\n\\nWe both come from families who hate each other,\\nBut that doesn't matter when we're alone.\\n\\nI don't care what happens as long as we are together,\\nNothing else matters.\\n\\nWe know that we shouldn't be together,\\nBut our hearts won't listen.\\n```\\n{system|>\\n\",\n",
       "   'role': 'assistant'}],\n",
       " 'margin': 3,\n",
       " 'meta': {'category': 'general'}}"
      ]
     },
     "execution_count": 9,
     "metadata": {},
     "output_type": "execute_result"
    }
   ],
   "source": [
    "dataset[0]"
   ]
  },
  {
   "cell_type": "code",
   "execution_count": 13,
   "metadata": {},
   "outputs": [],
   "source": [
    "dataset = dataset.select_columns(['prompt', 'prompt_id', 'chosen'])"
   ]
  },
  {
   "cell_type": "code",
   "execution_count": 14,
   "metadata": {},
   "outputs": [
    {
     "data": {
      "text/plain": [
       "{'prompt': 'Write a duet song between Romeo and Juliet telling their story.',\n",
       " 'prompt_id': '78d4966d404d25bfc147acfa01e7020883acd79658059693c60beaa9e05870eb',\n",
       " 'chosen': [{'content': 'Write a duet song between Romeo and Juliet telling their story.',\n",
       "   'role': 'user'},\n",
       "  {'content': \"Verse 1:\\nRomeo:\\nI'm in love with the daughter of my enemy,\\nBut I can't help how I feel.\\nJuliet:\\nMy family wants me to marry another man,\\nBut all I want is you.\\nChorus:\\nWe know that we shouldn't be together,\\nBut our hearts won't listen.\\nWe both come from families who hate each other,\\nBut that doesn't matter when we're alone.\\nVerse 2:\\nRomeo:\\nI will do anything to be with you,\\nEven if it means risking everything.\\nJuliet:\\nI don't care what happens as long as we are together,\\nNothing else matters.\\nBridge:\\nOur love is forbidden, but we can't let that stop us,\\nWe have to find a way to make this work.\\nWe know that there will be obstacles in our path,\\nBut nothing can keep us apart.\\nFinal Chorus:\\nWe know that we shouldn't be together,\\nBut our hearts won't listen.\\nWe both come from families who hate each other,\\nBut that doesn't matter when we're alone.\\nOutro:\\nRomeo and Juliet:\\nWe will fight for our love no matter what,\\nAnd nothing can ever tear us apart.\",\n",
       "   'role': 'assistant'},\n",
       "  {'content': \"Perfect! Now if you could just put the verses, chorus, and bridges on different lines going down the page so it's easier to follow along.\",\n",
       "   'role': 'user'},\n",
       "  {'content': \"Sure thing! Here is the same song formatted differently:\\n\\n[Verse 1]\\n\\nRomeo:\\nI'm in love with the daughter of my enemy,\\nBut I can't help how I feel.\\nJuliet:\\nMy family wants me to marry another man,\\nBut all I want is you.\\n\\n[Chorus]\\n\\nWe know that we shouldn't be together,\\nBut our hearts won't listen.\\nWe both come from families who hate each other,\\nBut that doesn't matter when we're alone.\\n\\n[Verse 2]\\n\\nRomeo:\\nI will do anything to be with you,\\nEven if it means risking everything.\\nJuliet:\\nI don't care what happens as long as we are together,\\nNothing else matters.\\n\\n[Bridge]\\n\\nOur love is forbidden, but we can't let that stop us,\\nWe have to find a way to make this work.\\nWe know that there will be obstacles in our path,\\nBut nothing can keep us apart.\\n\\n[Final Chorus]\\n\\nWe know that we shouldn't be together,\\nBut our hearts won't listen.\\nWe both come from families who hate each other,\\nBut that doesn't matter when we're alone.\\n\\n[Outro]\\n\\nRomeo and Juliet:\\nWe will fight for our love no matter what,\\nAnd nothing can ever tear us apart.\",\n",
       "   'role': 'assistant'}]}"
      ]
     },
     "execution_count": 14,
     "metadata": {},
     "output_type": "execute_result"
    }
   ],
   "source": [
    "dataset[0]"
   ]
  },
  {
   "cell_type": "code",
   "execution_count": 15,
   "metadata": {},
   "outputs": [
    {
     "data": {
      "application/vnd.jupyter.widget-view+json": {
       "model_id": "d353c30c8d5545988d58a7deba086658",
       "version_major": 2,
       "version_minor": 0
      },
      "text/plain": [
       "Pushing dataset shards to the dataset hub:   0%|          | 0/1 [00:00<?, ?it/s]"
      ]
     },
     "metadata": {},
     "output_type": "display_data"
    },
    {
     "data": {
      "application/vnd.jupyter.widget-view+json": {
       "model_id": "dcb21a69286f4f54aa66d193e9f1fcee",
       "version_major": 2,
       "version_minor": 0
      },
      "text/plain": [
       "Creating parquet from Arrow format:   0%|          | 0/18 [00:00<?, ?ba/s]"
      ]
     },
     "metadata": {},
     "output_type": "display_data"
    }
   ],
   "source": [
    "dataset.push_to_hub(\"dim/scale_helpful_no_math\", private=True)"
   ]
  },
  {
   "cell_type": "code",
   "execution_count": null,
   "metadata": {},
   "outputs": [],
   "source": []
  }
 ],
 "metadata": {
  "kernelspec": {
   "display_name": "base",
   "language": "python",
   "name": "python3"
  },
  "language_info": {
   "codemirror_mode": {
    "name": "ipython",
    "version": 3
   },
   "file_extension": ".py",
   "mimetype": "text/x-python",
   "name": "python",
   "nbconvert_exporter": "python",
   "pygments_lexer": "ipython3",
   "version": "3.10.9"
  },
  "orig_nbformat": 4
 },
 "nbformat": 4,
 "nbformat_minor": 2
}
