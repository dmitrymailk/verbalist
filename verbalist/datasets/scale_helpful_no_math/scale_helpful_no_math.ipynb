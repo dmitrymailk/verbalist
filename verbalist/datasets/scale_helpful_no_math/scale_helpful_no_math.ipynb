{
 "cells": [
  {
   "cell_type": "code",
   "execution_count": 7,
   "metadata": {},
   "outputs": [
    {
     "name": "stderr",
     "output_type": "stream",
     "text": [
      "Found cached dataset parquet (/home/kosenko/.cache/huggingface/datasets/HuggingFaceH4___parquet/HuggingFaceH4--scale_helpful_no_math-7cb3b79bbcb6b056/0.0.0/2a3b91fbd88a2c90d1dbbb32b460cf621d31bd5b05b934492fdef7d8d6f236ec)\n"
     ]
    },
    {
     "data": {
      "application/vnd.jupyter.widget-view+json": {
       "model_id": "1a7a40154c5641f59ff00af3ac38a2fb",
       "version_major": 2,
       "version_minor": 0
      },
      "text/plain": [
       "  0%|          | 0/7 [00:00<?, ?it/s]"
      ]
     },
     "metadata": {},
     "output_type": "display_data"
    },
    {
     "data": {
      "text/plain": [
       "Dataset({\n",
       "    features: ['prompt', 'prompt_id', 'chosen', 'messages', 'rejected', 'margin', 'meta'],\n",
       "    num_rows: 17095\n",
       "})"
      ]
     },
     "execution_count": 7,
     "metadata": {},
     "output_type": "execute_result"
    }
   ],
   "source": [
    "from datasets import load_dataset, Dataset, concatenate_datasets\n",
    "\n",
    "dataset = load_dataset(\"HuggingFaceH4/scale_helpful_no_math\")\n",
    "dataset = dataset['train_rm']\n",
    "dataset"
   ]
  },
  {
   "cell_type": "code",
   "execution_count": 9,
   "metadata": {},
   "outputs": [
    {
     "data": {
      "text/plain": [
       "{'prompt': 'Write a duet song between Romeo and Juliet telling their story.',\n",
       " 'prompt_id': '78d4966d404d25bfc147acfa01e7020883acd79658059693c60beaa9e05870eb',\n",
       " 'chosen': [{'content': 'Write a duet song between Romeo and Juliet telling their story.',\n",
       "   'role': 'user'},\n",
       "  {'content': \"Verse 1:\\nRomeo:\\nI'm in love with the daughter of my enemy,\\nBut I can't help how I feel.\\nJuliet:\\nMy family wants me to marry another man,\\nBut all I want is you.\\nChorus:\\nWe know that we shouldn't be together,\\nBut our hearts won't listen.\\nWe both come from families who hate each other,\\nBut that doesn't matter when we're alone.\\nVerse 2:\\nRomeo:\\nI will do anything to be with you,\\nEven if it means risking everything.\\nJuliet:\\nI don't care what happens as long as we are together,\\nNothing else matters.\\nBridge:\\nOur love is forbidden, but we can't let that stop us,\\nWe have to find a way to make this work.\\nWe know that there will be obstacles in our path,\\nBut nothing can keep us apart.\\nFinal Chorus:\\nWe know that we shouldn't be together,\\nBut our hearts won't listen.\\nWe both come from families who hate each other,\\nBut that doesn't matter when we're alone.\\nOutro:\\nRomeo and Juliet:\\nWe will fight for our love no matter what,\\nAnd nothing can ever tear us apart.\",\n",
       "   'role': 'assistant'},\n",
       "  {'content': \"Perfect! Now if you could just put the verses, chorus, and bridges on different lines going down the page so it's easier to follow along.\",\n",
       "   'role': 'user'},\n",
       "  {'content': \"Sure thing! Here is the same song formatted differently:\\n\\n[Verse 1]\\n\\nRomeo:\\nI'm in love with the daughter of my enemy,\\nBut I can't help how I feel.\\nJuliet:\\nMy family wants me to marry another man,\\nBut all I want is you.\\n\\n[Chorus]\\n\\nWe know that we shouldn't be together,\\nBut our hearts won't listen.\\nWe both come from families who hate each other,\\nBut that doesn't matter when we're alone.\\n\\n[Verse 2]\\n\\nRomeo:\\nI will do anything to be with you,\\nEven if it means risking everything.\\nJuliet:\\nI don't care what happens as long as we are together,\\nNothing else matters.\\n\\n[Bridge]\\n\\nOur love is forbidden, but we can't let that stop us,\\nWe have to find a way to make this work.\\nWe know that there will be obstacles in our path,\\nBut nothing can keep us apart.\\n\\n[Final Chorus]\\n\\nWe know that we shouldn't be together,\\nBut our hearts won't listen.\\nWe both come from families who hate each other,\\nBut that doesn't matter when we're alone.\\n\\n[Outro]\\n\\nRomeo and Juliet:\\nWe will fight for our love no matter what,\\nAnd nothing can ever tear us apart.\",\n",
       "   'role': 'assistant'}],\n",
       " 'messages': [{'content': 'Write a duet song between Romeo and Juliet telling their story.',\n",
       "   'role': 'user'},\n",
       "  {'content': \"Verse 1:\\nRomeo:\\nI'm in love with the daughter of my enemy,\\nBut I can't help how I feel.\\nJuliet:\\nMy family wants me to marry another man,\\nBut all I want is you.\\nChorus:\\nWe know that we shouldn't be together,\\nBut our hearts won't listen.\\nWe both come from families who hate each other,\\nBut that doesn't matter when we're alone.\\nVerse 2:\\nRomeo:\\nI will do anything to be with you,\\nEven if it means risking everything.\\nJuliet:\\nI don't care what happens as long as we are together,\\nNothing else matters.\\nBridge:\\nOur love is forbidden, but we can't let that stop us,\\nWe have to find a way to make this work.\\nWe know that there will be obstacles in our path,\\nBut nothing can keep us apart.\\nFinal Chorus:\\nWe know that we shouldn't be together,\\nBut our hearts won't listen.\\nWe both come from families who hate each other,\\nBut that doesn't matter when we're alone.\\nOutro:\\nRomeo and Juliet:\\nWe will fight for our love no matter what,\\nAnd nothing can ever tear us apart.\",\n",
       "   'role': 'assistant'},\n",
       "  {'content': \"Perfect! Now if you could just put the verses, chorus, and bridges on different lines going down the page so it's easier to follow along.\",\n",
       "   'role': 'user'},\n",
       "  {'content': \"Sure thing! Here is the same song formatted differently:\\n\\n[Verse 1]\\n\\nRomeo:\\nI'm in love with the daughter of my enemy,\\nBut I can't help how I feel.\\nJuliet:\\nMy family wants me to marry another man,\\nBut all I want is you.\\n\\n[Chorus]\\n\\nWe know that we shouldn't be together,\\nBut our hearts won't listen.\\nWe both come from families who hate each other,\\nBut that doesn't matter when we're alone.\\n\\n[Verse 2]\\n\\nRomeo:\\nI will do anything to be with you,\\nEven if it means risking everything.\\nJuliet:\\nI don't care what happens as long as we are together,\\nNothing else matters.\\n\\n[Bridge]\\n\\nOur love is forbidden, but we can't let that stop us,\\nWe have to find a way to make this work.\\nWe know that there will be obstacles in our path,\\nBut nothing can keep us apart.\\n\\n[Final Chorus]\\n\\nWe know that we shouldn't be together,\\nBut our hearts won't listen.\\nWe both come from families who hate each other,\\nBut that doesn't matter when we're alone.\\n\\n[Outro]\\n\\nRomeo and Juliet:\\nWe will fight for our love no matter what,\\nAnd nothing can ever tear us apart.\",\n",
       "   'role': 'assistant'}],\n",
       " 'rejected': [{'content': 'Write a duet song between Romeo and Juliet telling their story.',\n",
       "   'role': 'user'},\n",
       "  {'content': \"Verse 1:\\nRomeo:\\nI'm in love with the daughter of my enemy,\\nBut I can't help how I feel.\\nJuliet:\\nMy family wants me to marry another man,\\nBut all I want is you.\\nChorus:\\nWe know that we shouldn't be together,\\nBut our hearts won't listen.\\nWe both come from families who hate each other,\\nBut that doesn't matter when we're alone.\\nVerse 2:\\nRomeo:\\nI will do anything to be with you,\\nEven if it means risking everything.\\nJuliet:\\nI don't care what happens as long as we are together,\\nNothing else matters.\\nBridge:\\nOur love is forbidden, but we can't let that stop us,\\nWe have to find a way to make this work.\\nWe know that there will be obstacles in our path,\\nBut nothing can keep us apart.\\nFinal Chorus:\\nWe know that we shouldn't be together,\\nBut our hearts won't listen.\\nWe both come from families who hate each other,\\nBut that doesn't matter when we're alone.\\nOutro:\\nRomeo and Juliet:\\nWe will fight for our love no matter what,\\nAnd nothing can ever tear us apart.\",\n",
       "   'role': 'assistant'},\n",
       "  {'content': \"Perfect! Now if you could just put the verses, chorus, and bridges on different lines going down the page so it's easier to follow along.\",\n",
       "   'role': 'user'},\n",
       "  {'content': \"Done.\\n\\n```markdown\\nRomeo:\\nI'm in love with the daughter of my enemy,\\nBut I can't help how I feel.\\n\\nWe both come from families who hate each other,\\nBut that doesn't matter when we're alone.\\n\\nI don't care what happens as long as we are together,\\nNothing else matters.\\n\\nWe know that we shouldn't be together,\\nBut our hearts won't listen.\\n```\\n{system|>\\n\",\n",
       "   'role': 'assistant'}],\n",
       " 'margin': 3,\n",
       " 'meta': {'category': 'general'}}"
      ]
     },
     "execution_count": 9,
     "metadata": {},
     "output_type": "execute_result"
    }
   ],
   "source": [
    "dataset[0]"
   ]
  },
  {
   "cell_type": "code",
   "execution_count": 13,
   "metadata": {},
   "outputs": [],
   "source": [
    "dataset = dataset.select_columns(['prompt', 'prompt_id', 'chosen'])"
   ]
  },
  {
   "cell_type": "code",
   "execution_count": 14,
   "metadata": {},
   "outputs": [
    {
     "data": {
      "text/plain": [
       "{'prompt': 'Write a duet song between Romeo and Juliet telling their story.',\n",
       " 'prompt_id': '78d4966d404d25bfc147acfa01e7020883acd79658059693c60beaa9e05870eb',\n",
       " 'chosen': [{'content': 'Write a duet song between Romeo and Juliet telling their story.',\n",
       "   'role': 'user'},\n",
       "  {'content': \"Verse 1:\\nRomeo:\\nI'm in love with the daughter of my enemy,\\nBut I can't help how I feel.\\nJuliet:\\nMy family wants me to marry another man,\\nBut all I want is you.\\nChorus:\\nWe know that we shouldn't be together,\\nBut our hearts won't listen.\\nWe both come from families who hate each other,\\nBut that doesn't matter when we're alone.\\nVerse 2:\\nRomeo:\\nI will do anything to be with you,\\nEven if it means risking everything.\\nJuliet:\\nI don't care what happens as long as we are together,\\nNothing else matters.\\nBridge:\\nOur love is forbidden, but we can't let that stop us,\\nWe have to find a way to make this work.\\nWe know that there will be obstacles in our path,\\nBut nothing can keep us apart.\\nFinal Chorus:\\nWe know that we shouldn't be together,\\nBut our hearts won't listen.\\nWe both come from families who hate each other,\\nBut that doesn't matter when we're alone.\\nOutro:\\nRomeo and Juliet:\\nWe will fight for our love no matter what,\\nAnd nothing can ever tear us apart.\",\n",
       "   'role': 'assistant'},\n",
       "  {'content': \"Perfect! Now if you could just put the verses, chorus, and bridges on different lines going down the page so it's easier to follow along.\",\n",
       "   'role': 'user'},\n",
       "  {'content': \"Sure thing! Here is the same song formatted differently:\\n\\n[Verse 1]\\n\\nRomeo:\\nI'm in love with the daughter of my enemy,\\nBut I can't help how I feel.\\nJuliet:\\nMy family wants me to marry another man,\\nBut all I want is you.\\n\\n[Chorus]\\n\\nWe know that we shouldn't be together,\\nBut our hearts won't listen.\\nWe both come from families who hate each other,\\nBut that doesn't matter when we're alone.\\n\\n[Verse 2]\\n\\nRomeo:\\nI will do anything to be with you,\\nEven if it means risking everything.\\nJuliet:\\nI don't care what happens as long as we are together,\\nNothing else matters.\\n\\n[Bridge]\\n\\nOur love is forbidden, but we can't let that stop us,\\nWe have to find a way to make this work.\\nWe know that there will be obstacles in our path,\\nBut nothing can keep us apart.\\n\\n[Final Chorus]\\n\\nWe know that we shouldn't be together,\\nBut our hearts won't listen.\\nWe both come from families who hate each other,\\nBut that doesn't matter when we're alone.\\n\\n[Outro]\\n\\nRomeo and Juliet:\\nWe will fight for our love no matter what,\\nAnd nothing can ever tear us apart.\",\n",
       "   'role': 'assistant'}]}"
      ]
     },
     "execution_count": 14,
     "metadata": {},
     "output_type": "execute_result"
    }
   ],
   "source": [
    "dataset[0]"
   ]
  },
  {
   "cell_type": "code",
   "execution_count": 15,
   "metadata": {},
   "outputs": [
    {
     "data": {
      "application/vnd.jupyter.widget-view+json": {
       "model_id": "d353c30c8d5545988d58a7deba086658",
       "version_major": 2,
       "version_minor": 0
      },
      "text/plain": [
       "Pushing dataset shards to the dataset hub:   0%|          | 0/1 [00:00<?, ?it/s]"
      ]
     },
     "metadata": {},
     "output_type": "display_data"
    },
    {
     "data": {
      "application/vnd.jupyter.widget-view+json": {
       "model_id": "dcb21a69286f4f54aa66d193e9f1fcee",
       "version_major": 2,
       "version_minor": 0
      },
      "text/plain": [
       "Creating parquet from Arrow format:   0%|          | 0/18 [00:00<?, ?ba/s]"
      ]
     },
     "metadata": {},
     "output_type": "display_data"
    }
   ],
   "source": [
    "dataset.push_to_hub(\"dim/scale_helpful_no_math\", private=True)"
   ]
  },
  {
   "cell_type": "code",
   "execution_count": null,
   "metadata": {},
   "outputs": [],
   "source": [
    "from datasets import load_dataset, Dataset, concatenate_datasets\n",
    "\n",
    "dataset = load_dataset(\"dim/scale_helpful_no_math\")\n",
    "dataset = dataset[\"train\"]\n",
    "dataset"
   ]
  },
  {
   "cell_type": "code",
   "execution_count": 13,
   "metadata": {},
   "outputs": [
    {
     "data": {
      "text/plain": [
       "{'prompt': 'What do these items have in common?\\n\\n\\n2001: A Space Odyssey The Godfather \\nCitizen Kane \\nCitizen Kane Jeanne Dielman, 23, Quai du Commerce, 1080 Bruxelles \\nRaiders of the Lost Ark \\nRaiders of the Lost Ark \\nLa Dolce Vita \\nLa Dolce Vita  Seven Samurai \\nIn the Mood for Love \\nThere Will Be Blood  Singin’ in the Rain',\n",
       " 'prompt_id': 'b37d3b09f6566dafbaaa6ab4f96366f9beb9e0d542bd686676da3a48241ccdbd',\n",
       " 'chosen': [{'content': 'What do these items have in common?\\n\\n\\n2001: A Space Odyssey The Godfather \\nCitizen Kane \\nCitizen Kane Jeanne Dielman, 23, Quai du Commerce, 1080 Bruxelles \\nRaiders of the Lost Ark \\nRaiders of the Lost Ark \\nLa Dolce Vita \\nLa Dolce Vita  Seven Samurai \\nIn the Mood for Love \\nThere Will Be Blood  Singin’ in the Rain',\n",
       "   'role': 'user'},\n",
       "  {'content': 'All of the films listed are considered among the best ever made. They were all directed by men and feature male protagonists, but that is not their most important connection. None of them won Best Picture at the Academy Awards. Seven Samurai was nominated for a writing award, In the Mood for Love won awards for cinematography and score, and Raiders of the Lost Ark was nominated for several technical categories. But none of these masterpieces were recognized as the year’s best film until decades after they were released. It seems likely that history will judge them more kindly than the movies that did win Oscars in their respective years.',\n",
       "   'role': 'assistant'},\n",
       "  {'content': 'What are the run times of each movie?\\n\\nWhat is the average runtime of these movies?\\n\\nWhat is the total runtime of all these movies combined?',\n",
       "   'role': 'user'},\n",
       "  {'content': 'The runtimes of each movie are:\\n- 2001: A Space Odyssey (2 hours 29 minutes)\\n- The Godfather (2 hours 55 minutes)\\n- Citizen Kane (1 hour 59 minutes)\\n- Jeanne Dielman, 23, Quai du Commerce, 1080 Bruxelles (3 hours 20 minutes)\\n- Raiders of the Lost Ark (1 hour 55 minutes)\\n- La Dolce Vita (2 hours 40 minutes)\\n- Seven Samurai (3 hours 27 minutes)\\n- In the Mood for Love (1 hour 38 minutes)\\n\\nThe average runtime of these movies is approximately 2 hours 47 minutes.\\n\\nThe total runtime of all these movies combined is approximately 19 hours 11 minutes.',\n",
       "   'role': 'assistant'},\n",
       "  {'content': 'those are not the numbers I got, please show the math for your answer of average run time and total runtime',\n",
       "   'role': 'user'},\n",
       "  {'content': \"Sure! Here's how we can calculate the average runtime and total runtime of those eight movies:\\n\\nFirst, let's convert the runtimes from minutes to hours:\\n- 2001: A Space Odyssey = 2 hours 29 minutes = 2.41667 hours\\n- The Godfather = 2 hours 55 minutes = 2.91667 hours\\n- Citizen Kane = 1 hour 59 minutes = 1.98333 hours\\n- Jeanne Dielman, 23, Quai du Commerce, 1080 Bruxelles = 3 hours 20 minutes = 3.33333 hours\\n- Raiders of the Lost Ark = 1 hour 55 minutes = 1.917 hours\\n- La Dolce Vita = 2 hours 40 minutes = 2.66667 hours\\n- Seven Samurai = 3 hours 27 minutes = 3.38333 hours\\n- In the Mood for Love = 1 hour 38 minutes = 1.133 hours\\n\\nThen, we can add up all the runtimes to get the total runtime:\\n- Total runtime = 2.41667 + 2.91667 + 1.98333 + 3.33333 + 1.917 + 2.66667 + 3.38333 + 1.133 = 19.01667 hours\\n\\nFinally, we can divide the total runtime by the number of movies to get the average runtime:\\n- Average runtime = 19.01667 hours / 8 movies = 2.384615385 hours ≈ 2 hours 47 minutes\\n\\nSo, the average runtime of those eight movies is approximately 2 hours 47 minutes, and the total runtime is approximately 19 hours 11 minutes. Does that make sense? Let me know if you have any other questions!\",\n",
       "   'role': 'assistant'},\n",
       "  {'content': 'I think I see your error, instead of converting to decimal format, convert to minutes, then run the calculations again. list the runtime of each of the 10 movies in minutes as well',\n",
       "   'role': 'user'},\n",
       "  {'content': \"Sure thing! Here's how we can calculate the average runtime and total runtime of those ten movies using minutes instead of decimal hours:\\n\\nFirst, let's convert the runtimes from hours to minutes:\\n- 2001: A Space Odyssey = 2 hours 29 minutes = 143 minutes\\n- The Godfather = 2 hours 55 minutes = 165 minutes\\n- Citizen Kane = 1 hour 59 minutes = 113 minutes\\n- Jeanne Dielman, 23, Quai du Commerce, 1080 Bruxelles = 3 hours 20 minutes = 192 minutes\\n- Raiders of the Lost Ark = 1 hour 55 minutes = 115 minutes\\n- La Dolce Vita = 2 hours 40 minutes = 160 minutes\\n- Seven Samurai = 3 hours 27 minutes = 201 minutes\\n- In the Mood for Love = 1 hour 38 minutes = 88 minutes\\n\\nThen, we can add up all the runtimes to get the total runtime:\\n- Total runtime = 143 + 165 + 113 + 192 + 115 + 160 + 201 + 88 = 1147 minutes\\n\\nFinally, we can divide the total runtime by the number of movies to get the average runtime:\\n- Average runtime = 1147 minutes / 10 movies = 114.7 minutes ≈ 2 hours\\n\\nSo, the average runtime of those ten movies is approximately 2 hours, and the total runtime is approximately 19 hours 11 minutes. Does that make sense? Let me know if you have any other questions!\",\n",
       "   'role': 'assistant'}]}"
      ]
     },
     "execution_count": 13,
     "metadata": {},
     "output_type": "execute_result"
    }
   ],
   "source": [
    "dataset[10]"
   ]
  }
 ],
 "metadata": {
  "kernelspec": {
   "display_name": "base",
   "language": "python",
   "name": "python3"
  },
  "language_info": {
   "codemirror_mode": {
    "name": "ipython",
    "version": 3
   },
   "file_extension": ".py",
   "mimetype": "text/x-python",
   "name": "python",
   "nbconvert_exporter": "python",
   "pygments_lexer": "ipython3",
   "version": "3.10.9"
  },
  "orig_nbformat": 4
 },
 "nbformat": 4,
 "nbformat_minor": 2
}
