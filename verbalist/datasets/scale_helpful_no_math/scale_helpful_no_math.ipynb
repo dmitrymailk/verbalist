{
 "cells": [
  {
   "cell_type": "code",
   "execution_count": 1,
   "metadata": {},
   "outputs": [
    {
     "name": "stderr",
     "output_type": "stream",
     "text": [
      "/home/kosenko/miniconda3/lib/python3.10/site-packages/tqdm/auto.py:21: TqdmWarning: IProgress not found. Please update jupyter and ipywidgets. See https://ipywidgets.readthedocs.io/en/stable/user_install.html\n",
      "  from .autonotebook import tqdm as notebook_tqdm\n",
      "Downloading readme: 100%|██████████| 1.63k/1.63k [00:00<00:00, 11.0MB/s]\n",
      "Downloading data: 100%|██████████| 8.17M/8.17M [00:01<00:00, 4.97MB/s]\n",
      "Downloading data: 100%|██████████| 7.17M/7.17M [00:01<00:00, 4.64MB/s]\n",
      "Downloading data: 100%|██████████| 6.77M/6.77M [00:01<00:00, 4.35MB/s]\n",
      "Downloading data: 100%|██████████| 8.68M/8.68M [00:01<00:00, 4.88MB/s]\n",
      "Downloading data: 100%|██████████| 130M/130M [00:27<00:00, 4.76MB/s]]\n",
      "Downloading data: 100%|██████████| 123M/123M [00:22<00:00, 5.48MB/s]]\n",
      "Downloading data: 100%|██████████| 151M/151M [00:33<00:00, 4.54MB/s]]\n",
      "Downloading data files: 100%|██████████| 7/7 [01:30<00:00, 12.91s/it]\n",
      "Extracting data files: 100%|██████████| 7/7 [00:00<00:00, 64.74it/s]\n",
      "Generating test_holdout_rm split: 100%|██████████| 1000/1000 [00:00<00:00, 22767.78 examples/s]\n",
      "Generating test_ift split: 100%|██████████| 779/779 [00:00<00:00, 27088.07 examples/s]\n",
      "Generating test_rl split: 100%|██████████| 779/779 [00:00<00:00, 30715.23 examples/s]\n",
      "Generating test_rm split: 100%|██████████| 1000/1000 [00:00<00:00, 32086.17 examples/s]\n",
      "Generating train_ift split: 100%|██████████| 14408/14408 [00:00<00:00, 36679.12 examples/s]\n",
      "Generating train_rl split: 100%|██████████| 14408/14408 [00:00<00:00, 37700.43 examples/s]\n",
      "Generating train_rm split: 100%|██████████| 17095/17095 [00:00<00:00, 37548.14 examples/s]\n"
     ]
    },
    {
     "data": {
      "text/plain": [
       "Dataset({\n",
       "    features: ['prompt', 'prompt_id', 'chosen', 'messages', 'rejected', 'margin', 'meta'],\n",
       "    num_rows: 17095\n",
       "})"
      ]
     },
     "execution_count": 1,
     "metadata": {},
     "output_type": "execute_result"
    }
   ],
   "source": [
    "from datasets import load_dataset, Dataset, concatenate_datasets\n",
    "\n",
    "dataset = load_dataset(\"HuggingFaceH4/scale_helpful_no_math\")\n",
    "dataset = dataset['train_rm']\n",
    "dataset"
   ]
  },
  {
   "cell_type": "code",
   "execution_count": 2,
   "metadata": {},
   "outputs": [
    {
     "data": {
      "text/plain": [
       "{'prompt': 'I travel abroad a lot and I want to expand the Java currency converter that I have to have more currencies that I will need in my travels, can you edit the program to expand it:\\n\\nimport java.util.HashMap;\\nimport java.util.Map;\\n\\npublic class CurrencyConverter {\\n    private Map<String, Double> exchangeRates;\\n\\n    public CurrencyConverter() {\\n        exchangeRates = new HashMap<>();\\n        // Add exchange rates here (e.g., USD to EUR rate: 0.85)\\n        exchangeRates.put(\"USD\", 1.0);\\n        exchangeRates.put(\"EUR\", 0.85);\\n        exchangeRates.put(\"GBP\", 0.73);\\n        exchangeRates.put(\"JPY\", 110.46);\\n    }\\n\\n    public double convertCurrency(double amount, String fromCurrency, String toCurrency) {\\n        if (exchangeRates.containsKey(fromCurrency) && exchangeRates.containsKey(toCurrency)) {\\n            double fromRate = exchangeRates.get(fromCurrency);\\n            double toRate = exchangeRates.get(toCurrency);\\n            return amount * (toRate / fromRate);\\n        } else {\\n            throw new IllegalArgumentException(\"Currency not supported\");\\n        }\\n    }\\n\\n    public static void main(String[] args) {\\n        CurrencyConverter converter = new CurrencyConverter();\\n        double amount = 100.0;\\n        String fromCurrency = \"USD\";\\n        String toCurrency = \"EUR\";\\n        double convertedAmount = converter.convertCurrency(amount, fromCurrency, toCurrency);\\n        System.out.println(amount + \" \" + fromCurrency + \" is equal to \" + convertedAmount + \" \" + toCurrency);\\n    }\\n}\\n\\nThe countries I need their currencies are India, Spain, and Dubai.',\n",
       " 'prompt_id': '641e670a0c4782e157e66deb7146c531becb687359e9ddcb11a2259102dbb630',\n",
       " 'chosen': [{'content': 'I travel abroad a lot and I want to expand the Java currency converter that I have to have more currencies that I will need in my travels, can you edit the program to expand it:\\n\\nimport java.util.HashMap;\\nimport java.util.Map;\\n\\npublic class CurrencyConverter {\\n    private Map<String, Double> exchangeRates;\\n\\n    public CurrencyConverter() {\\n        exchangeRates = new HashMap<>();\\n        // Add exchange rates here (e.g., USD to EUR rate: 0.85)\\n        exchangeRates.put(\"USD\", 1.0);\\n        exchangeRates.put(\"EUR\", 0.85);\\n        exchangeRates.put(\"GBP\", 0.73);\\n        exchangeRates.put(\"JPY\", 110.46);\\n    }\\n\\n    public double convertCurrency(double amount, String fromCurrency, String toCurrency) {\\n        if (exchangeRates.containsKey(fromCurrency) && exchangeRates.containsKey(toCurrency)) {\\n            double fromRate = exchangeRates.get(fromCurrency);\\n            double toRate = exchangeRates.get(toCurrency);\\n            return amount * (toRate / fromRate);\\n        } else {\\n            throw new IllegalArgumentException(\"Currency not supported\");\\n        }\\n    }\\n\\n    public static void main(String[] args) {\\n        CurrencyConverter converter = new CurrencyConverter();\\n        double amount = 100.0;\\n        String fromCurrency = \"USD\";\\n        String toCurrency = \"EUR\";\\n        double convertedAmount = converter.convertCurrency(amount, fromCurrency, toCurrency);\\n        System.out.println(amount + \" \" + fromCurrency + \" is equal to \" + convertedAmount + \" \" + toCurrency);\\n    }\\n}\\n\\nThe countries I need their currencies are India, Spain, and Dubai.',\n",
       "   'role': 'user'},\n",
       "  {'content': 'Sure! Here\\'s an updated version of your code with support for three additional currencies:\\n\\n```java\\nimport java.util.HashMap;\\nimport java.util.Map;\\n\\npublic class CurrencyConverter {\\n    private Map<String, Double> exchangeRates;\\n\\n    public CurrencyConverter() {\\n        exchangeRates = new HashMap<>();\\n        // Add exchange rates here (e.g., USD to EUR rate: 0.85)\\n        exchangeRates.put(\"USD\", 1.0);\\n        exchangeRates.put(\"EUR\", 0.85);\\n        exchangeRates.put(\"GBP\", 0.73);\\n        exchangeRates.put(\"JPY\", 110.46);\\n        exchangeRates.put(\"INR\", 71.0);\\n        exchangeRates.put(\"ESP\", 0.89);\\n        exchangeRates.put(\"AED\", 3.67);\\n    }\\n\\n    public double convertCurrency(double amount, String fromCurrency, String toCurrency) {\\n        if (exchangeRates.containsKey(fromCurrency) && exchangeRates.containsKey(toCurrency)) {\\n            double fromRate = exchangeRates.get(fromCurrency);\\n            double toRate = exchangeRates.get(toCurrency);\\n            return amount * (toRate / fromRate);\\n        } else {\\n            throw new IllegalArgumentException(\"Currency not supported\");\\n        }\\n    }\\n\\n    public static void main(String[] args) {\\n        CurrencyConverter converter = new CurrencyConverter();\\n        double amount = 100.0;\\n        String fromCurrency = \"USD\";\\n        String toCurrency = \"EUR\";\\n        double convertedAmount = converter.convertCurrency(amount, fromCurrency, toCurrency);\\n        System.out.println(amount + \" \" + fromCurrency + \" is equal to \" + convertedAmount + \" \" + toCurrency);\\n\\n        amount = 10000.0;\\n        fromCurrency = \"INR\";\\n        toCurrency = \"ESP\";\\n        convertedAmount = converter.convertCurrency(amount, fromCurrency, toCurrency);\\n        System.out.println(amount + \" \" + fromCurrency + \" is equal to \" + convertedAmount + \" \" + toCurrency);\\n\\n        amount = 100000.0;\\n        fromCurrency = \"GBP\";\\n        toCurrency = \"AED\";\\n        convertedAmount = converter.convertCurrency(amount, fromCurrency, toCurrency);\\n        System.out.println(amount + \" \" + fromCurrency + \" is equal to \" + convertedAmount + \" \" + toCurrency);\\n    }\\n}\\n```\\n\\nThis modified version adds support for three additional currencies: Indian Rupee (INR), Spanish Euro (ESP), and UAE Dirham (AED). You can add additional currencies by simply adding them to the constructor\\'s map along with their respective exchange rates. For example, to add Australian Dollar (AUD), you could do this:\\n\\n```java\\nexchangeRates.put(\"AUD\", 1.45);\\n```\\n\\nNote that the above assumes that one AUD is worth roughly 1.45 USD. If that isn\\'t the case, then you would need to look up the actual exchange rate between these two currencies and update the value accordingly.',\n",
       "   'role': 'assistant'},\n",
       "  {'content': 'How do I update the code to include updated exchange rates?',\n",
       "   'role': 'user'},\n",
       "  {'content': \"You can use data feeds such as Open Exchange Rates API or Quandl for daily updates on exchange rates. Once you have access to the data feed, you can write a script using Python or any other language of your choice to fetch the latest exchange rates and update the values in the `exchangeRates` map in the `CurrencyConverter` class. The following steps outline how you can achieve this:\\n\\nSet up a data feed: Choose a suitable data feed for fetching the latest exchange rates. Some popular options include Open Exchange Rates API and Quandl.\\n\\nWrite a script: Use a programming language like Python to write a script that connects to the data feed and retrieves the latest exchange rates.\\n\\nParse the response: Parse the response from the data feed to extract the relevant exchange rates.\\n\\nUpdate the values: Update the corresponding keys in the `exchangeRates` map in the `CurrencyConverter` class with the latest exchange rates.\\n\\nHere's an example of how you can implement the process in Python:\\n\\nInstall the required libraries: First, install the `requests` library, which allows you to make HTTP requests to web APIs. Additionally, install the `pandas` library if you want to work with data in the form of DataFrames. Finally, install the `open-currency-rates` library, which provides an interface for accessing the Open Exchange Rates API.\\n\\n```bash\\npip install requests pandas open-currency-rates\\n```\\n\\nConnect to the data feed: Create a connection to the Open Exchange Rates API by initializing an instance of the `OER` class and passing your API key as an argument.\\n\\n```python\\nfrom open_currency_rates import OER\\n\\n# Replace with your own API key\\noer = OER('YOUR_API_KEY')\\n```\\n\\nFetch the latest exchange rates: Retrieve the latest exchange rates from the data feed by calling the `latest()` method on the `oer` object. This method returns a dictionary containing the latest exchange rates for all available currencies.\\n\\n```python\\nresponse = oer.latest()\\n```\\n\\nParse the response: Extract the exchange rates for specific currencies by iterating over the response dictionary and selecting only the desired currencies. Convert the exchange rates from floating point numbers to integers by casting them to integers with parentheses around the variable name.\\n\\n```python\\nusd_rate = int(response['USDCAD'])\\ninr_rate = int(response['INR'])\\nesp_rate = int(response['ESP'])\\naed_rate = int(response['AED'])\\n```\\n\\nUpdate the values: Update the corresponding keys in the `exchangeRates` map in the `CurrencyConverter` class with the latest exchange rates.\\n\\n```python\\nconverter.exchangeRates['ESP'] = esp_rate\\nconverter.exchangeRates['INR'] = inr_rate\\nconverter.exchangeRates['USDCAD'] = usd_rate\\nconverter.exchangeRates['AED'] = aed_rate\\n```\\n\\nAfter completing these steps, the `CurrencyConverter` class should be updated with the latest exchange rates from the Open Exchange Rates API.\",\n",
       "   'role': 'assistant'}],\n",
       " 'messages': [{'content': 'I travel abroad a lot and I want to expand the Java currency converter that I have to have more currencies that I will need in my travels, can you edit the program to expand it:\\n\\nimport java.util.HashMap;\\nimport java.util.Map;\\n\\npublic class CurrencyConverter {\\n    private Map<String, Double> exchangeRates;\\n\\n    public CurrencyConverter() {\\n        exchangeRates = new HashMap<>();\\n        // Add exchange rates here (e.g., USD to EUR rate: 0.85)\\n        exchangeRates.put(\"USD\", 1.0);\\n        exchangeRates.put(\"EUR\", 0.85);\\n        exchangeRates.put(\"GBP\", 0.73);\\n        exchangeRates.put(\"JPY\", 110.46);\\n    }\\n\\n    public double convertCurrency(double amount, String fromCurrency, String toCurrency) {\\n        if (exchangeRates.containsKey(fromCurrency) && exchangeRates.containsKey(toCurrency)) {\\n            double fromRate = exchangeRates.get(fromCurrency);\\n            double toRate = exchangeRates.get(toCurrency);\\n            return amount * (toRate / fromRate);\\n        } else {\\n            throw new IllegalArgumentException(\"Currency not supported\");\\n        }\\n    }\\n\\n    public static void main(String[] args) {\\n        CurrencyConverter converter = new CurrencyConverter();\\n        double amount = 100.0;\\n        String fromCurrency = \"USD\";\\n        String toCurrency = \"EUR\";\\n        double convertedAmount = converter.convertCurrency(amount, fromCurrency, toCurrency);\\n        System.out.println(amount + \" \" + fromCurrency + \" is equal to \" + convertedAmount + \" \" + toCurrency);\\n    }\\n}\\n\\nThe countries I need their currencies are India, Spain, and Dubai.',\n",
       "   'role': 'user'},\n",
       "  {'content': 'Sure! Here\\'s an updated version of your code with support for three additional currencies:\\n\\n```java\\nimport java.util.HashMap;\\nimport java.util.Map;\\n\\npublic class CurrencyConverter {\\n    private Map<String, Double> exchangeRates;\\n\\n    public CurrencyConverter() {\\n        exchangeRates = new HashMap<>();\\n        // Add exchange rates here (e.g., USD to EUR rate: 0.85)\\n        exchangeRates.put(\"USD\", 1.0);\\n        exchangeRates.put(\"EUR\", 0.85);\\n        exchangeRates.put(\"GBP\", 0.73);\\n        exchangeRates.put(\"JPY\", 110.46);\\n        exchangeRates.put(\"INR\", 71.0);\\n        exchangeRates.put(\"ESP\", 0.89);\\n        exchangeRates.put(\"AED\", 3.67);\\n    }\\n\\n    public double convertCurrency(double amount, String fromCurrency, String toCurrency) {\\n        if (exchangeRates.containsKey(fromCurrency) && exchangeRates.containsKey(toCurrency)) {\\n            double fromRate = exchangeRates.get(fromCurrency);\\n            double toRate = exchangeRates.get(toCurrency);\\n            return amount * (toRate / fromRate);\\n        } else {\\n            throw new IllegalArgumentException(\"Currency not supported\");\\n        }\\n    }\\n\\n    public static void main(String[] args) {\\n        CurrencyConverter converter = new CurrencyConverter();\\n        double amount = 100.0;\\n        String fromCurrency = \"USD\";\\n        String toCurrency = \"EUR\";\\n        double convertedAmount = converter.convertCurrency(amount, fromCurrency, toCurrency);\\n        System.out.println(amount + \" \" + fromCurrency + \" is equal to \" + convertedAmount + \" \" + toCurrency);\\n\\n        amount = 10000.0;\\n        fromCurrency = \"INR\";\\n        toCurrency = \"ESP\";\\n        convertedAmount = converter.convertCurrency(amount, fromCurrency, toCurrency);\\n        System.out.println(amount + \" \" + fromCurrency + \" is equal to \" + convertedAmount + \" \" + toCurrency);\\n\\n        amount = 100000.0;\\n        fromCurrency = \"GBP\";\\n        toCurrency = \"AED\";\\n        convertedAmount = converter.convertCurrency(amount, fromCurrency, toCurrency);\\n        System.out.println(amount + \" \" + fromCurrency + \" is equal to \" + convertedAmount + \" \" + toCurrency);\\n    }\\n}\\n```\\n\\nThis modified version adds support for three additional currencies: Indian Rupee (INR), Spanish Euro (ESP), and UAE Dirham (AED). You can add additional currencies by simply adding them to the constructor\\'s map along with their respective exchange rates. For example, to add Australian Dollar (AUD), you could do this:\\n\\n```java\\nexchangeRates.put(\"AUD\", 1.45);\\n```\\n\\nNote that the above assumes that one AUD is worth roughly 1.45 USD. If that isn\\'t the case, then you would need to look up the actual exchange rate between these two currencies and update the value accordingly.',\n",
       "   'role': 'assistant'},\n",
       "  {'content': 'How do I update the code to include updated exchange rates?',\n",
       "   'role': 'user'},\n",
       "  {'content': \"You can use data feeds such as Open Exchange Rates API or Quandl for daily updates on exchange rates. Once you have access to the data feed, you can write a script using Python or any other language of your choice to fetch the latest exchange rates and update the values in the `exchangeRates` map in the `CurrencyConverter` class. The following steps outline how you can achieve this:\\n\\nSet up a data feed: Choose a suitable data feed for fetching the latest exchange rates. Some popular options include Open Exchange Rates API and Quandl.\\n\\nWrite a script: Use a programming language like Python to write a script that connects to the data feed and retrieves the latest exchange rates.\\n\\nParse the response: Parse the response from the data feed to extract the relevant exchange rates.\\n\\nUpdate the values: Update the corresponding keys in the `exchangeRates` map in the `CurrencyConverter` class with the latest exchange rates.\\n\\nHere's an example of how you can implement the process in Python:\\n\\nInstall the required libraries: First, install the `requests` library, which allows you to make HTTP requests to web APIs. Additionally, install the `pandas` library if you want to work with data in the form of DataFrames. Finally, install the `open-currency-rates` library, which provides an interface for accessing the Open Exchange Rates API.\\n\\n```bash\\npip install requests pandas open-currency-rates\\n```\\n\\nConnect to the data feed: Create a connection to the Open Exchange Rates API by initializing an instance of the `OER` class and passing your API key as an argument.\\n\\n```python\\nfrom open_currency_rates import OER\\n\\n# Replace with your own API key\\noer = OER('YOUR_API_KEY')\\n```\\n\\nFetch the latest exchange rates: Retrieve the latest exchange rates from the data feed by calling the `latest()` method on the `oer` object. This method returns a dictionary containing the latest exchange rates for all available currencies.\\n\\n```python\\nresponse = oer.latest()\\n```\\n\\nParse the response: Extract the exchange rates for specific currencies by iterating over the response dictionary and selecting only the desired currencies. Convert the exchange rates from floating point numbers to integers by casting them to integers with parentheses around the variable name.\\n\\n```python\\nusd_rate = int(response['USDCAD'])\\ninr_rate = int(response['INR'])\\nesp_rate = int(response['ESP'])\\naed_rate = int(response['AED'])\\n```\\n\\nUpdate the values: Update the corresponding keys in the `exchangeRates` map in the `CurrencyConverter` class with the latest exchange rates.\\n\\n```python\\nconverter.exchangeRates['ESP'] = esp_rate\\nconverter.exchangeRates['INR'] = inr_rate\\nconverter.exchangeRates['USDCAD'] = usd_rate\\nconverter.exchangeRates['AED'] = aed_rate\\n```\\n\\nAfter completing these steps, the `CurrencyConverter` class should be updated with the latest exchange rates from the Open Exchange Rates API.\",\n",
       "   'role': 'assistant'}],\n",
       " 'rejected': [{'content': 'I travel abroad a lot and I want to expand the Java currency converter that I have to have more currencies that I will need in my travels, can you edit the program to expand it:\\n\\nimport java.util.HashMap;\\nimport java.util.Map;\\n\\npublic class CurrencyConverter {\\n    private Map<String, Double> exchangeRates;\\n\\n    public CurrencyConverter() {\\n        exchangeRates = new HashMap<>();\\n        // Add exchange rates here (e.g., USD to EUR rate: 0.85)\\n        exchangeRates.put(\"USD\", 1.0);\\n        exchangeRates.put(\"EUR\", 0.85);\\n        exchangeRates.put(\"GBP\", 0.73);\\n        exchangeRates.put(\"JPY\", 110.46);\\n    }\\n\\n    public double convertCurrency(double amount, String fromCurrency, String toCurrency) {\\n        if (exchangeRates.containsKey(fromCurrency) && exchangeRates.containsKey(toCurrency)) {\\n            double fromRate = exchangeRates.get(fromCurrency);\\n            double toRate = exchangeRates.get(toCurrency);\\n            return amount * (toRate / fromRate);\\n        } else {\\n            throw new IllegalArgumentException(\"Currency not supported\");\\n        }\\n    }\\n\\n    public static void main(String[] args) {\\n        CurrencyConverter converter = new CurrencyConverter();\\n        double amount = 100.0;\\n        String fromCurrency = \"USD\";\\n        String toCurrency = \"EUR\";\\n        double convertedAmount = converter.convertCurrency(amount, fromCurrency, toCurrency);\\n        System.out.println(amount + \" \" + fromCurrency + \" is equal to \" + convertedAmount + \" \" + toCurrency);\\n    }\\n}\\n\\nThe countries I need their currencies are India, Spain, and Dubai.',\n",
       "   'role': 'user'},\n",
       "  {'content': 'Sure! Here\\'s an updated version of your code with support for three additional currencies:\\n\\n```java\\nimport java.util.HashMap;\\nimport java.util.Map;\\n\\npublic class CurrencyConverter {\\n    private Map<String, Double> exchangeRates;\\n\\n    public CurrencyConverter() {\\n        exchangeRates = new HashMap<>();\\n        // Add exchange rates here (e.g., USD to EUR rate: 0.85)\\n        exchangeRates.put(\"USD\", 1.0);\\n        exchangeRates.put(\"EUR\", 0.85);\\n        exchangeRates.put(\"GBP\", 0.73);\\n        exchangeRates.put(\"JPY\", 110.46);\\n        exchangeRates.put(\"INR\", 71.0);\\n        exchangeRates.put(\"ESP\", 0.89);\\n        exchangeRates.put(\"AED\", 3.67);\\n    }\\n\\n    public double convertCurrency(double amount, String fromCurrency, String toCurrency) {\\n        if (exchangeRates.containsKey(fromCurrency) && exchangeRates.containsKey(toCurrency)) {\\n            double fromRate = exchangeRates.get(fromCurrency);\\n            double toRate = exchangeRates.get(toCurrency);\\n            return amount * (toRate / fromRate);\\n        } else {\\n            throw new IllegalArgumentException(\"Currency not supported\");\\n        }\\n    }\\n\\n    public static void main(String[] args) {\\n        CurrencyConverter converter = new CurrencyConverter();\\n        double amount = 100.0;\\n        String fromCurrency = \"USD\";\\n        String toCurrency = \"EUR\";\\n        double convertedAmount = converter.convertCurrency(amount, fromCurrency, toCurrency);\\n        System.out.println(amount + \" \" + fromCurrency + \" is equal to \" + convertedAmount + \" \" + toCurrency);\\n\\n        amount = 10000.0;\\n        fromCurrency = \"INR\";\\n        toCurrency = \"ESP\";\\n        convertedAmount = converter.convertCurrency(amount, fromCurrency, toCurrency);\\n        System.out.println(amount + \" \" + fromCurrency + \" is equal to \" + convertedAmount + \" \" + toCurrency);\\n\\n        amount = 100000.0;\\n        fromCurrency = \"GBP\";\\n        toCurrency = \"AED\";\\n        convertedAmount = converter.convertCurrency(amount, fromCurrency, toCurrency);\\n        System.out.println(amount + \" \" + fromCurrency + \" is equal to \" + convertedAmount + \" \" + toCurrency);\\n    }\\n}\\n```\\n\\nThis modified version adds support for three additional currencies: Indian Rupee (INR), Spanish Euro (ESP), and UAE Dirham (AED). You can add additional currencies by simply adding them to the constructor\\'s map along with their respective exchange rates. For example, to add Australian Dollar (AUD), you could do this:\\n\\n```java\\nexchangeRates.put(\"AUD\", 1.45);\\n```\\n\\nNote that the above assumes that one AUD is worth roughly 1.45 USD. If that isn\\'t the case, then you would need to look up the actual exchange rate between these two currencies and update the value accordingly.',\n",
       "   'role': 'assistant'},\n",
       "  {'content': 'How do I update the code to include updated exchange rates?',\n",
       "   'role': 'user'},\n",
       "  {'content': 'To update the exchange rates in the code, you can follow these steps:\\n\\nOpen the CurrencyConverter.java file in a text editor or IDE.\\nLocate the line where the exchange rates are defined:\\n\\n```java\\nprivate Map<String, Double> exchangeRates;\\nexchangeRates = new HashMap<>();\\nexchangeRates.put(\"USD\", 1.0);\\nexchangeRates.put(\"EUR\", 0.85);\\nexchangeRates.put(\"GBP\", 0.73);\\nexchangeRates.put(\"JPY\", 110.46);\\n```\\n\\nReplace the existing values with the updated exchange rates. For example, if the exchange rate between USD and JPY has changed to 105.5, you can replace the current value with the following:\\n\\n```java\\nexchangeRates.put(\"JPY\", 105.5);\\n```\\n\\nSave the changes and run the program to verify that the updated exchange rates are being used.',\n",
       "   'role': 'assistant'}],\n",
       " 'margin': 3,\n",
       " 'meta': {'category': 'coding'}}"
      ]
     },
     "execution_count": 2,
     "metadata": {},
     "output_type": "execute_result"
    }
   ],
   "source": [
    "dataset[100]"
   ]
  },
  {
   "cell_type": "code",
   "execution_count": 13,
   "metadata": {},
   "outputs": [],
   "source": [
    "dataset = dataset.select_columns(['prompt', 'prompt_id', 'chosen'])"
   ]
  },
  {
   "cell_type": "code",
   "execution_count": 14,
   "metadata": {},
   "outputs": [
    {
     "data": {
      "text/plain": [
       "{'prompt': 'Write a duet song between Romeo and Juliet telling their story.',\n",
       " 'prompt_id': '78d4966d404d25bfc147acfa01e7020883acd79658059693c60beaa9e05870eb',\n",
       " 'chosen': [{'content': 'Write a duet song between Romeo and Juliet telling their story.',\n",
       "   'role': 'user'},\n",
       "  {'content': \"Verse 1:\\nRomeo:\\nI'm in love with the daughter of my enemy,\\nBut I can't help how I feel.\\nJuliet:\\nMy family wants me to marry another man,\\nBut all I want is you.\\nChorus:\\nWe know that we shouldn't be together,\\nBut our hearts won't listen.\\nWe both come from families who hate each other,\\nBut that doesn't matter when we're alone.\\nVerse 2:\\nRomeo:\\nI will do anything to be with you,\\nEven if it means risking everything.\\nJuliet:\\nI don't care what happens as long as we are together,\\nNothing else matters.\\nBridge:\\nOur love is forbidden, but we can't let that stop us,\\nWe have to find a way to make this work.\\nWe know that there will be obstacles in our path,\\nBut nothing can keep us apart.\\nFinal Chorus:\\nWe know that we shouldn't be together,\\nBut our hearts won't listen.\\nWe both come from families who hate each other,\\nBut that doesn't matter when we're alone.\\nOutro:\\nRomeo and Juliet:\\nWe will fight for our love no matter what,\\nAnd nothing can ever tear us apart.\",\n",
       "   'role': 'assistant'},\n",
       "  {'content': \"Perfect! Now if you could just put the verses, chorus, and bridges on different lines going down the page so it's easier to follow along.\",\n",
       "   'role': 'user'},\n",
       "  {'content': \"Sure thing! Here is the same song formatted differently:\\n\\n[Verse 1]\\n\\nRomeo:\\nI'm in love with the daughter of my enemy,\\nBut I can't help how I feel.\\nJuliet:\\nMy family wants me to marry another man,\\nBut all I want is you.\\n\\n[Chorus]\\n\\nWe know that we shouldn't be together,\\nBut our hearts won't listen.\\nWe both come from families who hate each other,\\nBut that doesn't matter when we're alone.\\n\\n[Verse 2]\\n\\nRomeo:\\nI will do anything to be with you,\\nEven if it means risking everything.\\nJuliet:\\nI don't care what happens as long as we are together,\\nNothing else matters.\\n\\n[Bridge]\\n\\nOur love is forbidden, but we can't let that stop us,\\nWe have to find a way to make this work.\\nWe know that there will be obstacles in our path,\\nBut nothing can keep us apart.\\n\\n[Final Chorus]\\n\\nWe know that we shouldn't be together,\\nBut our hearts won't listen.\\nWe both come from families who hate each other,\\nBut that doesn't matter when we're alone.\\n\\n[Outro]\\n\\nRomeo and Juliet:\\nWe will fight for our love no matter what,\\nAnd nothing can ever tear us apart.\",\n",
       "   'role': 'assistant'}]}"
      ]
     },
     "execution_count": 14,
     "metadata": {},
     "output_type": "execute_result"
    }
   ],
   "source": [
    "dataset[0]"
   ]
  },
  {
   "cell_type": "code",
   "execution_count": 15,
   "metadata": {},
   "outputs": [
    {
     "data": {
      "application/vnd.jupyter.widget-view+json": {
       "model_id": "d353c30c8d5545988d58a7deba086658",
       "version_major": 2,
       "version_minor": 0
      },
      "text/plain": [
       "Pushing dataset shards to the dataset hub:   0%|          | 0/1 [00:00<?, ?it/s]"
      ]
     },
     "metadata": {},
     "output_type": "display_data"
    },
    {
     "data": {
      "application/vnd.jupyter.widget-view+json": {
       "model_id": "dcb21a69286f4f54aa66d193e9f1fcee",
       "version_major": 2,
       "version_minor": 0
      },
      "text/plain": [
       "Creating parquet from Arrow format:   0%|          | 0/18 [00:00<?, ?ba/s]"
      ]
     },
     "metadata": {},
     "output_type": "display_data"
    }
   ],
   "source": [
    "dataset.push_to_hub(\"dim/scale_helpful_no_math\", private=True)"
   ]
  },
  {
   "cell_type": "code",
   "execution_count": null,
   "metadata": {},
   "outputs": [],
   "source": [
    "from datasets import load_dataset, Dataset, concatenate_datasets\n",
    "\n",
    "dataset = load_dataset(\"dim/scale_helpful_no_math\")\n",
    "dataset = dataset[\"train\"]\n",
    "dataset"
   ]
  },
  {
   "cell_type": "code",
   "execution_count": 13,
   "metadata": {},
   "outputs": [
    {
     "data": {
      "text/plain": [
       "{'prompt': 'What do these items have in common?\\n\\n\\n2001: A Space Odyssey The Godfather \\nCitizen Kane \\nCitizen Kane Jeanne Dielman, 23, Quai du Commerce, 1080 Bruxelles \\nRaiders of the Lost Ark \\nRaiders of the Lost Ark \\nLa Dolce Vita \\nLa Dolce Vita  Seven Samurai \\nIn the Mood for Love \\nThere Will Be Blood  Singin’ in the Rain',\n",
       " 'prompt_id': 'b37d3b09f6566dafbaaa6ab4f96366f9beb9e0d542bd686676da3a48241ccdbd',\n",
       " 'chosen': [{'content': 'What do these items have in common?\\n\\n\\n2001: A Space Odyssey The Godfather \\nCitizen Kane \\nCitizen Kane Jeanne Dielman, 23, Quai du Commerce, 1080 Bruxelles \\nRaiders of the Lost Ark \\nRaiders of the Lost Ark \\nLa Dolce Vita \\nLa Dolce Vita  Seven Samurai \\nIn the Mood for Love \\nThere Will Be Blood  Singin’ in the Rain',\n",
       "   'role': 'user'},\n",
       "  {'content': 'All of the films listed are considered among the best ever made. They were all directed by men and feature male protagonists, but that is not their most important connection. None of them won Best Picture at the Academy Awards. Seven Samurai was nominated for a writing award, In the Mood for Love won awards for cinematography and score, and Raiders of the Lost Ark was nominated for several technical categories. But none of these masterpieces were recognized as the year’s best film until decades after they were released. It seems likely that history will judge them more kindly than the movies that did win Oscars in their respective years.',\n",
       "   'role': 'assistant'},\n",
       "  {'content': 'What are the run times of each movie?\\n\\nWhat is the average runtime of these movies?\\n\\nWhat is the total runtime of all these movies combined?',\n",
       "   'role': 'user'},\n",
       "  {'content': 'The runtimes of each movie are:\\n- 2001: A Space Odyssey (2 hours 29 minutes)\\n- The Godfather (2 hours 55 minutes)\\n- Citizen Kane (1 hour 59 minutes)\\n- Jeanne Dielman, 23, Quai du Commerce, 1080 Bruxelles (3 hours 20 minutes)\\n- Raiders of the Lost Ark (1 hour 55 minutes)\\n- La Dolce Vita (2 hours 40 minutes)\\n- Seven Samurai (3 hours 27 minutes)\\n- In the Mood for Love (1 hour 38 minutes)\\n\\nThe average runtime of these movies is approximately 2 hours 47 minutes.\\n\\nThe total runtime of all these movies combined is approximately 19 hours 11 minutes.',\n",
       "   'role': 'assistant'},\n",
       "  {'content': 'those are not the numbers I got, please show the math for your answer of average run time and total runtime',\n",
       "   'role': 'user'},\n",
       "  {'content': \"Sure! Here's how we can calculate the average runtime and total runtime of those eight movies:\\n\\nFirst, let's convert the runtimes from minutes to hours:\\n- 2001: A Space Odyssey = 2 hours 29 minutes = 2.41667 hours\\n- The Godfather = 2 hours 55 minutes = 2.91667 hours\\n- Citizen Kane = 1 hour 59 minutes = 1.98333 hours\\n- Jeanne Dielman, 23, Quai du Commerce, 1080 Bruxelles = 3 hours 20 minutes = 3.33333 hours\\n- Raiders of the Lost Ark = 1 hour 55 minutes = 1.917 hours\\n- La Dolce Vita = 2 hours 40 minutes = 2.66667 hours\\n- Seven Samurai = 3 hours 27 minutes = 3.38333 hours\\n- In the Mood for Love = 1 hour 38 minutes = 1.133 hours\\n\\nThen, we can add up all the runtimes to get the total runtime:\\n- Total runtime = 2.41667 + 2.91667 + 1.98333 + 3.33333 + 1.917 + 2.66667 + 3.38333 + 1.133 = 19.01667 hours\\n\\nFinally, we can divide the total runtime by the number of movies to get the average runtime:\\n- Average runtime = 19.01667 hours / 8 movies = 2.384615385 hours ≈ 2 hours 47 minutes\\n\\nSo, the average runtime of those eight movies is approximately 2 hours 47 minutes, and the total runtime is approximately 19 hours 11 minutes. Does that make sense? Let me know if you have any other questions!\",\n",
       "   'role': 'assistant'},\n",
       "  {'content': 'I think I see your error, instead of converting to decimal format, convert to minutes, then run the calculations again. list the runtime of each of the 10 movies in minutes as well',\n",
       "   'role': 'user'},\n",
       "  {'content': \"Sure thing! Here's how we can calculate the average runtime and total runtime of those ten movies using minutes instead of decimal hours:\\n\\nFirst, let's convert the runtimes from hours to minutes:\\n- 2001: A Space Odyssey = 2 hours 29 minutes = 143 minutes\\n- The Godfather = 2 hours 55 minutes = 165 minutes\\n- Citizen Kane = 1 hour 59 minutes = 113 minutes\\n- Jeanne Dielman, 23, Quai du Commerce, 1080 Bruxelles = 3 hours 20 minutes = 192 minutes\\n- Raiders of the Lost Ark = 1 hour 55 minutes = 115 minutes\\n- La Dolce Vita = 2 hours 40 minutes = 160 minutes\\n- Seven Samurai = 3 hours 27 minutes = 201 minutes\\n- In the Mood for Love = 1 hour 38 minutes = 88 minutes\\n\\nThen, we can add up all the runtimes to get the total runtime:\\n- Total runtime = 143 + 165 + 113 + 192 + 115 + 160 + 201 + 88 = 1147 minutes\\n\\nFinally, we can divide the total runtime by the number of movies to get the average runtime:\\n- Average runtime = 1147 minutes / 10 movies = 114.7 minutes ≈ 2 hours\\n\\nSo, the average runtime of those ten movies is approximately 2 hours, and the total runtime is approximately 19 hours 11 minutes. Does that make sense? Let me know if you have any other questions!\",\n",
       "   'role': 'assistant'}]}"
      ]
     },
     "execution_count": 13,
     "metadata": {},
     "output_type": "execute_result"
    }
   ],
   "source": [
    "dataset[10]"
   ]
  }
 ],
 "metadata": {
  "kernelspec": {
   "display_name": "base",
   "language": "python",
   "name": "python3"
  },
  "language_info": {
   "codemirror_mode": {
    "name": "ipython",
    "version": 3
   },
   "file_extension": ".py",
   "mimetype": "text/x-python",
   "name": "python",
   "nbconvert_exporter": "python",
   "pygments_lexer": "ipython3",
   "version": "3.10.13"
  },
  "orig_nbformat": 4
 },
 "nbformat": 4,
 "nbformat_minor": 2
}
