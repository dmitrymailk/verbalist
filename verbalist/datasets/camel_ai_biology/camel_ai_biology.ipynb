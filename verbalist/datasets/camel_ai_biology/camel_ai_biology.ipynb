{
 "cells": [
  {
   "cell_type": "code",
   "execution_count": 1,
   "metadata": {},
   "outputs": [
    {
     "name": "stderr",
     "output_type": "stream",
     "text": [
      "/home/kosenko/miniconda3/lib/python3.10/site-packages/tqdm/auto.py:21: TqdmWarning: IProgress not found. Please update jupyter and ipywidgets. See https://ipywidgets.readthedocs.io/en/stable/user_install.html\n",
      "  from .autonotebook import tqdm as notebook_tqdm\n",
      "Downloading readme: 100%|██████████| 2.12k/2.12k [00:00<00:00, 19.2MB/s]\n",
      "Downloading data: 100%|██████████| 27.4M/27.4M [00:09<00:00, 2.97MB/s]\n",
      "Downloading data files: 100%|██████████| 1/1 [00:09<00:00,  9.22s/it]\n",
      "Extracting data files: 100%|██████████| 1/1 [00:12<00:00, 12.93s/it]\n",
      "Generating train split: 20000 examples [00:08, 2440.49 examples/s]\n"
     ]
    },
    {
     "data": {
      "text/plain": [
       "Dataset({\n",
       "    features: ['role_1', 'topic;', 'sub_topic', 'message_1', 'message_2'],\n",
       "    num_rows: 20000\n",
       "})"
      ]
     },
     "execution_count": 1,
     "metadata": {},
     "output_type": "execute_result"
    }
   ],
   "source": [
    "from datasets import load_dataset, Dataset, load_from_disk\n",
    "\n",
    "dataset = load_dataset(\"camel-ai/biology\")\n",
    "dataset = dataset['train']\n",
    "dataset"
   ]
  },
  {
   "cell_type": "code",
   "execution_count": 2,
   "metadata": {},
   "outputs": [
    {
     "data": {
      "text/plain": [
       "{'role_1': 'Biologist_RoleType.ASSISTANT',\n",
       " 'topic;': 'Taxonomy',\n",
       " 'sub_topic': 'Identification of new species',\n",
       " 'message_1': 'What are the common techniques used in identifying a new species, and how can scientists accurately categorize it within the existing taxonomy system?',\n",
       " 'message_2': \"Identifying a new species and categorizing it within the existing taxonomy system involves several common techniques. These techniques can be broadly classified into morphological, molecular, and ecological approaches. Here's an overview of these techniques:\\n\\n1. Morphological analysis: This is the traditional method of identifying a new species based on its physical characteristics. Scientists examine the external and internal features of an organism, such as its size, shape, color, and structure. They also study the anatomy and physiology of the organism, including its skeletal, muscular, and reproductive systems. By comparing these features with those of known species, scientists can determine if the organism represents a new species.\\n\\n2. Molecular analysis: With advances in molecular biology, scientists can now use genetic information to identify and classify new species. This involves analyzing the DNA or RNA sequences of the organism and comparing them with the sequences of known species. Techniques such as DNA barcoding, which compares a short, standardized region of the genome, can help determine if the organism is a new species. Additionally, phylogenetic analysis can be used to understand the evolutionary relationships between the new species and other known species, helping to place it within the existing taxonomy system.\\n\\n3. Ecological analysis: Studying the ecological niche of an organism can also provide valuable information for species identification and classification. This involves examining the organism's habitat, its interactions with other species, and its role in the ecosystem. By understanding the ecological context of the new species, scientists can better determine its taxonomic position and how it relates to other known species.\\n\\n4. Behavioral analysis: Observing the behavior of an organism can also help in identifying a new species. This includes studying its feeding habits, mating rituals, and social interactions. Behavioral differences between closely related species can sometimes be more apparent than morphological or molecular differences.\\n\\n5. Biogeography: The geographical distribution of an organism can provide clues about its evolutionary history and help in its classification. Studying the biogeography of a new species can reveal patterns of speciation and help determine its taxonomic position.\\n\\nOnce a new species has been identified using these techniques, scientists can accurately categorize it within the existing taxonomy system by following the principles of biological classification. This involves placing the new species within a hierarchical structure of taxonomic ranks, such as kingdom, phylum, class, order, family, genus, and species. The new species is then given a scientific name, usually consisting of a genus name and a species epithet, following the rules of binomial nomenclature.\\n\\nIn conclusion, identifying a new species and categorizing it within the existing taxonomy system involves a combination of morphological, molecular, ecological, behavioral, and biogeographical analyses. By using these techniques, scientists can accurately classify the new species and better understand its evolutionary relationships with other organisms.\"}"
      ]
     },
     "execution_count": 2,
     "metadata": {},
     "output_type": "execute_result"
    }
   ],
   "source": [
    "dataset[0]"
   ]
  },
  {
   "cell_type": "code",
   "execution_count": 3,
   "metadata": {},
   "outputs": [
    {
     "name": "stderr",
     "output_type": "stream",
     "text": [
      "Creating parquet from Arrow format: 100%|██████████| 20/20 [00:00<00:00, 22.90ba/s]\n",
      "Pushing dataset shards to the dataset hub: 100%|██████████| 1/1 [00:39<00:00, 39.72s/it]\n"
     ]
    }
   ],
   "source": [
    "dataset.push_to_hub(\"dim/camel_ai_biology\")"
   ]
  }
 ],
 "metadata": {
  "kernelspec": {
   "display_name": "base",
   "language": "python",
   "name": "python3"
  },
  "language_info": {
   "codemirror_mode": {
    "name": "ipython",
    "version": 3
   },
   "file_extension": ".py",
   "mimetype": "text/x-python",
   "name": "python",
   "nbconvert_exporter": "python",
   "pygments_lexer": "ipython3",
   "version": "3.10.13"
  }
 },
 "nbformat": 4,
 "nbformat_minor": 2
}
