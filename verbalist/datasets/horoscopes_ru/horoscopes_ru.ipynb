{
 "cells": [
  {
   "cell_type": "code",
   "execution_count": 6,
   "metadata": {},
   "outputs": [
    {
     "name": "stderr",
     "output_type": "stream",
     "text": [
      "Found cached dataset parquet (/home/kosenko/.cache/huggingface/datasets/dkagramanyan___parquet/dkagramanyan--horoscopes_ru-3b8c7396bfa23654/0.0.0/2a3b91fbd88a2c90d1dbbb32b460cf621d31bd5b05b934492fdef7d8d6f236ec)\n",
      "100%|██████████| 2/2 [00:00<00:00, 725.28it/s]\n"
     ]
    },
    {
     "data": {
      "text/plain": [
       "Dataset({\n",
       "    features: ['date', 'sign', 'text'],\n",
       "    num_rows: 66501\n",
       "})"
      ]
     },
     "execution_count": 6,
     "metadata": {},
     "output_type": "execute_result"
    }
   ],
   "source": [
    "from datasets import load_dataset, Dataset, concatenate_datasets\n",
    "\n",
    "dataset = load_dataset(\n",
    "    \"dkagramanyan/horoscopes_ru\",\n",
    ")\n",
    "dataset = dataset[\"train\"]\n",
    "dataset"
   ]
  },
  {
   "cell_type": "code",
   "execution_count": 7,
   "metadata": {},
   "outputs": [
    {
     "data": {
      "text/plain": [
       "Dataset({\n",
       "    features: ['date', 'sign', 'text'],\n",
       "    num_rows: 1000\n",
       "})"
      ]
     },
     "execution_count": 7,
     "metadata": {},
     "output_type": "execute_result"
    }
   ],
   "source": [
    "dataset = dataset.train_test_split(test_size=1000, seed=42)\n",
    "dataset = dataset[\"test\"]\n",
    "dataset"
   ]
  },
  {
   "cell_type": "code",
   "execution_count": 8,
   "metadata": {},
   "outputs": [
    {
     "data": {
      "text/plain": [
       "{'date': '2007-06-05',\n",
       " 'sign': 'стрелец',\n",
       " 'text': 'Вам удастся без труда решить возникшие проблемы и вопросы. Удачны поездки и командировки, связи и торговые отношения с зарубежными и дальними партнерами, хорошо продвигаются Ваши дела за границей. Возможны спортивные достижения, хороший период для отдыха, путешествий, вероятны необычные приключения. Возможен финансовый успех, успех у начальства, получение материальной поддержки, похвалы и наград. Активизируются процессы пищеварения и обмена веществ, поэтому Вы склонны увеличить потребление пищи.'}"
      ]
     },
     "execution_count": 8,
     "metadata": {},
     "output_type": "execute_result"
    }
   ],
   "source": [
    "dataset[0]"
   ]
  },
  {
   "cell_type": "code",
   "execution_count": 9,
   "metadata": {},
   "outputs": [],
   "source": [
    "new_dataset = []\n",
    "\n",
    "for i in range(len(dataset)):\n",
    "    sign = dataset[i][\"sign\"]\n",
    "    text = dataset[i][\"text\"]\n",
    "    new_dataset.append(\n",
    "        {\n",
    "            \"prompt\": f\"гороскоп для {sign}\",\n",
    "            \"prediction\": text,\n",
    "        }\n",
    "    )"
   ]
  },
  {
   "cell_type": "code",
   "execution_count": 10,
   "metadata": {},
   "outputs": [
    {
     "data": {
      "text/plain": [
       "{'prompt': 'гороскоп для стрелец',\n",
       " 'prediction': 'Вам удастся без труда решить возникшие проблемы и вопросы. Удачны поездки и командировки, связи и торговые отношения с зарубежными и дальними партнерами, хорошо продвигаются Ваши дела за границей. Возможны спортивные достижения, хороший период для отдыха, путешествий, вероятны необычные приключения. Возможен финансовый успех, успех у начальства, получение материальной поддержки, похвалы и наград. Активизируются процессы пищеварения и обмена веществ, поэтому Вы склонны увеличить потребление пищи.'}"
      ]
     },
     "execution_count": 10,
     "metadata": {},
     "output_type": "execute_result"
    }
   ],
   "source": [
    "new_dataset[0]"
   ]
  },
  {
   "cell_type": "code",
   "execution_count": 11,
   "metadata": {},
   "outputs": [
    {
     "data": {
      "text/plain": [
       "Dataset({\n",
       "    features: ['prompt', 'prediction'],\n",
       "    num_rows: 1000\n",
       "})"
      ]
     },
     "execution_count": 11,
     "metadata": {},
     "output_type": "execute_result"
    }
   ],
   "source": [
    "new_dataset = Dataset.from_list(new_dataset)\n",
    "new_dataset"
   ]
  },
  {
   "cell_type": "code",
   "execution_count": 12,
   "metadata": {},
   "outputs": [
    {
     "name": "stderr",
     "output_type": "stream",
     "text": [
      "Creating parquet from Arrow format: 100%|██████████| 1/1 [00:00<00:00, 234.96ba/s]\n",
      "Pushing dataset shards to the dataset hub: 100%|██████████| 1/1 [00:01<00:00,  1.99s/it]\n"
     ]
    }
   ],
   "source": [
    "new_dataset.push_to_hub(\"dim/horoscopes_ru_1k\")"
   ]
  }
 ],
 "metadata": {
  "kernelspec": {
   "display_name": "base",
   "language": "python",
   "name": "python3"
  },
  "language_info": {
   "codemirror_mode": {
    "name": "ipython",
    "version": 3
   },
   "file_extension": ".py",
   "mimetype": "text/x-python",
   "name": "python",
   "nbconvert_exporter": "python",
   "pygments_lexer": "ipython3",
   "version": "3.10.9"
  },
  "orig_nbformat": 4
 },
 "nbformat": 4,
 "nbformat_minor": 2
}
