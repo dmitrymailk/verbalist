{
 "cells": [
  {
   "cell_type": "code",
   "execution_count": 2,
   "metadata": {},
   "outputs": [
    {
     "name": "stderr",
     "output_type": "stream",
     "text": [
      "Found cached dataset parquet (/home/kosenko/.cache/huggingface/datasets/dkagramanyan___parquet/dkagramanyan--horoscopes_ru-3b8c7396bfa23654/0.0.0/2a3b91fbd88a2c90d1dbbb32b460cf621d31bd5b05b934492fdef7d8d6f236ec)\n"
     ]
    },
    {
     "data": {
      "application/vnd.jupyter.widget-view+json": {
       "model_id": "c574159f882a424e905b763ffeaa7c2d",
       "version_major": 2,
       "version_minor": 0
      },
      "text/plain": [
       "  0%|          | 0/2 [00:00<?, ?it/s]"
      ]
     },
     "metadata": {},
     "output_type": "display_data"
    },
    {
     "data": {
      "text/plain": [
       "Dataset({\n",
       "    features: ['date', 'sign', 'text'],\n",
       "    num_rows: 66501\n",
       "})"
      ]
     },
     "execution_count": 2,
     "metadata": {},
     "output_type": "execute_result"
    }
   ],
   "source": [
    "from datasets import load_dataset, Dataset, concatenate_datasets\n",
    "\n",
    "dataset = load_dataset(\"dkagramanyan/horoscopes_ru\")\n",
    "dataset = dataset[\"train\"]\n",
    "dataset"
   ]
  },
  {
   "cell_type": "code",
   "execution_count": 3,
   "metadata": {},
   "outputs": [
    {
     "name": "stderr",
     "output_type": "stream",
     "text": [
      "Loading cached split indices for dataset at /home/kosenko/.cache/huggingface/datasets/dkagramanyan___parquet/dkagramanyan--horoscopes_ru-3b8c7396bfa23654/0.0.0/2a3b91fbd88a2c90d1dbbb32b460cf621d31bd5b05b934492fdef7d8d6f236ec/cache-f1fd99738f67466d.arrow and /home/kosenko/.cache/huggingface/datasets/dkagramanyan___parquet/dkagramanyan--horoscopes_ru-3b8c7396bfa23654/0.0.0/2a3b91fbd88a2c90d1dbbb32b460cf621d31bd5b05b934492fdef7d8d6f236ec/cache-aa2631bfcf523af2.arrow\n"
     ]
    },
    {
     "data": {
      "text/plain": [
       "Dataset({\n",
       "    features: ['date', 'sign', 'text'],\n",
       "    num_rows: 10000\n",
       "})"
      ]
     },
     "execution_count": 3,
     "metadata": {},
     "output_type": "execute_result"
    }
   ],
   "source": [
    "dataset = dataset.train_test_split(test_size=10000, seed=42)\n",
    "dataset = dataset[\"test\"]\n",
    "dataset"
   ]
  },
  {
   "cell_type": "code",
   "execution_count": 4,
   "metadata": {},
   "outputs": [
    {
     "data": {
      "text/plain": [
       "{'date': '2007-06-05',\n",
       " 'sign': 'стрелец',\n",
       " 'text': 'Вам удастся без труда решить возникшие проблемы и вопросы. Удачны поездки и командировки, связи и торговые отношения с зарубежными и дальними партнерами, хорошо продвигаются Ваши дела за границей. Возможны спортивные достижения, хороший период для отдыха, путешествий, вероятны необычные приключения. Возможен финансовый успех, успех у начальства, получение материальной поддержки, похвалы и наград. Активизируются процессы пищеварения и обмена веществ, поэтому Вы склонны увеличить потребление пищи.'}"
      ]
     },
     "execution_count": 4,
     "metadata": {},
     "output_type": "execute_result"
    }
   ],
   "source": [
    "dataset[0]"
   ]
  },
  {
   "cell_type": "code",
   "execution_count": 4,
   "metadata": {},
   "outputs": [
    {
     "data": {
      "application/vnd.jupyter.widget-view+json": {
       "model_id": "b305a2404d3143adbdf0c49398a90908",
       "version_major": 2,
       "version_minor": 0
      },
      "text/plain": [
       "Pushing dataset shards to the dataset hub:   0%|          | 0/1 [00:00<?, ?it/s]"
      ]
     },
     "metadata": {},
     "output_type": "display_data"
    },
    {
     "data": {
      "application/vnd.jupyter.widget-view+json": {
       "model_id": "ce982da1d5164da0b09dfa68f58c06f3",
       "version_major": 2,
       "version_minor": 0
      },
      "text/plain": [
       "Creating parquet from Arrow format:   0%|          | 0/10 [00:00<?, ?ba/s]"
      ]
     },
     "metadata": {},
     "output_type": "display_data"
    }
   ],
   "source": [
    "dataset.push_to_hub(\"dim/horoscopes_ru_10k\")"
   ]
  },
  {
   "cell_type": "code",
   "execution_count": 5,
   "metadata": {},
   "outputs": [],
   "source": [
    "new_dataset = []\n",
    "\n",
    "for i in range(len(dataset)):\n",
    "    sign = dataset[i][\"sign\"]\n",
    "    text = dataset[i][\"text\"]\n",
    "    new_dataset.append(\n",
    "        {\n",
    "            \"prompt\": f\"гороскоп для {sign}\",\n",
    "            \"prediction\": text,\n",
    "        }\n",
    "    )"
   ]
  },
  {
   "cell_type": "code",
   "execution_count": 6,
   "metadata": {},
   "outputs": [
    {
     "data": {
      "text/plain": [
       "{'prompt': 'гороскоп для стрелец',\n",
       " 'prediction': 'Вам удастся без труда решить возникшие проблемы и вопросы. Удачны поездки и командировки, связи и торговые отношения с зарубежными и дальними партнерами, хорошо продвигаются Ваши дела за границей. Возможны спортивные достижения, хороший период для отдыха, путешествий, вероятны необычные приключения. Возможен финансовый успех, успех у начальства, получение материальной поддержки, похвалы и наград. Активизируются процессы пищеварения и обмена веществ, поэтому Вы склонны увеличить потребление пищи.'}"
      ]
     },
     "execution_count": 6,
     "metadata": {},
     "output_type": "execute_result"
    }
   ],
   "source": [
    "new_dataset[0]"
   ]
  },
  {
   "cell_type": "code",
   "execution_count": 7,
   "metadata": {},
   "outputs": [
    {
     "data": {
      "text/plain": [
       "Dataset({\n",
       "    features: ['prompt', 'prediction'],\n",
       "    num_rows: 10000\n",
       "})"
      ]
     },
     "execution_count": 7,
     "metadata": {},
     "output_type": "execute_result"
    }
   ],
   "source": [
    "new_dataset = Dataset.from_list(new_dataset)\n",
    "new_dataset"
   ]
  },
  {
   "cell_type": "code",
   "execution_count": 8,
   "metadata": {},
   "outputs": [
    {
     "data": {
      "application/vnd.jupyter.widget-view+json": {
       "model_id": "60d13e41e56140d799d4b62dc5f24392",
       "version_major": 2,
       "version_minor": 0
      },
      "text/plain": [
       "Pushing dataset shards to the dataset hub:   0%|          | 0/1 [00:00<?, ?it/s]"
      ]
     },
     "metadata": {},
     "output_type": "display_data"
    },
    {
     "data": {
      "application/vnd.jupyter.widget-view+json": {
       "model_id": "fe970bed369946178ddebfe1d7093fe4",
       "version_major": 2,
       "version_minor": 0
      },
      "text/plain": [
       "Creating parquet from Arrow format:   0%|          | 0/10 [00:00<?, ?ba/s]"
      ]
     },
     "metadata": {},
     "output_type": "display_data"
    },
    {
     "data": {
      "application/vnd.jupyter.widget-view+json": {
       "model_id": "37f0f46cae064acca0ddeb2b68d27426",
       "version_major": 2,
       "version_minor": 0
      },
      "text/plain": [
       "Deleting unused files from dataset repository:   0%|          | 0/1 [00:00<?, ?it/s]"
      ]
     },
     "metadata": {},
     "output_type": "display_data"
    },
    {
     "name": "stderr",
     "output_type": "stream",
     "text": [
      "Updating downloaded metadata with the new split.\n"
     ]
    }
   ],
   "source": [
    "new_dataset.push_to_hub(\"dim/horoscopes_ru_10k\")"
   ]
  },
  {
   "cell_type": "code",
   "execution_count": 1,
   "metadata": {},
   "outputs": [
    {
     "name": "stderr",
     "output_type": "stream",
     "text": [
      "Found cached dataset parquet (/home/kosenko/.cache/huggingface/datasets/dim___parquet/dim--horoscopes_ru_10k-81adc33440ef5294/0.0.0/2a3b91fbd88a2c90d1dbbb32b460cf621d31bd5b05b934492fdef7d8d6f236ec)\n"
     ]
    },
    {
     "data": {
      "application/vnd.jupyter.widget-view+json": {
       "model_id": "787986ef7fb443d09a81f05676e8e2f0",
       "version_major": 2,
       "version_minor": 0
      },
      "text/plain": [
       "  0%|          | 0/1 [00:00<?, ?it/s]"
      ]
     },
     "metadata": {},
     "output_type": "display_data"
    },
    {
     "data": {
      "text/plain": [
       "{'date': '2007-06-05',\n",
       " 'sign': 'стрелец',\n",
       " 'text': 'Вам удастся без труда решить возникшие проблемы и вопросы. Удачны поездки и командировки, связи и торговые отношения с зарубежными и дальними партнерами, хорошо продвигаются Ваши дела за границей. Возможны спортивные достижения, хороший период для отдыха, путешествий, вероятны необычные приключения. Возможен финансовый успех, успех у начальства, получение материальной поддержки, похвалы и наград. Активизируются процессы пищеварения и обмена веществ, поэтому Вы склонны увеличить потребление пищи.'}"
      ]
     },
     "execution_count": 1,
     "metadata": {},
     "output_type": "execute_result"
    }
   ],
   "source": [
    "from datasets import load_dataset\n",
    "\n",
    "dataset = load_dataset(\"dim/horoscopes_ru_10k\")\n",
    "dataset = dataset[\"train\"]\n",
    "dataset[0]"
   ]
  }
 ],
 "metadata": {
  "kernelspec": {
   "display_name": "base",
   "language": "python",
   "name": "python3"
  },
  "language_info": {
   "codemirror_mode": {
    "name": "ipython",
    "version": 3
   },
   "file_extension": ".py",
   "mimetype": "text/x-python",
   "name": "python",
   "nbconvert_exporter": "python",
   "pygments_lexer": "ipython3",
   "version": "3.10.13"
  },
  "orig_nbformat": 4
 },
 "nbformat": 4,
 "nbformat_minor": 2
}
