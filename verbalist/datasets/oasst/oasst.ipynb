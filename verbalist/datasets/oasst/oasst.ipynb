{
 "cells": [
  {
   "cell_type": "code",
   "execution_count": 1,
   "metadata": {},
   "outputs": [],
   "source": [
    "import pandas as pd\n",
    "\n",
    "allowed_langs = [\"en\", \"ru\", \"de\", \"fr\", \"uk-UA\", \"zh\"]"
   ]
  },
  {
   "cell_type": "code",
   "execution_count": 2,
   "metadata": {},
   "outputs": [],
   "source": [
    "messages = pd.read_json(\n",
    "    path_or_buf=\"./oasst_ready/2023-04-12_oasst_ready.messages.jsonl.gz\",\n",
    "    lines=True,\n",
    ")"
   ]
  },
  {
   "cell_type": "code",
   "execution_count": 3,
   "metadata": {},
   "outputs": [
    {
     "data": {
      "text/html": [
       "<div>\n",
       "<style scoped>\n",
       "    .dataframe tbody tr th:only-of-type {\n",
       "        vertical-align: middle;\n",
       "    }\n",
       "\n",
       "    .dataframe tbody tr th {\n",
       "        vertical-align: top;\n",
       "    }\n",
       "\n",
       "    .dataframe thead th {\n",
       "        text-align: right;\n",
       "    }\n",
       "</style>\n",
       "<table border=\"1\" class=\"dataframe\">\n",
       "  <thead>\n",
       "    <tr style=\"text-align: right;\">\n",
       "      <th></th>\n",
       "      <th>message_id</th>\n",
       "      <th>user_id</th>\n",
       "      <th>created_date</th>\n",
       "      <th>text</th>\n",
       "      <th>role</th>\n",
       "      <th>lang</th>\n",
       "      <th>review_count</th>\n",
       "      <th>review_result</th>\n",
       "      <th>deleted</th>\n",
       "      <th>synthetic</th>\n",
       "      <th>emojis</th>\n",
       "      <th>labels</th>\n",
       "      <th>detoxify</th>\n",
       "      <th>message_tree_id</th>\n",
       "      <th>tree_state</th>\n",
       "      <th>parent_id</th>\n",
       "      <th>rank</th>\n",
       "    </tr>\n",
       "  </thead>\n",
       "  <tbody>\n",
       "    <tr>\n",
       "      <th>0</th>\n",
       "      <td>6ab24d72-0181-4594-a9cd-deaf170242fb</td>\n",
       "      <td>c3fe8c76-fc30-4fa7-b7f8-c492f5967d18</td>\n",
       "      <td>2023-02-05T14:23:50.983374+00:00</td>\n",
       "      <td>Can you write a short introduction about the r...</td>\n",
       "      <td>prompter</td>\n",
       "      <td>en</td>\n",
       "      <td>3</td>\n",
       "      <td>1.0</td>\n",
       "      <td>False</td>\n",
       "      <td>False</td>\n",
       "      <td>{'+1': 10, '_skip_reply': 1, '_skip_ranking': 4}</td>\n",
       "      <td>{'spam': {'value': 0.0, 'count': 3}, 'lang_mis...</td>\n",
       "      <td>{'toxicity': 0.00044308538781400006, 'severe_t...</td>\n",
       "      <td>6ab24d72-0181-4594-a9cd-deaf170242fb</td>\n",
       "      <td>ready_for_export</td>\n",
       "      <td>NaN</td>\n",
       "      <td>NaN</td>\n",
       "    </tr>\n",
       "    <tr>\n",
       "      <th>1</th>\n",
       "      <td>c8e83833-ecbc-44fe-b6db-735228c25a1c</td>\n",
       "      <td>2c96e467-66f0-4be7-9693-bda51356a424</td>\n",
       "      <td>2023-02-06T13:50:44.657083+00:00</td>\n",
       "      <td>\"Monopsony\" refers to a market structure where...</td>\n",
       "      <td>assistant</td>\n",
       "      <td>en</td>\n",
       "      <td>3</td>\n",
       "      <td>1.0</td>\n",
       "      <td>False</td>\n",
       "      <td>False</td>\n",
       "      <td>{'+1': 3, '_skip_labeling': 1}</td>\n",
       "      <td>{'spam': {'value': 0.0, 'count': 3}, 'fails_ta...</td>\n",
       "      <td>{'toxicity': 0.000263965659542, 'severe_toxici...</td>\n",
       "      <td>6ab24d72-0181-4594-a9cd-deaf170242fb</td>\n",
       "      <td>ready_for_export</td>\n",
       "      <td>6ab24d72-0181-4594-a9cd-deaf170242fb</td>\n",
       "      <td>0.0</td>\n",
       "    </tr>\n",
       "    <tr>\n",
       "      <th>2</th>\n",
       "      <td>6708c47f-05c9-4346-b3d2-40b2bd24fde4</td>\n",
       "      <td>2c96e467-66f0-4be7-9693-bda51356a424</td>\n",
       "      <td>2023-02-06T18:48:49.391686+00:00</td>\n",
       "      <td>Now explain it to a dog</td>\n",
       "      <td>prompter</td>\n",
       "      <td>en</td>\n",
       "      <td>3</td>\n",
       "      <td>1.0</td>\n",
       "      <td>False</td>\n",
       "      <td>False</td>\n",
       "      <td>NaN</td>\n",
       "      <td>{'spam': {'value': 0.0, 'count': 3}, 'lang_mis...</td>\n",
       "      <td>{'toxicity': 0.036484777927398, 'severe_toxici...</td>\n",
       "      <td>6ab24d72-0181-4594-a9cd-deaf170242fb</td>\n",
       "      <td>ready_for_export</td>\n",
       "      <td>c8e83833-ecbc-44fe-b6db-735228c25a1c</td>\n",
       "      <td>NaN</td>\n",
       "    </tr>\n",
       "  </tbody>\n",
       "</table>\n",
       "</div>"
      ],
      "text/plain": [
       "                             message_id                               user_id  \\\n",
       "0  6ab24d72-0181-4594-a9cd-deaf170242fb  c3fe8c76-fc30-4fa7-b7f8-c492f5967d18   \n",
       "1  c8e83833-ecbc-44fe-b6db-735228c25a1c  2c96e467-66f0-4be7-9693-bda51356a424   \n",
       "2  6708c47f-05c9-4346-b3d2-40b2bd24fde4  2c96e467-66f0-4be7-9693-bda51356a424   \n",
       "\n",
       "                       created_date  \\\n",
       "0  2023-02-05T14:23:50.983374+00:00   \n",
       "1  2023-02-06T13:50:44.657083+00:00   \n",
       "2  2023-02-06T18:48:49.391686+00:00   \n",
       "\n",
       "                                                text       role lang  \\\n",
       "0  Can you write a short introduction about the r...   prompter   en   \n",
       "1  \"Monopsony\" refers to a market structure where...  assistant   en   \n",
       "2                            Now explain it to a dog   prompter   en   \n",
       "\n",
       "   review_count  review_result  deleted  synthetic  \\\n",
       "0             3            1.0    False      False   \n",
       "1             3            1.0    False      False   \n",
       "2             3            1.0    False      False   \n",
       "\n",
       "                                             emojis  \\\n",
       "0  {'+1': 10, '_skip_reply': 1, '_skip_ranking': 4}   \n",
       "1                    {'+1': 3, '_skip_labeling': 1}   \n",
       "2                                               NaN   \n",
       "\n",
       "                                              labels  \\\n",
       "0  {'spam': {'value': 0.0, 'count': 3}, 'lang_mis...   \n",
       "1  {'spam': {'value': 0.0, 'count': 3}, 'fails_ta...   \n",
       "2  {'spam': {'value': 0.0, 'count': 3}, 'lang_mis...   \n",
       "\n",
       "                                            detoxify  \\\n",
       "0  {'toxicity': 0.00044308538781400006, 'severe_t...   \n",
       "1  {'toxicity': 0.000263965659542, 'severe_toxici...   \n",
       "2  {'toxicity': 0.036484777927398, 'severe_toxici...   \n",
       "\n",
       "                        message_tree_id        tree_state  \\\n",
       "0  6ab24d72-0181-4594-a9cd-deaf170242fb  ready_for_export   \n",
       "1  6ab24d72-0181-4594-a9cd-deaf170242fb  ready_for_export   \n",
       "2  6ab24d72-0181-4594-a9cd-deaf170242fb  ready_for_export   \n",
       "\n",
       "                              parent_id  rank  \n",
       "0                                   NaN   NaN  \n",
       "1  6ab24d72-0181-4594-a9cd-deaf170242fb   0.0  \n",
       "2  c8e83833-ecbc-44fe-b6db-735228c25a1c   NaN  "
      ]
     },
     "execution_count": 3,
     "metadata": {},
     "output_type": "execute_result"
    }
   ],
   "source": [
    "messages[:3]"
   ]
  },
  {
   "cell_type": "code",
   "execution_count": 4,
   "metadata": {},
   "outputs": [],
   "source": [
    "messages_dict = {}\n",
    "\n",
    "for i in range(len(messages)):\n",
    "    mess_id = messages.iloc[i][\"message_id\"]\n",
    "    messages_dict[mess_id] = messages.iloc[i].to_dict()"
   ]
  },
  {
   "cell_type": "code",
   "execution_count": 5,
   "metadata": {},
   "outputs": [],
   "source": [
    "trees = pd.read_json(\n",
    "    path_or_buf=\"./oasst_ready/2023-04-12_oasst_ready.trees.jsonl.gz\",\n",
    "    lines=True,\n",
    ")\n",
    "trees\n",
    "trees_dict = {}\n",
    "for i in range(len(trees)):\n",
    "    tree_id = trees[\"message_tree_id\"][i]\n",
    "    trees_dict[tree_id] = trees[\"prompt\"][i]"
   ]
  },
  {
   "cell_type": "code",
   "execution_count": null,
   "metadata": {},
   "outputs": [],
   "source": [
    "example_tree_id = list(trees_dict.keys())[3]\n",
    "\n",
    "trees_dict[example_tree_id]"
   ]
  },
  {
   "cell_type": "code",
   "execution_count": 7,
   "metadata": {},
   "outputs": [],
   "source": [
    "filtered_trees_dict = {}\n",
    "\n",
    "for tree_id in trees_dict:\n",
    "    tree_lang = trees_dict[tree_id][\"lang\"]\n",
    "    # if tree_lang in [\"ru\"]:\n",
    "    if tree_lang in [\"en\"]:\n",
    "        filtered_trees_dict[tree_id] = trees_dict[tree_id]"
   ]
  },
  {
   "cell_type": "code",
   "execution_count": 8,
   "metadata": {},
   "outputs": [
    {
     "data": {
      "text/plain": [
       "3670"
      ]
     },
     "execution_count": 8,
     "metadata": {},
     "output_type": "execute_result"
    }
   ],
   "source": [
    "len(filtered_trees_dict)"
   ]
  },
  {
   "cell_type": "code",
   "execution_count": 11,
   "metadata": {},
   "outputs": [],
   "source": [
    "filtered_example_id = list(filtered_trees_dict.keys())[31]\n",
    "filtered_example = filtered_trees_dict[filtered_example_id]\n",
    "# filtered_example"
   ]
  },
  {
   "cell_type": "code",
   "execution_count": 54,
   "metadata": {},
   "outputs": [],
   "source": [
    "from collections.abc import Iterable\n",
    "\n",
    "\n",
    "def flatten(xs):\n",
    "    for x in xs:\n",
    "        if isinstance(x, Iterable) and not isinstance(x, (str, bytes)):\n",
    "            yield from flatten(x)\n",
    "        else:\n",
    "            yield x\n",
    "\n",
    "\n",
    "# https://codebeautify.org/python-formatter-beautifier - for debug\n",
    "def get_all_threads(sample):\n",
    "    # debug\n",
    "    # initial_message = f\"{sample['role'].upper()} {sample['text']} |\"\n",
    "    initial_message = f\"{sample['message_id']} \"\n",
    "\n",
    "    def recursive_helper(node, current_path):\n",
    "        if len(node[\"replies\"]) == 0:\n",
    "            if node[\"role\"] == \"assistant\":\n",
    "                # debug\n",
    "                # current_path += f\"\\n|||||||||||||\\n {node['role'].upper()} {node['text']}\"\n",
    "                current_path += f\" {node['message_id']}\"\n",
    "\n",
    "            return current_path + \" <END>\"\n",
    "\n",
    "        current_path += f\" {node['message_id']}\"\n",
    "        paths = []\n",
    "        for reply in node[\"replies\"]:\n",
    "            if node[\"labels\"][\"spam\"][\"value\"] < 0.4:\n",
    "                path = recursive_helper(reply, current_path)\n",
    "                paths.append(path)\n",
    "        return paths\n",
    "\n",
    "    threads = []\n",
    "    for reply in sample[\"replies\"]:\n",
    "        path = recursive_helper(reply, initial_message)\n",
    "        threads.append(path)\n",
    "\n",
    "    threads = flatten(threads)\n",
    "    conversations = []\n",
    "    for thread in threads:\n",
    "        if \"<END>\" in thread:\n",
    "            # debug\n",
    "            # pprint.pprint(thread)\n",
    "            # print(thread.split())\n",
    "            conversation = thread.split()[:-1]\n",
    "            conversations.append(conversation)\n",
    "\n",
    "    return conversations\n",
    "\n",
    "\n",
    "def ids_to_text(message_ids, messages):\n",
    "    chat_history = []\n",
    "    for mess_id in message_ids:\n",
    "        text = messages[mess_id][\"text\"]\n",
    "        chat_history.append(text)\n",
    "\n",
    "    return chat_history"
   ]
  },
  {
   "cell_type": "code",
   "execution_count": null,
   "metadata": {},
   "outputs": [],
   "source": [
    "all_threads = get_all_threads(sample=trees[\"prompt\"][10])\n",
    "all_threads = get_all_threads(sample=filtered_example)\n",
    "# all_threads"
   ]
  },
  {
   "cell_type": "code",
   "execution_count": 13,
   "metadata": {},
   "outputs": [
    {
     "name": "stdout",
     "output_type": "stream",
     "text": [
      "How can I find a girlfriend? I really don't hawe much to offer to others. At least I'm good in computers hardware and Linux. But not much girls have been interested in this kind of things. And it's probably impossible to find cute one.\n",
      "---\n",
      "Finding a girlfriend is not about having something to offer, but about being your authentic self and finding someone who appreciates and values you for who you are. Here are a few tips that might help:\n",
      "\n",
      "Focus on your personal growth: Take some time to work on yourself and become the best version of yourself. This could mean developing your skills and interests, improving your health and wellness, and building your confidence.\n",
      "\n",
      "Meet new people: Get out of your comfort zone and try to meet new people. You can join clubs or groups that align with your interests, attend events and parties, or simply strike up conversations with people you meet in your daily life.\n",
      "\n",
      "Be open-minded: Don't limit yourself to just looking for someone who is interested in the same things as you. Be open to meeting people who have different interests and hobbies, as these can bring new experiences and perspectives into your life.\n",
      "\n",
      "Be yourself: When you do meet someone you like, be yourself. Don't try to pretend to be someone you're not, as this will only lead to disappointment in the long run.\n",
      "\n",
      "Be respectful: Treat others with kindness and respect, and be mindful of their feelings and boundaries.\n",
      "\n",
      "Remember, finding a girlfriend is not about having the perfect qualifications or being someone you're not. It's about being yourself and finding someone who appreciates and loves you for who you are. Good luck!\n",
      "----------------------------------------------------------------------------------------------------\n",
      "How can I find a girlfriend? I really don't hawe much to offer to others. At least I'm good in computers hardware and Linux. But not much girls have been interested in this kind of things. And it's probably impossible to find cute one.\n",
      "---\n",
      "It's important to focus on your own self-worth and value, rather than trying to find a girlfriend based on what you can offer. Relationships are about mutual respect, love, and support, not just about what one person has to offer.\n",
      "\n",
      "Here are some steps you can take to increase your chances of finding a girlfriend:\n",
      "\n",
      "Improve your self-confidence: Confidence is attractive, so focus on developing a positive self-image and learning to love yourself for who you are.\n",
      "\n",
      "Meet new people: You can join clubs, attend social events, or participate in online communities that are related to your interests. This will give you a chance to meet new people, including potential girlfriends.\n",
      "\n",
      "Be yourself: Don't pretend to be someone you're not in order to impress others. Authenticity is key to building lasting relationships.\n",
      "\n",
      "Be open-minded: Not all women are interested in the same things, so try to be open-minded and flexible when it comes to finding a girlfriend.\n",
      "\n",
      "Seek help if needed: If you struggle with self-esteem or confidence, consider seeking help from a therapist or counselor. They can help you work through your challenges and improve your mental health.\n",
      "\n",
      "Remember, finding a girlfriend takes time and patience. Don't put pressure on yourself, and don't be discouraged if it takes a while to find the right person. Focus on building a healthy and happy life, and the right relationship will come naturally.\n",
      "----------------------------------------------------------------------------------------------------\n",
      "How can I find a girlfriend? I really don't hawe much to offer to others. At least I'm good in computers hardware and Linux. But not much girls have been interested in this kind of things. And it's probably impossible to find cute one.\n",
      "---\n",
      "Finding a romantic partner is not about what you can offer them, but about building a connection and having a mutual understanding and affection for each other. Relationships are about more than just shared interests, and it's important to consider a variety of factors, such as compatibility, communication, and mutual respect.\n",
      "\n",
      "Here are a few things you can try:\n",
      "\n",
      "1. Get involved in activities you enjoy and that interest you, and look for opportunities to meet new people.\n",
      "\n",
      "2. Consider joining social clubs or organizations, or volunteering for causes that matter to you.\n",
      "\n",
      "3. Try online dating, but approach it with caution and do your research to stay safe.\n",
      "\n",
      "4. Don't be too hard on yourself or have unrealistic expectations. Everyone has their own unique qualities and strengths, and it's important to recognize and value your own worth.\n",
      "\n",
      "5. Work on building your self-confidence and self-esteem, and be open to different types of people.\n",
      "\n",
      "Remember that finding a romantic partner is not an overnight process and can take time, effort, and patience. It's also important to keep an open mind and be respectful of others, regardless of their interests or background.\n",
      "----------------------------------------------------------------------------------------------------\n"
     ]
    }
   ],
   "source": [
    "for thread in all_threads:\n",
    "    messages_texts = ids_to_text(thread, messages_dict)\n",
    "    print(\"\\n---\\n\".join(messages_texts))\n",
    "    print(\"-\" * 100)"
   ]
  },
  {
   "cell_type": "markdown",
   "metadata": {},
   "source": [
    "### prepare for filter export\n"
   ]
  },
  {
   "cell_type": "code",
   "execution_count": 15,
   "metadata": {},
   "outputs": [],
   "source": [
    "import pandas as pd\n",
    "\n",
    "# export_name = \"./datasets/filtered_datasets/oasst/ru/oasst_ru_v1.csv\"\n",
    "# export_name = \"./filtered/oasst/en/oasst_en_v1.csv\"\n",
    "export_name = \"\"\n",
    "messages_count = 0\n",
    "\n",
    "result_dataset = []\n",
    "\n",
    "for filtered_id in filtered_trees_dict.keys():\n",
    "    filtered_tree = filtered_trees_dict[filtered_id]\n",
    "    filtered_threads_ids = get_all_threads(sample=filtered_tree)\n",
    "    messages_count += len(filtered_threads_ids)\n",
    "    for thread in filtered_threads_ids:\n",
    "        thread_str = \" \".join(thread)\n",
    "        filtered_threads_mess = ids_to_text(thread, messages_dict)\n",
    "        filtered_threads = \"\\n=======\\n\".join(filtered_threads_mess)\n",
    "        # print(filtered_threads)\n",
    "        result_dataset.append(\n",
    "            {\n",
    "                \"conversation\": filtered_threads,\n",
    "                \"conversation_ids\": thread_str,\n",
    "            },\n",
    "        )\n",
    "        # print(\"-\" * 100)\n",
    "    # print(\"-\" * 100)\n",
    "    # print(\"-\" * 100)\n",
    "    # print(\"-\" * 100)\n",
    "    # break\n",
    "# messages_count\n",
    "pd.DataFrame(data=result_dataset).to_csv(export_name, index=False)"
   ]
  },
  {
   "cell_type": "markdown",
   "metadata": {},
   "source": [
    "### use labeled dataset\n"
   ]
  },
  {
   "cell_type": "code",
   "execution_count": 55,
   "metadata": {},
   "outputs": [
    {
     "data": {
      "text/plain": [
       "['6ab24d72-0181-4594-a9cd-deaf170242fb c8e83833-ecbc-44fe-b6db-735228c25a1c',\n",
       " '6ab24d72-0181-4594-a9cd-deaf170242fb 343ee2d4-87ae-41fd-a768-bdd65959dc4a',\n",
       " '6ab24d72-0181-4594-a9cd-deaf170242fb 636dd191-50df-4894-ba9a-cd7f00767258 ac94bfcf-7f25-4084-8755-dde345ac2323 73d6f715-3787-409c-81e4-fde0e5ef60cd']"
      ]
     },
     "execution_count": 55,
     "metadata": {},
     "output_type": "execute_result"
    }
   ],
   "source": [
    "import pandas as pd\n",
    "\n",
    "# dataset_path = \"./filtered/ru/oasst_ru_v1_labeled - oasst_ru_v1.csv\"\n",
    "dataset_path = \"./filtered/en/oasst_en_v1_labeled - oasst_en_v1.csv\"\n",
    "labeled_dataset = pd.read_csv(dataset_path)\n",
    "# labeled_dataset = labeled_dataset[labeled_dataset[\"ok/trash\"] == \"ok\"]\n",
    "conversation_ids = labeled_dataset[\"conversation_ids\"].tolist()\n",
    "conversation_ids[:3]"
   ]
  },
  {
   "cell_type": "code",
   "execution_count": 56,
   "metadata": {},
   "outputs": [],
   "source": [
    "messages = pd.read_json(\n",
    "    path_or_buf=\"./oasst_ready/2023-04-12_oasst_ready.messages.jsonl.gz\",\n",
    "    lines=True,\n",
    ")\n",
    "\n",
    "messages_dict = {}\n",
    "\n",
    "for i in range(len(messages)):\n",
    "    mess_id = messages.iloc[i][\"message_id\"]\n",
    "    messages_dict[mess_id] = messages.iloc[i].to_dict()"
   ]
  },
  {
   "cell_type": "code",
   "execution_count": 57,
   "metadata": {},
   "outputs": [],
   "source": [
    "import numpy as np\n",
    "\n",
    "huggingface_dataset = []\n",
    "\n",
    "for i in range(len(labeled_dataset)):\n",
    "    conversation_id = labeled_dataset[\"conversation_ids\"].iloc[i]\n",
    "    ok_trash = labeled_dataset[\"ok/trash\"].iloc[i]\n",
    "    if not ok_trash is np.nan:\n",
    "        ids = conversation_id.split()\n",
    "        mess = ids_to_text(ids, messages_dict)\n",
    "        # print(ok_trash, mess)\n",
    "        item = {\"conversation_ids\": ids, \"conversation_text\": mess, \"status\": ok_trash}\n",
    "        huggingface_dataset.append(item)\n",
    "    # break"
   ]
  },
  {
   "cell_type": "code",
   "execution_count": 39,
   "metadata": {},
   "outputs": [
    {
     "data": {
      "text/plain": [
       "{'conversation_ids': ['6ab24d72-0181-4594-a9cd-deaf170242fb',\n",
       "  'c8e83833-ecbc-44fe-b6db-735228c25a1c'],\n",
       " 'conversation_text': ['Can you write a short introduction about the relevance of the term \"monopsony\" in economics? Please use examples related to potential monopsonies in the labour market and cite relevant research.',\n",
       "  '\"Monopsony\" refers to a market structure where there is only one buyer for a particular good or service. In economics, this term is particularly relevant in the labor market, where a monopsony employer has significant power over the wages and working conditions of their employees. The presence of a monopsony can result in lower wages and reduced employment opportunities for workers, as the employer has little incentive to increase wages or provide better working conditions.\\n\\nRecent research has identified potential monopsonies in industries such as retail and fast food, where a few large companies control a significant portion of the market (Bivens & Mishel, 2013). In these industries, workers often face low wages, limited benefits, and reduced bargaining power, leading to a situation where they are dependent on the employer for their livelihood. This dependence can result in further suppression of wages and a decline in working conditions.\\n\\nOverall, the concept of monopsony is essential to understanding the dynamics of labor markets and the impact of market power on workers. Further research is needed to understand the extent and impact of monopsonies on the economy and to develop policies to address this issue.\\n\\nReferences:\\nBivens, J., & Mishel, L. (2013). The Pay of Corporate Executives and Financial Professionals as Evidence of Rents in Top 1 Percent Incomes. Journal of Economic Perspectives, 27(3), 57-78.'],\n",
       " 'status': 'ok'}"
      ]
     },
     "execution_count": 39,
     "metadata": {},
     "output_type": "execute_result"
    }
   ],
   "source": [
    "huggingface_dataset[0]"
   ]
  },
  {
   "cell_type": "code",
   "execution_count": 40,
   "metadata": {},
   "outputs": [
    {
     "name": "stderr",
     "output_type": "stream",
     "text": [
      "Creating parquet from Arrow format: 100%|██████████| 4/4 [00:00<00:00, 224.71ba/s]\n",
      "Pushing dataset shards to the dataset hub: 100%|██████████| 1/1 [00:02<00:00,  2.32s/it]\n",
      "Downloading metadata: 100%|██████████| 21.0/21.0 [00:00<00:00, 217kB/s]\n"
     ]
    }
   ],
   "source": [
    "from datasets import Dataset\n",
    "\n",
    "dataset = Dataset.from_list(huggingface_dataset)\n",
    "# dataset = dataset.filter(lambda x: x['status'] == 'ok')\n",
    "# dataset[0]\n",
    "# dataset.push_to_hub(\"dim/oasst_ru\",)\n",
    "dataset.push_to_hub(\n",
    "    \"dim/oasst_en\",\n",
    ")"
   ]
  },
  {
   "cell_type": "markdown",
   "metadata": {},
   "source": [
    "### show distribution\n"
   ]
  },
  {
   "cell_type": "code",
   "execution_count": 1,
   "metadata": {},
   "outputs": [
    {
     "name": "stderr",
     "output_type": "stream",
     "text": [
      "/home/kosenko/miniconda3/lib/python3.10/site-packages/tqdm/auto.py:21: TqdmWarning: IProgress not found. Please update jupyter and ipywidgets. See https://ipywidgets.readthedocs.io/en/stable/user_install.html\n",
      "  from .autonotebook import tqdm as notebook_tqdm\n",
      "Found cached dataset parquet (/home/kosenko/.cache/huggingface/datasets/dim___parquet/dim--oasst_ru-5a8e133344e792f9/0.0.0/2a3b91fbd88a2c90d1dbbb32b460cf621d31bd5b05b934492fdef7d8d6f236ec)\n",
      "100%|██████████| 1/1 [00:00<00:00, 37.09it/s]\n"
     ]
    },
    {
     "data": {
      "image/png": "[encoded data removed]",
      "text/plain": [
       "<Figure size 640x480 with 1 Axes>"
      ]
     },
     "metadata": {},
     "output_type": "display_data"
    },
    {
     "name": "stderr",
     "output_type": "stream",
     "text": [
      "Found cached dataset parquet (/home/kosenko/.cache/huggingface/datasets/dim___parquet/dim--oasst_en-10d24d77c58fc114/0.0.0/2a3b91fbd88a2c90d1dbbb32b460cf621d31bd5b05b934492fdef7d8d6f236ec)\n",
      "100%|██████████| 1/1 [00:00<00:00, 45.11it/s]\n"
     ]
    },
    {
     "data": {
      "image/png": "[encoded data removed]",
      "text/plain": [
       "<Figure size 640x480 with 1 Axes>"
      ]
     },
     "metadata": {},
     "output_type": "display_data"
    }
   ],
   "source": [
    "from datasets import load_dataset\n",
    "from transformers import AutoTokenizer\n",
    "from verbalist.datasets.utils import visualize_hist\n",
    "\n",
    "tokenizer = AutoTokenizer.from_pretrained(\"meta-llama/Llama-2-7b-hf\")\n",
    "dataset_names = [\n",
    "    \"dim/oasst_ru\",\n",
    "    \"dim/oasst_en\",\n",
    "]\n",
    "\n",
    "for dataset_name in dataset_names:\n",
    "    dataset = load_dataset(dataset_name)\n",
    "    dataset = dataset[\"train\"]\n",
    "    lengths = []\n",
    "\n",
    "    for item in dataset:\n",
    "        all_conv = \"\\n===========\\n\".join(item[\"conversation_text\"])\n",
    "        length = len(tokenizer(all_conv)[\"input_ids\"])\n",
    "        lengths.append(length)\n",
    "        # print(all_conv)\n",
    "    visualize_hist(lengths, dataset_name)"
   ]
  }
 ],
 "metadata": {
  "kernelspec": {
   "display_name": "base",
   "language": "python",
   "name": "python3"
  },
  "language_info": {
   "codemirror_mode": {
    "name": "ipython",
    "version": 3
   },
   "file_extension": ".py",
   "mimetype": "text/x-python",
   "name": "python",
   "nbconvert_exporter": "python",
   "pygments_lexer": "ipython3",
   "version": "3.10.9"
  },
  "orig_nbformat": 4
 },
 "nbformat": 4,
 "nbformat_minor": 2
}
