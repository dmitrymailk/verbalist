{
 "cells": [
  {
   "cell_type": "code",
   "execution_count": 1,
   "metadata": {},
   "outputs": [
    {
     "name": "stderr",
     "output_type": "stream",
     "text": [
      "/home/kosenko/miniconda3/lib/python3.10/site-packages/tqdm/auto.py:21: TqdmWarning: IProgress not found. Please update jupyter and ipywidgets. See https://ipywidgets.readthedocs.io/en/stable/user_install.html\n",
      "  from .autonotebook import tqdm as notebook_tqdm\n",
      "Downloading builder script: 100%|██████████| 4.33k/4.33k [00:00<00:00, 29.0MB/s]\n",
      "Downloading metadata: 100%|██████████| 2.79k/2.79k [00:00<00:00, 15.0MB/s]\n",
      "Downloading readme: 100%|██████████| 9.14k/9.14k [00:00<00:00, 47.2MB/s]\n"
     ]
    },
    {
     "name": "stdout",
     "output_type": "stream",
     "text": [
      "Downloading and preparing dataset tldr-17/default to /home/kosenko/.cache/huggingface/datasets/webis___tldr-17/default/1.0.0/bd1bf9097540c9101f329c123d12c6c6a042f65e5f0ab7f9bbabb0a54d3c840e...\n"
     ]
    },
    {
     "name": "stderr",
     "output_type": "stream",
     "text": [
      "Downloading data: 100%|██████████| 3.14G/3.14G [01:28<00:00, 35.6MB/s] \n",
      "                                                                                           \r"
     ]
    },
    {
     "name": "stdout",
     "output_type": "stream",
     "text": [
      "Dataset tldr-17 downloaded and prepared to /home/kosenko/.cache/huggingface/datasets/webis___tldr-17/default/1.0.0/bd1bf9097540c9101f329c123d12c6c6a042f65e5f0ab7f9bbabb0a54d3c840e. Subsequent calls will reuse this data.\n"
     ]
    },
    {
     "name": "stderr",
     "output_type": "stream",
     "text": [
      "100%|██████████| 1/1 [00:00<00:00,  4.74it/s]\n"
     ]
    },
    {
     "data": {
      "text/plain": [
       "Dataset({\n",
       "    features: ['author', 'body', 'normalizedBody', 'subreddit', 'subreddit_id', 'id', 'content', 'summary'],\n",
       "    num_rows: 3848330\n",
       "})"
      ]
     },
     "execution_count": 1,
     "metadata": {},
     "output_type": "execute_result"
    }
   ],
   "source": [
    "from datasets import load_dataset, Dataset\n",
    "\n",
    "dataset = load_dataset(\"webis/tldr-17\")\n",
    "dataset = dataset[\"train\"]\n",
    "dataset"
   ]
  },
  {
   "cell_type": "code",
   "execution_count": 3,
   "metadata": {},
   "outputs": [
    {
     "data": {
      "text/plain": [
       "{'author': 'nzerguy',\n",
       " 'body': 'Best tip I can give you is to train to fight.  Boxing, Judo, BJJ, Muay Thai, Krav Maga, anything man.  Find something you like and train in it.\\n\\nIf you were to get into a fight tomorrow, it will probably go the exact same way it went today.\\n\\nAlso, understand that no matter how good you become at fighting, or how many tips you get, there is ALWAYS a chance you will still get your ass kicked.  Training helps you mentally deal with that ass kicking too.\\n\\nTL;DR - Find some fighting art you like, Train.',\n",
       " 'normalizedBody': 'Best tip I can give you is to train to fight.  Boxing, Judo, BJJ, Muay Thai, Krav Maga, anything man.  Find something you like and train in it. \\n If you were to get into a fight tomorrow, it will probably go the exact same way it went today. \\n Also, understand that no matter how good you become at fighting, or how many tips you get, there is ALWAYS a chance you will still get your ass kicked.  Training helps you mentally deal with that ass kicking too. \\n TL;DR - Find some fighting art you like, Train. \\n',\n",
       " 'subreddit': 'AskReddit',\n",
       " 'subreddit_id': 't5_2qh1i',\n",
       " 'id': 'c6ifghh',\n",
       " 'content': 'Best tip I can give you is to train to fight.  Boxing, Judo, BJJ, Muay Thai, Krav Maga, anything man.  Find something you like and train in it. \\n If you were to get into a fight tomorrow, it will probably go the exact same way it went today. \\n Also, understand that no matter how good you become at fighting, or how many tips you get, there is ALWAYS a chance you will still get your ass kicked.  Training helps you mentally deal with that ass kicking too.',\n",
       " 'summary': 'Find some fighting art you like, Train.'}"
      ]
     },
     "execution_count": 3,
     "metadata": {},
     "output_type": "execute_result"
    }
   ],
   "source": [
    "dataset[100]"
   ]
  },
  {
   "cell_type": "code",
   "execution_count": 4,
   "metadata": {},
   "outputs": [
    {
     "data": {
      "text/plain": [
       "Dataset({\n",
       "    features: ['author', 'body', 'normalizedBody', 'subreddit', 'subreddit_id', 'id', 'content', 'summary'],\n",
       "    num_rows: 3000\n",
       "})"
      ]
     },
     "execution_count": 4,
     "metadata": {},
     "output_type": "execute_result"
    }
   ],
   "source": [
    "dataset = dataset.train_test_split(test_size=3000, seed=42)\n",
    "dataset = dataset[\"test\"]\n",
    "dataset"
   ]
  },
  {
   "cell_type": "code",
   "execution_count": 5,
   "metadata": {},
   "outputs": [
    {
     "data": {
      "text/plain": [
       "{'author': 'HgUuGiGtIaEr',\n",
       " 'body': 'Watching Alexi Laiho from Children of Bodom play. I was a metal head for a long time and one day I was just watching stuff on the web (I don\\'t think I knew of or youtube was a thing back then, been playing over 10 years) he did like various instructional videos. I was just like \"I want to be able to do that\", if anything though learning the instrument has branched out my musical tastes to more than just metal.\\n\\nTL;DR Wanted to emulate guitar player from a band I listened to growing up.',\n",
       " 'normalizedBody': 'Watching Alexi Laiho from Children of Bodom play. I was a metal head for a long time and one day I was just watching stuff on the web (I don\\'t think I knew of or youtube was a thing back then, been playing over 10 years) he did like various instructional videos. I was just like \"I want to be able to do that\", if anything though learning the instrument has branched out my musical tastes to more than just metal. \\n TL;DR Wanted to emulate guitar player from a band I listened to growing up. \\n',\n",
       " 'subreddit': 'Guitar',\n",
       " 'subreddit_id': 't5_2qi79',\n",
       " 'id': 'cfvz1jv',\n",
       " 'content': 'Watching Alexi Laiho from Children of Bodom play. I was a metal head for a long time and one day I was just watching stuff on the web (I don\\'t think I knew of or youtube was a thing back then, been playing over 10 years) he did like various instructional videos. I was just like \"I want to be able to do that\", if anything though learning the instrument has branched out my musical tastes to more than just metal.',\n",
       " 'summary': 'Wanted to emulate guitar player from a band I listened to growing up.'}"
      ]
     },
     "execution_count": 5,
     "metadata": {},
     "output_type": "execute_result"
    }
   ],
   "source": [
    "dataset[0]"
   ]
  },
  {
   "cell_type": "code",
   "execution_count": 6,
   "metadata": {},
   "outputs": [
    {
     "name": "stderr",
     "output_type": "stream",
     "text": [
      "Creating parquet from Arrow format: 100%|██████████| 3/3 [00:00<00:00, 10.50ba/s]\n",
      "Pushing dataset shards to the dataset hub: 100%|██████████| 1/1 [00:08<00:00,  8.53s/it]\n"
     ]
    }
   ],
   "source": [
    "dataset.push_to_hub(\"dim/tldr_17_3k\")"
   ]
  },
  {
   "cell_type": "code",
   "execution_count": 1,
   "metadata": {},
   "outputs": [
    {
     "name": "stderr",
     "output_type": "stream",
     "text": [
      "/home/kosenko/miniconda3/lib/python3.10/site-packages/tqdm/auto.py:21: TqdmWarning: IProgress not found. Please update jupyter and ipywidgets. See https://ipywidgets.readthedocs.io/en/stable/user_install.html\n",
      "  from .autonotebook import tqdm as notebook_tqdm\n",
      "Downloading readme: 100%|██████████| 634/634 [00:00<00:00, 5.14MB/s]\n"
     ]
    },
    {
     "name": "stdout",
     "output_type": "stream",
     "text": [
      "Downloading and preparing dataset None/None to /home/kosenko/.cache/huggingface/datasets/dim___parquet/dim--tldr_17_3k-8d1f748f92cc7798/0.0.0/2a3b91fbd88a2c90d1dbbb32b460cf621d31bd5b05b934492fdef7d8d6f236ec...\n"
     ]
    },
    {
     "name": "stderr",
     "output_type": "stream",
     "text": [
      "Downloading data: 100%|██████████| 9.48M/9.48M [00:00<00:00, 12.4MB/s]\n",
      "Downloading data files: 100%|██████████| 1/1 [00:02<00:00,  2.71s/it]\n",
      "Extracting data files: 100%|██████████| 1/1 [00:00<00:00, 229.33it/s]\n",
      "                                                                       \r"
     ]
    },
    {
     "name": "stdout",
     "output_type": "stream",
     "text": [
      "Dataset parquet downloaded and prepared to /home/kosenko/.cache/huggingface/datasets/dim___parquet/dim--tldr_17_3k-8d1f748f92cc7798/0.0.0/2a3b91fbd88a2c90d1dbbb32b460cf621d31bd5b05b934492fdef7d8d6f236ec. Subsequent calls will reuse this data.\n"
     ]
    },
    {
     "name": "stderr",
     "output_type": "stream",
     "text": [
      "100%|██████████| 1/1 [00:00<00:00, 592.08it/s]\n"
     ]
    },
    {
     "data": {
      "text/plain": [
       "{'author': 'HgUuGiGtIaEr',\n",
       " 'body': 'Watching Alexi Laiho from Children of Bodom play. I was a metal head for a long time and one day I was just watching stuff on the web (I don\\'t think I knew of or youtube was a thing back then, been playing over 10 years) he did like various instructional videos. I was just like \"I want to be able to do that\", if anything though learning the instrument has branched out my musical tastes to more than just metal.\\n\\nTL;DR Wanted to emulate guitar player from a band I listened to growing up.',\n",
       " 'normalizedBody': 'Watching Alexi Laiho from Children of Bodom play. I was a metal head for a long time and one day I was just watching stuff on the web (I don\\'t think I knew of or youtube was a thing back then, been playing over 10 years) he did like various instructional videos. I was just like \"I want to be able to do that\", if anything though learning the instrument has branched out my musical tastes to more than just metal. \\n TL;DR Wanted to emulate guitar player from a band I listened to growing up. \\n',\n",
       " 'subreddit': 'Guitar',\n",
       " 'subreddit_id': 't5_2qi79',\n",
       " 'id': 'cfvz1jv',\n",
       " 'content': 'Watching Alexi Laiho from Children of Bodom play. I was a metal head for a long time and one day I was just watching stuff on the web (I don\\'t think I knew of or youtube was a thing back then, been playing over 10 years) he did like various instructional videos. I was just like \"I want to be able to do that\", if anything though learning the instrument has branched out my musical tastes to more than just metal.',\n",
       " 'summary': 'Wanted to emulate guitar player from a band I listened to growing up.'}"
      ]
     },
     "execution_count": 1,
     "metadata": {},
     "output_type": "execute_result"
    }
   ],
   "source": [
    "from datasets import load_dataset\n",
    "\n",
    "dataset = load_dataset(\"dim/tldr_17_3k\")\n",
    "dataset = dataset[\"train\"]\n",
    "dataset[0]"
   ]
  }
 ],
 "metadata": {
  "kernelspec": {
   "display_name": "base",
   "language": "python",
   "name": "python3"
  },
  "language_info": {
   "codemirror_mode": {
    "name": "ipython",
    "version": 3
   },
   "file_extension": ".py",
   "mimetype": "text/x-python",
   "name": "python",
   "nbconvert_exporter": "python",
   "pygments_lexer": "ipython3",
   "version": "3.10.9"
  },
  "orig_nbformat": 4
 },
 "nbformat": 4,
 "nbformat_minor": 2
}
