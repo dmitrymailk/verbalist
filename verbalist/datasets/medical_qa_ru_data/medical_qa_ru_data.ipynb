{
 "cells": [
  {
   "cell_type": "code",
   "execution_count": 30,
   "metadata": {},
   "outputs": [
    {
     "name": "stderr",
     "output_type": "stream",
     "text": [
      "Found cached dataset medical_qa_ru_data (/home/kosenko/.cache/huggingface/datasets/blinoff___medical_qa_ru_data/default/0.0.0/551476392fb5023cebc55b480ef3948c0ad2287c0ef0ad158a56fbb0bc37783f)\n"
     ]
    },
    {
     "data": {
      "application/vnd.jupyter.widget-view+json": {
       "model_id": "bc6a0e94b36d49dab2de609e9af3b55b",
       "version_major": 2,
       "version_minor": 0
      },
      "text/plain": [
       "  0%|          | 0/1 [00:00<?, ?it/s]"
      ]
     },
     "metadata": {},
     "output_type": "display_data"
    },
    {
     "data": {
      "text/plain": [
       "Dataset({\n",
       "    features: ['date', 'categ', 'theme', 'desc', 'ans', 'spec10'],\n",
       "    num_rows: 190335\n",
       "})"
      ]
     },
     "execution_count": 30,
     "metadata": {},
     "output_type": "execute_result"
    }
   ],
   "source": [
    "from datasets import load_dataset, Dataset, concatenate_datasets\n",
    "\n",
    "dataset = load_dataset(\"blinoff/medical_qa_ru_data\")\n",
    "dataset = dataset[\"train\"]\n",
    "dataset"
   ]
  },
  {
   "cell_type": "code",
   "execution_count": null,
   "metadata": {},
   "outputs": [],
   "source": [
    "# dataset.push_to_hub(\"dim/medical_qa_ru_data\", private=True)"
   ]
  },
  {
   "cell_type": "code",
   "execution_count": 31,
   "metadata": {},
   "outputs": [
    {
     "name": "stderr",
     "output_type": "stream",
     "text": [
      "Loading cached processed dataset at /home/kosenko/.cache/huggingface/datasets/blinoff___medical_qa_ru_data/default/0.0.0/551476392fb5023cebc55b480ef3948c0ad2287c0ef0ad158a56fbb0bc37783f/cache-a0a1b65e4d41d507.arrow\n"
     ]
    }
   ],
   "source": [
    "dataset = dataset.filter(lambda x: x[\"spec10\"].strip() != \"\")"
   ]
  },
  {
   "cell_type": "code",
   "execution_count": 10,
   "metadata": {},
   "outputs": [
    {
     "data": {
      "text/plain": [
       "{'date': '8 Октября 2017, 11:55',\n",
       " 'categ': 'Оториноларингология',\n",
       " 'theme': 'Применение Ларипронта.',\n",
       " 'desc': 'Ларипронт 20 талеток,через каждые 2-3 часа.Очень понравились,но пока принимала,чувствовала себя хорошо. Закончились-все сиптомы опять проявились. Нигде не найду как долго их можно принимать. Скажите пожалуйста.',\n",
       " 'ans': 'Что вы им лечите? Длительность приема Ларипронта индивидуальна и устанавливается лечащим врачом.;\\nУточните у своего лечащего врача.',\n",
       " 'spec10': 'Отоларинголог'}"
      ]
     },
     "execution_count": 10,
     "metadata": {},
     "output_type": "execute_result"
    }
   ],
   "source": [
    "dataset[0]"
   ]
  },
  {
   "cell_type": "code",
   "execution_count": 36,
   "metadata": {},
   "outputs": [],
   "source": [
    "import numpy as np\n",
    "\n",
    "answer_lens = []\n",
    "for ans in dataset[\"ans\"]:\n",
    "    ans = ans.split(\";\\n\")[0].split()\n",
    "    answer_lens.append(len(ans))"
   ]
  },
  {
   "cell_type": "code",
   "execution_count": 39,
   "metadata": {},
   "outputs": [
    {
     "data": {
      "text/plain": [
       "16.0"
      ]
     },
     "execution_count": 39,
     "metadata": {},
     "output_type": "execute_result"
    }
   ],
   "source": [
    "np.percentile(np.array(answer_lens), 80)"
   ]
  },
  {
   "cell_type": "code",
   "execution_count": 41,
   "metadata": {},
   "outputs": [],
   "source": [
    "prompts = []\n",
    "\n",
    "for i, item in enumerate(dataset):\n",
    "    theme = item[\"theme\"]\n",
    "    desc = item[\"desc\"]\n",
    "    ans = item[\"ans\"]\n",
    "    prompt = f\"{theme}\\n{desc}\"\n",
    "    content = ans.split(\";\\n\")[0]\n",
    "    if len(content.split()) > 3:\n",
    "        prompts.append(\n",
    "            {\n",
    "                \"prompt\": prompt,\n",
    "                \"content\": content,\n",
    "            }\n",
    "        )\n",
    "    # print(prompt)\n",
    "    # print(\"=\"*10)\n",
    "    # print(ans.split(\";\\n\")[0])\n",
    "    # print(\"=\"*100)\n",
    "    # if i > 5000:\n",
    "    #     break"
   ]
  },
  {
   "cell_type": "code",
   "execution_count": 43,
   "metadata": {},
   "outputs": [
    {
     "data": {
      "text/plain": [
       "80101"
      ]
     },
     "execution_count": 43,
     "metadata": {},
     "output_type": "execute_result"
    }
   ],
   "source": [
    "len(prompts)"
   ]
  },
  {
   "cell_type": "code",
   "execution_count": 44,
   "metadata": {},
   "outputs": [
    {
     "name": "stdout",
     "output_type": "stream",
     "text": [
      "мне 56 лет это опасное изменении предстатнльной железы\n",
      "Длина 5,2 см\n",
      "            \n",
      "            Толщина 4,8 см\n",
      "            \n",
      "            Ширина 4,9 см обьем 63,60 см кубические\n",
      "            \n",
      "            в приуретной зоне  лоцируется эхо(+) включая  в Д 0,4 см и 0,5 см с акустической тенью\n",
      "            \n",
      "            мочевой пузырь  560 см кубических\n",
      "            \n",
      "            после опорожения 126 см кубических\n",
      "==========\n",
      "Нужно сдать ОАК, коагулограмму. Консультация гематолога.\n"
     ]
    }
   ],
   "source": [
    "print(prompts[102][\"prompt\"])\n",
    "print(\"=\" * 10)\n",
    "print(prompts[103][\"content\"].split(\";\\n\")[0])"
   ]
  },
  {
   "cell_type": "code",
   "execution_count": 45,
   "metadata": {},
   "outputs": [],
   "source": [
    "prompts = Dataset.from_list(prompts)"
   ]
  },
  {
   "cell_type": "code",
   "execution_count": 46,
   "metadata": {},
   "outputs": [
    {
     "data": {
      "text/plain": [
       "{'prompt': '.\\nЗдравствуйте, хочу попробовать Элтацин, как думаете он поможет от ВСД или нет?',\n",
       " 'content': 'У препарата четкие показания есть,если они у вас присутствуют,то принимайте.'}"
      ]
     },
     "execution_count": 46,
     "metadata": {},
     "output_type": "execute_result"
    }
   ],
   "source": [
    "prompts[210]"
   ]
  },
  {
   "cell_type": "code",
   "execution_count": 47,
   "metadata": {},
   "outputs": [
    {
     "data": {
      "text/plain": [
       "Dataset({\n",
       "    features: ['prompt', 'content'],\n",
       "    num_rows: 80101\n",
       "})"
      ]
     },
     "execution_count": 47,
     "metadata": {},
     "output_type": "execute_result"
    }
   ],
   "source": [
    "prompts"
   ]
  },
  {
   "cell_type": "code",
   "execution_count": 48,
   "metadata": {},
   "outputs": [
    {
     "data": {
      "application/vnd.jupyter.widget-view+json": {
       "model_id": "11d7cb7fcbf14677a729c136839ffe7b",
       "version_major": 2,
       "version_minor": 0
      },
      "text/plain": [
       "Pushing dataset shards to the dataset hub:   0%|          | 0/1 [00:00<?, ?it/s]"
      ]
     },
     "metadata": {},
     "output_type": "display_data"
    },
    {
     "data": {
      "application/vnd.jupyter.widget-view+json": {
       "model_id": "b1346b1e8f914ea7baf468a1e72818b4",
       "version_major": 2,
       "version_minor": 0
      },
      "text/plain": [
       "Creating parquet from Arrow format:   0%|          | 0/81 [00:00<?, ?ba/s]"
      ]
     },
     "metadata": {},
     "output_type": "display_data"
    }
   ],
   "source": [
    "prompts.push_to_hub(\"dim/medical_qa_ru_prompts\")"
   ]
  },
  {
   "cell_type": "code",
   "execution_count": null,
   "metadata": {},
   "outputs": [],
   "source": [
    "from datasets import load_dataset, Dataset, concatenate_datasets\n",
    "\n",
    "dataset = load_dataset(\"dim/medical_qa_ru_prompts\")\n",
    "dataset = dataset[\"train\"]\n",
    "dataset"
   ]
  },
  {
   "cell_type": "code",
   "execution_count": 7,
   "metadata": {},
   "outputs": [
    {
     "data": {
      "text/plain": [
       "{'prompt': 'Профилактика простуды при беременности\\nЗдравствуйте, муж заболел у него насморк и температура, что можно мне пропить чтобы не заболеть? Я беременна на 33 неделе',\n",
       " 'content': 'Носите маску,соблюдайте правила личной гигиены.'}"
      ]
     },
     "execution_count": 7,
     "metadata": {},
     "output_type": "execute_result"
    }
   ],
   "source": [
    "dataset[16]"
   ]
  }
 ],
 "metadata": {
  "kernelspec": {
   "display_name": "base",
   "language": "python",
   "name": "python3"
  },
  "language_info": {
   "codemirror_mode": {
    "name": "ipython",
    "version": 3
   },
   "file_extension": ".py",
   "mimetype": "text/x-python",
   "name": "python",
   "nbconvert_exporter": "python",
   "pygments_lexer": "ipython3",
   "version": "3.10.9"
  },
  "orig_nbformat": 4
 },
 "nbformat": 4,
 "nbformat_minor": 2
}
