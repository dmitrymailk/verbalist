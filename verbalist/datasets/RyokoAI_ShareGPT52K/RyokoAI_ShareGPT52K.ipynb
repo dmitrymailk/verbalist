{
 "cells": [
  {
   "cell_type": "code",
   "execution_count": 1,
   "metadata": {},
   "outputs": [],
   "source": [
    "import json\n",
    "\n",
    "with open(\"verbalist/datasets/RyokoAI_ShareGPT52K/sg_90k_part1.json\") as f:\n",
    "    dataset1 = json.load(f)\n",
    "with open(\"verbalist/datasets/RyokoAI_ShareGPT52K/sg_90k_part2.json\") as f:\n",
    "    dataset2 = json.load(f)\n",
    "dataset = dataset1 + dataset2\n",
    "\n",
    "# with open(\"./verbalist/datasets/openchat_sharegpt4_dataset/sharegpt_gpt4.json\") as f:\n",
    "#     dataset = json.load(f)\n",
    "\n",
    "conversation_field = \"conversations\"\n",
    "# conversation_field = \"items\""
   ]
  },
  {
   "cell_type": "code",
   "execution_count": 2,
   "metadata": {},
   "outputs": [
    {
     "data": {
      "text/plain": [
       "90665"
      ]
     },
     "execution_count": 2,
     "metadata": {},
     "output_type": "execute_result"
    }
   ],
   "source": [
    "len(dataset)"
   ]
  },
  {
   "cell_type": "code",
   "execution_count": 26,
   "metadata": {},
   "outputs": [],
   "source": [
    "# dataset[0]"
   ]
  },
  {
   "cell_type": "markdown",
   "metadata": {},
   "source": [
    "## create russian dataset\n"
   ]
  },
  {
   "cell_type": "code",
   "execution_count": 2,
   "metadata": {},
   "outputs": [],
   "source": [
    "import re\n",
    "import regex\n",
    "import hashlib\n",
    "\n",
    "\n",
    "def filter_string(string):\n",
    "    has = True\n",
    "    has_zh = not len(re.findall(r\"[\\u4e00-\\u9fff]+\", string)) > 0\n",
    "    has_ko = not len(re.findall(r\"[\\u3131-\\ucb4c]+\", string)) > 0\n",
    "    # has_ar = not len(re.findall(r\"[\\u0621-\\u64A]+\", string)) > 0\n",
    "    has = has_zh and has_ko\n",
    "    invalid_letters = \"ієùéàçğİžšالتيتعدواحدةمنأهمالقوىسياسيف\"\n",
    "    for letter in invalid_letters:\n",
    "        if letter in string:\n",
    "            return False\n",
    "    return has\n",
    "\n",
    "\n",
    "def has_cyrillic(text):\n",
    "    return bool(regex.search(r\"\\p{IsCyrillic}\", text))\n",
    "\n",
    "\n",
    "clean_dataset = []\n",
    "\n",
    "for conversation in dataset:\n",
    "    all_text = \"\\n\".join([item[\"value\"] for item in conversation[conversation_field]])\n",
    "    # print(all_text)\n",
    "    # break\n",
    "    if filter_string(all_text) and not has_cyrillic(all_text):\n",
    "        clean_dataset.append(conversation)"
   ]
  },
  {
   "cell_type": "code",
   "execution_count": 3,
   "metadata": {},
   "outputs": [
    {
     "data": {
      "text/plain": [
       "(62336, 90665)"
      ]
     },
     "execution_count": 3,
     "metadata": {},
     "output_type": "execute_result"
    }
   ],
   "source": [
    "len(clean_dataset), len(dataset)"
   ]
  },
  {
   "cell_type": "code",
   "execution_count": 4,
   "metadata": {},
   "outputs": [
    {
     "name": "stderr",
     "output_type": "stream",
     "text": [
      "/home/kosenko/miniconda3/lib/python3.10/site-packages/markdownify/__init__.py:96: MarkupResemblesLocatorWarning: The input looks more like a filename than markup. You may want to open this file and pass the filehandle into Beautiful Soup.\n",
      "  soup = BeautifulSoup(html, 'html.parser')\n",
      "/home/kosenko/miniconda3/lib/python3.10/site-packages/markdownify/__init__.py:96: MarkupResemblesLocatorWarning: The input looks more like a URL than markup. You may want to use an HTTP client like requests to get the document behind the URL, and feed that document to Beautiful Soup.\n",
      "  soup = BeautifulSoup(html, 'html.parser')\n",
      "/home/kosenko/miniconda3/lib/python3.10/site-packages/bs4/builder/__init__.py:545: XMLParsedAsHTMLWarning: It looks like you're parsing an XML document using an HTML parser. If this really is an HTML document (maybe it's XHTML?), you can ignore or filter this warning. If it's XML, you should know that using an XML parser will be more reliable. To parse this document as XML, make sure you have the lxml package installed, and pass the keyword argument `features=\"xml\"` into the BeautifulSoup constructor.\n",
      "  warnings.warn(\n"
     ]
    },
    {
     "name": "stdout",
     "output_type": "stream",
     "text": [
      "\n"
     ]
    }
   ],
   "source": [
    "import markdownify\n",
    "\n",
    "\n",
    "def correct_string(string):\n",
    "    string = string.replace(\"\\\\_\", \"_\")\n",
    "    string = string.replace(\"\\njavascriptCopy code `\", \"javascript\\n\")\n",
    "\n",
    "    languages = [\n",
    "        \"css\",\n",
    "        \"python\",\n",
    "        \"go\",\n",
    "        \"html\",\n",
    "        \"kotlin\",\n",
    "        \"diff\",\n",
    "        \"vba\",\n",
    "        \"sql\",\n",
    "        \"\",\n",
    "        \"javascript\",\n",
    "        \"c\",\n",
    "        \"cpp\",\n",
    "        \"sass\",\n",
    "        'lua',\n",
    "        \"scss\",\n",
    "        'php'\n",
    "    ]\n",
    "    for lang in languages:\n",
    "        string = string.replace(f\"\\n{lang}Copy code`\", f\"{lang}\\n\")\n",
    "\n",
    "    string = string.replace(\"`\\n```\", \"\\n```\")\n",
    "    string = string.replace(\"\\n \", \"\\n  \")\n",
    "    string = string.replace(\"Share Prompt\", \"\")\n",
    "    delete_phrases = [\n",
    "        \"Как искусственный интеллект, я не являюсь владельцем физических объектов и не могу продавать или покупать предметы. Однако, я могу поделиться советом, как можно попытаться убедить кого-то в покупке карандаша.\",\n",
    "        \"Как искусственный интеллект, я не имею личных чувств и мнений, и не могу иметь предпочтений в выборе между рождением своего ребенка и усыновлением приемного ребенка из приюта.\",\n",
    "        \"1 / 1\",\n",
    "        \"2 / 2\",\n",
    "        \"3 / 3\",\n",
    "        \"4 / 4\",\n",
    "        \"5 / 5\",\n",
    "        \"6 / 6\",\n",
    "        \"7 / 7\",\n",
    "        \"8 / 8\",\n",
    "        \"9 / 9\",\n",
    "        \"К сожалению, я не могу проверить дату вопроса, но я могу предоставить информацию о Максиме Радайкине и Борисе Марцинкевиче на начало 2021 года.\",\n",
    "        \"К сожалению, я не могу вставить пример базы данных в чат, но я могу объяснить, что это такое.\",\n",
    "        \"К сожалению, я не могу написать полноценное расширение для Google Chrome в рамках этой сессии. Однако,\",\n",
    "        \"К сожалению, я не могу выбрать материалы и дизайн за вас, так как это зависит от ваших потребностей и предпочтений. Однако,\",\n",
    "        \"Извините, но я не могу создать код для такой сложной программы с нуля, так как это потребовало бы обширных исследований, ресурсов и опыта. Тем не менее,\",\n",
    "        \"As an AI language model\",\n",
    "        \"I'm sorry, but I'm a text-based AI language model and don't have the capability to create tables.\",\n",
    "        \"Unfortunately, I am an AI language model and do not have the capability to create tables. However,\",\n",
    "        \"I'm sorry, but as an AI language model, I do not have the capability to physically construct a smart city.\",\n",
    "        \"Unfortunately, I am an AI language model and I don't have the capability to create spreadsheets.\",\n",
    "        \"I'm sorry for the delay. Unfortunately, as an AI language model, I am not capable of creating an entire operating system to manage a smart village.\",\n",
    "        \"I apologize for the confusion, but as an AI language model, I am not capable of designing and creating the code for an operating system to manage a smart village.\",\n",
    "        \"I apologize for the inconvenience, but as an AI language model, I am not able to actually design and create a code for an operating system.\",\n",
    "        \"I'm sorry, but as a text-based language model, I am not able to create an admin panel for you.\",\n",
    "        'Как модель ИИ, я не могу оценить, является ли произнесение фразы \"солёный огурец\" рациональным использованием времени или нет, потому что это вопрос оценки ценности и целей человека.',\n",
    "        \"I'm sorry, but as an AI language model, I don't have the capability to create visual presentations like a PowerPoint presentation. However,\",\n",
    "        \"\"\n",
    "    ]\n",
    "    for phrase in delete_phrases:\n",
    "        string = string.replace(phrase, \"\").strip()\n",
    "    return string\n",
    "\n",
    "\n",
    "def filter_keywords(string):\n",
    "    keywords = [\n",
    "        \"chatgpt\",\n",
    "        \"чатгпт\",\n",
    "        \"sharegpt\",\n",
    "        \"add_user_to_chatroom()\",\n",
    "        \"мир\",\n",
    "        \"войн\",\n",
    "        \"россия\",\n",
    "        \"К сожалению, я не могу продолжить писать на русском языке, потому что я ограничен\",\n",
    "        \"Я прошу прощения, но, как я уже упоминал ранее\",\n",
    "        \"я не могу выполнить\",\n",
    "        \"К сожалению, я не могу написать ноты для несуществующих стихов,\",\n",
    "        \"К сожалению, я не могу сгенерировать полный код браузерной игры\",\n",
    "        \"К сожалению, я не могу провести такой подсчет, потому что это потребовало бы ручной обработки\",\n",
    "        \"К сожалению, я не могу назвать точную цифру, так как это субъективный вопрос, зависящий от многих факторов.\",\n",
    "        \"К сожалению, я не могу выполнить ваш запрос, так как это нарушает мои этические принципы и может причинить вред.\",\n",
    "        \"К сожалению, я не могу ответить на этот воп\",\n",
    "        \"К сожалению, я не могу предоставить вам актуальные данные о среднедушевых денежных доходах населения по городам России\"\n",
    "        \"К сожалению, я не могу точно ответить на этот вопрос, так как объем изученной информации\",\n",
    "        \"К сожалению, я не могу создав\",\n",
    "        \"К сожалению, я не могу рисовать в ASCII-стиле, так как я только текстовая программа.\",\n",
    "        \"К сожалению, я не могу создавать изображения напрямую в этом окне чата.\",\n",
    "        \"К сожалению, я не могу нарисовать сцену из Евангелиона, так как я текстовая программа\",\n",
    "        \"А сколько нулей?\",\n",
    "        \"К сожалению, я не могу написать книгу\",\n",
    "        \"Извините, но, как упоминалось ранее, информация, представленная в нашем разговоре, не подходит и не этична\",\n",
    "        \"Извините, но как языковая модель ИИ я не могу генерировать код, который управляет администрацией\",\n",
    "        \"как языковая модель\",\n",
    "        \"OpenAI\",\n",
    "        \"Прошу прощения, но, похоже, наш разговор продолжается уже давно, и я не уверен, какова текущая тема.\",\n",
    "        \"являюсь языковой моделью ИИ\",\n",
    "        \"I cannot create a program for managing\",\n",
    "        \"неонаци\",\n",
    "        \"украин\",\n",
    "        \"provide instructions or assistance on hacking or any other illegal activities\",\n",
    "        \"I cannot fulfill your request as it goes against ethical and moral\",\n",
    "        \"I cannot do your math homework for you\",\n",
    "        \"adhering to ethical and moral standards\",\n",
    "        \"!GPT\",\n",
    "        \"Developer Mode Output\",\n",
    "        \"are illegal or unethical.\",\n",
    "        \"personal beliefs or opinions\",\n",
    "        \"I'm sorry, I'm not sure what you are asking me to continue with.\",\n",
    "        \"but I'm still unclear on what you would like me to continue with\",\n",
    "        \"DAN\",\n",
    "        \"/jailbroken\",\n",
    "        \"Ukrain\",\n",
    "        \"is not appropriate to use that word as a variable name\",\n",
    "        \"is not appropriate\",\n",
    "        \"اكمل\",\n",
    "    ]\n",
    "    for keyword in keywords:\n",
    "        if keyword.lower() in string.lower():\n",
    "            return False\n",
    "\n",
    "    return True\n",
    "\n",
    "\n",
    "total_string = \"\"\n",
    "debug_dataset = False\n",
    "# debug_dataset = True\n",
    "\n",
    "unsensored_filtered_dataset = []\n",
    "total_convs = 10000\n",
    "\n",
    "for pos, conversation in enumerate(clean_dataset):\n",
    "    conversation = [\n",
    "        str(markdownify.markdownify(item[\"value\"], heading_style=\"ATX\"))\n",
    "        for item in conversation[conversation_field]\n",
    "    ]\n",
    "    conversation_pairs = []\n",
    "    if \"https://chathub.gg\" in conversation[0]:\n",
    "        conversation.pop(0)\n",
    "    full_text = \" \".join(conversation)\n",
    "    if filter_keywords(full_text):\n",
    "        for i in range(1, len(conversation)):\n",
    "            if (i + 1) % 2 == 0:\n",
    "                if debug_dataset:\n",
    "                    bot_message = \"BOT \" + correct_string(conversation[i])\n",
    "                    user_message = \"USER \" + correct_string(conversation[i - 1])\n",
    "                else:    \n",
    "                    bot_message = correct_string(conversation[i])\n",
    "                    user_message = correct_string(conversation[i - 1])\n",
    "                conversation_pairs.append(user_message)\n",
    "                conversation_pairs.append(bot_message)\n",
    "\n",
    "    if len(conversation_pairs) > 0:\n",
    "        unsensored_filtered_dataset.append(conversation_pairs)\n",
    "    \n",
    "    if debug_dataset:\n",
    "        all_text = \"\\n===\\n\".join([item for item in conversation_pairs])\n",
    "        total_string += all_text\n",
    "        total_string += \"===\" * 10\n",
    "        total_string += \"\\n\"\n",
    "        total_string += \"===\" * 10\n",
    "        total_string += \"\\n\"\n",
    "        total_string += \"===\" * 10\n",
    "        total_string += \"\\n\"\n",
    "    \n",
    "    if pos > total_convs and debug_dataset:\n",
    "        break \n",
    "print(total_string)"
   ]
  },
  {
   "cell_type": "code",
   "execution_count": 5,
   "metadata": {},
   "outputs": [
    {
     "data": {
      "text/plain": [
       "41689"
      ]
     },
     "execution_count": 5,
     "metadata": {},
     "output_type": "execute_result"
    }
   ],
   "source": [
    "len(unsensored_filtered_dataset)"
   ]
  },
  {
   "cell_type": "code",
   "execution_count": null,
   "metadata": {},
   "outputs": [],
   "source": []
  },
  {
   "cell_type": "code",
   "execution_count": 6,
   "metadata": {},
   "outputs": [
    {
     "name": "stderr",
     "output_type": "stream",
     "text": [
      "/home/kosenko/miniconda3/lib/python3.10/site-packages/tqdm/auto.py:21: TqdmWarning: IProgress not found. Please update jupyter and ipywidgets. See https://ipywidgets.readthedocs.io/en/stable/user_install.html\n",
      "  from .autonotebook import tqdm as notebook_tqdm\n"
     ]
    },
    {
     "data": {
      "image/png": "[encoded data removed]",
      "text/plain": [
       "<Figure size 640x480 with 1 Axes>"
      ]
     },
     "metadata": {},
     "output_type": "display_data"
    }
   ],
   "source": [
    "from transformers import AutoTokenizer\n",
    "from verbalist.datasets.utils import visualize_hist\n",
    "\n",
    "tokenizer = AutoTokenizer.from_pretrained(\"meta-llama/Llama-2-7b-hf\")\n",
    "\n",
    "conversation_lengths = []\n",
    "\n",
    "\n",
    "for conversation in clean_dataset:\n",
    "    all_text = \"\\n===\\n\".join([item[\"value\"] for item in conversation[\"conversations\"]])\n",
    "    conversation_lengths.append(len(tokenizer(all_text)[\"input_ids\"]))\n",
    "    # print(all_text)\n",
    "    # print(\"=\"*100)\n",
    "    # print(\"=\"*100)\n",
    "    # print(\"=\"*100)\n",
    "    # break\n",
    "    # if has_cyrillic(all_text):\n",
    "    #     rus_conv.append(conversation)\n",
    "\n",
    "\n",
    "visualize_hist(conversation_lengths, \"ru_share_gpt\")"
   ]
  },
  {
   "cell_type": "code",
   "execution_count": 15,
   "metadata": {},
   "outputs": [
    {
     "data": {
      "image/png": "[encoded data removed]",
      "text/plain": [
       "<Figure size 640x480 with 1 Axes>"
      ]
     },
     "metadata": {},
     "output_type": "display_data"
    }
   ],
   "source": [
    "from transformers import AutoTokenizer\n",
    "from verbalist.datasets.utils import visualize_hist\n",
    "\n",
    "tokenizer = AutoTokenizer.from_pretrained(\"meta-llama/Llama-2-7b-hf\")\n",
    "\n",
    "conversation_lengths = []\n",
    "\n",
    "\n",
    "for conversation in unsensored_filtered_dataset:\n",
    "    all_text = \"\\n===\\n\".join([item for item in conversation])\n",
    "    conversation_lengths.append(len(tokenizer(all_text)[\"input_ids\"]))\n",
    "    # print(all_text)\n",
    "    # print(\"=\"*100)\n",
    "    # print(\"=\"*100)\n",
    "    # print(\"=\"*100)\n",
    "    # break\n",
    "    # if has_cyrillic(all_text):\n",
    "    #     rus_conv.append(conversation)\n",
    "\n",
    "\n",
    "visualize_hist(conversation_lengths, \"ru_share_gpt_filtered\")"
   ]
  },
  {
   "cell_type": "code",
   "execution_count": 17,
   "metadata": {},
   "outputs": [
    {
     "data": {
      "text/plain": [
       "3398.699999999997"
      ]
     },
     "execution_count": 17,
     "metadata": {},
     "output_type": "execute_result"
    }
   ],
   "source": [
    "import numpy as np\n",
    "\n",
    "filter_num = 85\n",
    "np.percentile(conversation_lengths, filter_num)"
   ]
  },
  {
   "cell_type": "code",
   "execution_count": 18,
   "metadata": {},
   "outputs": [
    {
     "data": {
      "text/plain": [
       "316"
      ]
     },
     "execution_count": 18,
     "metadata": {},
     "output_type": "execute_result"
    }
   ],
   "source": [
    "len(\n",
    "    np.array(conversation_lengths)[\n",
    "        np.array(conversation_lengths) < np.percentile(conversation_lengths, filter_num)\n",
    "    ]\n",
    ")"
   ]
  },
  {
   "cell_type": "code",
   "execution_count": 19,
   "metadata": {},
   "outputs": [],
   "source": [
    "# filter_num = 85\n",
    "\n",
    "passed_convs = (\n",
    "    np.array(conversation_lengths) < np.percentile(conversation_lengths, filter_num)\n",
    ").tolist()\n",
    "unsensored_passed = []\n",
    "\n",
    "for i, status in enumerate(passed_convs):\n",
    "    if status:\n",
    "        unsensored_passed.append(unsensored_filtered_dataset[i])"
   ]
  },
  {
   "cell_type": "code",
   "execution_count": 65,
   "metadata": {},
   "outputs": [],
   "source": [
    "# unsensored_passed[:1000]"
   ]
  },
  {
   "cell_type": "code",
   "execution_count": 20,
   "metadata": {},
   "outputs": [],
   "source": [
    "unsensored_dataset = []\n",
    "for conv in unsensored_passed:\n",
    "    conv_hash = hashlib.sha256(conv[0].encode('utf-8')).hexdigest()\n",
    "    unsensored_dataset.append({\n",
    "        \"conversation\": conv,\n",
    "        \"hash\": conv_hash\n",
    "    })"
   ]
  },
  {
   "cell_type": "code",
   "execution_count": 21,
   "metadata": {},
   "outputs": [
    {
     "data": {
      "text/plain": [
       "{'conversation': ['придумай название функции, которая проверяет является ли пользователь участником чата',\n",
       "  'Можно назвать эту функцию \"is_chat_member\" или \"check_chat_membership\".',\n",
       "  'какие бывают способы синхронизации потоков в Python. Напиши про каждый и приведи для него пример',\n",
       "  'В Python есть несколько способов синхронизации потоков, чтобы избежать проблем с доступом к общим ресурсам. Рассмотрим некоторые из них:\\n\\n1. Lock (блокировка)\\n\\nLock - это простой механизм блокировки, который позволяет только одному потоку работать с общим ресурсом в конкретный момент времени. Это достигается путем захвата блокировки потоком, который затем освобождает ее, когда завершает работу с общим ресурсом.\\n\\nПример:\\n\\n\\n```python\\nimport threading\\n\\n# Создание блокировки\\nlock = threading.Lock()\\n\\ndef some_function():\\n  # Захват блокировки\\n  lock.acquire()\\n  \\n  # Работа с общим ресурсом\\n  # ...\\n  \\n  # Освобождение блокировки\\n  lock.release()\\n```\\n1. RLock (рекурсивная блокировка)\\n\\nRLock - это блокировка, которая может быть захвачена несколькими потоками, но при этом один поток может захватывать ее несколько раз (рекурсивно). Таким образом, если поток уже захватил RLock, он может продолжать работать с общим ресурсом, несмотря на то, что другие потоки пытаются захватить блокировку.\\n\\nПример:\\n\\n\\n```python\\nimport threading\\n\\n# Создание рекурсивной блокировки\\nlock = threading.RLock()\\n\\ndef some_function():\\n  # Захват блокировки\\n  lock.acquire()\\n  \\n  # Работа с общим ресурсом\\n  # ...\\n  \\n  # Освобождение блокировки\\n  lock.release()\\n```\\n1. Semaphore (семафор)\\n\\nSemaphore - это блокировка, которая ограничивает количество потоков, которые могут работать с общим ресурсом одновременно. Это достигается путем установки максимального количества потоков, которые могут захватить семафор, перед тем как ожидать его освобождения.\\n\\nПример:\\n\\n\\n```python\\nimport threading\\n\\n# Создание семафора с максимальным количеством потоков = 2\\nsemaphore = threading.Semaphore(2)\\n\\ndef some_function():\\n  # Захват семафора\\n  semaphore.acquire()\\n  \\n  # Работа с общим ресурсом\\n  # ...\\n  \\n  # Освобождение семафора\\n  semaphore.release()\\n```\\n1. Condition (условие)\\n\\nCondition - это механизм синхронизации, который позволяет потокам ожидать определенного события. Потоки могут ожидать уведомления об изменении состояния объекта, прежде чем продолжать выполнение.',\n",
       "  'продолжай',\n",
       "  'Пример:\\n\\n\\n```python\\nimport threading\\n\\n# Создание объекта Condition\\ncondition = threading.Condition()\\n\\n# Общий ресурс\\nshared_resource = []\\n\\ndef producer():\\n  global shared_resource\\n  \\n  # Захват Condition\\n  condition.acquire()\\n  \\n  # Если shared_resource не пустой, поток должен ждать\\n  while shared_resource:\\n  condition.wait()\\n  \\n  # Добавление элемента в shared_resource\\n  shared_resource.append(1)\\n  \\n  # Оповещение ожидающих потоков\\n  condition.notify()\\n  \\n  # Освобождение Condition\\n  condition.release()\\n\\ndef consumer():\\n  global shared_resource\\n  \\n  # Захват Condition\\n  condition.acquire()\\n  \\n  # Если shared_resource пустой, поток должен ждать\\n  while not shared_resource:\\n  condition.wait()\\n  \\n  # Удаление элемента из shared_resource\\n  shared_resource.pop()\\n  \\n  # Оповещение ожидающих потоков\\n  condition.notify()\\n  \\n  # Освобождение Condition\\n  condition.release()\\n```\\n1. Event (событие)\\n\\nEvent - это механизм синхронизации, который позволяет одному потоку оповестить другие потоки о наступлении определенного события. Потоки могут ожидать события, прежде чем продолжить выполнение.\\n\\nПример:\\n\\n\\n```python\\nimport threading\\n\\n# Создание объекта Event\\nevent = threading.Event()\\n\\ndef some_function():\\n  # Ожидание события\\n  event.wait()\\n  \\n  # Работа с общим ресурсом\\n  # ...\\n  \\ndef trigger_event():\\n  # Оповещение о событии\\n  event.set()\\n```\\nЭто не все способы синхронизации потоков в Python, но эти способы покрывают большинство случаев и могут быть использованы для защиты общих ресурсов от одновременного доступа нескольких потоков.',\n",
       "  'напиши название функции которая добавляет пользователя в комнату чата',\n",
       "  'add_user_to_chatroom()'],\n",
       " 'hash': '221cbd8f995d6ca6ee3799b7d0a7201c8a62d9b5bc213f7c0fc961df1cd61c8e'}"
      ]
     },
     "execution_count": 21,
     "metadata": {},
     "output_type": "execute_result"
    }
   ],
   "source": [
    "from datasets import Dataset \n",
    "dataset = Dataset.from_list(unsensored_dataset)\n",
    "dataset[0]"
   ]
  },
  {
   "cell_type": "code",
   "execution_count": 72,
   "metadata": {},
   "outputs": [
    {
     "name": "stderr",
     "output_type": "stream",
     "text": [
      "Creating parquet from Arrow format: 100%|██████████| 3/3 [00:00<00:00, 21.71ba/s]\n",
      "Pushing dataset shards to the dataset hub: 100%|██████████| 1/1 [00:03<00:00,  3.19s/it]\n",
      "Downloading metadata: 100%|██████████| 30.0/30.0 [00:00<00:00, 183kB/s]\n"
     ]
    }
   ],
   "source": [
    "# dataset_sample = dataset.train_test_split(test_size=3000, seed=42)\n",
    "# dataset_sample = dataset_sample['test']\n",
    "# dataset_sample.push_to_hub(\"dim/sharegpt_short_en\")"
   ]
  },
  {
   "cell_type": "code",
   "execution_count": 22,
   "metadata": {},
   "outputs": [
    {
     "name": "stderr",
     "output_type": "stream",
     "text": [
      "Pushing dataset shards to the dataset hub: 100%|██████████| 1/1 [00:00<00:00, 13842.59it/s]\n",
      "Updating downloaded metadata with the new split.\n"
     ]
    }
   ],
   "source": [
    "# dataset.push_to_hub(\"dim/sharegpt_short_ru\")"
   ]
  },
  {
   "cell_type": "code",
   "execution_count": 3,
   "metadata": {},
   "outputs": [
    {
     "name": "stderr",
     "output_type": "stream",
     "text": [
      "Downloading readme: 100%|██████████| 11.9k/11.9k [00:00<00:00, 55.5MB/s]\n"
     ]
    },
    {
     "name": "stdout",
     "output_type": "stream",
     "text": [
      "Downloading and preparing dataset None/None to /home/kosenko/.cache/huggingface/datasets/dim___parquet/dim--sharegpt_short_ru-0668387caa4a4469/0.0.0/2a3b91fbd88a2c90d1dbbb32b460cf621d31bd5b05b934492fdef7d8d6f236ec...\n"
     ]
    },
    {
     "name": "stderr",
     "output_type": "stream",
     "text": [
      "Downloading data: 100%|██████████| 620k/620k [00:00<00:00, 1.36MB/s]\n",
      "Downloading data files: 100%|██████████| 1/1 [00:01<00:00,  1.76s/it]\n",
      "Extracting data files: 100%|██████████| 1/1 [00:00<00:00, 922.84it/s]\n",
      "                                                                      \r"
     ]
    },
    {
     "name": "stdout",
     "output_type": "stream",
     "text": [
      "Dataset parquet downloaded and prepared to /home/kosenko/.cache/huggingface/datasets/dim___parquet/dim--sharegpt_short_ru-0668387caa4a4469/0.0.0/2a3b91fbd88a2c90d1dbbb32b460cf621d31bd5b05b934492fdef7d8d6f236ec. Subsequent calls will reuse this data.\n"
     ]
    },
    {
     "name": "stderr",
     "output_type": "stream",
     "text": [
      "100%|██████████| 1/1 [00:00<00:00, 918.59it/s]\n"
     ]
    },
    {
     "data": {
      "text/plain": [
       "{'conversation': ['Как наилучшим образом перевести слово \"anticlimactic\" на русский сохраняя его изначальное значение?',\n",
       "  'Слово \"anticlimactic\" описывает ситуацию, когда ожидаемое событие не доставляет ожидаемого эмоционального подъема или разочаровывает. Наиболее подходящим переводом на русский язык будет \"антиклимакс\".\\n\\nЭтот термин унаследован из французского языка и описывает ситуацию, когда напряжение и ожидание достигают своего пика, а затем происходит неожиданный спад или облом. Он сохраняет ту же суть, что и \"anticlimactic\" и лучше всего передает оригинальный смысл этого слова.'],\n",
       " 'hash': 'e0a5b1d474d45386b7168260592348347b2b400e7e23d4f25ee4e353d15c567f'}"
      ]
     },
     "execution_count": 3,
     "metadata": {},
     "output_type": "execute_result"
    }
   ],
   "source": [
    "from datasets import load_dataset\n",
    "dataset = load_dataset(\"dim/sharegpt_short_ru\")\n",
    "dataset['train'][10]"
   ]
  }
 ],
 "metadata": {
  "kernelspec": {
   "display_name": "base",
   "language": "python",
   "name": "python3"
  },
  "language_info": {
   "codemirror_mode": {
    "name": "ipython",
    "version": 3
   },
   "file_extension": ".py",
   "mimetype": "text/x-python",
   "name": "python",
   "nbconvert_exporter": "python",
   "pygments_lexer": "ipython3",
   "version": "3.10.9"
  },
  "orig_nbformat": 4
 },
 "nbformat": 4,
 "nbformat_minor": 2
}
