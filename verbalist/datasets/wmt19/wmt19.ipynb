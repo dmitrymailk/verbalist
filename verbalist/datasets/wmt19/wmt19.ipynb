{
 "cells": [
  {
   "cell_type": "code",
   "execution_count": 1,
   "metadata": {},
   "outputs": [
    {
     "name": "stderr",
     "output_type": "stream",
     "text": [
      "/home/kosenko/miniconda3/lib/python3.10/site-packages/tqdm/auto.py:21: TqdmWarning: IProgress not found. Please update jupyter and ipywidgets. See https://ipywidgets.readthedocs.io/en/stable/user_install.html\n",
      "  from .autonotebook import tqdm as notebook_tqdm\n",
      "Found cached dataset wmt19 (/home/kosenko/.cache/huggingface/datasets/wmt19/ru-en/1.0.0/29e210fae5690e843cae5dc43b53db36c4e02f927db50cd5235a22ab42dde90a)\n",
      "100%|██████████| 2/2 [00:00<00:00,  4.32it/s]\n"
     ]
    }
   ],
   "source": [
    "from datasets import load_dataset\n",
    "\n",
    "dataset = load_dataset('wmt19', 'ru-en')\n",
    "dataset = dataset['train']"
   ]
  },
  {
   "cell_type": "code",
   "execution_count": 2,
   "metadata": {},
   "outputs": [
    {
     "name": "stderr",
     "output_type": "stream",
     "text": [
      "                                                                                              \r"
     ]
    }
   ],
   "source": [
    "dataset = dataset.filter(lambda x: len(x['translation']['en']) > 500, num_proc=80)"
   ]
  },
  {
   "cell_type": "code",
   "execution_count": 3,
   "metadata": {},
   "outputs": [
    {
     "data": {
      "text/plain": [
       "Dataset({\n",
       "    features: ['translation'],\n",
       "    num_rows: 403690\n",
       "})"
      ]
     },
     "execution_count": 3,
     "metadata": {},
     "output_type": "execute_result"
    }
   ],
   "source": [
    "dataset"
   ]
  },
  {
   "cell_type": "code",
   "execution_count": null,
   "metadata": {},
   "outputs": [],
   "source": [
    "dataset['translation']"
   ]
  },
  {
   "cell_type": "code",
   "execution_count": 16,
   "metadata": {},
   "outputs": [
    {
     "name": "stdout",
     "output_type": "stream",
     "text": [
      "{'translation': {'en': 'At the beginning of the day, from 7:00 until 10:00, the continental type breakfast buffet starts where you can quench your thirst with coffee, tea, milk and juice, and start your day by tasting bread, rusks, crostini sticks, crackers, butter croissants, waffles, butter, honey, jam, hazelnut praline, cereal, muesli, dried fruits, fresh fruits, yogurt, cakes, donuts, traditional scones, traditional pies, olives, feta cheese, yellow cheese, cold cuts, sausages, bacon, scrambled eggs, eggs and other various local dishes.', 'ru': 'Каждое утро с 07:00 до 10:00 в отеле сервируют континентальный завтрак, где Вы можете выпить кофе, чай, молоко и сок, и начать Ваш день, отведав свежий хлеб, сухарики, традиционные хлебные палочки «крицинья», крекеры, сливочные круассаны, вафли, сливочное масло, мёд, мармелад, пралине из фундука, кукурузные хлопья, мюсли, сухофрукты, свежие фрукты, йогурт, кекс, пончики, традиционные печенья, традиционные лепешки, помидоры, оливки, сыр Фета, желтый сыр, мясную нарезку, колбаски, бекон, омлет, яйца и различные местные блюда.'}}\n"
     ]
    }
   ],
   "source": [
    "new_dataset = []\n",
    "\n",
    "# dataset['train'][17]\n",
    "for i in range(len(dataset[:1000])):\n",
    "    print(dataset[i])"
   ]
  }
 ],
 "metadata": {
  "kernelspec": {
   "display_name": "base",
   "language": "python",
   "name": "python3"
  },
  "language_info": {
   "codemirror_mode": {
    "name": "ipython",
    "version": 3
   },
   "file_extension": ".py",
   "mimetype": "text/x-python",
   "name": "python",
   "nbconvert_exporter": "python",
   "pygments_lexer": "ipython3",
   "version": "3.10.9"
  },
  "orig_nbformat": 4
 },
 "nbformat": 4,
 "nbformat_minor": 2
}
