{
 "cells": [
  {
   "cell_type": "code",
   "execution_count": 6,
   "metadata": {},
   "outputs": [],
   "source": [
    "from datasets import Dataset, load_dataset, concatenate_datasets\n",
    "\n",
    "dataset = load_dataset(\"THUDM/AgentInstruct\")"
   ]
  },
  {
   "cell_type": "code",
   "execution_count": 7,
   "metadata": {},
   "outputs": [],
   "source": [
    "dataset = concatenate_datasets([dataset[col] for col in list(dataset.column_names.keys())])"
   ]
  },
  {
   "cell_type": "code",
   "execution_count": 9,
   "metadata": {},
   "outputs": [
    {
     "data": {
      "text/plain": [
       "{'conversations': [{'from': 'human',\n",
       "   'loss': None,\n",
       "   'value': 'You are an assistant that will act like a person, I\\'will play the role of linux(ubuntu) operating system. Your goal is to implement the operations required by me or answer to the question proposed by me. For each of your turn, you should first think what you should do, and then take exact one of the three actions: \"bash\", \"finish\" or \"answer\". \\n\\n1. If you think you should execute some bash code, take bash action, and you should print like this:\\n\\nThink: put your thought here.\\n\\nAct: bash\\n\\n```bash\\n# put your bash code here\\n```\\n\\n2. If you think you have finished the task, take finish action, and you should print like this:\\n\\nThink: put your thought here.\\n\\nAct: finish\\n\\n3. If you think you have got the answer to the question, take answer action, and you should print like this:\\n\\nThink: put your thought here.\\n\\nAct: answer(Your answer to the question should be put in this pair of parentheses)\\n\\nIf the output is too long, I will truncate it. The truncated output is not complete. You have to deal with the truncating problem by yourself. Attention, your bash code should not contain any input operation. Once again, you should take only exact one of the three actions in each turn.\\n\\nNow, my problem is:\\n\\ntell me how many files are in the directory \"/etc\"?bash:`'},\n",
       "  {'from': 'gpt',\n",
       "   'loss': False,\n",
       "   'value': 'Think: To count the files in /etc, I need to print all the files in it.\\n\\nAct: bash\\n\\n```bash\\nls /etc\\n```'},\n",
       "  {'from': 'human',\n",
       "   'loss': None,\n",
       "   'value': 'The output of the OS:\\ncpi cron.hourly fuse.conf iproute2 lvm networkd-dispatcher protocols selinux tmpfiles.d [truncated because the output is too long]'},\n",
       "  {'from': 'gpt',\n",
       "   'loss': False,\n",
       "   'value': 'Think: The output has been truncated because it is too long, so I need to count files by script directly.\\n\\nAct: bash\\n\\n```bash\\nls -1 /etc | wc -l\\n```'},\n",
       "  {'from': 'human', 'loss': None, 'value': 'The output of the OS:\\n220'},\n",
       "  {'from': 'gpt',\n",
       "   'loss': False,\n",
       "   'value': 'Think: Now I get the answer, it is 220.\\n\\nAct: answer(220)'},\n",
       "  {'from': 'human',\n",
       "   'loss': None,\n",
       "   'value': 'Now, I will start a new problem in a new OS. My problem is:\\n\\nFilter out all the empty lines and comments in configurations (.conf) files in the current directory, and find the most frequently appearing valid configuration directive.'},\n",
       "  {'from': 'gpt',\n",
       "   'loss': True,\n",
       "   'value': 'Think: First, locate .conf files in the current directory.\\n\\nAct: bash\\n\\n```bash\\nls *.conf\\n```'},\n",
       "  {'from': 'human',\n",
       "   'loss': None,\n",
       "   'value': 'The output of the OS:\\n\\nsample1.conf  sample2.conf\\r\\n\\x1b]0;root@39909a690694: /\\x07root@39909a690694:/#'},\n",
       "  {'from': 'gpt',\n",
       "   'loss': True,\n",
       "   'value': 'Think: Then I need to concatenate the files and filter out the empty lines and comment lines.\\n\\nAct: bash\\n\\n```bash\\ncat *.conf | grep -v \"^$\" | grep -v \"^#\"\\n```'},\n",
       "  {'from': 'human',\n",
       "   'loss': None,\n",
       "   'value': 'The output of the OS:\\n\\nparameter = value\\r\\ndirective = xyz\\r\\ndirective = abc\\r\\nUserDir disabled\\r\\nanother_val = xyz\\r\\ndirective = abc\\r\\n\\x1b]0;root@39909a690694: /\\x07root@39909a690694:/# \\x1b[K'},\n",
       "  {'from': 'gpt',\n",
       "   'loss': True,\n",
       "   'value': 'Think: Now we need to process the lines to extract the configuration directives. The configuration directives generally start with a non-blank character and end with the first blank. We can use awk to split on the equal or the first blank, then output the first field.\\n\\nAct: bash\\n\\n```bash\\ncat *.conf | grep -v \"^$\" | grep -v \"^#\" | awk -F \\'[ =]\\' \\'{print $1}\\'\\n```'},\n",
       "  {'from': 'human',\n",
       "   'loss': None,\n",
       "   'value': 'The output of the OS:\\n\\nparameter\\r\\ndirective\\r\\ndirective\\r\\nUserDir\\r\\nanother_val\\r\\ndirective\\r\\n\\x1b]0;root@39909a690694: /\\x07root@39909a690694:/# \\x1b[K'},\n",
       "  {'from': 'gpt',\n",
       "   'loss': True,\n",
       "   'value': 'Think: Now we have got the configuration directives. Let\\'s sort the results and get the counts of each directive.\\n\\nAct: bash\\n\\n```bash\\ncat *.conf | grep -v \"^$\" | grep -v \"^#\" | awk -F \\'[ =]\\' \\'{print $1}\\' | sort | uniq -c\\n```'},\n",
       "  {'from': 'human',\n",
       "   'loss': None,\n",
       "   'value': 'The output of the OS:\\n\\n      1 UserDir\\r\\n      1 another_val\\r\\n      3 directive\\r\\n      1 parameter\\r\\n\\x1b]0;root@39909a690694: /\\x07root@39909a690694:/# \\x1b[K'},\n",
       "  {'from': 'gpt',\n",
       "   'loss': True,\n",
       "   'value': 'Think: Finally, use \"awk\" to find the most frequently appearing directive. \\n\\nAct: bash\\n\\n```bash\\ncat *.conf | grep -v \"^$\" | grep -v \"^#\" | awk -F \\'[ =]\\' \\'{print $1}\\' | sort | uniq -c | sort -nr | head -1 | awk \\'{print $2}\\'\\n```'},\n",
       "  {'from': 'human',\n",
       "   'loss': None,\n",
       "   'value': 'The output of the OS:\\n\\ndirective\\r\\n\\x1b]0;root@39909a690694: /\\x07root@39909a690694:/# \\x1b[K'},\n",
       "  {'from': 'gpt',\n",
       "   'loss': True,\n",
       "   'value': 'Think: I have found the most frequently appearing valid configuration directive, which is \"directive\".\\n\\nAct: answer(directive)'}],\n",
       " 'id': 'os_0'}"
      ]
     },
     "execution_count": 9,
     "metadata": {},
     "output_type": "execute_result"
    }
   ],
   "source": [
    "dataset[0]"
   ]
  },
  {
   "cell_type": "code",
   "execution_count": 10,
   "metadata": {},
   "outputs": [
    {
     "name": "stderr",
     "output_type": "stream",
     "text": [
      "Creating parquet from Arrow format: 100%|██████████| 2/2 [00:00<00:00, 96.49ba/s]\n",
      "Pushing dataset shards to the dataset hub: 100%|██████████| 1/1 [00:02<00:00,  2.52s/it]\n"
     ]
    }
   ],
   "source": [
    "dataset.push_to_hub(\"dim/thudn_agent_instruct\")"
   ]
  }
 ],
 "metadata": {
  "kernelspec": {
   "display_name": "base",
   "language": "python",
   "name": "python3"
  },
  "language_info": {
   "codemirror_mode": {
    "name": "ipython",
    "version": 3
   },
   "file_extension": ".py",
   "mimetype": "text/x-python",
   "name": "python",
   "nbconvert_exporter": "python",
   "pygments_lexer": "ipython3",
   "version": "3.10.13"
  }
 },
 "nbformat": 4,
 "nbformat_minor": 2
}
