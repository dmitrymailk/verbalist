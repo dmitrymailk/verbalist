{
 "cells": [
  {
   "cell_type": "code",
   "execution_count": 1,
   "metadata": {},
   "outputs": [
    {
     "name": "stderr",
     "output_type": "stream",
     "text": [
      "/home/kosenko/miniconda3/lib/python3.10/site-packages/tqdm/auto.py:21: TqdmWarning: IProgress not found. Please update jupyter and ipywidgets. See https://ipywidgets.readthedocs.io/en/stable/user_install.html\n",
      "  from .autonotebook import tqdm as notebook_tqdm\n"
     ]
    }
   ],
   "source": [
    "from datasets import load_dataset, Dataset\n",
    "\n",
    "dataset = load_dataset(\"dim/SlimOrcaEN\")\n",
    "dataset = dataset[\"train\"]\n",
    "dataset = dataset.to_list()"
   ]
  },
  {
   "cell_type": "code",
   "execution_count": 2,
   "metadata": {},
   "outputs": [
    {
     "data": {
      "text/plain": [
       "{'conversations': [{'from': 'system',\n",
       "   'value': 'You are an AI assistant. User will you give you a task. Your goal is to complete the task as faithfully as you can. While performing the task think step-by-step and justify your steps.',\n",
       "   'weight': None},\n",
       "  {'from': 'human',\n",
       "   'value': 'What happens next?\\n\\nHow to squid \\nStop. \\nAs soon as you notice signs of distressed reactions or impulsivity that could do more harm than good, try to create a \" stop point \" for considering choices before making any more decisions. Signs of distress can be felt, seen or heard, and frequently trigger fast automatic reactions that we might regret.\\n\\nAvailable options: 1. There are many ways to discreetly handle unexpected changes that can serve as warning signs of distressed conduct. Note that making a \" stop point \" is a clear and professional strategy. 2. If you can notice the signs of distress when they first start to appear, you can slow down for the yellow lights before you run the red. You have to act fast to interrupt so it helps to be very clear what signs to watch for. 3. Breaking a fast or trying to steal from someone else, flipping another person off the street, or drifting off on a road could provoke such behaviors. Don\\'t let a sign of distress interfere with your life or your ability to effectively produce squid. 4. To stop an outbreak of distressed behaviors by delicately delaying them for hours, keep a journal. Read it more often than if you truly had a \" stop point.',\n",
       "   'weight': 0.0},\n",
       "  {'from': 'gpt',\n",
       "   'value': 'To handle a situation where you notice signs of distress while attempting to produce squid, follow these steps:\\n\\nStep 1: Recognize the signs of distress\\nBe aware of the signs that may indicate distress, such as anxious behavior, impulsivity, or increased irritability. Be watchful for these signs in both yourself and others around you.\\n\\nStep 2: Create a \"stop point\"\\nOnce you have identified potential signs of distress, it\\'s crucial to create a \"stop point\" to pause and reassess before making further decisions. This strategy can help prevent making harmful or impulsive choices.\\n\\nStep 3: Assess available options\\nConsider various ways to address the distress, such as:\\n\\nOption 1: Discreetly handle unexpected changes by adapting accordingly and maintaining a professional demeanor.\\n\\nOption 2: Slow down your pace and allow yourself or others some time to cope with the distressing situation.\\n\\nOption 3: Avoid engaging in harmful or risky behaviors that may exacerbate the situation.\\n\\nStep 4: Maintain a journal\\nKeeping a journal can help you track instances of distress and manage your reactions more effectively over time. This practice can serve as an ongoing tool to recognize and cope with signs of distress as they arise.\\n\\nBy following these steps, you can address signs of distress in a thoughtful and effective manner, allowing you to continue producing squid without allowing distressing situations to interfere with your life or work.',\n",
       "   'weight': 1.0}],\n",
       " 'key': 1000}"
      ]
     },
     "execution_count": 2,
     "metadata": {},
     "output_type": "execute_result"
    }
   ],
   "source": [
    "dataset[1000]"
   ]
  },
  {
   "cell_type": "code",
   "execution_count": 11,
   "metadata": {},
   "outputs": [
    {
     "data": {
      "text/plain": [
       "'You are an AI assistant. You will be given a task. You must generate a detailed and long answer.\\nWrite an article based on this \"A man has been charged with murder and attempted murder after a woman and the man she was on a date with were stabbed at a restaurant in Sydney, Australia.\"\\nTitle: Tragedy Strikes in Sydney: Victims Stabbed during Dinner Date, Suspect Charged with Murder and Attempted Murder\\n\\nIntroduction\\n\\nA seemingly ordinary evening took a tragic turn in Sydney, Australia when a romantic dinner date at a local restaurant ended in bloodshed, as a man allegedly attacked a couple, stabbing both victims. Local authorities have charged the suspect with murder and attempted murder in connection with the horrific crime. In this article, we delve into the chilling incident, the suspect, and the impact it has had on the community.\\n\\nThe Incident\\n\\nThe alarming event took place at a popular restaurant in Sydney, Australia. A woman and her date were enjoying their meal – blissfully unaware of the tragic circumstances that would soon unfold. As they shared conversation and indulged in their dinner, a man approached the couple and, without warning, began to stab them with a sharp object.\\n\\nPatrons at the restaurant scrambled for safety, as the assailant continued his violent rampage. Bystanders quickly called emergency services, who promptly arrived at the scene. Although both victims were rushed to a nearby hospital, the woman succumbed to her injuries. The man she was on a date with remained in critical condition, fighting for his life.\\n\\nThe Suspect\\n\\nInitial investigations revealed that the alleged attacker had no known connections to the victims – adding to the mystifying nature of this sudden and brutal assault. Witnesses reported that the assailant seemed to have no specific motive and appeared to carry out the act senselessly.\\n\\nFollowing a thorough investigation, local police identified and arrested the suspect. During the process, it was discovered that the alleged attacker had a history of criminal behavior and a troubled past, though it is unclear if this played a role in the tragic incident.\\n\\nAuthorities have formally charged the man with murder and attempted murder in connection with the heinous crime. He awaits a hearing to determine a trial date and, if convicted, could face a life sentence in prison.\\n\\nThe Community\\'s Response\\n\\nThe shocking nature of the crime has left the residents of Sydney reeling, as they struggle to come to terms with the harrowing event. The restaurant where the attack occurred has since been closed, with a makeshift memorial being created outside to commemorate the victims.\\n\\nMany have questioned how such a vicious crime could happen in what is considered to be one of the safest cities in the world. This tragic event has spurred local officials to reassess current security measures and devise strategies to reinforce public safety. Additionally, discussions surrounding mental health and criminal rehabilitation have surfaced as residents seek to comprehend the actions of the alleged perpetrator and prevent similar incidents from occurring in the future.\\n\\nIn the wake of the stabbing, the community has banded together with an outpouring of grief and support for the victims and their families. Candlelight vigils have been held, and an online fundraising campaign is underway to assist the surviving victim with his medical expenses and recovery.\\n\\nConclusion\\n\\nThe tragic attack in Sydney serves as a chilling reminder that senseless acts of violence can happen anywhere and at any time. The community\\'s response to this horrific and seemingly random act of brutality has been one of solidarity and determination to prevent such incidents in the future. As the case unfolds, the victims and their families remain in the hearts of the community, who are grieving the devastating loss of a life cut tragically short and supporting the recovering victim as he continues to endure this unimaginable ordeal.'"
      ]
     },
     "execution_count": 11,
     "metadata": {},
     "output_type": "execute_result"
    }
   ],
   "source": [
    "text = \"\\n\".join([item[\"value\"] for item in dataset[0][\"conversations\"]])\n",
    "text"
   ]
  },
  {
   "cell_type": "markdown",
   "metadata": {},
   "source": [
    "### перевод чат гпт, подсчет стоимости "
   ]
  },
  {
   "cell_type": "code",
   "execution_count": 28,
   "metadata": {},
   "outputs": [],
   "source": [
    "import tiktoken\n",
    "\n",
    "enc = tiktoken.encoding_for_model(\"gpt-3.5-turbo\")"
   ]
  },
  {
   "cell_type": "code",
   "execution_count": 20,
   "metadata": {},
   "outputs": [
    {
     "name": "stderr",
     "output_type": "stream",
     "text": [
      "Map (num_proc=40): 100%|██████████| 517982/517982 [00:16<00:00, 31909.75 examples/s]\n"
     ]
    }
   ],
   "source": [
    "dataset = dataset.map(\n",
    "    lambda x: {\n",
    "        **x,\n",
    "        \"len_en\": len(\n",
    "            enc.encode(\"\\n\".join([item[\"value\"] for item in x[\"conversations\"]]))\n",
    "        ),\n",
    "    },\n",
    "    num_proc=40,\n",
    ")"
   ]
  },
  {
   "cell_type": "code",
   "execution_count": 21,
   "metadata": {},
   "outputs": [
    {
     "data": {
      "text/plain": [
       "295.0234455"
      ]
     },
     "execution_count": 21,
     "metadata": {},
     "output_type": "execute_result"
    }
   ],
   "source": [
    "sum(dataset[\"len_en\"]) / 1000 * 0.0015"
   ]
  },
  {
   "cell_type": "code",
   "execution_count": 24,
   "metadata": {},
   "outputs": [
    {
     "data": {
      "text/plain": [
       "'Лорем ипсум долор сит амет'"
      ]
     },
     "execution_count": 24,
     "metadata": {},
     "output_type": "execute_result"
    }
   ],
   "source": [
    "from transliterate import translit\n",
    "\n",
    "text = \"Lorem ipsum dolor sit amet\"\n",
    "ru_text = translit(text, \"ru\")\n",
    "ru_text"
   ]
  },
  {
   "cell_type": "code",
   "execution_count": 25,
   "metadata": {},
   "outputs": [
    {
     "name": "stderr",
     "output_type": "stream",
     "text": [
      "Map (num_proc=40): 100%|██████████| 517982/517982 [00:25<00:00, 20071.32 examples/s]\n"
     ]
    }
   ],
   "source": [
    "dataset = dataset.map(\n",
    "    lambda x: {\n",
    "        **x,\n",
    "        \"len_ru\": len(\n",
    "            enc.encode(\n",
    "                translit(\n",
    "                    \"\\n\".join([item[\"value\"] for item in x[\"conversations\"]]),\n",
    "                    \"ru\",\n",
    "                )\n",
    "            )\n",
    "        ),\n",
    "    },\n",
    "    num_proc=40,\n",
    ")"
   ]
  },
  {
   "cell_type": "code",
   "execution_count": 26,
   "metadata": {},
   "outputs": [
    {
     "data": {
      "text/plain": [
       "1096.677268"
      ]
     },
     "execution_count": 26,
     "metadata": {},
     "output_type": "execute_result"
    }
   ],
   "source": [
    "sum(dataset[\"len_ru\"]) / 1000 * 0.002"
   ]
  },
  {
   "cell_type": "code",
   "execution_count": 27,
   "metadata": {},
   "outputs": [
    {
     "data": {
      "text/plain": [
       "1391.7007135"
      ]
     },
     "execution_count": 27,
     "metadata": {},
     "output_type": "execute_result"
    }
   ],
   "source": [
    "sum(dataset[\"len_en\"]) / 1000 * 0.0015 + sum(dataset[\"len_ru\"]) / 1000 * 0.002"
   ]
  },
  {
   "cell_type": "markdown",
   "metadata": {},
   "source": [
    "### подсчет символов"
   ]
  },
  {
   "cell_type": "code",
   "execution_count": 6,
   "metadata": {},
   "outputs": [
    {
     "name": "stderr",
     "output_type": "stream",
     "text": [
      "Map (num_proc=40): 100%|██████████| 517982/517982 [00:03<00:00, 148600.35 examples/s]\n"
     ]
    }
   ],
   "source": [
    "dataset = dataset.map(\n",
    "    lambda x: {\n",
    "        **x,\n",
    "        \"char_len_en\": len(\"\".join([item[\"value\"] for item in x[\"conversations\"]])),\n",
    "    },\n",
    "    num_proc=40,\n",
    ")"
   ]
  },
  {
   "cell_type": "code",
   "execution_count": 23,
   "metadata": {},
   "outputs": [
    {
     "name": "stdout",
     "output_type": "stream",
     "text": [
      "deepL=22145$\n",
      "google translate=17716$\n",
      "google translate=13287$\n",
      "yandex api=436006₽\n"
     ]
    }
   ],
   "source": [
    "total = sum(dataset[\"char_len_en\"])\n",
    "\n",
    "print(f\"deepL={int(total/ 1_000_000 * 25)}$\")\n",
    "print(f\"google translate={int(total/ 1_000_000 * 20)}$\")\n",
    "print(f\"google translate={int(total/ 1_000_000 * 15)}$\")\n",
    "print(f\"yandex api={436006}₽\")"
   ]
  },
  {
   "cell_type": "code",
   "execution_count": 21,
   "metadata": {},
   "outputs": [
    {
     "data": {
      "text/plain": [
       "885832457"
      ]
     },
     "execution_count": 21,
     "metadata": {},
     "output_type": "execute_result"
    }
   ],
   "source": [
    "total"
   ]
  },
  {
   "cell_type": "code",
   "execution_count": 15,
   "metadata": {},
   "outputs": [
    {
     "data": {
      "text/plain": [
       "522989"
      ]
     },
     "execution_count": 15,
     "metadata": {},
     "output_type": "execute_result"
    }
   ],
   "source": [
    "sum(dataset.select(range(300))[\"char_len_en\"])"
   ]
  },
  {
   "cell_type": "code",
   "execution_count": 2,
   "metadata": {},
   "outputs": [],
   "source": [
    "from sqlalchemy import create_engine\n",
    "\n",
    "engine = create_engine(\n",
    "    \"sqlite:////home/kosenko/verbalist/verbalist/datasets/slim_orca/slim_orca.db\"\n",
    ")"
   ]
  },
  {
   "cell_type": "markdown",
   "metadata": {},
   "source": [
    "### Example"
   ]
  },
  {
   "cell_type": "code",
   "execution_count": 6,
   "metadata": {},
   "outputs": [
    {
     "name": "stdout",
     "output_type": "stream",
     "text": [
      "6\n"
     ]
    }
   ],
   "source": [
    "from sqlalchemy.orm import DeclarativeBase, Session\n",
    "from sqlalchemy import Column, Integer, String\n",
    "\n",
    "\n",
    "class Base(DeclarativeBase):\n",
    "    pass\n",
    "\n",
    "\n",
    "class Person(Base):\n",
    "    __tablename__ = \"people\"\n",
    "\n",
    "    id = Column(Integer, primary_key=True, index=True)\n",
    "    name = Column(String)\n",
    "    age = Column(Integer)\n",
    "\n",
    "\n",
    "# создаем таблицы\n",
    "Base.metadata.create_all(bind=engine)\n",
    "\n",
    "# создаем сессию подключения к бд\n",
    "with Session(autoflush=False, bind=engine) as db:\n",
    "    # создаем объект Person для добавления в бд\n",
    "    tom = Person(name=\"Tom\", age=38)\n",
    "    db.add(tom)  # добавляем в бд\n",
    "    db.commit()  # сохраняем изменения\n",
    "    print(tom.id)  # можно получить установленный id"
   ]
  },
  {
   "cell_type": "code",
   "execution_count": 3,
   "metadata": {},
   "outputs": [],
   "source": [
    "import os\n",
    "import torch\n",
    "\n",
    "os.environ[\"CUDA_VISIBLE_DEVICES\"] = \"1,2,3\"\n",
    "\n",
    "from transformers import AutoModelForSeq2SeqLM, AutoTokenizer\n",
    "\n",
    "model = AutoModelForSeq2SeqLM.from_pretrained(\n",
    "    \"facebook/wmt21-dense-24-wide-en-x\",\n",
    "    device_map=\"auto\",\n",
    "    torch_dtype=torch.float16,\n",
    "    # load_in_4bit=True\n",
    ")\n",
    "tokenizer = AutoTokenizer.from_pretrained(\n",
    "    \"facebook/wmt21-dense-24-wide-en-x\",\n",
    ")"
   ]
  },
  {
   "cell_type": "code",
   "execution_count": 6,
   "metadata": {},
   "outputs": [
    {
     "name": "stderr",
     "output_type": "stream",
     "text": [
      "/home/kosenko/miniconda3/lib/python3.10/site-packages/transformers/generation/utils.py:1539: UserWarning: You are calling .generate() with the `input_ids` being on a device type different than your model's device. `input_ids` is on cpu, whereas the model is on cuda. You may experience unexpected behaviors or slower generation. Please make sure that you have put `input_ids` to the correct device by calling for example input_ids = input_ids.to('cuda') before running `.generate()`.\n",
      "  warnings.warn(\n"
     ]
    },
    {
     "name": "stdout",
     "output_type": "stream",
     "text": [
      "['Одна модель для многих языков.']\n"
     ]
    }
   ],
   "source": [
    "import torch\n",
    "\n",
    "# with torch.cuda.amp.autocast():\n",
    "inputs = tokenizer(\n",
    "    \"wmtdata newsdomain One model for many languages.\", return_tensors=\"pt\"\n",
    ")\n",
    "\n",
    "# translate English to German\n",
    "generated_tokens = model.generate(\n",
    "    **inputs,\n",
    "    forced_bos_token_id=tokenizer.get_lang_id(\"ru\"),\n",
    ")\n",
    "print(tokenizer.batch_decode(generated_tokens, skip_special_tokens=True))"
   ]
  },
  {
   "cell_type": "code",
   "execution_count": 5,
   "metadata": {},
   "outputs": [],
   "source": [
    "model = torch.compile(model)"
   ]
  },
  {
   "cell_type": "code",
   "execution_count": 7,
   "metadata": {},
   "outputs": [
    {
     "name": "stderr",
     "output_type": "stream",
     "text": [
      "  0%|          | 338/517982 [41:18<1503:07:59, 10.45s/it]"
     ]
    },
    {
     "name": "stdout",
     "output_type": "stream",
     "text": [
      "VALUE_EN=['You are an AI assistant. Provide a detailed answer so user don’t need to search outside to understand the answer.']\n",
      "VALUE_RU=Вы - ИИ-ассистент. Предоставьте подробный ответ, чтобы пользователю не нужно было искать снаружи, чтобы понять ответ.\n",
      "----------\n",
      "----------\n",
      "VALUE_EN=[\"Answer the following question: Read the following article and select the best answer. Article: Spring is coming.People in different countries like different outdoor activities.Leo,a reporter from Learning English in interviewing some students.Here is what they have said. Mary (13, America) I want to go out of the city to a beautiful field. It's happy to smell beautiful flowers, touch green grass and take some photos. And I like to have a picnic in the field, It's interesting! Jim (14, Canada) The weather turns warmer and they days become longer in spring. It's a good time to go camping. It would be fun to sleep in a tent. I enjoy the comfortable weather too. Tony (13, England) In spring, I like going cycling alone. It can not only make me enjoy the beautiful season but also help me became stronger. I can write something about what I see on the way. Wang Fang (12, China) I'm good at making all kinds of kites. And in spring. I like flying kites with my family or my friends in the park. One of us holds the kite. and another one catches the line. It's exciting to see the kite flying high in the sky. Question: Wang Fang always flies kites   _  . - by herself - on rainy days - with her family or friends - in the field\", 'Answer:']\n",
      "VALUE_RU=Ответьте на следующий вопрос: Прочитайте следующую статью и выберите лучший ответ. Статья: Весна наступает. Люди в разных странах любят разные виды активного отдыха. Лео, репортер из Learning English в интервью с некоторыми студентами. Вот что они сказали. Мэри (13, Америка) Я хочу выйти из города в красивое поле. Приятно почувствовать запах красивых цветов, прикоснуться к зеленой траве и сделать несколько фотографий. И мне нравится устраивать пикник в поле, это интересно! Джим (14, Канада) Погода становится теплее, и дни становятся длиннее весной. Это хорошее время, чтобы отправиться в поход. Было бы весело спать в палатке. Мне тоже нравится комфортная погода. Тони (13, Англия) Весной я люблю ездить на велосипеде в одиночку. Это может не только заставить меня наслаждаться прекрасным сезоном, но и помочь мне стать сильнее. Я могу написать что-то о том, что я вижу по пути. Ван Фан (12, Китай\n",
      "Ответ:\n",
      "----------\n",
      "----------\n"
     ]
    },
    {
     "name": "stderr",
     "output_type": "stream",
     "text": [
      "  0%|          | 339/517982 [41:29<1553:43:07, 10.81s/it]"
     ]
    },
    {
     "name": "stdout",
     "output_type": "stream",
     "text": [
      "VALUE_EN=['Wang Fang always flies kites with her family or friends.']\n",
      "VALUE_RU=Ван Фан всегда запускает воздушных змеев со своей семьей или друзьями.\n",
      "----------\n",
      "----------\n",
      "VALUE_EN=['You are an AI assistant that follows instruction extremely well. Help as much as you can.']\n",
      "VALUE_RU=Вы - ИИ-ассистент, который очень хорошо следует инструкциям.Помогите, чем сможете.\n",
      "----------\n",
      "----------\n"
     ]
    }
   ],
   "source": [
    "from sqlalchemy.orm import DeclarativeBase, Session\n",
    "from sqlalchemy import Column, Integer, String\n",
    "from tqdm import tqdm\n",
    "import json\n",
    "\n",
    "\n",
    "class Base(DeclarativeBase):\n",
    "    pass\n",
    "\n",
    "\n",
    "class SlimOrcaTranslation(Base):\n",
    "    __tablename__ = \"slim_orca\"\n",
    "\n",
    "    id = Column(Integer, primary_key=True, index=True)\n",
    "    key = Column(Integer, unique=True)\n",
    "    json = Column(String)\n",
    "\n",
    "\n",
    "# создаем таблицы\n",
    "Base.metadata.create_all(bind=engine)\n",
    "\n",
    "# создаем сессию подключения к бд\n",
    "with Session(autoflush=False, bind=engine) as db:\n",
    "    for key in tqdm(range(len(dataset))):\n",
    "        trans = (\n",
    "            db.query(SlimOrcaTranslation).filter(SlimOrcaTranslation.key == key).first()\n",
    "        )\n",
    "        # print(trans)\n",
    "        if trans is None:\n",
    "            try:\n",
    "                item = dataset[key]\n",
    "                for i in range(len(item[\"conversations\"])):\n",
    "                    value_en = item[\"conversations\"][i][\"value\"].split(\"\\n\")\n",
    "                    value_en = [item for item in value_en if len(item) > 0]\n",
    "                    # print(item['conversations'][i]['value'])\n",
    "                    value_ru = tokenizer.batch_encode_plus(\n",
    "                        value_en,\n",
    "                        return_tensors=\"pt\",\n",
    "                        padding=True,\n",
    "                    ).to(\"cuda\")\n",
    "\n",
    "                    value_ru = model.generate(\n",
    "                        **value_ru,\n",
    "                        forced_bos_token_id=tokenizer.get_lang_id(\"ru\"),\n",
    "                        # num_beams=2\n",
    "                    )\n",
    "                    value_ru = tokenizer.batch_decode(\n",
    "                        value_ru,\n",
    "                        skip_special_tokens=True,\n",
    "                    )\n",
    "                    print(f\"VALUE_EN={value_en}\")\n",
    "                    value_ru = \"\\n\".join(value_ru)\n",
    "                    item[\"conversations\"][i][\"value_ru\"] = value_ru\n",
    "                    print(f\"VALUE_RU={value_ru}\")\n",
    "                    print(\"-\" * 10)\n",
    "                    print(\"-\" * 10)\n",
    "                # break\n",
    "                # создаем объект Person для добавления в бд\n",
    "                row = SlimOrcaTranslation(\n",
    "                    key=key,\n",
    "                    json=json.dumps(\n",
    "                        item,\n",
    "                        ensure_ascii=False,\n",
    "                    ),\n",
    "                )\n",
    "                db.add(row)  # добавляем в бд\n",
    "                db.commit()\n",
    "            except:\n",
    "                row = SlimOrcaTranslation(\n",
    "                    key=key,\n",
    "                    json=\"\",\n",
    "                )\n",
    "                db.add(row)  # добавляем в бд\n",
    "                db.commit()\n",
    "\n",
    "# dataset[0]"
   ]
  },
  {
   "cell_type": "code",
   "execution_count": null,
   "metadata": {},
   "outputs": [],
   "source": []
  },
  {
   "cell_type": "code",
   "execution_count": 31,
   "metadata": {},
   "outputs": [
    {
     "data": {
      "text/plain": [
       "{'from': 'human',\n",
       " 'value': 'Write an article based on this \"A man has been charged with murder and attempted murder after a woman and the man she was on a date with were stabbed at a restaurant in Sydney, Australia.\"',\n",
       " 'weight': 0.0,\n",
       " 'test': 'qwe'}"
      ]
     },
     "execution_count": 31,
     "metadata": {},
     "output_type": "execute_result"
    }
   ],
   "source": [
    "dataset[0][\"conversations\"][1]"
   ]
  },
  {
   "cell_type": "code",
   "execution_count": 12,
   "metadata": {},
   "outputs": [
    {
     "name": "stdout",
     "output_type": "stream",
     "text": [
      "0\n",
      "{\"conversations\": [{\"from\": \"system\", \"value\": \"You are an AI assistant. You will be given a task. You must generate a detailed and long answer.\", \"weight\": null, \"value_ru\": \"Вы - ИИ-ассистент. Вам будет дано задание. Вы должны сгенерировать подробный и длинный ответ.\"}, {\"from\": \"human\", \"value\": \"Write an article based on this \\\"A man has been charged with murder and attempted murder after a woman and the man she was on a date with were stabbed at a restaurant in Sydney, Australia.\\\"\", \"weight\": 0.0, \"value_ru\": \"Напишите статью на основе этого: \\\"Мужчина был обвинен в убийстве и покушении на убийство после того, как женщина и мужчина, с которым она была на свидании, были зарезаны в ресторане в Сиднее, Австралия\\\".\"}, {\"from\": \"gpt\", \"value\": \"Title: Tragedy Strikes in Sydney: Victims Stabbed during Dinner Date, Suspect Charged with Murder and Attempted Murder\\n\\nIntroduction\\n\\nA seemingly ordinary evening took a tragic turn in Sydney, Australia when a romantic dinner date at a local restaurant ended in bloodshed, as a man allegedly attacked a couple, stabbing both victims. Local authorities have charged the suspect with murder and attempted murder in connection with the horrific crime. In this article, we delve into the chilling incident, the suspect, and the impact it has had on the community.\\n\\nThe Incident\\n\\nThe alarming event took place at a popular restaurant in Sydney, Australia. A woman and her date were enjoying their meal – blissfully unaware of the tragic circumstances that would soon unfold. As they shared conversation and indulged in their dinner, a man approached the couple and, without warning, began to stab them with a sharp object.\\n\\nPatrons at the restaurant scrambled for safety, as the assailant continued his violent rampage. Bystanders quickly called emergency services, who promptly arrived at the scene. Although both victims were rushed to a nearby hospital, the woman succumbed to her injuries. The man she was on a date with remained in critical condition, fighting for his life.\\n\\nThe Suspect\\n\\nInitial investigations revealed that the alleged attacker had no known connections to the victims – adding to the mystifying nature of this sudden and brutal assault. Witnesses reported that the assailant seemed to have no specific motive and appeared to carry out the act senselessly.\\n\\nFollowing a thorough investigation, local police identified and arrested the suspect. During the process, it was discovered that the alleged attacker had a history of criminal behavior and a troubled past, though it is unclear if this played a role in the tragic incident.\\n\\nAuthorities have formally charged the man with murder and attempted murder in connection with the heinous crime. He awaits a hearing to determine a trial date and, if convicted, could face a life sentence in prison.\\n\\nThe Community's Response\\n\\nThe shocking nature of the crime has left the residents of Sydney reeling, as they struggle to come to terms with the harrowing event. The restaurant where the attack occurred has since been closed, with a makeshift memorial being created outside to commemorate the victims.\\n\\nMany have questioned how such a vicious crime could happen in what is considered to be one of the safest cities in the world. This tragic event has spurred local officials to reassess current security measures and devise strategies to reinforce public safety. Additionally, discussions surrounding mental health and criminal rehabilitation have surfaced as residents seek to comprehend the actions of the alleged perpetrator and prevent similar incidents from occurring in the future.\\n\\nIn the wake of the stabbing, the community has banded together with an outpouring of grief and support for the victims and their families. Candlelight vigils have been held, and an online fundraising campaign is underway to assist the surviving victim with his medical expenses and recovery.\\n\\nConclusion\\n\\nThe tragic attack in Sydney serves as a chilling reminder that senseless acts of violence can happen anywhere and at any time. The community's response to this horrific and seemingly random act of brutality has been one of solidarity and determination to prevent such incidents in the future. As the case unfolds, the victims and their families remain in the hearts of the community, who are grieving the devastating loss of a life cut tragically short and supporting the recovering victim as he continues to endure this unimaginable ordeal.\", \"weight\": 1.0, \"value_ru\": \"Трагедия в Сиднее: жертвы были зарезаны во время ужина, подозреваемый обвиняется в убийстве и покушении на убийство\\nВведение Введение\\nКазалось бы, обычный вечер принял трагический оборот в Сиднее, Австралия, когда романтический ужин в местном ресторане закончился кровопролитием, когда мужчина, предположительно, напал на пару, ударив обеих жертв ножом. Местные власти обвинили подозреваемого в убийстве и покушении на убийство в связи с ужасным преступлением. В этой статье мы углубимся в пугающий инцидент, подозреваемого и влияние, которое он оказал на сообщество.\\nИнцидент\\nТревожное событие произошло в популярном ресторане в Сиднее, Австралия. Женщина и ее парень наслаждались едой - блаженно не подозревая о трагических обстоятельствах, которые вскоре развернутся. Когда они разговаривали и наслаждались ужином, мужчина подошел к паре и без предупреждения начал наносить им удары острым предметом.\\nПосетители ресторана пытались спастись, так как нападавший продолжал свою жестокую ярость. Очевидцы быстро вызвали экстренные службы, которые оперативно прибыли на место происшествия. Хотя обе жертвы были доставлены в ближайшую больницу, женщина скончалась от полученных травм. Мужчина, с которым она была на свидании, оставался в критическом состоянии, борясь за свою жизнь.\\nПодозреваемый\\nПервоначальные расследования показали, что предполагаемый нападавший не имел никаких известных связей с жертвами, что добавило загадочности этому внезапному и жестокому нападению.Свидетели сообщили, что у нападавшего, похоже, не было конкретного мотива, и он, казалось, совершил акт бессмысленно.\\nПосле тщательного расследования местная полиция установила и арестовала подозреваемого. В ходе процесса было обнаружено, что предполагаемый нападавший имел криминальное прошлое и проблемное прошлое, хотя неясно, сыграло ли это роль в трагическом инциденте.\\nВласти официально обвинили мужчину в убийстве и покушении на убийство в связи с отвратительным преступлением. Он ожидает слушания, чтобы определить дату судебного разбирательства, и, если его признают виновным, ему может грозить пожизненное заключение в тюрьме.\\nОтвет сообщества\\nШокирующий характер преступления оставил жителей Сиднея в смятении, поскольку они изо всех сил пытаются смириться с мучительным событием.Ресторан, где произошло нападение, с тех пор был закрыт, а снаружи был создан импровизированный мемориал в память о жертвах.\\nМногие задаются вопросом, как такое жестокое преступление могло произойти в городе, который считается одним из самых безопасных в мире. Это трагическое событие побудило местных чиновников пересмотреть действующие меры безопасности и разработать стратегии по укреплению общественной безопасности. Кроме того, возникли дискуссии вокруг психического здоровья и реабилитации преступников, поскольку жители стремятся понять действия предполагаемого преступника и предотвратить подобные инциденты в будущем.\\nВ результате поножовщины сообщество объединилось с излиянием горя и поддержки жертв и их семей. Были проведены бдения при свечах, и в настоящее время проводится онлайн-кампания по сбору средств, чтобы помочь выжившей жертве с его медицинскими расходами и восстановлением.\\nЗаключение\\nТрагическое нападение в Сиднее служит пугающим напоминанием о том, что бессмысленные акты насилия могут произойти в любом месте и в любое время. Реакция сообщества на этот ужасный и, казалось бы, случайный акт жестокости была проявлением солидарности и решимости предотвратить подобные инциденты в будущем. По мере того, как дело разворачивается, жертвы и их семьи остаются в сердцах сообщества, которые скорбят о разрушительной потере жизни, трагически оборвавшейся, и поддерживают выздоравливающую жертву, поскольку он продолжает терпеть это невообразимое испытание.\"}], \"key\": 0}\n"
     ]
    }
   ],
   "source": [
    "with Session(autoflush=False, bind=engine) as db:\n",
    "    item = db.query(SlimOrcaTranslation).filter(SlimOrcaTranslation.key == 0).first()\n",
    "    if not item is None:\n",
    "        print(item.key)\n",
    "        print(item.json)\n",
    "    else:\n",
    "        print(\"Empty\")"
   ]
  }
 ],
 "metadata": {
  "kernelspec": {
   "display_name": "base",
   "language": "python",
   "name": "python3"
  },
  "language_info": {
   "codemirror_mode": {
    "name": "ipython",
    "version": 3
   },
   "file_extension": ".py",
   "mimetype": "text/x-python",
   "name": "python",
   "nbconvert_exporter": "python",
   "pygments_lexer": "ipython3",
   "version": "3.10.13"
  }
 },
 "nbformat": 4,
 "nbformat_minor": 2
}
