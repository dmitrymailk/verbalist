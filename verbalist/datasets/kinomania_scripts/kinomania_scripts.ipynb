{
 "cells": [
  {
   "cell_type": "code",
   "execution_count": 2,
   "metadata": {},
   "outputs": [
    {
     "name": "stderr",
     "output_type": "stream",
     "text": [
      "/home/kosenko/miniconda3/lib/python3.10/site-packages/tqdm/auto.py:21: TqdmWarning: IProgress not found. Please update jupyter and ipywidgets. See https://ipywidgets.readthedocs.io/en/stable/user_install.html\n",
      "  from .autonotebook import tqdm as notebook_tqdm\n"
     ]
    }
   ],
   "source": [
    "import requests\n",
    "from bs4 import BeautifulSoup\n",
    "import pandas as pd\n",
    "import re\n",
    "from tqdm import tqdm\n",
    "import uuid\n",
    "\n",
    "from datasets import Dataset"
   ]
  },
  {
   "cell_type": "code",
   "execution_count": null,
   "metadata": {},
   "outputs": [],
   "source": [
    "url = \"https://www.kinomania.ru/film/441560/script/262\"\n",
    "response = requests.get(url=url)\n",
    "soup = BeautifulSoup(response.text)\n",
    "movie_description = soup.find(\"div\", class_=\"scripts-info-caption\")\n",
    "print(movie_description.text)\n",
    "movie_script = soup.find(\"div\", class_=\"row-text\")\n",
    "print(movie_script.text)\n",
    "title = soup.find(\"h1\", class_=\"pagetitle\").text\n",
    "print(title)"
   ]
  },
  {
   "cell_type": "code",
   "execution_count": 6,
   "metadata": {},
   "outputs": [
    {
     "data": {
      "text/plain": [
       "'Чужой против Хищника'"
      ]
     },
     "execution_count": 6,
     "metadata": {},
     "output_type": "execute_result"
    }
   ],
   "source": []
  },
  {
   "cell_type": "code",
   "execution_count": 4,
   "metadata": {},
   "outputs": [
    {
     "name": "stderr",
     "output_type": "stream",
     "text": [
      "100%|██████████| 27/27 [00:14<00:00,  1.92it/s]\n"
     ]
    }
   ],
   "source": [
    "class KinomaniaScriptsParser:\n",
    "    def __init__(self) -> None:\n",
    "        self.urls = []\n",
    "        self.dataset = []\n",
    "\n",
    "    def parse_scripts(self):\n",
    "        self.urls = self.parse_scripts_links()\n",
    "\n",
    "        for url in tqdm(self.urls):\n",
    "            response = requests.get(url=url)\n",
    "            soup = BeautifulSoup(response.text)\n",
    "\n",
    "            movie_description = soup.find(\"div\", class_=\"scripts-info-caption\").text\n",
    "            movie_script = soup.find(\"div\", class_=\"row-text\").text\n",
    "            title = soup.find(\"h1\", class_=\"pagetitle\").text\n",
    "\n",
    "            self.dataset.append(\n",
    "                {\n",
    "                    \"title\": title,\n",
    "                    \"movie_description\": movie_description,\n",
    "                    \"movie_script\": movie_script,\n",
    "                }\n",
    "            )\n",
    "\n",
    "    def parse_scripts_links(self):\n",
    "        url = \"https://www.kinomania.ru/scripts\"\n",
    "        response = requests.get(url=url)\n",
    "        soup = BeautifulSoup(response.text)\n",
    "        all_scripts = soup.find_all(\"div\", class_=\"list-tile-item\")\n",
    "        all_links = []\n",
    "        for item in all_scripts:\n",
    "            script_href = item.find(\"a\")[\"href\"]\n",
    "            script_href = f\"https://www.kinomania.ru/{script_href}\"\n",
    "            all_links.append(script_href)\n",
    "\n",
    "        return all_links\n",
    "\n",
    "\n",
    "parser = KinomaniaScriptsParser()\n",
    "parser.parse_scripts()"
   ]
  },
  {
   "cell_type": "code",
   "execution_count": 11,
   "metadata": {},
   "outputs": [],
   "source": [
    "url = \"https://www.kinomania.ru/scripts\"\n",
    "response = requests.get(url=url)\n",
    "soup = BeautifulSoup(response.text)\n",
    "all_scripts = soup.find_all(\"div\", class_=\"list-tile-item\")"
   ]
  },
  {
   "cell_type": "code",
   "execution_count": 15,
   "metadata": {},
   "outputs": [
    {
     "data": {
      "text/plain": [
       "'https://www.kinomania.ru//film/401988/script/268'"
      ]
     },
     "execution_count": 15,
     "metadata": {},
     "output_type": "execute_result"
    }
   ],
   "source": [
    "script_href = all_scripts[0].find(\"a\")[\"href\"]\n",
    "script_href = f\"https://www.kinomania.ru/{script_href}\"\n",
    "script_href"
   ]
  },
  {
   "cell_type": "markdown",
   "metadata": {},
   "source": [
    "### convert to dataset\n"
   ]
  },
  {
   "cell_type": "code",
   "execution_count": 43,
   "metadata": {},
   "outputs": [],
   "source": [
    "def remove_new_lines(string):\n",
    "    string = re.sub(r\"[\\n\\t\\r]{3,}\", \"\\n\\n\", string)\n",
    "    string = re.sub(r\"[ ]{2,}\", \" \", string)\n",
    "    return string\n",
    "\n",
    "\n",
    "dataset = parser.dataset\n",
    "\n",
    "# text = remove_new_lines(dataset[1]['movie_script'])\n",
    "for i in range(len(dataset)):\n",
    "    dataset[i][\"movie_script\"] = remove_new_lines(dataset[i][\"movie_script\"])"
   ]
  },
  {
   "cell_type": "code",
   "execution_count": 5,
   "metadata": {},
   "outputs": [],
   "source": [
    "pd.DataFrame(data=dataset).to_csv(\n",
    "    \"./verbalist/datasets/kinomania_scripts/kinomania_scripts.csv\",\n",
    "    index=False,\n",
    ")"
   ]
  },
  {
   "cell_type": "code",
   "execution_count": 10,
   "metadata": {},
   "outputs": [],
   "source": [
    "dataset = pd.read_csv(\"./verbalist/datasets/kinomania_scripts/kinomania_scripts.csv\")\n",
    "dataset = dataset.to_dict('records')\n",
    "dataset = {item['title']: item for item in dataset}\n",
    "\n",
    "dataset2 = pd.read_csv(\"./verbalist/datasets/kinomania_scripts/kinomania_scripts_translated_summary.csv\")\n",
    "dataset2 = dataset2.to_dict('records')\n",
    "for item in dataset2:\n",
    "    dataset[item['title']]['movie_description'] = item['movie_description']\n",
    "\n",
    "dataset = list(dataset.values())"
   ]
  },
  {
   "cell_type": "code",
   "execution_count": 14,
   "metadata": {},
   "outputs": [
    {
     "data": {
      "text/plain": [
       "Dataset({\n",
       "    features: ['movie_script', 'movie_description', 'title'],\n",
       "    num_rows: 27\n",
       "})"
      ]
     },
     "execution_count": 14,
     "metadata": {},
     "output_type": "execute_result"
    }
   ],
   "source": [
    "dataset = Dataset.from_list(dataset)\n",
    "dataset"
   ]
  },
  {
   "cell_type": "code",
   "execution_count": 15,
   "metadata": {},
   "outputs": [
    {
     "name": "stderr",
     "output_type": "stream",
     "text": [
      "Creating parquet from Arrow format: 100%|██████████| 1/1 [00:00<00:00, 41.93ba/s]\n",
      "Pushing dataset shards to the dataset hub: 100%|██████████| 1/1 [00:02<00:00,  2.37s/it]\n",
      "Downloading metadata: 100%|██████████| 21.0/21.0 [00:00<00:00, 212kB/s]\n"
     ]
    }
   ],
   "source": [
    "dataset.push_to_hub(\"dim/kinomania_scripts\")"
   ]
  }
 ],
 "metadata": {
  "kernelspec": {
   "display_name": "base",
   "language": "python",
   "name": "python3"
  },
  "language_info": {
   "codemirror_mode": {
    "name": "ipython",
    "version": 3
   },
   "file_extension": ".py",
   "mimetype": "text/x-python",
   "name": "python",
   "nbconvert_exporter": "python",
   "pygments_lexer": "ipython3",
   "version": "3.10.9"
  },
  "orig_nbformat": 4
 },
 "nbformat": 4,
 "nbformat_minor": 2
}
