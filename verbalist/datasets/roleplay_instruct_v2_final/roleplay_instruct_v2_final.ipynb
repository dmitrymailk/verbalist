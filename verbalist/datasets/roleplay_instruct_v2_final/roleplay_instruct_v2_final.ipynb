{
 "cells": [
  {
   "cell_type": "code",
   "execution_count": 4,
   "metadata": {},
   "outputs": [
    {
     "name": "stderr",
     "output_type": "stream",
     "text": [
      "Creating parquet from Arrow format: 100%|██████████| 3/3 [00:00<00:00, 42.19ba/s]\n",
      "Pushing dataset shards to the dataset hub: 100%|██████████| 1/1 [00:02<00:00,  2.19s/it]\n"
     ]
    }
   ],
   "source": [
    "from datasets import Dataset\n",
    "import json\n",
    "\n",
    "with open(\"./verbalist/datasets/roleplay_instruct_v2_final/roleplay-instruct-v2-final.json\") as f:\n",
    "    dataset = json.load(f)\n",
    "\n",
    "dataset = Dataset.from_list(dataset)\n",
    "dataset = dataset.train_test_split(test_size=3000, seed=42)\n",
    "dataset['test'].push_to_hub(\"dim/roleplay_instruct_v2_final\")"
   ]
  }
 ],
 "metadata": {
  "kernelspec": {
   "display_name": "base",
   "language": "python",
   "name": "python3"
  },
  "language_info": {
   "codemirror_mode": {
    "name": "ipython",
    "version": 3
   },
   "file_extension": ".py",
   "mimetype": "text/x-python",
   "name": "python",
   "nbconvert_exporter": "python",
   "pygments_lexer": "ipython3",
   "version": "3.10.9"
  },
  "orig_nbformat": 4
 },
 "nbformat": 4,
 "nbformat_minor": 2
}
