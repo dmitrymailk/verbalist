{
 "cells": [
  {
   "cell_type": "code",
   "execution_count": 4,
   "metadata": {},
   "outputs": [
    {
     "name": "stderr",
     "output_type": "stream",
     "text": [
      "Creating parquet from Arrow format: 100%|██████████| 3/3 [00:00<00:00, 42.19ba/s]\n",
      "Pushing dataset shards to the dataset hub: 100%|██████████| 1/1 [00:02<00:00,  2.19s/it]\n"
     ]
    }
   ],
   "source": [
    "from datasets import Dataset\n",
    "import json\n",
    "\n",
    "with open(\"./verbalist/datasets/roleplay_instruct_v2_final/roleplay-instruct-v2-final.json\") as f:\n",
    "    dataset = json.load(f)\n",
    "\n",
    "dataset = Dataset.from_list(dataset)\n",
    "dataset = dataset.train_test_split(test_size=3000, seed=42)\n",
    "dataset['test'].push_to_hub(\"dim/roleplay_instruct_v2_final\")"
   ]
  },
  {
   "cell_type": "code",
   "execution_count": 1,
   "metadata": {},
   "outputs": [
    {
     "name": "stderr",
     "output_type": "stream",
     "text": [
      "/home/kosenko/miniconda3/lib/python3.10/site-packages/tqdm/auto.py:21: TqdmWarning: IProgress not found. Please update jupyter and ipywidgets. See https://ipywidgets.readthedocs.io/en/stable/user_install.html\n",
      "  from .autonotebook import tqdm as notebook_tqdm\n",
      "Downloading readme: 100%|██████████| 464/464 [00:00<00:00, 3.74MB/s]\n"
     ]
    },
    {
     "name": "stdout",
     "output_type": "stream",
     "text": [
      "Downloading and preparing dataset None/None to /home/kosenko/.cache/huggingface/datasets/dim___parquet/dim--roleplay_instruct_v2_final-e113982e3eb41d23/0.0.0/2a3b91fbd88a2c90d1dbbb32b460cf621d31bd5b05b934492fdef7d8d6f236ec...\n"
     ]
    },
    {
     "name": "stderr",
     "output_type": "stream",
     "text": [
      "Downloading data: 100%|██████████| 1.21M/1.21M [00:00<00:00, 2.61MB/s]\n",
      "Downloading data files: 100%|██████████| 1/1 [00:01<00:00,  1.68s/it]\n",
      "Extracting data files: 100%|██████████| 1/1 [00:00<00:00, 669.48it/s]\n",
      "                                                                       \r"
     ]
    },
    {
     "name": "stdout",
     "output_type": "stream",
     "text": [
      "Dataset parquet downloaded and prepared to /home/kosenko/.cache/huggingface/datasets/dim___parquet/dim--roleplay_instruct_v2_final-e113982e3eb41d23/0.0.0/2a3b91fbd88a2c90d1dbbb32b460cf621d31bd5b05b934492fdef7d8d6f236ec. Subsequent calls will reuse this data.\n"
     ]
    },
    {
     "name": "stderr",
     "output_type": "stream",
     "text": [
      "100%|██████████| 1/1 [00:00<00:00, 810.81it/s]\n"
     ]
    },
    {
     "data": {
      "text/plain": [
       "{'instruction': \"Pretend to be Marcus Fenix from Gears of War. Encourage your squad who's feeling hopeless in the fight against the Locust.\",\n",
       " 'input': '',\n",
       " 'output': \"Listen up, we've been through hell and back together, and there's nothing we can't overcome. The Locust may be tough, but we're tougher. We're Gears, and we don't back down from any fight. You're not alone, we've got each other's backs, and we'll push through this, just like always.\"}"
      ]
     },
     "execution_count": 1,
     "metadata": {},
     "output_type": "execute_result"
    }
   ],
   "source": [
    "from datasets import load_dataset\n",
    "dataset = load_dataset(\"dim/roleplay_instruct_v2_final\")\n",
    "dataset['train'][0]"
   ]
  }
 ],
 "metadata": {
  "kernelspec": {
   "display_name": "base",
   "language": "python",
   "name": "python3"
  },
  "language_info": {
   "codemirror_mode": {
    "name": "ipython",
    "version": 3
   },
   "file_extension": ".py",
   "mimetype": "text/x-python",
   "name": "python",
   "nbconvert_exporter": "python",
   "pygments_lexer": "ipython3",
   "version": "3.10.9"
  },
  "orig_nbformat": 4
 },
 "nbformat": 4,
 "nbformat_minor": 2
}
