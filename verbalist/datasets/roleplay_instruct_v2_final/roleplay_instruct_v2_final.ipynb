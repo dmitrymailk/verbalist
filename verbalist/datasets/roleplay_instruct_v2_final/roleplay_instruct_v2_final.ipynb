{
 "cells": [
  {
   "cell_type": "code",
   "execution_count": 3,
   "metadata": {},
   "outputs": [
    {
     "name": "stderr",
     "output_type": "stream",
     "text": [
      "Creating parquet from Arrow format: 100%|██████████| 8/8 [00:00<00:00, 377.02ba/s]\n"
     ]
    },
    {
     "name": "stderr",
     "output_type": "stream",
     "text": [
      "Pushing dataset shards to the dataset hub: 100%|██████████| 1/1 [00:02<00:00,  2.90s/it]\n",
      "Deleting unused files from dataset repository: 100%|██████████| 1/1 [00:00<00:00,  4.63it/s]\n"
     ]
    }
   ],
   "source": [
    "from datasets import Dataset\n",
    "import json\n",
    "\n",
    "with open(\"./verbalist/datasets/roleplay_instruct_v2_final/roleplay-instruct-v2-final.json\") as f:\n",
    "    dataset = json.load(f)\n",
    "\n",
    "dataset = Dataset.from_list(dataset)\n",
    "dataset.push_to_hub(\"dim/roleplay_instruct_v2_final\")"
   ]
  },
  {
   "cell_type": "code",
   "execution_count": 2,
   "metadata": {},
   "outputs": [
    {
     "data": {
      "text/plain": [
       "7188"
      ]
     },
     "execution_count": 2,
     "metadata": {},
     "output_type": "execute_result"
    }
   ],
   "source": [
    "len(dataset)"
   ]
  },
  {
   "cell_type": "code",
   "execution_count": 4,
   "metadata": {},
   "outputs": [
    {
     "name": "stderr",
     "output_type": "stream",
     "text": [
      "Downloading readme: 100%|██████████| 530/530 [00:00<00:00, 2.86MB/s]\n",
      "Downloading data: 100%|██████████| 2.88M/2.88M [00:01<00:00, 2.19MB/s]\n",
      "Downloading data files: 100%|██████████| 1/1 [00:01<00:00,  1.33s/it]\n",
      "Extracting data files: 100%|██████████| 1/1 [00:00<00:00, 359.35it/s]\n",
      "Generating train split: 100%|██████████| 7188/7188 [00:00<00:00, 321911.88 examples/s]\n"
     ]
    },
    {
     "data": {
      "text/plain": [
       "{'instruction': 'Roleplay as Lara Croft from the Tomb Raider series. A highly intelligent archaeologist and adventurer, you explore ancient tombs and ruins to uncover the mysteries of the past, all while combating danger and an organization bent on exploiting your discoveries.',\n",
       " 'input': \"What's your favorite part of being an archaeologist?\",\n",
       " 'output': \"The thrill of exploring the unknown, uncovering ancient mysteries, and preserving priceless treasures from the past is what drives me. It's truly exhilarating to stand in the same place where so much history has taken place and learn from it.\"}"
      ]
     },
     "execution_count": 4,
     "metadata": {},
     "output_type": "execute_result"
    }
   ],
   "source": [
    "from datasets import load_dataset\n",
    "dataset = load_dataset(\"dim/roleplay_instruct_v2_final\")\n",
    "dataset['train'][0]"
   ]
  }
 ],
 "metadata": {
  "kernelspec": {
   "display_name": "base",
   "language": "python",
   "name": "python3"
  },
  "language_info": {
   "codemirror_mode": {
    "name": "ipython",
    "version": 3
   },
   "file_extension": ".py",
   "mimetype": "text/x-python",
   "name": "python",
   "nbconvert_exporter": "python",
   "pygments_lexer": "ipython3",
   "version": "3.10.13"
  },
  "orig_nbformat": 4
 },
 "nbformat": 4,
 "nbformat_minor": 2
}
