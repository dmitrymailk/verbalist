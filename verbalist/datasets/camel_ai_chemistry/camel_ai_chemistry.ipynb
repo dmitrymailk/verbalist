{
 "cells": [
  {
   "cell_type": "code",
   "execution_count": 1,
   "metadata": {},
   "outputs": [
    {
     "name": "stderr",
     "output_type": "stream",
     "text": [
      "/home/kosenko/miniconda3/lib/python3.10/site-packages/tqdm/auto.py:21: TqdmWarning: IProgress not found. Please update jupyter and ipywidgets. See https://ipywidgets.readthedocs.io/en/stable/user_install.html\n",
      "  from .autonotebook import tqdm as notebook_tqdm\n",
      "Downloading readme: 100%|██████████| 2.14k/2.14k [00:00<00:00, 14.2MB/s]\n",
      "Downloading data: 100%|██████████| 21.8M/21.8M [00:04<00:00, 4.68MB/s]\n",
      "Downloading data files: 100%|██████████| 1/1 [00:04<00:00,  4.66s/it]\n",
      "Extracting data files: 100%|██████████| 1/1 [00:11<00:00, 11.97s/it]\n",
      "Generating train split: 20000 examples [00:11, 1801.40 examples/s]\n"
     ]
    },
    {
     "data": {
      "text/plain": [
       "Dataset({\n",
       "    features: ['role_1', 'topic;', 'sub_topic', 'message_1', 'message_2'],\n",
       "    num_rows: 20000\n",
       "})"
      ]
     },
     "execution_count": 1,
     "metadata": {},
     "output_type": "execute_result"
    }
   ],
   "source": [
    "from datasets import load_dataset, Dataset, load_from_disk\n",
    "\n",
    "dataset = load_dataset(\"camel-ai/chemistry\")\n",
    "dataset = dataset['train']\n",
    "dataset"
   ]
  },
  {
   "cell_type": "code",
   "execution_count": 4,
   "metadata": {},
   "outputs": [
    {
     "data": {
      "text/plain": [
       "{'role_1': 'Chemist_RoleType.ASSISTANT',\n",
       " 'topic;': 'Organic chemistry',\n",
       " 'sub_topic': 'Alkanes and cycloalkanes',\n",
       " 'message_1': 'What is the IUPAC name of a cycloalkane compound with 8 carbon atoms in its ring?',\n",
       " 'message_2': 'The IUPAC name of a cycloalkane compound with 8 carbon atoms in its ring is cyclooctane.'}"
      ]
     },
     "execution_count": 4,
     "metadata": {},
     "output_type": "execute_result"
    }
   ],
   "source": [
    "dataset[130]"
   ]
  },
  {
   "cell_type": "code",
   "execution_count": 5,
   "metadata": {},
   "outputs": [
    {
     "name": "stderr",
     "output_type": "stream",
     "text": [
      "Creating parquet from Arrow format: 100%|██████████| 20/20 [00:00<00:00, 23.89ba/s]\n",
      "Pushing dataset shards to the dataset hub: 100%|██████████| 1/1 [00:12<00:00, 12.18s/it]\n"
     ]
    }
   ],
   "source": [
    "dataset.push_to_hub(\"dim/camel_ai_chemistry\")"
   ]
  }
 ],
 "metadata": {
  "kernelspec": {
   "display_name": "base",
   "language": "python",
   "name": "python3"
  },
  "language_info": {
   "codemirror_mode": {
    "name": "ipython",
    "version": 3
   },
   "file_extension": ".py",
   "mimetype": "text/x-python",
   "name": "python",
   "nbconvert_exporter": "python",
   "pygments_lexer": "ipython3",
   "version": "3.10.13"
  }
 },
 "nbformat": 4,
 "nbformat_minor": 2
}
