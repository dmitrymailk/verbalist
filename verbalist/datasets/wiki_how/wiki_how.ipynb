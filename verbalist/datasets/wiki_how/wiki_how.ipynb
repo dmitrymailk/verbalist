{
 "cells": [
  {
   "cell_type": "code",
   "execution_count": 8,
   "metadata": {},
   "outputs": [
    {
     "name": "stderr",
     "output_type": "stream",
     "text": [
      "Found cached dataset parquet (/home/kosenko/.cache/huggingface/datasets/0x22almostEvil___parquet/0x22almostEvil--multilingual-wikihow-qa-16k-7a21737063f7b4d4/0.0.0/2a3b91fbd88a2c90d1dbbb32b460cf621d31bd5b05b934492fdef7d8d6f236ec)\n",
      "100%|██████████| 1/1 [00:00<00:00, 322.37it/s]\n"
     ]
    }
   ],
   "source": [
    "from datasets import load_dataset, concatenate_datasets\n",
    "\n",
    "dataset = load_dataset(\"0x22almostEvil/multilingual-wikihow-qa-16k\")\n",
    "dataset = dataset['train']"
   ]
  },
  {
   "cell_type": "code",
   "execution_count": 3,
   "metadata": {},
   "outputs": [
    {
     "data": {
      "text/plain": [
       "{'INSTRUCTION': 'How to Improve Your Memory Using Meditation',\n",
       " 'RESPONSE': 'Meditation has been scientifically proven to increase focus and memory. You don\\'t have to use any one meditation to help your memory. Using any meditation, such as mindfulness meditation, teaches you to focus your mind. When you\\'re able to focus better, you\\'re also better able to solidify concepts in your short-term memory. Therefore, practicing meditation can help you to develop your short-term memory.\\n1. **Start today.** You may be surprised that you don\\'t need to practice meditation for that long to start seeing the effects. One scientific study examined how a group of students responded to meditation. With just two weeks of meditation practice (10 minutes a day, plus 4 45-minute classes a week), the students significantly improved their GRE scores (a standardized test given to students trying to get into graduate school).\\nIn fact, some studies show as little as four days of meditation can improve your attention span and memory.\\n2. **Practice often.** Practicing every day is ideal. Doing so will help you work to increase your memory. In fact, spreading it out throughout the day can be helpful, such as meditating for 10 minutes in the morning, 10 minutes at lunch, and 10 minutes in the evening. However, if you find you can\\'t practice every day, do it as often as you can.\\n3. **Cultivate mindfulness.** Mindfulness is a part of meditation, but it\\'s also something you can incorporate in your day-to-day life. Mindfulness, at its most basic, just means paying attention. In other words, place yourself in the moment, rather then letting your mind race elsewhere.\\n\\nFor instance, when you\\'re in the shower, stop yourself from thinking about the day ahead. Instead, focus on what the shower feels like. Feel the heat of the water on your skin, how the soap feels against your body. Pay attention to the pleasant scent of your soap or shampoo. Let yourself really feel each sensation.\\nYou can practice this technique anywhere. For instance, while you\\'re washing dishes, take a moment to really focus on what you\\'re doing. Let yourself feel the warm water on your skin, the weight of a plate in your hands. Put your full attention on getting the plate clean, making sure it\\'s spotless.\\n4. **Work your way up.** You may want to jump in with an hour-long meditation every day. However, most people can\\'t sustain that kind of practice when they haven\\'t meditated before. It\\'s best to start small and work up to more time. You can start with as little as three minutes a day.\\n5. **Pick a place to meditate.** Really, you can meditate anywhere, but it\\'s good to choose a place that\\'s not distracting, particularly when you\\'re first starting out. Turn off the television, and move away from distractions. You can even set up a little meditation center in a corner of your house, with a candle and something you like to focus on.\\n6. **Sit properly.** You can sit in a chair or on the floor. It\\'s up to you. However, make sure you are relatively comfortable. You don\\'t want a lot of pressure on one part of your body, for instance. Try to sit up straight, though not so much that it feels like a strain.\\n7. **Get settled.** Spend a few minutes just bringing yourself into the right state of mind. Focus on the candle, if that helps. You don\\'t have to be completely focused, but as you feel your mind wander, bring it back to the center, to the moment.\\n8. **Focus on your breathing.** Once you\\'ve situated yourself, try paying attention to just your breathing. Focus on it going in and out. You don\\'t have to change it up. Rather, just keep your attention on it, focusing all of yourself on breathing in and out. As your mind wanders, bring it back to your breath.\\n9. **Keep bringing yourself back.** The longer you sit, the more likely your mind is to wander. That\\'s okay. It\\'s normal in fact. The important thing is to acknowledge that you\\'ve wandered and move back to your focus. Try labeling it when your mind wanders, such as saying \"thinking\" in your head, and then refocusing on your breath.\\n10. **Try deep breathing.** One simple way to get started with meditation is to try deep breathing. Start by placing a hand on your chest and a hand on your stomach. When you breathe, you should notice your stomach expanding more than your chest, as you are trying to breathe as deeply as possible. It can help to close your eyes. Breathe in slowly through your nose. Hold the breath to the count of seven, then let it slowly out through your mouth to the count of eight (in your head).\\n\\nTry taking five deep breaths each time you try this practice.\\nMake sure you are blowing out fully.\\n11. **Consider taking a class.** While classes aren\\'t for everyone, a class can jump start your meditation practice, making it easier for you to make it an everyday practice. Plus, if you have no idea where to begin, a class will help you figure out a good starting point.\\n\\nLook for meditation centers in your area. Some yoga studios offer meditation classes as well. Also, Buddhist temples or centers in your area will likely offer classes on meditation.\\nYou may also find meditation classes through your library or your local parks and recreation department, and some churches offer meditation classes, particularly ones that embrace other traditions, such as the Unitarian Universalists.\\n12. **Don\\'t let distraction make you anxious.** Everyone gets distracted when they meditate. When you\\'re first starting out, that may make you anxious or angry at yourself. However, rather than becoming angry, just try to be aware of when your thoughts are drifting, and pull them back to the meditation.\\n13. **Realize even a little meditation can help.** That is, you may think you have to meditate every single day at a certain time for it to be helpful. However, if you fall into that thinking, you may find yourself giving up because you miss a few days. Keep in mind that even a little meditation can help improve your memory. Therefore, try to meditate when you can, even if you don\\'t find time to do it every day.\\n14. **Try a guided meditation.** If you don\\'t want to take a class, you can still benefit from the wisdom of others. Try doing a guided meditation. You can find many online, or you can download free apps. The person on the other end will walk you through a meditation process, helping you to learn how to do it.\\n15. **Change it up.** You don\\'t have to meditate the same way every time. For instance, some people find a walking meditation helpful. Take a ten-minute walk, focusing on different sensations in turn. Start with feeling your body walking, really focusing on what the movements feel like. Move on to the feeling of breathing. After that, focus on what the air feels like on your skin, then try thinking about just what you see and then just what you hear.',\n",
       " 'SOURCE': 'en.wikihow.com',\n",
       " 'METADATA': '{\"url\": \"https://www.wikihow.com/Improve-Your-Memory-Using-Meditation\", \"language\": \"en\"}'}"
      ]
     },
     "execution_count": 3,
     "metadata": {},
     "output_type": "execute_result"
    }
   ],
   "source": [
    "dataset[0]"
   ]
  },
  {
   "cell_type": "code",
   "execution_count": 9,
   "metadata": {},
   "outputs": [
    {
     "name": "stderr",
     "output_type": "stream",
     "text": [
      "Loading cached processed dataset at /home/kosenko/.cache/huggingface/datasets/0x22almostEvil___parquet/0x22almostEvil--multilingual-wikihow-qa-16k-7a21737063f7b4d4/0.0.0/2a3b91fbd88a2c90d1dbbb32b460cf621d31bd5b05b934492fdef7d8d6f236ec/cache-a09c6ee6900c5b72.arrow\n"
     ]
    }
   ],
   "source": [
    "import json\n",
    "dataset = dataset.filter(lambda x: json.loads(x['METADATA'])['language'] == 'ru')"
   ]
  },
  {
   "cell_type": "code",
   "execution_count": 10,
   "metadata": {},
   "outputs": [
    {
     "data": {
      "text/plain": [
       "Dataset({\n",
       "    features: ['INSTRUCTION', 'RESPONSE', 'SOURCE', 'METADATA'],\n",
       "    num_rows: 2058\n",
       "})"
      ]
     },
     "execution_count": 10,
     "metadata": {},
     "output_type": "execute_result"
    }
   ],
   "source": [
    "dataset"
   ]
  },
  {
   "cell_type": "code",
   "execution_count": 12,
   "metadata": {},
   "outputs": [
    {
     "name": "stderr",
     "output_type": "stream",
     "text": [
      "Creating parquet from Arrow format: 100%|██████████| 3/3 [00:00<00:00, 20.69ba/s]\n",
      "Pushing dataset shards to the dataset hub: 100%|██████████| 1/1 [00:03<00:00,  3.82s/it]\n",
      "Downloading metadata: 100%|██████████| 21.0/21.0 [00:00<00:00, 136kB/s]\n"
     ]
    }
   ],
   "source": [
    "# dataset.push_to_hub(\"dim/wikihow_en\")\n",
    "dataset.push_to_hub(\"dim/wikihow_ru\")"
   ]
  },
  {
   "cell_type": "code",
   "execution_count": 11,
   "metadata": {},
   "outputs": [
    {
     "data": {
      "text/plain": [
       "{'INSTRUCTION': 'Как оставлять комментарии от имени своей страницы на Facebook',\n",
       " 'RESPONSE': 'В этой статье мы расскажем вам, как на Facebook оставлять комментарии на странице бренда, сервиса, компании или публичного человека от имени своей страницы (страницы, которой вы управляете).\\n1. **Перейдите по адресу https://www.facebook.com в веб-браузере.** Добавлять комментарии от имени своей страницы можно только с помощью компьютерного веб-браузера. \\nЕсли вы еще не авторизовались, в верхнем правом углу введите имя пользователя и пароль, а затем нажмите «Войти».\\n2. **Перейдите на страницу, на которой хотите оставить комментарий.** Добавить комментарий от имени страницы можно на любой странице, включая вашу собственную. \\n\\nЕсли нужно, найдите страницу с помощью строки поиска вверху экрана. Чтобы открыть свою страницу, щелкните по ее имени в поле «Ваши страницы» в верхнем правом углу.\\nОставлять комментарии от имени страницы в своем профиле не получится.\\n3. **Найдите публикацию, которую хотите прокомментировать.** \\n4. **Нажмите на изображение своего профиля в публикации.** Вы найдете его справа от публикации и слева от значка в виде серой стрелки. Откроется меню.\\n5. **Выберите свою страницу.** Изображение вашего профиля в публикации изменится на изображение вашей страницы.\\n6. **Оставьте свой комментарий.** Введите комментарий в пустом поле под публикацией, а затем нажмите ↵ Enter (Windows) или ⏎ Return (Mac). Ваш комментарий будет выглядеть так, как будто он добавлен вашей страницей.',\n",
       " 'SOURCE': 'ru.wikihow.com',\n",
       " 'METADATA': '{\"url\": \"https://ru.wikihow.com/%D0%BE%D1%81%D1%82%D0%B0%D0%B2%D0%BB%D1%8F%D1%82%D1%8C-%D0%BA%D0%BE%D0%BC%D0%BC%D0%B5%D0%BD%D1%82%D0%B0%D1%80%D0%B8%D0%B8-%D0%BE%D1%82-%D0%B8%D0%BC%D0%B5%D0%BD%D0%B8-%D1%81%D0%B2%D0%BE%D0%B5%D0%B9-%D1%81%D1%82%D1%80%D0%B0%D0%BD%D0%B8%D1%86%D1%8B-%D0%BD%D0%B0-Facebook\", \"language\": \"ru\"}'}"
      ]
     },
     "execution_count": 11,
     "metadata": {},
     "output_type": "execute_result"
    }
   ],
   "source": [
    "dataset[0]"
   ]
  },
  {
   "cell_type": "code",
   "execution_count": 13,
   "metadata": {},
   "outputs": [
    {
     "data": {
      "text/plain": [
       "2058"
      ]
     },
     "execution_count": 13,
     "metadata": {},
     "output_type": "execute_result"
    }
   ],
   "source": [
    "len(dataset)"
   ]
  },
  {
   "cell_type": "code",
   "execution_count": null,
   "metadata": {},
   "outputs": [],
   "source": [
    "for item in dataset:\n",
    "    print(item['INSTRUCTION'])\n",
    "    print(item['RESPONSE'])\n",
    "    print(\"=\"*100)\n",
    "    print(\"=\"*100)\n",
    "    print(\"=\"*100)"
   ]
  },
  {
   "cell_type": "markdown",
   "metadata": {},
   "source": [
    "### show distribution\n"
   ]
  },
  {
   "cell_type": "code",
   "execution_count": 13,
   "metadata": {},
   "outputs": [
    {
     "data": {
      "image/png": "[encoded data removed]",
      "text/plain": [
       "<Figure size 640x480 with 1 Axes>"
      ]
     },
     "metadata": {},
     "output_type": "display_data"
    }
   ],
   "source": [
    "from transformers import AutoTokenizer\n",
    "from verbalist.datasets.utils import visualize_hist\n",
    "\n",
    "tokenizer = AutoTokenizer.from_pretrained(\"meta-llama/Llama-2-7b-hf\")\n",
    "# dataset = load_dataset(dataset_name)\n",
    "# dataset = dataset[\"train\"]\n",
    "lengths = []\n",
    "\n",
    "for item in dataset:\n",
    "    # print(item['INSTRUCTION'])\n",
    "    # print(item['RESPONSE'])\n",
    "    text = item['INSTRUCTION'] + item['RESPONSE'] \n",
    "    length = len(tokenizer(text)[\"input_ids\"])\n",
    "    lengths.append(length)\n",
    "    # print(all_conv)\n",
    "visualize_hist(lengths, 'ru')"
   ]
  },
  {
   "cell_type": "code",
   "execution_count": 17,
   "metadata": {},
   "outputs": [
    {
     "data": {
      "image/png": "[encoded data removed]",
      "text/plain": [
       "<Figure size 640x480 with 1 Axes>"
      ]
     },
     "metadata": {},
     "output_type": "display_data"
    }
   ],
   "source": [
    "for item in dataset:\n",
    "    # print(item['INSTRUCTION'])\n",
    "    # print(item['RESPONSE'])\n",
    "    text = item['INSTRUCTION'] + item['RESPONSE'] \n",
    "    length = len(tokenizer(text)[\"input_ids\"])\n",
    "    lengths.append(length)\n",
    "    # print(all_conv)\n",
    "visualize_hist(lengths, 'en')"
   ]
  },
  {
   "cell_type": "code",
   "execution_count": 1,
   "metadata": {},
   "outputs": [
    {
     "name": "stderr",
     "output_type": "stream",
     "text": [
      "/home/kosenko/miniconda3/lib/python3.10/site-packages/tqdm/auto.py:21: TqdmWarning: IProgress not found. Please update jupyter and ipywidgets. See https://ipywidgets.readthedocs.io/en/stable/user_install.html\n",
      "  from .autonotebook import tqdm as notebook_tqdm\n",
      "Downloading readme: 100%|██████████| 339/339 [00:00<00:00, 3.11MB/s]\n"
     ]
    },
    {
     "name": "stdout",
     "output_type": "stream",
     "text": [
      "Downloading and preparing dataset None/None to /home/kosenko/.cache/huggingface/datasets/dim___parquet/dim--wikihow_en-a70b68d649bfa5b6/0.0.0/2a3b91fbd88a2c90d1dbbb32b460cf621d31bd5b05b934492fdef7d8d6f236ec...\n"
     ]
    },
    {
     "name": "stderr",
     "output_type": "stream",
     "text": [
      "Downloading data: 100%|██████████| 8.90M/8.90M [00:00<00:00, 10.9MB/s]\n",
      "Downloading data files: 100%|██████████| 1/1 [00:02<00:00,  2.12s/it]\n",
      "Extracting data files: 100%|██████████| 1/1 [00:00<00:00, 262.39it/s]\n",
      "                                                                       \r"
     ]
    },
    {
     "name": "stdout",
     "output_type": "stream",
     "text": [
      "Dataset parquet downloaded and prepared to /home/kosenko/.cache/huggingface/datasets/dim___parquet/dim--wikihow_en-a70b68d649bfa5b6/0.0.0/2a3b91fbd88a2c90d1dbbb32b460cf621d31bd5b05b934492fdef7d8d6f236ec. Subsequent calls will reuse this data.\n"
     ]
    },
    {
     "name": "stderr",
     "output_type": "stream",
     "text": [
      "100%|██████████| 1/1 [00:00<00:00, 676.61it/s]\n"
     ]
    },
    {
     "data": {
      "text/plain": [
       "{'INSTRUCTION': 'How to Improve Your Memory Using Meditation',\n",
       " 'RESPONSE': 'Meditation has been scientifically proven to increase focus and memory. You don\\'t have to use any one meditation to help your memory. Using any meditation, such as mindfulness meditation, teaches you to focus your mind. When you\\'re able to focus better, you\\'re also better able to solidify concepts in your short-term memory. Therefore, practicing meditation can help you to develop your short-term memory.\\n1. **Start today.** You may be surprised that you don\\'t need to practice meditation for that long to start seeing the effects. One scientific study examined how a group of students responded to meditation. With just two weeks of meditation practice (10 minutes a day, plus 4 45-minute classes a week), the students significantly improved their GRE scores (a standardized test given to students trying to get into graduate school).\\nIn fact, some studies show as little as four days of meditation can improve your attention span and memory.\\n2. **Practice often.** Practicing every day is ideal. Doing so will help you work to increase your memory. In fact, spreading it out throughout the day can be helpful, such as meditating for 10 minutes in the morning, 10 minutes at lunch, and 10 minutes in the evening. However, if you find you can\\'t practice every day, do it as often as you can.\\n3. **Cultivate mindfulness.** Mindfulness is a part of meditation, but it\\'s also something you can incorporate in your day-to-day life. Mindfulness, at its most basic, just means paying attention. In other words, place yourself in the moment, rather then letting your mind race elsewhere.\\n\\nFor instance, when you\\'re in the shower, stop yourself from thinking about the day ahead. Instead, focus on what the shower feels like. Feel the heat of the water on your skin, how the soap feels against your body. Pay attention to the pleasant scent of your soap or shampoo. Let yourself really feel each sensation.\\nYou can practice this technique anywhere. For instance, while you\\'re washing dishes, take a moment to really focus on what you\\'re doing. Let yourself feel the warm water on your skin, the weight of a plate in your hands. Put your full attention on getting the plate clean, making sure it\\'s spotless.\\n4. **Work your way up.** You may want to jump in with an hour-long meditation every day. However, most people can\\'t sustain that kind of practice when they haven\\'t meditated before. It\\'s best to start small and work up to more time. You can start with as little as three minutes a day.\\n5. **Pick a place to meditate.** Really, you can meditate anywhere, but it\\'s good to choose a place that\\'s not distracting, particularly when you\\'re first starting out. Turn off the television, and move away from distractions. You can even set up a little meditation center in a corner of your house, with a candle and something you like to focus on.\\n6. **Sit properly.** You can sit in a chair or on the floor. It\\'s up to you. However, make sure you are relatively comfortable. You don\\'t want a lot of pressure on one part of your body, for instance. Try to sit up straight, though not so much that it feels like a strain.\\n7. **Get settled.** Spend a few minutes just bringing yourself into the right state of mind. Focus on the candle, if that helps. You don\\'t have to be completely focused, but as you feel your mind wander, bring it back to the center, to the moment.\\n8. **Focus on your breathing.** Once you\\'ve situated yourself, try paying attention to just your breathing. Focus on it going in and out. You don\\'t have to change it up. Rather, just keep your attention on it, focusing all of yourself on breathing in and out. As your mind wanders, bring it back to your breath.\\n9. **Keep bringing yourself back.** The longer you sit, the more likely your mind is to wander. That\\'s okay. It\\'s normal in fact. The important thing is to acknowledge that you\\'ve wandered and move back to your focus. Try labeling it when your mind wanders, such as saying \"thinking\" in your head, and then refocusing on your breath.\\n10. **Try deep breathing.** One simple way to get started with meditation is to try deep breathing. Start by placing a hand on your chest and a hand on your stomach. When you breathe, you should notice your stomach expanding more than your chest, as you are trying to breathe as deeply as possible. It can help to close your eyes. Breathe in slowly through your nose. Hold the breath to the count of seven, then let it slowly out through your mouth to the count of eight (in your head).\\n\\nTry taking five deep breaths each time you try this practice.\\nMake sure you are blowing out fully.\\n11. **Consider taking a class.** While classes aren\\'t for everyone, a class can jump start your meditation practice, making it easier for you to make it an everyday practice. Plus, if you have no idea where to begin, a class will help you figure out a good starting point.\\n\\nLook for meditation centers in your area. Some yoga studios offer meditation classes as well. Also, Buddhist temples or centers in your area will likely offer classes on meditation.\\nYou may also find meditation classes through your library or your local parks and recreation department, and some churches offer meditation classes, particularly ones that embrace other traditions, such as the Unitarian Universalists.\\n12. **Don\\'t let distraction make you anxious.** Everyone gets distracted when they meditate. When you\\'re first starting out, that may make you anxious or angry at yourself. However, rather than becoming angry, just try to be aware of when your thoughts are drifting, and pull them back to the meditation.\\n13. **Realize even a little meditation can help.** That is, you may think you have to meditate every single day at a certain time for it to be helpful. However, if you fall into that thinking, you may find yourself giving up because you miss a few days. Keep in mind that even a little meditation can help improve your memory. Therefore, try to meditate when you can, even if you don\\'t find time to do it every day.\\n14. **Try a guided meditation.** If you don\\'t want to take a class, you can still benefit from the wisdom of others. Try doing a guided meditation. You can find many online, or you can download free apps. The person on the other end will walk you through a meditation process, helping you to learn how to do it.\\n15. **Change it up.** You don\\'t have to meditate the same way every time. For instance, some people find a walking meditation helpful. Take a ten-minute walk, focusing on different sensations in turn. Start with feeling your body walking, really focusing on what the movements feel like. Move on to the feeling of breathing. After that, focus on what the air feels like on your skin, then try thinking about just what you see and then just what you hear.',\n",
       " 'SOURCE': 'en.wikihow.com',\n",
       " 'METADATA': '{\"url\": \"https://www.wikihow.com/Improve-Your-Memory-Using-Meditation\", \"language\": \"en\"}'}"
      ]
     },
     "execution_count": 1,
     "metadata": {},
     "output_type": "execute_result"
    }
   ],
   "source": [
    "from datasets import load_dataset\n",
    "dataset = load_dataset(\"dim/wikihow_en\")\n",
    "dataset['train'][0]"
   ]
  },
  {
   "cell_type": "code",
   "execution_count": 2,
   "metadata": {},
   "outputs": [
    {
     "data": {
      "text/plain": [
       "DatasetDict({\n",
       "    train: Dataset({\n",
       "        features: ['INSTRUCTION', 'RESPONSE', 'SOURCE', 'METADATA'],\n",
       "        num_rows: 1995\n",
       "    })\n",
       "})"
      ]
     },
     "execution_count": 2,
     "metadata": {},
     "output_type": "execute_result"
    }
   ],
   "source": [
    "dataset"
   ]
  }
 ],
 "metadata": {
  "kernelspec": {
   "display_name": "base",
   "language": "python",
   "name": "python3"
  },
  "language_info": {
   "codemirror_mode": {
    "name": "ipython",
    "version": 3
   },
   "file_extension": ".py",
   "mimetype": "text/x-python",
   "name": "python",
   "nbconvert_exporter": "python",
   "pygments_lexer": "ipython3",
   "version": "3.10.13"
  },
  "orig_nbformat": 4
 },
 "nbformat": 4,
 "nbformat_minor": 2
}
