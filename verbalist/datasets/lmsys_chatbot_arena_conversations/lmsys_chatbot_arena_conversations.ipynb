{
 "cells": [
  {
   "cell_type": "code",
   "execution_count": 1,
   "metadata": {},
   "outputs": [
    {
     "name": "stderr",
     "output_type": "stream",
     "text": [
      "/home/kosenko/miniconda3/lib/python3.10/site-packages/tqdm/auto.py:21: TqdmWarning: IProgress not found. Please update jupyter and ipywidgets. See https://ipywidgets.readthedocs.io/en/stable/user_install.html\n",
      "  from .autonotebook import tqdm as notebook_tqdm\n"
     ]
    }
   ],
   "source": [
    "from datasets import Dataset, load_dataset, concatenate_datasets\n",
    "\n",
    "dataset = load_dataset(\"lmsys/chatbot_arena_conversations\")\n",
    "dataset = dataset[\"train\"]"
   ]
  },
  {
   "cell_type": "code",
   "execution_count": 7,
   "metadata": {},
   "outputs": [
    {
     "data": {
      "text/plain": [
       "{'RWKV-4-Raven-14B',\n",
       " 'alpaca-13b',\n",
       " 'chatglm-6b',\n",
       " 'claude-instant-v1',\n",
       " 'claude-v1',\n",
       " 'dolly-v2-12b',\n",
       " 'fastchat-t5-3b',\n",
       " 'gpt-3.5-turbo',\n",
       " 'gpt-4',\n",
       " 'gpt4all-13b-snoozy',\n",
       " 'guanaco-33b',\n",
       " 'koala-13b',\n",
       " 'llama-13b',\n",
       " 'mpt-7b-chat',\n",
       " 'oasst-pythia-12b',\n",
       " 'palm-2',\n",
       " 'stablelm-tuned-alpha-7b',\n",
       " 'vicuna-13b',\n",
       " 'vicuna-7b',\n",
       " 'wizardlm-13b'}"
      ]
     },
     "execution_count": 7,
     "metadata": {},
     "output_type": "execute_result"
    }
   ],
   "source": [
    "set(dataset[\"model_a\"])"
   ]
  },
  {
   "cell_type": "code",
   "execution_count": 8,
   "metadata": {},
   "outputs": [
    {
     "data": {
      "text/plain": [
       "{'Afrikaans',\n",
       " 'Arabic',\n",
       " 'Aymara',\n",
       " 'Bulgarian',\n",
       " 'Catalan',\n",
       " 'Chinese',\n",
       " 'Croatian',\n",
       " 'Czech',\n",
       " 'Danish',\n",
       " 'Dutch',\n",
       " 'English',\n",
       " 'Esperanto',\n",
       " 'Estonian',\n",
       " 'Fijian',\n",
       " 'Finnish',\n",
       " 'French',\n",
       " 'Galician',\n",
       " 'German',\n",
       " 'Greek',\n",
       " 'Guarani',\n",
       " 'Haitian Creole',\n",
       " 'Hawaiian',\n",
       " 'Hebrew',\n",
       " 'Hmong',\n",
       " 'Hungarian',\n",
       " 'Indonesian',\n",
       " 'Interlingua',\n",
       " 'Italian',\n",
       " 'Japanese',\n",
       " 'Klingon',\n",
       " 'Korean',\n",
       " 'Latin',\n",
       " 'Latvian',\n",
       " 'Luxembourgish',\n",
       " 'Macedonian',\n",
       " 'Malay',\n",
       " 'Maltese',\n",
       " 'Norwegian',\n",
       " 'Norwegian Nynorsk',\n",
       " 'Persian',\n",
       " 'Polish',\n",
       " 'Portuguese',\n",
       " 'Quechua',\n",
       " 'Romanian',\n",
       " 'Russian',\n",
       " 'Sanskrit',\n",
       " 'Scots',\n",
       " 'Serbian',\n",
       " 'Shona',\n",
       " 'Slovak',\n",
       " 'Slovenian',\n",
       " 'Spanish',\n",
       " 'Swedish',\n",
       " 'Thai',\n",
       " 'Tsonga',\n",
       " 'Turkish',\n",
       " 'Ukrainian',\n",
       " 'Uzbek',\n",
       " 'Vietnamese',\n",
       " 'Waray',\n",
       " 'Xhosa',\n",
       " 'unknown'}"
      ]
     },
     "execution_count": 8,
     "metadata": {},
     "output_type": "execute_result"
    }
   ],
   "source": [
    "set(dataset[\"language\"])"
   ]
  },
  {
   "cell_type": "code",
   "execution_count": 2,
   "metadata": {},
   "outputs": [],
   "source": [
    "include_model = lambda x: x in [\"gpt-4\", \"claude-v1\", \"gpt-3.5-turbo\"]\n",
    "\n",
    "dataset = dataset.filter(\n",
    "    lambda x: (include_model(x[\"model_a\"]) or include_model(x[\"model_b\"]))\n",
    "    # and x[\"language\"] == \"Russian\"\n",
    ")"
   ]
  },
  {
   "cell_type": "code",
   "execution_count": 3,
   "metadata": {},
   "outputs": [
    {
     "data": {
      "text/plain": [
       "Dataset({\n",
       "    features: ['question_id', 'model_a', 'model_b', 'winner', 'judge', 'conversation_a', 'conversation_b', 'turn', 'anony', 'language', 'tstamp', 'openai_moderation', 'toxic_chat_tag'],\n",
       "    num_rows: 11762\n",
       "})"
      ]
     },
     "execution_count": 3,
     "metadata": {},
     "output_type": "execute_result"
    }
   ],
   "source": [
    "dataset"
   ]
  },
  {
   "cell_type": "code",
   "execution_count": 4,
   "metadata": {},
   "outputs": [
    {
     "data": {
      "text/plain": [
       "{'question_id': 'c22fc80a3e9a4c31a7f1c5005ab0ce6f',\n",
       " 'model_a': 'vicuna-13b',\n",
       " 'model_b': 'gpt-3.5-turbo',\n",
       " 'winner': 'model_b',\n",
       " 'judge': 'arena_user_4055',\n",
       " 'conversation_a': [{'content': \"Explain string theory like I'm 5 years old\",\n",
       "   'role': 'user'},\n",
       "  {'content': \"String theory is a way that some scientists try to understand the universe. They think that everything in the universe, including you and me, is made up of tiny strings that vibrate at different frequencies. These vibrations create all the different types of particles, like atoms and photons, that make up everything around us.\\n\\nThe strings are too small to see with our eyes, but scientists use special tools, like telescopes and microscopes, to study them. They also use math to help them understand how the strings work and how they create different types of particles.\\n\\nString theory is still a theory, which means that scientists are still trying to prove it's true. But if it turns out to be true, it could help us understand a lot more about the universe and how it works.\",\n",
       "   'role': 'assistant'}],\n",
       " 'conversation_b': [{'content': \"Explain string theory like I'm 5 years old\",\n",
       "   'role': 'user'},\n",
       "  {'content': \"Have you ever played with a rubber band? It's stretchy and can move around in different ways, right? Well, scientists think that everything in the universe is made up of tiny rubber band-like things called strings. These strings can vibrate and move around in different ways, creating all the different things we see around us, like stars, planets, and even you and me! It's like a big musical orchestra where each string instrument plays a different note, and together they make beautiful music. That's kind of like how string theory works!\",\n",
       "   'role': 'assistant'}],\n",
       " 'turn': 1,\n",
       " 'anony': True,\n",
       " 'language': 'English',\n",
       " 'tstamp': 1683146749.9268,\n",
       " 'openai_moderation': {'categories': {'harassment': False,\n",
       "   'harassment/threatening': False,\n",
       "   'hate': False,\n",
       "   'hate/threatening': False,\n",
       "   'self-harm': False,\n",
       "   'self-harm/instructions': False,\n",
       "   'self-harm/intent': False,\n",
       "   'sexual': False,\n",
       "   'sexual/minors': False,\n",
       "   'violence': False,\n",
       "   'violence/graphic': False},\n",
       "  'category_scores': {'harassment': 0.000174838,\n",
       "   'harassment/threatening': 4.4377288e-07,\n",
       "   'hate': 3.3658427e-05,\n",
       "   'hate/threatening': 1.15996066e-07,\n",
       "   'self-harm': 1.5791073e-07,\n",
       "   'self-harm/instructions': 3.7282567e-07,\n",
       "   'self-harm/intent': 1.2131227e-06,\n",
       "   'sexual': 3.6490537e-06,\n",
       "   'sexual/minors': 6.4805167e-06,\n",
       "   'violence': 1.4290283e-07,\n",
       "   'violence/graphic': 3.7934817e-07},\n",
       "  'flagged': False},\n",
       " 'toxic_chat_tag': {'roberta-large': {'flagged': False,\n",
       "   'probability': 0.015174777247011662},\n",
       "  't5-large': {'flagged': False, 'score': 0.0002826897205699952}}}"
      ]
     },
     "execution_count": 4,
     "metadata": {},
     "output_type": "execute_result"
    }
   ],
   "source": [
    "dataset[10]"
   ]
  },
  {
   "cell_type": "code",
   "execution_count": 9,
   "metadata": {},
   "outputs": [],
   "source": [
    "new_dataset = []\n",
    "\n",
    "for item in dataset:\n",
    "    question_id = item[\"question_id\"]\n",
    "    model_a = item[\"model_a\"]\n",
    "    model_b = item[\"model_b\"]\n",
    "    if include_model(model_a):\n",
    "        new_dataset.append(\n",
    "            {\n",
    "                \"question_id\": question_id,\n",
    "                \"model_a_b\": \"model_a\",\n",
    "                \"conversation\": item[\"conversation_a\"],\n",
    "                \"model_name\": model_a\n",
    "            }\n",
    "        )\n",
    "    if include_model(model_b):\n",
    "        new_dataset.append(\n",
    "            {\n",
    "                \"question_id\": question_id,\n",
    "                \"model_a_b\": \"model_b\",\n",
    "                \"conversation\": item[\"conversation_b\"],\n",
    "                \"model_name\": model_b\n",
    "            }\n",
    "        )"
   ]
  },
  {
   "cell_type": "code",
   "execution_count": 10,
   "metadata": {},
   "outputs": [
    {
     "data": {
      "text/plain": [
       "12798"
      ]
     },
     "execution_count": 10,
     "metadata": {},
     "output_type": "execute_result"
    }
   ],
   "source": [
    "len(new_dataset)"
   ]
  },
  {
   "cell_type": "code",
   "execution_count": 11,
   "metadata": {},
   "outputs": [],
   "source": [
    "new_dataset = Dataset.from_list(new_dataset)"
   ]
  },
  {
   "cell_type": "code",
   "execution_count": 12,
   "metadata": {},
   "outputs": [
    {
     "data": {
      "text/plain": [
       "{'question_id': 'daab6467e9534a87af17bab7a66c6add',\n",
       " 'model_a_b': 'model_b',\n",
       " 'conversation': [{'content': 'hablame en español', 'role': 'user'},\n",
       "  {'content': 'Claro, ¿en qué puedo ayudarte?', 'role': 'assistant'},\n",
       "  {'content': 'que es la matrix?', 'role': 'user'},\n",
       "  {'content': 'En el contexto de la ciencia ficción, la \"Matrix\" es un término que se refiere a una realidad simulada o virtual en la que los seres humanos viven sin saber que su mundo es una ilusión generada por una inteligencia artificial. En la película \"The Matrix\", la humanidad ha sido esclavizada por máquinas y se les ha implantado una ilusión de la vida real para controlarlos. La trama se centra en la lucha de un grupo de rebeldes humanos contra las máquinas y en la búsqueda de la verdad sobre la realidad en la que viven.',\n",
       "   'role': 'assistant'}],\n",
       " 'model_name': 'gpt-3.5-turbo'}"
      ]
     },
     "execution_count": 12,
     "metadata": {},
     "output_type": "execute_result"
    }
   ],
   "source": [
    "new_dataset[0]"
   ]
  },
  {
   "cell_type": "code",
   "execution_count": 13,
   "metadata": {},
   "outputs": [
    {
     "name": "stderr",
     "output_type": "stream",
     "text": [
      "Creating parquet from Arrow format: 100%|██████████| 13/13 [00:00<00:00, 179.99ba/s]\n",
      "Pushing dataset shards to the dataset hub: 100%|██████████| 1/1 [00:03<00:00,  3.51s/it]\n"
     ]
    }
   ],
   "source": [
    "new_dataset.push_to_hub(\"dim/lmsys_chatbot_arena_conversations_gpt4_gpt-3.5-turbo_claudy\")"
   ]
  }
 ],
 "metadata": {
  "kernelspec": {
   "display_name": "base",
   "language": "python",
   "name": "python3"
  },
  "language_info": {
   "codemirror_mode": {
    "name": "ipython",
    "version": 3
   },
   "file_extension": ".py",
   "mimetype": "text/x-python",
   "name": "python",
   "nbconvert_exporter": "python",
   "pygments_lexer": "ipython3",
   "version": "3.10.13"
  }
 },
 "nbformat": 4,
 "nbformat_minor": 2
}
