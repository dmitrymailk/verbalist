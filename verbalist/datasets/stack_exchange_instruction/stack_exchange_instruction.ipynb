{
 "cells": [
  {
   "cell_type": "code",
   "execution_count": 7,
   "metadata": {},
   "outputs": [
    {
     "name": "stderr",
     "output_type": "stream",
     "text": [
      "Found cached dataset parquet (/home/kosenko/.cache/huggingface/datasets/ArmelR___parquet/ArmelR--stack-exchange-instruction-69373b0e76e02a84/0.0.0/2a3b91fbd88a2c90d1dbbb32b460cf621d31bd5b05b934492fdef7d8d6f236ec)\n"
     ]
    },
    {
     "data": {
      "application/vnd.jupyter.widget-view+json": {
       "model_id": "f389fe05a6a3422f98481d756c3332c5",
       "version_major": 2,
       "version_minor": 0
      },
      "text/plain": [
       "  0%|          | 0/2 [00:00<?, ?it/s]"
      ]
     },
     "metadata": {},
     "output_type": "display_data"
    },
    {
     "data": {
      "text/plain": [
       "Dataset({\n",
       "    features: ['qid', 'question', 'date', 'metadata', 'response'],\n",
       "    num_rows: 10606840\n",
       "})"
      ]
     },
     "execution_count": 7,
     "metadata": {},
     "output_type": "execute_result"
    }
   ],
   "source": [
    "from datasets import load_dataset, Dataset, concatenate_datasets\n",
    "\n",
    "dataset = load_dataset(\"ArmelR/stack-exchange-instruction\")\n",
    "dataset = dataset[\"train\"]\n",
    "dataset"
   ]
  },
  {
   "cell_type": "code",
   "execution_count": 8,
   "metadata": {},
   "outputs": [
    {
     "name": "stderr",
     "output_type": "stream",
     "text": [
      "Loading cached split indices for dataset at /home/kosenko/.cache/huggingface/datasets/ArmelR___parquet/ArmelR--stack-exchange-instruction-69373b0e76e02a84/0.0.0/2a3b91fbd88a2c90d1dbbb32b460cf621d31bd5b05b934492fdef7d8d6f236ec/cache-7e3be0a02ab63c9f.arrow and /home/kosenko/.cache/huggingface/datasets/ArmelR___parquet/ArmelR--stack-exchange-instruction-69373b0e76e02a84/0.0.0/2a3b91fbd88a2c90d1dbbb32b460cf621d31bd5b05b934492fdef7d8d6f236ec/cache-b9865abf2a863e96.arrow\n"
     ]
    },
    {
     "data": {
      "text/plain": [
       "Dataset({\n",
       "    features: ['qid', 'question', 'date', 'metadata', 'response'],\n",
       "    num_rows: 200000\n",
       "})"
      ]
     },
     "execution_count": 8,
     "metadata": {},
     "output_type": "execute_result"
    }
   ],
   "source": [
    "dataset = dataset.train_test_split(test_size=200_000, seed=42)\n",
    "dataset = dataset[\"test\"]\n",
    "dataset"
   ]
  },
  {
   "cell_type": "code",
   "execution_count": 9,
   "metadata": {},
   "outputs": [
    {
     "data": {
      "application/vnd.jupyter.widget-view+json": {
       "model_id": "c6e1be9bc6174c49872896a3e1499406",
       "version_major": 2,
       "version_minor": 0
      },
      "text/plain": [
       "Pushing dataset shards to the dataset hub:   0%|          | 0/1 [00:00<?, ?it/s]"
      ]
     },
     "metadata": {},
     "output_type": "display_data"
    },
    {
     "data": {
      "application/vnd.jupyter.widget-view+json": {
       "model_id": "6b4aa66fc2d34aa1a8b32f18761084a0",
       "version_major": 2,
       "version_minor": 0
      },
      "text/plain": [
       "Creating parquet from Arrow format:   0%|          | 0/200 [00:00<?, ?ba/s]"
      ]
     },
     "metadata": {},
     "output_type": "display_data"
    },
    {
     "data": {
      "application/vnd.jupyter.widget-view+json": {
       "model_id": "5ff87469702b4d56a8245b75683ef6da",
       "version_major": 2,
       "version_minor": 0
      },
      "text/plain": [
       "Deleting unused files from dataset repository:   0%|          | 0/3 [00:00<?, ?it/s]"
      ]
     },
     "metadata": {},
     "output_type": "display_data"
    }
   ],
   "source": [
    "# dataset.push_to_hub(\"dim/stack_exchange_instruction_200k\")"
   ]
  },
  {
   "cell_type": "code",
   "execution_count": 11,
   "metadata": {},
   "outputs": [
    {
     "data": {
      "text/plain": [
       "{'qid': 45829939,\n",
       " 'question': 'I have a nodejs typescript project that requires the use of mysqljs (<https://www.npmjs.com/package/mysql>), I\\'ve imported the DefinitelyTyped package (<https://www.npmjs.com/package/@types/mysql>) and included them in my tsconfig file\\n\\ntsconfig.json\\n\\n> \\n> {\\n>  \"compilerOptions\": {\\n>  \"noImplicitAny\": false,\\n>  \"module\": \"commonjs\",\\n>  \"noEmitOnError\": true,\\n>  \"removeComments\": false,\\n>  \"sourceMap\": true,\\n>  \"target\": \"es6\"\\n>  },\\n>  \"exclude\": [\\n>  \"node\\\\_modules\"\\n>  ],\\n>  \"typeRoots\": [\\n>  \"node\\\\_modules/@types\",\\n>  \"Scripts/typings/node\"\\n>  ],\\n>  \"types\": [\\n>  \"mysql\",\\n>  \"node\"\\n>  ]\\n>  }\\n> \\n> \\n> \\n\\nI can correctly use the mysql module functions but I cannot access the types (IConnection, IQuery, etc).\\nI can also see the parameter and return types from intellisense.\\n\\nExample\\n\\n```\\nimport * as mysql from \\'mysql\\'\\n...\\ngetUser(username: string): User {\\n        mysql.createConnection({ host: \"...\", user: \"...\", password: \"...\" });\\n    }\\n\\n```\\n\\nBut I\\'d like to make a method that returns a type defined in the mysql typings (IQuery for example)\\n\\nSomething like\\n\\n```\\ngetUser(username:string): IQuery{\\n}\\n\\n```\\n\\nBeing a beginner in typescript coming from a c# background, I don\\'t see what\\'s going on here.\\n\\nThanks for the help.\\n\\nEDIT:\\nI have tried prefixing he type without any success as well as importing through this format `import {IConnection} from \\'mysql\\'`\\nThanks again.',\n",
       " 'date': '2017/08/23',\n",
       " 'metadata': ['https://Stackoverflow.com/questions/45829939',\n",
       "  'https://Stackoverflow.com',\n",
       "  'https://Stackoverflow.com/users/8405963/'],\n",
       " 'response': \"It seems as though ReSharper was my issue, I still haven't found how to omit the errors or fix them though.\\nI reinstalled Visual Studio 2017 and it worked without Resharper, but when I did install it, I started having problems again.\\nThanks for the help!\\nI'll edit this if I can find a solution.\"}"
      ]
     },
     "execution_count": 11,
     "metadata": {},
     "output_type": "execute_result"
    }
   ],
   "source": [
    "dataset[0]"
   ]
  },
  {
   "cell_type": "code",
   "execution_count": 12,
   "metadata": {},
   "outputs": [],
   "source": [
    "# dataset = load_dataset(\"dim/stack_exchange_instruction\")"
   ]
  }
 ],
 "metadata": {
  "kernelspec": {
   "display_name": "base",
   "language": "python",
   "name": "python3"
  },
  "language_info": {
   "codemirror_mode": {
    "name": "ipython",
    "version": 3
   },
   "file_extension": ".py",
   "mimetype": "text/x-python",
   "name": "python",
   "nbconvert_exporter": "python",
   "pygments_lexer": "ipython3",
   "version": "3.10.9"
  },
  "orig_nbformat": 4
 },
 "nbformat": 4,
 "nbformat_minor": 2
}
