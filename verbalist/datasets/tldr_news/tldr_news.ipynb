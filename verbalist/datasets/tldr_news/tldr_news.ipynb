{
 "cells": [
  {
   "cell_type": "code",
   "execution_count": 1,
   "metadata": {},
   "outputs": [
    {
     "name": "stderr",
     "output_type": "stream",
     "text": [
      "/home/kosenko/miniconda3/lib/python3.10/site-packages/tqdm/auto.py:21: TqdmWarning: IProgress not found. Please update jupyter and ipywidgets. See https://ipywidgets.readthedocs.io/en/stable/user_install.html\n",
      "  from .autonotebook import tqdm as notebook_tqdm\n",
      "Downloading builder script: 100%|██████████| 3.56k/3.56k [00:00<00:00, 24.7MB/s]\n",
      "Downloading metadata: 100%|██████████| 1.50k/1.50k [00:00<00:00, 13.7MB/s]\n",
      "Downloading readme: 100%|██████████| 5.24k/5.24k [00:00<00:00, 38.3MB/s]\n",
      "No config specified, defaulting to: tldr_news/all\n"
     ]
    },
    {
     "name": "stdout",
     "output_type": "stream",
     "text": [
      "Downloading and preparing dataset tldr_news/all (download: 1.63 MiB, generated: 4.24 MiB, post-processed: Unknown size, total: 5.87 MiB) to /home/kosenko/.cache/huggingface/datasets/JulesBelveze___tldr_news/all/1.2.0/3c113655b652c0d79c5963be201cf044c00f0bc9c04aefeb9ad11e530d46ef25...\n"
     ]
    },
    {
     "name": "stderr",
     "output_type": "stream",
     "text": [
      "Downloading data: 100%|██████████| 1.71M/1.71M [00:00<00:00, 12.1MB/s]\n",
      "                                                                                     \r"
     ]
    },
    {
     "name": "stdout",
     "output_type": "stream",
     "text": [
      "Dataset tldr_news downloaded and prepared to /home/kosenko/.cache/huggingface/datasets/JulesBelveze___tldr_news/all/1.2.0/3c113655b652c0d79c5963be201cf044c00f0bc9c04aefeb9ad11e530d46ef25. Subsequent calls will reuse this data.\n"
     ]
    },
    {
     "name": "stderr",
     "output_type": "stream",
     "text": [
      "100%|██████████| 2/2 [00:00<00:00, 950.55it/s]\n"
     ]
    },
    {
     "data": {
      "text/plain": [
       "Dataset({\n",
       "    features: ['headline', 'content', 'category'],\n",
       "    num_rows: 7138\n",
       "})"
      ]
     },
     "execution_count": 1,
     "metadata": {},
     "output_type": "execute_result"
    }
   ],
   "source": [
    "from datasets import load_dataset, Dataset\n",
    "\n",
    "dataset = load_dataset(\"JulesBelveze/tldr_news\")\n",
    "dataset = dataset[\"train\"]\n",
    "dataset"
   ]
  },
  {
   "cell_type": "code",
   "execution_count": 2,
   "metadata": {},
   "outputs": [
    {
     "data": {
      "text/plain": [
       "Dataset({\n",
       "    features: ['headline', 'content', 'category'],\n",
       "    num_rows: 3000\n",
       "})"
      ]
     },
     "execution_count": 2,
     "metadata": {},
     "output_type": "execute_result"
    }
   ],
   "source": [
    "dataset = dataset.train_test_split(test_size=3000, seed=42)\n",
    "dataset = dataset[\"test\"]\n",
    "dataset"
   ]
  },
  {
   "cell_type": "code",
   "execution_count": 5,
   "metadata": {},
   "outputs": [
    {
     "data": {
      "text/plain": [
       "{'headline': 'This dad took his son to Mongolia just to get him off his phone ',\n",
       " 'content': \"Adventurer Jamie Clarke felt that he was starting to lose touch with his son Khobe due to technology. Both of them had become attached to using their mobile devices and it was beginning to make them more distant. He didn't realize how big the problem had become until they spent a weekend away to a place without an internet connection. After realizing the impact that technology had on their relationship, Clarke and Khobe started planning a year-long trip through Mongolia, a trip where they would live without being constantly connected to the world. They found the trip to be an interesting experience and will try to apply some of the lessons they learned to their everyday lives.\",\n",
       " 'category': 4}"
      ]
     },
     "execution_count": 5,
     "metadata": {},
     "output_type": "execute_result"
    }
   ],
   "source": [
    "dataset[10]"
   ]
  },
  {
   "cell_type": "code",
   "execution_count": 6,
   "metadata": {},
   "outputs": [
    {
     "name": "stderr",
     "output_type": "stream",
     "text": [
      "Creating parquet from Arrow format: 100%|██████████| 3/3 [00:00<00:00, 41.39ba/s]\n",
      "Pushing dataset shards to the dataset hub: 100%|██████████| 1/1 [00:02<00:00,  2.15s/it]\n"
     ]
    }
   ],
   "source": [
    "dataset.push_to_hub(\"dim/tldr_news_3k\")"
   ]
  },
  {
   "cell_type": "code",
   "execution_count": 1,
   "metadata": {},
   "outputs": [
    {
     "name": "stderr",
     "output_type": "stream",
     "text": [
      "/home/kosenko/miniconda3/lib/python3.10/site-packages/tqdm/auto.py:21: TqdmWarning: IProgress not found. Please update jupyter and ipywidgets. See https://ipywidgets.readthedocs.io/en/stable/user_install.html\n",
      "  from .autonotebook import tqdm as notebook_tqdm\n",
      "Downloading readme: 100%|██████████| 666/666 [00:00<00:00, 4.91MB/s]\n"
     ]
    },
    {
     "name": "stdout",
     "output_type": "stream",
     "text": [
      "Downloading and preparing dataset None/None to /home/kosenko/.cache/huggingface/datasets/dim___parquet/dim--tldr_news_3k-2ff5d032684d4537/0.0.0/2a3b91fbd88a2c90d1dbbb32b460cf621d31bd5b05b934492fdef7d8d6f236ec...\n"
     ]
    },
    {
     "name": "stderr",
     "output_type": "stream",
     "text": [
      "Downloading data: 100%|██████████| 1.06M/1.06M [00:00<00:00, 2.76MB/s]\n",
      "Downloading data files: 100%|██████████| 1/1 [00:01<00:00,  1.81s/it]\n",
      "Extracting data files: 100%|██████████| 1/1 [00:00<00:00, 632.43it/s]\n",
      "                                                                       \r"
     ]
    },
    {
     "name": "stdout",
     "output_type": "stream",
     "text": [
      "Dataset parquet downloaded and prepared to /home/kosenko/.cache/huggingface/datasets/dim___parquet/dim--tldr_news_3k-2ff5d032684d4537/0.0.0/2a3b91fbd88a2c90d1dbbb32b460cf621d31bd5b05b934492fdef7d8d6f236ec. Subsequent calls will reuse this data.\n"
     ]
    },
    {
     "name": "stderr",
     "output_type": "stream",
     "text": [
      "100%|██████████| 1/1 [00:00<00:00, 748.18it/s]\n"
     ]
    },
    {
     "data": {
      "text/plain": [
       "{'headline': 'NASA considers selling seats on the spacecraft used for International Space Station ',\n",
       " 'content': 'NASA is considering selling seats on the shuttles used to ferry astronauts to the International Space Station as an additional revenue source. Russia already does something like this, selling seats on its spacecraft to wealthy individuals for millions of dollars. The agency is also considering boosting its brand in other ways by allowing its logo to be used commercially and its astronauts to appear in commercials. The White House is considering ending direct funding of the International Space Station by 2025, so selling seats could be one way of turning the station into a self-funding commercial entity. NASA Administrator Jim Bridenstine says \"NASA has the best brand in the world, and it is important for us to make sure that we\\'re using it in a way that helps people perceive the United States of America in a different way all around the world.\"',\n",
       " 'category': 2}"
      ]
     },
     "execution_count": 1,
     "metadata": {},
     "output_type": "execute_result"
    }
   ],
   "source": [
    "from datasets import load_dataset\n",
    "\n",
    "dataset = load_dataset(\"dim/tldr_news_3k\")\n",
    "dataset = dataset[\"train\"]\n",
    "dataset[0]"
   ]
  }
 ],
 "metadata": {
  "kernelspec": {
   "display_name": "base",
   "language": "python",
   "name": "python3"
  },
  "language_info": {
   "codemirror_mode": {
    "name": "ipython",
    "version": 3
   },
   "file_extension": ".py",
   "mimetype": "text/x-python",
   "name": "python",
   "nbconvert_exporter": "python",
   "pygments_lexer": "ipython3",
   "version": "3.10.9"
  },
  "orig_nbformat": 4
 },
 "nbformat": 4,
 "nbformat_minor": 2
}
