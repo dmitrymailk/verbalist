{
 "cells": [
  {
   "cell_type": "code",
   "execution_count": 1,
   "metadata": {},
   "outputs": [
    {
     "name": "stderr",
     "output_type": "stream",
     "text": [
      "/home/kosenko/miniconda3/lib/python3.10/site-packages/tqdm/auto.py:21: TqdmWarning: IProgress not found. Please update jupyter and ipywidgets. See https://ipywidgets.readthedocs.io/en/stable/user_install.html\n",
      "  from .autonotebook import tqdm as notebook_tqdm\n",
      "Downloading builder script: 100%|██████████| 3.56k/3.56k [00:00<00:00, 24.7MB/s]\n",
      "Downloading metadata: 100%|██████████| 1.50k/1.50k [00:00<00:00, 13.7MB/s]\n",
      "Downloading readme: 100%|██████████| 5.24k/5.24k [00:00<00:00, 38.3MB/s]\n",
      "No config specified, defaulting to: tldr_news/all\n"
     ]
    },
    {
     "name": "stdout",
     "output_type": "stream",
     "text": [
      "Downloading and preparing dataset tldr_news/all (download: 1.63 MiB, generated: 4.24 MiB, post-processed: Unknown size, total: 5.87 MiB) to /home/kosenko/.cache/huggingface/datasets/JulesBelveze___tldr_news/all/1.2.0/3c113655b652c0d79c5963be201cf044c00f0bc9c04aefeb9ad11e530d46ef25...\n"
     ]
    },
    {
     "name": "stderr",
     "output_type": "stream",
     "text": [
      "Downloading data: 100%|██████████| 1.71M/1.71M [00:00<00:00, 12.1MB/s]\n",
      "                                                                                     \r"
     ]
    },
    {
     "name": "stdout",
     "output_type": "stream",
     "text": [
      "Dataset tldr_news downloaded and prepared to /home/kosenko/.cache/huggingface/datasets/JulesBelveze___tldr_news/all/1.2.0/3c113655b652c0d79c5963be201cf044c00f0bc9c04aefeb9ad11e530d46ef25. Subsequent calls will reuse this data.\n"
     ]
    },
    {
     "name": "stderr",
     "output_type": "stream",
     "text": [
      "100%|██████████| 2/2 [00:00<00:00, 950.55it/s]\n"
     ]
    },
    {
     "data": {
      "text/plain": [
       "Dataset({\n",
       "    features: ['headline', 'content', 'category'],\n",
       "    num_rows: 7138\n",
       "})"
      ]
     },
     "execution_count": 1,
     "metadata": {},
     "output_type": "execute_result"
    }
   ],
   "source": [
    "from datasets import load_dataset, Dataset\n",
    "\n",
    "dataset = load_dataset(\"JulesBelveze/tldr_news\")\n",
    "dataset = dataset[\"train\"]\n",
    "dataset"
   ]
  },
  {
   "cell_type": "code",
   "execution_count": 2,
   "metadata": {},
   "outputs": [
    {
     "data": {
      "text/plain": [
       "Dataset({\n",
       "    features: ['headline', 'content', 'category'],\n",
       "    num_rows: 3000\n",
       "})"
      ]
     },
     "execution_count": 2,
     "metadata": {},
     "output_type": "execute_result"
    }
   ],
   "source": [
    "dataset = dataset.train_test_split(test_size=3000, seed=42)\n",
    "dataset = dataset[\"test\"]\n",
    "dataset"
   ]
  },
  {
   "cell_type": "code",
   "execution_count": 5,
   "metadata": {},
   "outputs": [
    {
     "data": {
      "text/plain": [
       "{'headline': 'This dad took his son to Mongolia just to get him off his phone ',\n",
       " 'content': \"Adventurer Jamie Clarke felt that he was starting to lose touch with his son Khobe due to technology. Both of them had become attached to using their mobile devices and it was beginning to make them more distant. He didn't realize how big the problem had become until they spent a weekend away to a place without an internet connection. After realizing the impact that technology had on their relationship, Clarke and Khobe started planning a year-long trip through Mongolia, a trip where they would live without being constantly connected to the world. They found the trip to be an interesting experience and will try to apply some of the lessons they learned to their everyday lives.\",\n",
       " 'category': 4}"
      ]
     },
     "execution_count": 5,
     "metadata": {},
     "output_type": "execute_result"
    }
   ],
   "source": [
    "dataset[10]"
   ]
  },
  {
   "cell_type": "code",
   "execution_count": 6,
   "metadata": {},
   "outputs": [
    {
     "name": "stderr",
     "output_type": "stream",
     "text": [
      "Creating parquet from Arrow format: 100%|██████████| 3/3 [00:00<00:00, 41.39ba/s]\n",
      "Pushing dataset shards to the dataset hub: 100%|██████████| 1/1 [00:02<00:00,  2.15s/it]\n"
     ]
    }
   ],
   "source": [
    "dataset.push_to_hub(\"dim/tldr_news_3k\")"
   ]
  }
 ],
 "metadata": {
  "kernelspec": {
   "display_name": "base",
   "language": "python",
   "name": "python3"
  },
  "language_info": {
   "codemirror_mode": {
    "name": "ipython",
    "version": 3
   },
   "file_extension": ".py",
   "mimetype": "text/x-python",
   "name": "python",
   "nbconvert_exporter": "python",
   "pygments_lexer": "ipython3",
   "version": "3.10.9"
  },
  "orig_nbformat": 4
 },
 "nbformat": 4,
 "nbformat_minor": 2
}
