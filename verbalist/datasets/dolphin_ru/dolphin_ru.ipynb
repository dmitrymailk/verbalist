{
 "cells": [
  {
   "cell_type": "code",
   "execution_count": 1,
   "metadata": {},
   "outputs": [
    {
     "name": "stderr",
     "output_type": "stream",
     "text": [
      "/home/kosenko/miniconda3/lib/python3.10/site-packages/tqdm/auto.py:21: TqdmWarning: IProgress not found. Please update jupyter and ipywidgets. See https://ipywidgets.readthedocs.io/en/stable/user_install.html\n",
      "  from .autonotebook import tqdm as notebook_tqdm\n",
      "Downloading readme: 100%|██████████| 947/947 [00:00<00:00, 5.67MB/s]\n"
     ]
    },
    {
     "name": "stdout",
     "output_type": "stream",
     "text": [
      "Downloading and preparing dataset None/None to /home/kosenko/.cache/huggingface/datasets/d0rj___parquet/d0rj--dolphin-ru-905e4111f214ffbd/0.0.0/2a3b91fbd88a2c90d1dbbb32b460cf621d31bd5b05b934492fdef7d8d6f236ec...\n"
     ]
    },
    {
     "name": "stderr",
     "output_type": "stream",
     "text": [
      "Downloading data: 100%|██████████| 230M/230M [00:05<00:00, 40.0MB/s]\n",
      "Downloading data: 100%|██████████| 229M/229M [00:05<00:00, 40.4MB/s]\n",
      "Downloading data: 100%|██████████| 229M/229M [00:06<00:00, 33.5MB/s]\n",
      "Downloading data: 100%|██████████| 229M/229M [00:05<00:00, 43.0MB/s]\n",
      "Downloading data: 100%|██████████| 230M/230M [00:06<00:00, 36.5MB/s]\n",
      "Downloading data: 100%|██████████| 230M/230M [00:06<00:00, 33.8MB/s]\n",
      "Downloading data: 100%|██████████| 229M/229M [00:05<00:00, 40.4MB/s]\n",
      "Downloading data: 100%|██████████| 229M/229M [00:05<00:00, 40.0MB/s]\n",
      "Downloading data: 100%|██████████| 229M/229M [00:10<00:00, 22.4MB/s]\n",
      "Downloading data: 100%|██████████| 229M/229M [00:05<00:00, 41.8MB/s]\n",
      "Downloading data: 100%|██████████| 228M/228M [00:05<00:00, 40.2MB/s]\n",
      "Downloading data: 100%|██████████| 230M/230M [00:05<00:00, 41.1MB/s]\n",
      "Downloading data: 100%|██████████| 230M/230M [00:05<00:00, 40.7MB/s]\n",
      "Downloading data: 100%|██████████| 230M/230M [00:05<00:00, 41.5MB/s]\n",
      "Downloading data: 100%|██████████| 229M/229M [00:05<00:00, 39.4MB/s]\n",
      "Downloading data: 100%|██████████| 230M/230M [00:05<00:00, 44.4MB/s]\n",
      "Downloading data: 100%|██████████| 229M/229M [00:06<00:00, 37.9MB/s]\n",
      "Downloading data files: 100%|██████████| 1/1 [02:09<00:00, 129.33s/it]\n",
      "Extracting data files: 100%|██████████| 1/1 [00:00<00:00, 20.21it/s]\n",
      "                                                                                            \r"
     ]
    },
    {
     "name": "stdout",
     "output_type": "stream",
     "text": [
      "Dataset parquet downloaded and prepared to /home/kosenko/.cache/huggingface/datasets/d0rj___parquet/d0rj--dolphin-ru-905e4111f214ffbd/0.0.0/2a3b91fbd88a2c90d1dbbb32b460cf621d31bd5b05b934492fdef7d8d6f236ec. Subsequent calls will reuse this data.\n"
     ]
    },
    {
     "name": "stderr",
     "output_type": "stream",
     "text": [
      "100%|██████████| 1/1 [00:00<00:00, 10.83it/s]\n"
     ]
    },
    {
     "data": {
      "text/plain": [
       "Dataset({\n",
       "    features: ['instruction', 'input', 'output'],\n",
       "    num_rows: 2840090\n",
       "})"
      ]
     },
     "execution_count": 1,
     "metadata": {},
     "output_type": "execute_result"
    }
   ],
   "source": [
    "from datasets import load_dataset, Dataset, concatenate_datasets\n",
    "\n",
    "dataset = load_dataset(\"d0rj/dolphin-ru\", )\n",
    "dataset = dataset[\"train\"]\n",
    "dataset"
   ]
  },
  {
   "cell_type": "code",
   "execution_count": 2,
   "metadata": {},
   "outputs": [
    {
     "data": {
      "text/plain": [
       "Dataset({\n",
       "    features: ['instruction', 'input', 'output'],\n",
       "    num_rows: 3000\n",
       "})"
      ]
     },
     "execution_count": 2,
     "metadata": {},
     "output_type": "execute_result"
    }
   ],
   "source": [
    "dataset = dataset.train_test_split(test_size=3000, seed=42)\n",
    "dataset = dataset[\"test\"]\n",
    "dataset"
   ]
  },
  {
   "cell_type": "code",
   "execution_count": 3,
   "metadata": {},
   "outputs": [
    {
     "data": {
      "text/plain": [
       "{'instruction': 'Вы помощник ИИ. Пользователь даст вам задание. Ваша цель состоит в том, чтобы выполнить задание как можно добросовестнее. Выполняя задание, думайте поэтапно и обосновывайте свои действия.',\n",
       " 'input': 'В: Соедините факты и ответьте: культура Кновиз была частью какой культуры бронзового века в Центральной Европе?\\nА:',\n",
       " 'output': 'Культура Кновиза была частью культуры центральноевропейского бронзового века, известной как культура полей урн. Для этой культуры характерно широкое использование кремационных захоронений в урнах, что и дало название культуре. Культура полей урн возникла в конце бронзового века и просуществовала до раннего железного века, примерно с 1300 г. до н.э. по 750 г. до н.э. Это была высокоразвитая культура с передовыми методами металлообработки, сыгравшая важную роль в развитии европейской цивилизации.'}"
      ]
     },
     "execution_count": 3,
     "metadata": {},
     "output_type": "execute_result"
    }
   ],
   "source": [
    "dataset[0]"
   ]
  },
  {
   "cell_type": "code",
   "execution_count": 4,
   "metadata": {},
   "outputs": [
    {
     "name": "stderr",
     "output_type": "stream",
     "text": [
      "Creating parquet from Arrow format: 100%|██████████| 3/3 [00:00<00:00, 25.30ba/s]\n",
      "Pushing dataset shards to the dataset hub: 100%|██████████| 1/1 [00:03<00:00,  3.24s/it]\n"
     ]
    }
   ],
   "source": [
    "dataset.push_to_hub('dim/dolphin_ru_3k')"
   ]
  },
  {
   "cell_type": "code",
   "execution_count": 1,
   "metadata": {},
   "outputs": [
    {
     "name": "stderr",
     "output_type": "stream",
     "text": [
      "/home/kosenko/miniconda3/lib/python3.10/site-packages/tqdm/auto.py:21: TqdmWarning: IProgress not found. Please update jupyter and ipywidgets. See https://ipywidgets.readthedocs.io/en/stable/user_install.html\n",
      "  from .autonotebook import tqdm as notebook_tqdm\n",
      "Downloading readme: 100%|██████████| 451/451 [00:00<00:00, 3.75MB/s]\n"
     ]
    },
    {
     "name": "stdout",
     "output_type": "stream",
     "text": [
      "Downloading and preparing dataset None/None to /home/kosenko/.cache/huggingface/datasets/dim___parquet/dim--dolphin_ru_3k-3d535835b37cbe98/0.0.0/2a3b91fbd88a2c90d1dbbb32b460cf621d31bd5b05b934492fdef7d8d6f236ec...\n"
     ]
    },
    {
     "name": "stderr",
     "output_type": "stream",
     "text": [
      "Downloading data: 100%|██████████| 4.15M/4.15M [00:00<00:00, 6.38MB/s]\n",
      "Downloading data files: 100%|██████████| 1/1 [00:02<00:00,  2.05s/it]\n",
      "Extracting data files: 100%|██████████| 1/1 [00:00<00:00, 235.86it/s]\n",
      "                                                                       \r"
     ]
    },
    {
     "name": "stdout",
     "output_type": "stream",
     "text": [
      "Dataset parquet downloaded and prepared to /home/kosenko/.cache/huggingface/datasets/dim___parquet/dim--dolphin_ru_3k-3d535835b37cbe98/0.0.0/2a3b91fbd88a2c90d1dbbb32b460cf621d31bd5b05b934492fdef7d8d6f236ec. Subsequent calls will reuse this data.\n"
     ]
    },
    {
     "name": "stderr",
     "output_type": "stream",
     "text": [
      "100%|██████████| 1/1 [00:00<00:00, 689.06it/s]\n"
     ]
    },
    {
     "data": {
      "text/plain": [
       "{'instruction': 'Вы помощник ИИ. Пользователь даст вам задание. Ваша цель состоит в том, чтобы выполнить задание как можно добросовестнее. Выполняя задание, думайте поэтапно и обосновывайте свои действия.',\n",
       " 'input': 'В: Соедините факты и ответьте: культура Кновиз была частью какой культуры бронзового века в Центральной Европе?\\nА:',\n",
       " 'output': 'Культура Кновиза была частью культуры центральноевропейского бронзового века, известной как культура полей урн. Для этой культуры характерно широкое использование кремационных захоронений в урнах, что и дало название культуре. Культура полей урн возникла в конце бронзового века и просуществовала до раннего железного века, примерно с 1300 г. до н.э. по 750 г. до н.э. Это была высокоразвитая культура с передовыми методами металлообработки, сыгравшая важную роль в развитии европейской цивилизации.'}"
      ]
     },
     "execution_count": 1,
     "metadata": {},
     "output_type": "execute_result"
    }
   ],
   "source": [
    "from datasets import load_dataset\n",
    "\n",
    "dataset = load_dataset(\"dim/dolphin_ru_3k\")\n",
    "dataset = dataset[\"train\"]\n",
    "dataset[0]"
   ]
  }
 ],
 "metadata": {
  "kernelspec": {
   "display_name": "base",
   "language": "python",
   "name": "python3"
  },
  "language_info": {
   "codemirror_mode": {
    "name": "ipython",
    "version": 3
   },
   "file_extension": ".py",
   "mimetype": "text/x-python",
   "name": "python",
   "nbconvert_exporter": "python",
   "pygments_lexer": "ipython3",
   "version": "3.10.9"
  },
  "orig_nbformat": 4
 },
 "nbformat": 4,
 "nbformat_minor": 2
}
