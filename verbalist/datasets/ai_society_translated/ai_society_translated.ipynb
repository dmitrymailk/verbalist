{
 "cells": [
  {
   "cell_type": "code",
   "execution_count": 8,
   "metadata": {},
   "outputs": [],
   "source": [
    "from datasets import load_dataset, Dataset, load_from_disk\n",
    "import zipfile\n",
    "import json\n",
    "\n",
    "# dataset = load_dataset(\"camel-ai/ai_society_translated\")\n",
    "# dataset = dataset['train']\n",
    "from huggingface_hub import hf_hub_download\n",
    "\n",
    "# % replace {language} by one of the following: ar, zh, ko, ja, hi, ru, es, fr, de, it\n",
    "# language = 'ru'\n",
    "# hf_hub_download(\n",
    "#     repo_id=\"camel-ai/ai_society_translated\",\n",
    "# \trepo_type=\"dataset\",\n",
    "# \tfilename=f\"ai_society_chat_{language}.zip\",\n",
    "# \tlocal_dir=\"verbalist/datasets/ai_society_translated/datasets\",\n",
    "# \tlocal_dir_use_symlinks=False,\n",
    "# )\n",
    "\n",
    "# dataset = load_from_disk()\n",
    "# dataset = load_dataset(\"verbalist/datasets/ai_society_translated/datasets/ai_society_chat_ru.zip\", streaming=True,)\n",
    "# dataset\n",
    "dataset_path = (\n",
    "    \"verbalist/datasets/ai_society_translated/datasets/ai_society_chat_ru.zip\"\n",
    ")\n",
    "archive = zipfile.ZipFile(dataset_path, \"r\")"
   ]
  },
  {
   "cell_type": "code",
   "execution_count": 21,
   "metadata": {},
   "outputs": [
    {
     "data": {
      "text/plain": [
       "[{'role_type': 'USER',\n",
       "  'role_name': 'Doctor',\n",
       "  'role': 'user',\n",
       "  'content': 'Пожалуйста, предоставьте мне отчеты о доходах и расходах за тот же квартал предыдущего года.\\nНет'},\n",
       " {'role_type': 'ASSISTANT',\n",
       "  'role_name': 'Accountant',\n",
       "  'role': 'user',\n",
       "  'content': 'Как бухгалтер, у меня нет доступа к отчетам о доходах и расходах за тот же квартал предыдущего года. Однако я могу запросить эти отчеты у соответствующего отдела или лица и предоставить их вам как можно скорее.'},\n",
       " {'role_type': 'USER',\n",
       "  'role_name': 'Doctor',\n",
       "  'role': 'user',\n",
       "  'content': 'Пожалуйста, запросите отчеты о доходах и расходах за тот же квартал предыдущего года у соответствующего отдела или лица.'},\n",
       " {'role_type': 'ASSISTANT',\n",
       "  'role_name': 'Accountant',\n",
       "  'role': 'user',\n",
       "  'content': 'Я свяжусь с финансовым отделом и запросю отчеты о доходах и расходах за тот же квартал прошлого года. Я предоставлю их вам, как только получу.'},\n",
       " {'role_type': 'USER',\n",
       "  'role_name': 'Doctor',\n",
       "  'role': 'user',\n",
       "  'content': 'Пожалуйста, определите любые расхождения в выставлении счетов, страховых претензиях и расходах на персонал в отчетах о доходах и расходах за тот же квартал предыдущего года.\\nОтчеты о доходах и расходах за тот же квартал предыдущего года.'},\n",
       " {'role_type': 'ASSISTANT',\n",
       "  'role_name': 'Accountant',\n",
       "  'role': 'user',\n",
       "  'content': 'Я тщательно проанализирую отчеты о доходах и расходах за тот же квартал предыдущего года, чтобы выявить любые расхождения в выставлении счетов, страховых претензиях и расходах на персонал. Я сравню суммы, выставленные в счет, с полученными суммами, проверю страховые претензии, чтобы убедиться, что они были правильно обработаны, и изучу расходы на персонал, чтобы убедиться, что они были точно записаны.'}]"
      ]
     },
     "execution_count": 21,
     "metadata": {},
     "output_type": "execute_result"
    }
   ],
   "source": [
    "def clean_messages(string):\n",
    "    clean_strings = [\n",
    "        \"Решение: \",\n",
    "        \"Инструкция: \",\n",
    "        \"Вход: \",\n",
    "        \"Ввод: \",\n",
    "        \"Input: \",\n",
    "        \" Следующий запрос.\",\n",
    "        \"Входные данные: \",\n",
    "        \"Следующий запрос.\",\n",
    "    ]\n",
    "    for pattern in clean_strings:\n",
    "        string = string.replace(pattern, \"\")\n",
    "    return string\n",
    "\n",
    "\n",
    "messages_doc = json.loads(archive.read(archive.filelist[101]).decode(\"utf-8\"))\n",
    "messages_doc = [\n",
    "    messages_doc[f\"message_{i+1}\"] for i in range(messages_doc[\"num_messages\"])\n",
    "]\n",
    "\n",
    "for item in messages_doc:\n",
    "    item[\"content\"] = clean_messages(item[\"content\"])\n",
    "\n",
    "messages_doc"
   ]
  }
 ],
 "metadata": {
  "kernelspec": {
   "display_name": "base",
   "language": "python",
   "name": "python3"
  },
  "language_info": {
   "codemirror_mode": {
    "name": "ipython",
    "version": 3
   },
   "file_extension": ".py",
   "mimetype": "text/x-python",
   "name": "python",
   "nbconvert_exporter": "python",
   "pygments_lexer": "ipython3",
   "version": "3.10.13"
  }
 },
 "nbformat": 4,
 "nbformat_minor": 2
}
