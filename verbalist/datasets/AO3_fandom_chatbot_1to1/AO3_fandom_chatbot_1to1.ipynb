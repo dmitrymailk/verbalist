{
 "cells": [
  {
   "cell_type": "code",
   "execution_count": 6,
   "metadata": {},
   "outputs": [
    {
     "name": "stderr",
     "output_type": "stream",
     "text": [
      "Found cached dataset parquet (/home/kosenko/.cache/huggingface/datasets/ebony59___parquet/ebony59--AO3_fandom_chatbot_1to1-b941777e067a76c6/0.0.0/2a3b91fbd88a2c90d1dbbb32b460cf621d31bd5b05b934492fdef7d8d6f236ec)\n"
     ]
    },
    {
     "data": {
      "application/vnd.jupyter.widget-view+json": {
       "model_id": "a8f985ddc65743fdae13dea15837c72f",
       "version_major": 2,
       "version_minor": 0
      },
      "text/plain": [
       "  0%|          | 0/1 [00:00<?, ?it/s]"
      ]
     },
     "metadata": {},
     "output_type": "display_data"
    }
   ],
   "source": [
    "from datasets import load_dataset, Dataset\n",
    "\n",
    "dataset = load_dataset(\"ebony59/AO3_fandom_chatbot_1to1\")\n",
    "dataset = dataset['train']"
   ]
  },
  {
   "cell_type": "code",
   "execution_count": 7,
   "metadata": {},
   "outputs": [
    {
     "data": {
      "text/plain": [
       "Dataset({\n",
       "    features: ['conversation'],\n",
       "    num_rows: 750\n",
       "})"
      ]
     },
     "execution_count": 7,
     "metadata": {},
     "output_type": "execute_result"
    }
   ],
   "source": [
    "dataset"
   ]
  },
  {
   "cell_type": "code",
   "execution_count": 8,
   "metadata": {},
   "outputs": [
    {
     "data": {
      "text/plain": [
       "{'conversation': [{'content': \"John and Sherlock have an interesting relationship. John is an army doctor and Sherlock is a genius detective. While Sherlock uses his superior deductive skills to solve cases, John is the one who provides a level head and moral support. Despite their differences, they have a deep bond formed over years of solving cases together. Recently, Sherlock has been displaying different behaviour which leads John to believe there may be something more to his feelings. After a night out, Sherlock suddenly kisses John, leaving him surprised and uncertain. While John is unsure of Sherlock's intentions, he is left with more questions than answers. In the end, John realizes that he values Sherlock's friendship and that this relationship is a testament to the power of loyalty.\",\n",
       "   'role': 'System'},\n",
       "  {'content': ' Dr Nguyen finally succumbed to the stomach flu.',\n",
       "   'role': 'User'},\n",
       "  {'content': ' You were supposed to be home three hours ago.',\n",
       "   'role': 'Sherlock'},\n",
       "  {'content': \" *doesn't say anything*\", 'role': 'User'},\n",
       "  {'content': ' This could have a better result than even I expected.',\n",
       "   'role': 'Sherlock'},\n",
       "  {'content': ' Yeah, about that--', 'role': 'User'},\n",
       "  {'content': ' No, this will be great.', 'role': 'Sherlock'}]}"
      ]
     },
     "execution_count": 8,
     "metadata": {},
     "output_type": "execute_result"
    }
   ],
   "source": [
    "dataset[91]"
   ]
  },
  {
   "cell_type": "code",
   "execution_count": 8,
   "metadata": {},
   "outputs": [],
   "source": [
    "new_dataset = []\n",
    "for item in dataset.to_list():\n",
    "    conversation = item['conversation']\n",
    "    roles = [item['role'] for item in conversation]\n",
    "    if len(set(roles)) == 3:\n",
    "        new_dataset.append(item)"
   ]
  },
  {
   "cell_type": "code",
   "execution_count": 14,
   "metadata": {},
   "outputs": [
    {
     "data": {
      "text/plain": [
       "614"
      ]
     },
     "execution_count": 14,
     "metadata": {},
     "output_type": "execute_result"
    }
   ],
   "source": [
    "len(new_dataset)"
   ]
  },
  {
   "cell_type": "code",
   "execution_count": 15,
   "metadata": {},
   "outputs": [],
   "source": [
    "new_dataset = Dataset.from_list(new_dataset)"
   ]
  },
  {
   "cell_type": "code",
   "execution_count": 18,
   "metadata": {},
   "outputs": [
    {
     "data": {
      "application/vnd.jupyter.widget-view+json": {
       "model_id": "8d3490059da3480d93d5138a7f71abfb",
       "version_major": 2,
       "version_minor": 0
      },
      "text/plain": [
       "Pushing dataset shards to the dataset hub:   0%|          | 0/1 [00:00<?, ?it/s]"
      ]
     },
     "metadata": {},
     "output_type": "display_data"
    },
    {
     "data": {
      "application/vnd.jupyter.widget-view+json": {
       "model_id": "a2e3e029b52c4805981204326ca59432",
       "version_major": 2,
       "version_minor": 0
      },
      "text/plain": [
       "Downloading metadata:   0%|          | 0.00/435 [00:00<?, ?B/s]"
      ]
     },
     "metadata": {},
     "output_type": "display_data"
    },
    {
     "name": "stderr",
     "output_type": "stream",
     "text": [
      "Updating downloaded metadata with the new split.\n"
     ]
    }
   ],
   "source": [
    "new_dataset.push_to_hub(\"dim/AO3_fandom_chatbot_1to1\", private=True)"
   ]
  },
  {
   "cell_type": "code",
   "execution_count": 20,
   "metadata": {},
   "outputs": [
    {
     "name": "stderr",
     "output_type": "stream",
     "text": [
      "Found cached dataset parquet (/home/kosenko/.cache/huggingface/datasets/dim___parquet/dim--AO3_fandom_chatbot_1to1-4faf1fbee0cbd238/0.0.0/2a3b91fbd88a2c90d1dbbb32b460cf621d31bd5b05b934492fdef7d8d6f236ec)\n"
     ]
    },
    {
     "data": {
      "application/vnd.jupyter.widget-view+json": {
       "model_id": "5566f78b39cb408e879935054903fde8",
       "version_major": 2,
       "version_minor": 0
      },
      "text/plain": [
       "  0%|          | 0/1 [00:00<?, ?it/s]"
      ]
     },
     "metadata": {},
     "output_type": "display_data"
    },
    {
     "data": {
      "text/plain": [
       "Dataset({\n",
       "    features: ['conversation'],\n",
       "    num_rows: 614\n",
       "})"
      ]
     },
     "execution_count": 20,
     "metadata": {},
     "output_type": "execute_result"
    }
   ],
   "source": [
    "from datasets import load_dataset, Dataset, concatenate_datasets\n",
    "\n",
    "dataset = load_dataset(\"dim/AO3_fandom_chatbot_1to1\")\n",
    "dataset = dataset[\"train\"]\n",
    "dataset"
   ]
  },
  {
   "cell_type": "code",
   "execution_count": 23,
   "metadata": {},
   "outputs": [
    {
     "data": {
      "text/plain": [
       "{'conversation': [{'content': 'Harry and Winky have a close relationship, with Harry having a protective nature towards her. Despite her being a house-elf, Harry treats her with respect, being kind and understanding towards her. Winky has been loyal to Harry ever since he freed her from the Malfoy family, and has been a devoted friend and confidante. She is fiercely protective of Harry, and will do anything to help him and his family. They have a deep understanding of one another, and Harry is always willing to listen to her advice.',\n",
       "   'role': 'System'},\n",
       "  {'content': \" Winky, I need your help, if you don't mind. Can you do the crumb coating for the cakes and then ice the cupcakes? -- You know where the list is.\",\n",
       "   'role': 'User'},\n",
       "  {'content': ' Winky would be very pleased to help Master Harry!',\n",
       "   'role': 'Winky'},\n",
       "  {'content': ' Thank you, Winky.', 'role': 'User'},\n",
       "  {'content': ' Winky is happy to do as Master needs.', 'role': 'Winky'},\n",
       "  {'content': ' Almost time to open, Master Harry. And this needs done!',\n",
       "   'role': 'User'},\n",
       "  {'content': ' When the breads are done, can you put them in their baskets and stock them out front?',\n",
       "   'role': 'User'}]}"
      ]
     },
     "execution_count": 23,
     "metadata": {},
     "output_type": "execute_result"
    }
   ],
   "source": [
    "dataset[3]"
   ]
  }
 ],
 "metadata": {
  "kernelspec": {
   "display_name": "base",
   "language": "python",
   "name": "python3"
  },
  "language_info": {
   "codemirror_mode": {
    "name": "ipython",
    "version": 3
   },
   "file_extension": ".py",
   "mimetype": "text/x-python",
   "name": "python",
   "nbconvert_exporter": "python",
   "pygments_lexer": "ipython3",
   "version": "3.10.13"
  },
  "orig_nbformat": 4
 },
 "nbformat": 4,
 "nbformat_minor": 2
}
