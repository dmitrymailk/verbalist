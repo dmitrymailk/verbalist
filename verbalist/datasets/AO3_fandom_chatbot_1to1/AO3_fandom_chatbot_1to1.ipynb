{
 "cells": [
  {
   "cell_type": "code",
   "execution_count": 2,
   "metadata": {},
   "outputs": [
    {
     "name": "stderr",
     "output_type": "stream",
     "text": [
      "Found cached dataset parquet (/home/kosenko/.cache/huggingface/datasets/ebony59___parquet/ebony59--AO3_fandom_chatbot_1to1-b941777e067a76c6/0.0.0/2a3b91fbd88a2c90d1dbbb32b460cf621d31bd5b05b934492fdef7d8d6f236ec)\n"
     ]
    },
    {
     "data": {
      "application/vnd.jupyter.widget-view+json": {
       "model_id": "4fdbf9f099424d679931061ee58d1f9d",
       "version_major": 2,
       "version_minor": 0
      },
      "text/plain": [
       "  0%|          | 0/1 [00:00<?, ?it/s]"
      ]
     },
     "metadata": {},
     "output_type": "display_data"
    }
   ],
   "source": [
    "from datasets import load_dataset, Dataset\n",
    "\n",
    "dataset = load_dataset(\"ebony59/AO3_fandom_chatbot_1to1\")\n",
    "dataset = dataset['train']"
   ]
  },
  {
   "cell_type": "code",
   "execution_count": 3,
   "metadata": {},
   "outputs": [
    {
     "data": {
      "text/plain": [
       "Dataset({\n",
       "    features: ['conversation'],\n",
       "    num_rows: 750\n",
       "})"
      ]
     },
     "execution_count": 3,
     "metadata": {},
     "output_type": "execute_result"
    }
   ],
   "source": [
    "dataset"
   ]
  },
  {
   "cell_type": "code",
   "execution_count": 8,
   "metadata": {},
   "outputs": [
    {
     "data": {
      "text/plain": [
       "{'conversation': [{'content': \"John and Sherlock have an interesting relationship. John is an army doctor and Sherlock is a genius detective. While Sherlock uses his superior deductive skills to solve cases, John is the one who provides a level head and moral support. Despite their differences, they have a deep bond formed over years of solving cases together. Recently, Sherlock has been displaying different behaviour which leads John to believe there may be something more to his feelings. After a night out, Sherlock suddenly kisses John, leaving him surprised and uncertain. While John is unsure of Sherlock's intentions, he is left with more questions than answers. In the end, John realizes that he values Sherlock's friendship and that this relationship is a testament to the power of loyalty.\",\n",
       "   'role': 'System'},\n",
       "  {'content': ' Dr Nguyen finally succumbed to the stomach flu.',\n",
       "   'role': 'User'},\n",
       "  {'content': ' You were supposed to be home three hours ago.',\n",
       "   'role': 'Sherlock'},\n",
       "  {'content': \" *doesn't say anything*\", 'role': 'User'},\n",
       "  {'content': ' This could have a better result than even I expected.',\n",
       "   'role': 'Sherlock'},\n",
       "  {'content': ' Yeah, about that--', 'role': 'User'},\n",
       "  {'content': ' No, this will be great.', 'role': 'Sherlock'}]}"
      ]
     },
     "execution_count": 8,
     "metadata": {},
     "output_type": "execute_result"
    }
   ],
   "source": [
    "dataset[91]"
   ]
  },
  {
   "cell_type": "code",
   "execution_count": 9,
   "metadata": {},
   "outputs": [
    {
     "data": {
      "application/vnd.jupyter.widget-view+json": {
       "model_id": "0c68f7eaf9fc4d28bb307ba505faa068",
       "version_major": 2,
       "version_minor": 0
      },
      "text/plain": [
       "Pushing dataset shards to the dataset hub:   0%|          | 0/1 [00:00<?, ?it/s]"
      ]
     },
     "metadata": {},
     "output_type": "display_data"
    },
    {
     "data": {
      "application/vnd.jupyter.widget-view+json": {
       "model_id": "944733c1136243f9a80db88f8e366744",
       "version_major": 2,
       "version_minor": 0
      },
      "text/plain": [
       "Creating parquet from Arrow format:   0%|          | 0/1 [00:00<?, ?ba/s]"
      ]
     },
     "metadata": {},
     "output_type": "display_data"
    }
   ],
   "source": [
    "dataset.push_to_hub(\"dim/AO3_fandom_chatbot_1to1\", private=True)"
   ]
  }
 ],
 "metadata": {
  "kernelspec": {
   "display_name": "base",
   "language": "python",
   "name": "python3"
  },
  "language_info": {
   "codemirror_mode": {
    "name": "ipython",
    "version": 3
   },
   "file_extension": ".py",
   "mimetype": "text/x-python",
   "name": "python",
   "nbconvert_exporter": "python",
   "pygments_lexer": "ipython3",
   "version": "3.10.9"
  },
  "orig_nbformat": 4
 },
 "nbformat": 4,
 "nbformat_minor": 2
}
