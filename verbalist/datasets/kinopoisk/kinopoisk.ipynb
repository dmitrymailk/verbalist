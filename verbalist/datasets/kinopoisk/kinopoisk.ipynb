{
 "cells": [
  {
   "cell_type": "code",
   "execution_count": 1,
   "metadata": {},
   "outputs": [
    {
     "name": "stderr",
     "output_type": "stream",
     "text": [
      "Found cached dataset kinopoisk (/home/kosenko/.cache/huggingface/datasets/blinoff___kinopoisk/simple/1.0.0/62f52027aea59f64f49c7b16165b82cb4dc45031bad3660c2719bf2a6ea4a44e)\n"
     ]
    },
    {
     "data": {
      "application/vnd.jupyter.widget-view+json": {
       "model_id": "bb934c566f184e4ab20d2416061367b7",
       "version_major": 2,
       "version_minor": 0
      },
      "text/plain": [
       "  0%|          | 0/2 [00:00<?, ?it/s]"
      ]
     },
     "metadata": {},
     "output_type": "display_data"
    },
    {
     "data": {
      "text/plain": [
       "Dataset({\n",
       "    features: ['content', 'title', 'grade3', 'movie_name', 'part', 'review_id', 'author', 'date', 'grade10', 'Idx'],\n",
       "    num_rows: 36591\n",
       "})"
      ]
     },
     "execution_count": 1,
     "metadata": {},
     "output_type": "execute_result"
    }
   ],
   "source": [
    "from datasets import load_dataset, Dataset, concatenate_datasets\n",
    "\n",
    "dataset = load_dataset(\"blinoff/kinopoisk\")\n",
    "dataset = dataset[\"train\"]\n",
    "dataset"
   ]
  },
  {
   "cell_type": "code",
   "execution_count": 9,
   "metadata": {},
   "outputs": [
    {
     "name": "stdout",
     "output_type": "stream",
     "text": [
      "\n",
      "«Блеф» — комедия Серджио Корбуччи 1976 года. Один из любимых фильмов зрителей в советский период.\n",
      "\n",
      "В данной ленте идет речь о мошеннике Феликсе (Феличе — что означает счастье) и о его многочисленных аферах. Как-то раз Феликс сбегает из тюрьмы, не дав сделать то же самое другому заключенному, после чего ему помогают два незнакомых ему человека, что удивляет самого героя. Но как оказывается впоследствии, его приняли не за того. Теперь он должен освободить Филиппа Бэнга. Но на этом приключения не заканчивается.\n",
      "\n",
      "Освобождённый заключенный предлагает сотрудничество (после нескольких проверок). Филипп (а именно им оказался заключенный) хочет провернуть дело, чтобы отомстить своей давней знакомой Бель Дюк.\n",
      "\n",
      "Параллельно блефу главных героев развивается любовная линия Феликса и дочери Филиппа — Шарлотты.\n",
      "\n",
      "Фильм очень легкий, веселый, с интересными поворотами сюжета (что является явным плюсом). Андриано Челентано бесподобен как всегда, очень интересно смотреть на его героя, наблюдать за его выходками. Образу бойкого Феликса противопоставляется матерый спокойный Филипп, что не мешает обоим быть первоклассными мошенниками. \n",
      "\n",
      "Было приятно увидеть визитные карточки «Блефа», которые не раз повторялись в других работах, причем не только итальянского кинематографа, так сказать в оригинале. Это и Челентано с зонтиком, сидящий на столбе, и проходка того же героя между застывшими людьми и многое другое.\n",
      "\n",
      "Картинка в фильме разнообразная (то казино, то археологические раскопки). Много красивых планов Шарлотты (Коринн Клери). Кроме того в фильме присутствуют и эротические сцены. В общем, смотреть фильм приятно.\n",
      "\n",
      "В фильме много гэгов (в основном со стороны героя Челентано), но, несмотря на это фильм не кажется каким-то неправдоподобным. \n",
      "\n",
      "Но есть ложка дегтя в бочке меда. Мне не понравился заключительный эпизод, в котором герои плакали из-за того, что Феликс якобы выкинул все деньги за борт. Как-то неестественно это было. Было бы правдоподобней, если бы герои накричали на Феликса или что-то вроде. Эта сцена испортила мое впечатление от фильма.\n",
      "\n",
      "Актерская работа на высшем уровне. Андреано Челентано, полюбившийся мне в комедии «Укрощение строптивого», предстал в роли такого балагура-афериста. Энтони Куин (к слову сказать, обладатель двух статуэток Американской киноакадемии за лучшую роль второго плана) был очень убедителен. \n",
      "\n",
      "В общем, фильм уже давно прошел проверку временем, он до сих пор остается одной из лучших комедий. Так что я всем настоятельно рекомендую эту ленту, зарекомендовавщую себя как классика мирового кинематографа.\n",
      "\n",
      "Минус балл за сцену со слезами, итого…\n",
      "\n",
      "9 из 10\n"
     ]
    }
   ],
   "source": [
    "print(dataset[10][\"content\"])"
   ]
  },
  {
   "cell_type": "code",
   "execution_count": 12,
   "metadata": {},
   "outputs": [
    {
     "data": {
      "application/vnd.jupyter.widget-view+json": {
       "model_id": "009d700640a34400a78c8cdef314e590",
       "version_major": 2,
       "version_minor": 0
      },
      "text/plain": [
       "Pushing dataset shards to the dataset hub:   0%|          | 0/1 [00:00<?, ?it/s]"
      ]
     },
     "metadata": {},
     "output_type": "display_data"
    },
    {
     "data": {
      "application/vnd.jupyter.widget-view+json": {
       "model_id": "52778e8d986045e3b51d8c70bfcc7329",
       "version_major": 2,
       "version_minor": 0
      },
      "text/plain": [
       "Creating parquet from Arrow format:   0%|          | 0/37 [00:00<?, ?ba/s]"
      ]
     },
     "metadata": {},
     "output_type": "display_data"
    }
   ],
   "source": [
    "# dataset.push_to_hub(\"dim/kinopoisk_raw\", private=True)"
   ]
  },
  {
   "cell_type": "markdown",
   "metadata": {},
   "source": [
    "### convert to prompts\n"
   ]
  },
  {
   "cell_type": "code",
   "execution_count": 3,
   "metadata": {},
   "outputs": [
    {
     "data": {
      "text/plain": [
       "{'content': '\\n\"Блеф»\\xa0—\\xa0одна из\\xa0моих самых любимых комедий.\\n\\nЭтот фильм я\\xa0наверно смотрел раз\\xa0сто, нет\\xa0я конечно блефую, я\\xa0видел его\\xa0куда больше. Не\\xa0могу не\\xa0выразить своё восхищение главными действующими лицами этого фильма. Начну с\\xa0Адриано Челентано для\\xa0которого как\\xa0я считаю это\\xa0лучшая роль в\\xa0кино. Великолепный актёр, неплохой певец, странно что\\xa0на его\\xa0родине в\\xa0Италии его\\xa0песни мало кто\\xa0слушает. Ну\\xa0я думаю что\\xa0и итальянцы и\\xa0французы привыкли к\\xa0тому, что\\xa0у нас\\xa0до сих\\xa0их актёры популярней чем\\xa0даже на\\xa0своей родине. Да, такой вот\\xa0парадокс. Челентано конечно профессионал своего дела, комик с\\xa0серьёзным выражением лица. Он\\xa0смешон ещё\\xa0и потому, что\\xa0одновременно так\\xa0серъёзен. Адриано браво!\\n\\nА\\xa0теперь несколько слов об\\xa0Энтони Куине. Да\\xa0тот самый горбун из\\xa0Нотр-дама. Собор Парижской Богоматери, оригинальная версия, кто\\xa0не смотрел рекомендую. С\\xa0ним как-то приключилась одна интересная история. На\\xa0съёмках одного из\\xa0своих фильмов он\\xa0то ли\\xa0сломал, то\\xa0ли подвихнул ногу, а\\xa0роль требовала от\\xa0него чтобы в\\xa0одной из\\xa0сцен он\\xa0кружился с\\xa0дамой в\\xa0танце. И\\xa0он вместе со\\xa0съёмочным коллективом вышел из\\xa0этого положения. Они\\xa0сделали вращающеюся платформу, которая создавала видимость того, что\\xa0он весь в\\xa0ритме танца. Вот\\xa0такая вот\\xa0история, к\\xa0слову об\\xa0этом замечательном актёре.\\n\\nНу\\xa0и теперь сам\\xa0фильм, жанр которой можно смело обозвать авантюрой. Комедийной авантюрой. Некая Белль Дьюк, весьма влиятельная дама, пытается освободить своего старого знакомого авантюриста Филиппа Бенга, у\\xa0которого с\\xa0ней давние счёты. Но\\xa0вместо него на\\xa0свободе оказывается другой комбинатор-аферист по\\xa0имени Феликс. И\\xa0чтобы не\\xa0быть битым головорезами Белль Дьюк, он\\xa0уже сам\\xa0разрабатывает план побега Бэнга. После того как\\xa0они встречаются череда смешных сцен заставит зрителя разразиться шквальным смехом. В\\xa0их умений блефовать, им\\xa0просто нет\\xa0равных. Главное правило чтобы блеф сработал, надо самому в\\xa0него поверить. Помимо всего этого они\\xa0ещё и\\xa0соревнуются в\\xa0стратегий блефа. Некоторые сцены их\\xa0обмана запомнились мне\\xa0надолго, особенно сцена в\\xa0магазине тканей: \\n\\n\\xa0—\\xa0Привет старина. Так\\xa0тебя выпустили из\\xa0лепрозория?\\n\\xa0—\\xa0Не совсем, я\\xa0оттуда сбежал.\\n\\nНу или\\xa0финальная сцена, которую можно охарактеризовать тремя словами; смех сквозь слёзы.\\n\\nВ\\xa0завершении скажу, что\\xa0это великолепное кино можно смотреть и\\xa0пересматривать очень много раз, и\\xa0оно не\\xa0потеряет своего шарма и\\xa0обаяния.\\n\\n10 из\\xa010',\n",
       " 'title': 'Плакали наши денежки ©',\n",
       " 'grade3': 'Good',\n",
       " 'movie_name': 'Блеф (1976)',\n",
       " 'part': 'top250',\n",
       " 'review_id': '17144',\n",
       " 'author': 'Come Back',\n",
       " 'date': '2011-09-24 00:00:00',\n",
       " 'grade10': '10.0',\n",
       " 'Idx': 0}"
      ]
     },
     "execution_count": 3,
     "metadata": {},
     "output_type": "execute_result"
    }
   ],
   "source": [
    "dataset[0]"
   ]
  },
  {
   "cell_type": "code",
   "execution_count": 4,
   "metadata": {},
   "outputs": [
    {
     "data": {
      "text/plain": [
       "{'Bad', 'Good', 'Neutral'}"
      ]
     },
     "execution_count": 4,
     "metadata": {},
     "output_type": "execute_result"
    }
   ],
   "source": [
    "set(dataset[\"grade3\"])"
   ]
  },
  {
   "cell_type": "code",
   "execution_count": 10,
   "metadata": {},
   "outputs": [],
   "source": [
    "prompts = []\n",
    "for item in dataset:\n",
    "    grade = item[\"grade3\"]\n",
    "    movie_name = item[\"movie_name\"]\n",
    "    content = item[\"content\"]\n",
    "    grade_map = {\n",
    "        \"Bad\":\"плохой\",\n",
    "        \"Good\":\"хороший\",\n",
    "        \"Neutral\":\"нейтральный\",\n",
    "    }\n",
    "    ru_grade = grade_map[grade]\n",
    "    prompt = f\"напиши {ru_grade} отзыв на фильм {movie_name}\"\n",
    "    # print(prompt)\n",
    "    # print(content)\n",
    "    # print(\"=\"*100)\n",
    "    # print(\"=\"*100)\n",
    "    # print(\"=\"*100)\n",
    "    prompts.append({\n",
    "        \"prompt\": prompt,\n",
    "        \"content\": content\n",
    "    })"
   ]
  },
  {
   "cell_type": "code",
   "execution_count": 11,
   "metadata": {},
   "outputs": [
    {
     "data": {
      "text/plain": [
       "36591"
      ]
     },
     "execution_count": 11,
     "metadata": {},
     "output_type": "execute_result"
    }
   ],
   "source": [
    "len(prompts)"
   ]
  },
  {
   "cell_type": "code",
   "execution_count": 12,
   "metadata": {},
   "outputs": [],
   "source": [
    "dataset = Dataset.from_list(prompts)"
   ]
  },
  {
   "cell_type": "code",
   "execution_count": 13,
   "metadata": {},
   "outputs": [
    {
     "data": {
      "application/vnd.jupyter.widget-view+json": {
       "model_id": "682ae66e3d4846a7aaf75194d54ff93b",
       "version_major": 2,
       "version_minor": 0
      },
      "text/plain": [
       "Pushing dataset shards to the dataset hub:   0%|          | 0/1 [00:00<?, ?it/s]"
      ]
     },
     "metadata": {},
     "output_type": "display_data"
    },
    {
     "data": {
      "application/vnd.jupyter.widget-view+json": {
       "model_id": "ea084bc30b8e417697e44233a30a9462",
       "version_major": 2,
       "version_minor": 0
      },
      "text/plain": [
       "Creating parquet from Arrow format:   0%|          | 0/37 [00:00<?, ?ba/s]"
      ]
     },
     "metadata": {},
     "output_type": "display_data"
    },
    {
     "data": {
      "application/vnd.jupyter.widget-view+json": {
       "model_id": "968bbc2414c84b47b127ead86177832c",
       "version_major": 2,
       "version_minor": 0
      },
      "text/plain": [
       "Deleting unused files from dataset repository:   0%|          | 0/1 [00:00<?, ?it/s]"
      ]
     },
     "metadata": {},
     "output_type": "display_data"
    },
    {
     "data": {
      "application/vnd.jupyter.widget-view+json": {
       "model_id": "a23f70aeab1342a98eba79446ee37311",
       "version_major": 2,
       "version_minor": 0
      },
      "text/plain": [
       "Downloading metadata:   0%|          | 0.00/682 [00:00<?, ?B/s]"
      ]
     },
     "metadata": {},
     "output_type": "display_data"
    },
    {
     "name": "stderr",
     "output_type": "stream",
     "text": [
      "Updating downloaded metadata with the new split.\n"
     ]
    }
   ],
   "source": [
    "dataset.push_to_hub(\"dim/kinopoisk_prompts\", private=True)"
   ]
  },
  {
   "cell_type": "code",
   "execution_count": 14,
   "metadata": {},
   "outputs": [
    {
     "data": {
      "text/plain": [
       "Dataset({\n",
       "    features: ['prompt', 'content'],\n",
       "    num_rows: 36591\n",
       "})"
      ]
     },
     "execution_count": 14,
     "metadata": {},
     "output_type": "execute_result"
    }
   ],
   "source": [
    "dataset"
   ]
  },
  {
   "cell_type": "code",
   "execution_count": 3,
   "metadata": {},
   "outputs": [
    {
     "name": "stderr",
     "output_type": "stream",
     "text": [
      "Found cached dataset parquet (/home/kosenko/.cache/huggingface/datasets/dim___parquet/dim--kinopoisk_prompts-9641473c3c5807e6/0.0.0/2a3b91fbd88a2c90d1dbbb32b460cf621d31bd5b05b934492fdef7d8d6f236ec)\n"
     ]
    },
    {
     "data": {
      "application/vnd.jupyter.widget-view+json": {
       "model_id": "f5a4a5ae9a5645b39b1e0d303b8487d0",
       "version_major": 2,
       "version_minor": 0
      },
      "text/plain": [
       "  0%|          | 0/1 [00:00<?, ?it/s]"
      ]
     },
     "metadata": {},
     "output_type": "display_data"
    },
    {
     "data": {
      "text/plain": [
       "Dataset({\n",
       "    features: ['prompt', 'content'],\n",
       "    num_rows: 36591\n",
       "})"
      ]
     },
     "execution_count": 3,
     "metadata": {},
     "output_type": "execute_result"
    }
   ],
   "source": [
    "from datasets import load_dataset, Dataset, concatenate_datasets\n",
    "\n",
    "dataset = load_dataset(\"dim/kinopoisk_prompts\")\n",
    "dataset = dataset[\"train\"]\n",
    "dataset"
   ]
  },
  {
   "cell_type": "code",
   "execution_count": 4,
   "metadata": {},
   "outputs": [
    {
     "data": {
      "text/plain": [
       "{'prompt': 'напиши хороший отзыв на фильм Блеф (1976)',\n",
       " 'content': '\\n\"Блеф»\\xa0—\\xa0одна из\\xa0моих самых любимых комедий.\\n\\nЭтот фильм я\\xa0наверно смотрел раз\\xa0сто, нет\\xa0я конечно блефую, я\\xa0видел его\\xa0куда больше. Не\\xa0могу не\\xa0выразить своё восхищение главными действующими лицами этого фильма. Начну с\\xa0Адриано Челентано для\\xa0которого как\\xa0я считаю это\\xa0лучшая роль в\\xa0кино. Великолепный актёр, неплохой певец, странно что\\xa0на его\\xa0родине в\\xa0Италии его\\xa0песни мало кто\\xa0слушает. Ну\\xa0я думаю что\\xa0и итальянцы и\\xa0французы привыкли к\\xa0тому, что\\xa0у нас\\xa0до сих\\xa0их актёры популярней чем\\xa0даже на\\xa0своей родине. Да, такой вот\\xa0парадокс. Челентано конечно профессионал своего дела, комик с\\xa0серьёзным выражением лица. Он\\xa0смешон ещё\\xa0и потому, что\\xa0одновременно так\\xa0серъёзен. Адриано браво!\\n\\nА\\xa0теперь несколько слов об\\xa0Энтони Куине. Да\\xa0тот самый горбун из\\xa0Нотр-дама. Собор Парижской Богоматери, оригинальная версия, кто\\xa0не смотрел рекомендую. С\\xa0ним как-то приключилась одна интересная история. На\\xa0съёмках одного из\\xa0своих фильмов он\\xa0то ли\\xa0сломал, то\\xa0ли подвихнул ногу, а\\xa0роль требовала от\\xa0него чтобы в\\xa0одной из\\xa0сцен он\\xa0кружился с\\xa0дамой в\\xa0танце. И\\xa0он вместе со\\xa0съёмочным коллективом вышел из\\xa0этого положения. Они\\xa0сделали вращающеюся платформу, которая создавала видимость того, что\\xa0он весь в\\xa0ритме танца. Вот\\xa0такая вот\\xa0история, к\\xa0слову об\\xa0этом замечательном актёре.\\n\\nНу\\xa0и теперь сам\\xa0фильм, жанр которой можно смело обозвать авантюрой. Комедийной авантюрой. Некая Белль Дьюк, весьма влиятельная дама, пытается освободить своего старого знакомого авантюриста Филиппа Бенга, у\\xa0которого с\\xa0ней давние счёты. Но\\xa0вместо него на\\xa0свободе оказывается другой комбинатор-аферист по\\xa0имени Феликс. И\\xa0чтобы не\\xa0быть битым головорезами Белль Дьюк, он\\xa0уже сам\\xa0разрабатывает план побега Бэнга. После того как\\xa0они встречаются череда смешных сцен заставит зрителя разразиться шквальным смехом. В\\xa0их умений блефовать, им\\xa0просто нет\\xa0равных. Главное правило чтобы блеф сработал, надо самому в\\xa0него поверить. Помимо всего этого они\\xa0ещё и\\xa0соревнуются в\\xa0стратегий блефа. Некоторые сцены их\\xa0обмана запомнились мне\\xa0надолго, особенно сцена в\\xa0магазине тканей: \\n\\n\\xa0—\\xa0Привет старина. Так\\xa0тебя выпустили из\\xa0лепрозория?\\n\\xa0—\\xa0Не совсем, я\\xa0оттуда сбежал.\\n\\nНу или\\xa0финальная сцена, которую можно охарактеризовать тремя словами; смех сквозь слёзы.\\n\\nВ\\xa0завершении скажу, что\\xa0это великолепное кино можно смотреть и\\xa0пересматривать очень много раз, и\\xa0оно не\\xa0потеряет своего шарма и\\xa0обаяния.\\n\\n10 из\\xa010'}"
      ]
     },
     "execution_count": 4,
     "metadata": {},
     "output_type": "execute_result"
    }
   ],
   "source": [
    "dataset[0]"
   ]
  }
 ],
 "metadata": {
  "kernelspec": {
   "display_name": "base",
   "language": "python",
   "name": "python3"
  },
  "language_info": {
   "codemirror_mode": {
    "name": "ipython",
    "version": 3
   },
   "file_extension": ".py",
   "mimetype": "text/x-python",
   "name": "python",
   "nbconvert_exporter": "python",
   "pygments_lexer": "ipython3",
   "version": "3.10.9"
  },
  "orig_nbformat": 4
 },
 "nbformat": 4,
 "nbformat_minor": 2
}
