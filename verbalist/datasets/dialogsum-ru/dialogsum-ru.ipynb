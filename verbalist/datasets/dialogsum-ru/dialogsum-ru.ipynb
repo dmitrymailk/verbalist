{
 "cells": [
  {
   "cell_type": "code",
   "execution_count": 1,
   "metadata": {},
   "outputs": [
    {
     "name": "stderr",
     "output_type": "stream",
     "text": [
      "/home/kosenko/miniconda3/lib/python3.10/site-packages/tqdm/auto.py:21: TqdmWarning: IProgress not found. Please update jupyter and ipywidgets. See https://ipywidgets.readthedocs.io/en/stable/user_install.html\n",
      "  from .autonotebook import tqdm as notebook_tqdm\n",
      "Downloading readme: 100%|██████████| 3.82k/3.82k [00:00<00:00, 24.4MB/s]\n"
     ]
    },
    {
     "name": "stdout",
     "output_type": "stream",
     "text": [
      "Downloading and preparing dataset None/None to /home/kosenko/.cache/huggingface/datasets/d0rj___parquet/d0rj--dialogsum-ru-8be24b55afb5d74c/0.0.0/2a3b91fbd88a2c90d1dbbb32b460cf621d31bd5b05b934492fdef7d8d6f236ec...\n"
     ]
    },
    {
     "name": "stderr",
     "output_type": "stream",
     "text": [
      "Downloading data: 100%|██████████| 372k/372k [00:00<00:00, 5.15MB/s]\n",
      "Downloading data: 100%|██████████| 487k/487k [00:00<00:00, 6.23MB/s]]\n",
      "Downloading data: 100%|██████████| 9.29M/9.29M [00:00<00:00, 53.2MB/s]\n",
      "Downloading data files: 100%|██████████| 3/3 [00:03<00:00,  1.22s/it]\n",
      "Extracting data files: 100%|██████████| 3/3 [00:00<00:00, 519.72it/s]\n",
      "                                                                           \r"
     ]
    },
    {
     "name": "stdout",
     "output_type": "stream",
     "text": [
      "Dataset parquet downloaded and prepared to /home/kosenko/.cache/huggingface/datasets/d0rj___parquet/d0rj--dialogsum-ru-8be24b55afb5d74c/0.0.0/2a3b91fbd88a2c90d1dbbb32b460cf621d31bd5b05b934492fdef7d8d6f236ec. Subsequent calls will reuse this data.\n"
     ]
    },
    {
     "name": "stderr",
     "output_type": "stream",
     "text": [
      "100%|██████████| 3/3 [00:00<00:00, 780.34it/s]\n"
     ]
    },
    {
     "data": {
      "text/plain": [
       "Dataset({\n",
       "    features: ['id', 'dialogue', 'summary', 'topic'],\n",
       "    num_rows: 12460\n",
       "})"
      ]
     },
     "execution_count": 1,
     "metadata": {},
     "output_type": "execute_result"
    }
   ],
   "source": [
    "from datasets import load_dataset, Dataset, concatenate_datasets\n",
    "\n",
    "dataset = load_dataset(\"d0rj/dialogsum-ru\")\n",
    "dataset = dataset[\"train\"]\n",
    "dataset"
   ]
  },
  {
   "cell_type": "code",
   "execution_count": 2,
   "metadata": {},
   "outputs": [
    {
     "data": {
      "text/plain": [
       "Dataset({\n",
       "    features: ['id', 'dialogue', 'summary', 'topic'],\n",
       "    num_rows: 3000\n",
       "})"
      ]
     },
     "execution_count": 2,
     "metadata": {},
     "output_type": "execute_result"
    }
   ],
   "source": [
    "dataset = dataset.train_test_split(test_size=3000, seed=42)\n",
    "dataset = dataset[\"test\"]\n",
    "dataset"
   ]
  },
  {
   "cell_type": "code",
   "execution_count": 3,
   "metadata": {},
   "outputs": [
    {
     "data": {
      "text/plain": [
       "{'id': 'train_6155',\n",
       " 'dialogue': '#Person1#: Здравствуйте, говорит Анна!\\n#Person2#: Эй, Анна, это Джейсон.\\n#Person1#: Джейсон, где ты прятался в последнее время? Ты знаешь, что прошло много времени с твоего последнего звонка. Тебе было хорошо?\\n#Person2#: Да. Как дела, Анна?\\n#Person1#: Я в порядке. Что вы делали?\\n#Person2#: Работаю. Я был очень занят в эти дни. Я получил повышение.\\n#Person1#: Отлично, поздравляю!\\n#Person2#: Спасибо. Я тоже чувствую себя довольно хорошо. Вы знаете, большой офис, повышение и даже помощник.\\n#Person1#: Это хорошо. Так что, думаю, мне придется записаться на прием, чтобы увидеть вас.\\n#Person2#: Вы шутите.\\n#Person1#: Как давно вы там работаете?\\n#Person2#: Чуть больше двух лет. Это динамично развивающаяся компания, и стаж — не единственный фактор, влияющий на продвижение по службе.\\n#Person1#: Как вам ваш новый босс?\\n#Person2#: Она очень милая и открытая.\\n#Person1#: Гораздо лучше, чем предыдущая, да?\\n#Person2#: Ага. Он был настоящим погонщиком рабов. Ему, наверное, понравилось бы, если бы мы были роботами.\\n#Person1#: Забудь о нем. Приходи ко мне сегодня вечером. Давай напьемся.\\n#Person2#: Хорошо. Сегодня в 8 часов.\\n#Person1#: 8 это. Тогда увидимся.\\n#Person2#: Пока.',\n",
       " 'summary': 'Джейсон давно не звонил Анне. Он звонит ей, чтобы сказать, что получил повышение по службе, и ему это нравится. Анна приглашает его прийти сегодня вечером к ней домой, чтобы напиться.',\n",
       " 'topic': 'получить повышение по службе'}"
      ]
     },
     "execution_count": 3,
     "metadata": {},
     "output_type": "execute_result"
    }
   ],
   "source": [
    "dataset[0]"
   ]
  },
  {
   "cell_type": "code",
   "execution_count": 4,
   "metadata": {},
   "outputs": [
    {
     "name": "stderr",
     "output_type": "stream",
     "text": [
      "Creating parquet from Arrow format: 100%|██████████| 3/3 [00:00<00:00, 27.94ba/s]\n",
      "Pushing dataset shards to the dataset hub: 100%|██████████| 1/1 [00:02<00:00,  2.49s/it]\n"
     ]
    }
   ],
   "source": [
    "dataset.push_to_hub(\"dim/dialogsum_ru_3k\")"
   ]
  },
  {
   "cell_type": "code",
   "execution_count": 1,
   "metadata": {},
   "outputs": [
    {
     "name": "stderr",
     "output_type": "stream",
     "text": [
      "/home/kosenko/miniconda3/lib/python3.10/site-packages/tqdm/auto.py:21: TqdmWarning: IProgress not found. Please update jupyter and ipywidgets. See https://ipywidgets.readthedocs.io/en/stable/user_install.html\n",
      "  from .autonotebook import tqdm as notebook_tqdm\n",
      "Downloading readme: 100%|██████████| 482/482 [00:00<00:00, 4.25MB/s]\n"
     ]
    },
    {
     "name": "stdout",
     "output_type": "stream",
     "text": [
      "Downloading and preparing dataset None/None to /home/kosenko/.cache/huggingface/datasets/dim___parquet/dim--dialogsum_ru_3k-f56a683cbc139e89/0.0.0/2a3b91fbd88a2c90d1dbbb32b460cf621d31bd5b05b934492fdef7d8d6f236ec...\n"
     ]
    },
    {
     "name": "stderr",
     "output_type": "stream",
     "text": [
      "Downloading data: 100%|██████████| 2.24M/2.24M [00:00<00:00, 4.08MB/s]\n",
      "Downloading data files: 100%|██████████| 1/1 [00:02<00:00,  2.29s/it]\n",
      "Extracting data files: 100%|██████████| 1/1 [00:00<00:00, 406.15it/s]\n",
      "                                                                       \r"
     ]
    },
    {
     "name": "stdout",
     "output_type": "stream",
     "text": [
      "Dataset parquet downloaded and prepared to /home/kosenko/.cache/huggingface/datasets/dim___parquet/dim--dialogsum_ru_3k-f56a683cbc139e89/0.0.0/2a3b91fbd88a2c90d1dbbb32b460cf621d31bd5b05b934492fdef7d8d6f236ec. Subsequent calls will reuse this data.\n"
     ]
    },
    {
     "name": "stderr",
     "output_type": "stream",
     "text": [
      "100%|██████████| 1/1 [00:00<00:00, 663.24it/s]\n"
     ]
    },
    {
     "data": {
      "text/plain": [
       "{'id': 'train_6155',\n",
       " 'dialogue': '#Person1#: Здравствуйте, говорит Анна!\\n#Person2#: Эй, Анна, это Джейсон.\\n#Person1#: Джейсон, где ты прятался в последнее время? Ты знаешь, что прошло много времени с твоего последнего звонка. Тебе было хорошо?\\n#Person2#: Да. Как дела, Анна?\\n#Person1#: Я в порядке. Что вы делали?\\n#Person2#: Работаю. Я был очень занят в эти дни. Я получил повышение.\\n#Person1#: Отлично, поздравляю!\\n#Person2#: Спасибо. Я тоже чувствую себя довольно хорошо. Вы знаете, большой офис, повышение и даже помощник.\\n#Person1#: Это хорошо. Так что, думаю, мне придется записаться на прием, чтобы увидеть вас.\\n#Person2#: Вы шутите.\\n#Person1#: Как давно вы там работаете?\\n#Person2#: Чуть больше двух лет. Это динамично развивающаяся компания, и стаж — не единственный фактор, влияющий на продвижение по службе.\\n#Person1#: Как вам ваш новый босс?\\n#Person2#: Она очень милая и открытая.\\n#Person1#: Гораздо лучше, чем предыдущая, да?\\n#Person2#: Ага. Он был настоящим погонщиком рабов. Ему, наверное, понравилось бы, если бы мы были роботами.\\n#Person1#: Забудь о нем. Приходи ко мне сегодня вечером. Давай напьемся.\\n#Person2#: Хорошо. Сегодня в 8 часов.\\n#Person1#: 8 это. Тогда увидимся.\\n#Person2#: Пока.',\n",
       " 'summary': 'Джейсон давно не звонил Анне. Он звонит ей, чтобы сказать, что получил повышение по службе, и ему это нравится. Анна приглашает его прийти сегодня вечером к ней домой, чтобы напиться.',\n",
       " 'topic': 'получить повышение по службе'}"
      ]
     },
     "execution_count": 1,
     "metadata": {},
     "output_type": "execute_result"
    }
   ],
   "source": [
    "from datasets import load_dataset\n",
    "\n",
    "dataset = load_dataset(\"dim/dialogsum_ru_3k\")\n",
    "dataset = dataset[\"train\"]\n",
    "dataset[0]"
   ]
  }
 ],
 "metadata": {
  "kernelspec": {
   "display_name": "base",
   "language": "python",
   "name": "python3"
  },
  "language_info": {
   "codemirror_mode": {
    "name": "ipython",
    "version": 3
   },
   "file_extension": ".py",
   "mimetype": "text/x-python",
   "name": "python",
   "nbconvert_exporter": "python",
   "pygments_lexer": "ipython3",
   "version": "3.10.9"
  },
  "orig_nbformat": 4
 },
 "nbformat": 4,
 "nbformat_minor": 2
}
