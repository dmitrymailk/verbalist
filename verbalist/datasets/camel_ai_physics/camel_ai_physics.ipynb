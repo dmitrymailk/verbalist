{
 "cells": [
  {
   "cell_type": "code",
   "execution_count": 7,
   "metadata": {},
   "outputs": [
    {
     "data": {
      "text/plain": [
       "Dataset({\n",
       "    features: ['role_1', 'topic;', 'sub_topic', 'message_1', 'message_2'],\n",
       "    num_rows: 20000\n",
       "})"
      ]
     },
     "execution_count": 7,
     "metadata": {},
     "output_type": "execute_result"
    }
   ],
   "source": [
    "from datasets import load_dataset, Dataset, load_from_disk\n",
    "\n",
    "dataset = load_dataset(\"camel-ai/physics\")\n",
    "dataset = dataset[\"train\"]\n",
    "dataset"
   ]
  },
  {
   "cell_type": "code",
   "execution_count": 2,
   "metadata": {},
   "outputs": [
    {
     "data": {
      "text/plain": [
       "{'role_1': 'Physicist_RoleType.ASSISTANT',\n",
       " 'topic;': 'Quantum mechanics',\n",
       " 'sub_topic': 'The hydrogen atom and its energy levels',\n",
       " 'message_1': 'What is the energy difference between the ground state and the first excited state of a hydrogen atom?',\n",
       " 'message_2': \"The energy difference between the ground state (n=1) and the first excited state (n=2) of a hydrogen atom can be calculated using the Rydberg formula for energy levels:\\n\\nE_n = -13.6 eV / n^2\\n\\nwhere E_n is the energy of the electron in the nth energy level, and n is the principal quantum number.\\n\\nFirst, let's find the energy of the ground state (n=1):\\n\\nE_1 = -13.6 eV / 1^2 = -13.6 eV\\n\\nNow, let's find the energy of the first excited state (n=2):\\n\\nE_2 = -13.6 eV / 2^2 = -13.6 eV / 4 = -3.4 eV\\n\\nFinally, let's find the energy difference between the two states:\\n\\nΔE = E_2 - E_1 = -3.4 eV - (-13.6 eV) = 10.2 eV\\n\\nSo, the energy difference between the ground state and the first excited state of a hydrogen atom is 10.2 electron volts (eV).\"}"
      ]
     },
     "execution_count": 2,
     "metadata": {},
     "output_type": "execute_result"
    }
   ],
   "source": [
    "dataset[100]"
   ]
  },
  {
   "cell_type": "code",
   "execution_count": 3,
   "metadata": {},
   "outputs": [
    {
     "name": "stderr",
     "output_type": "stream",
     "text": [
      "Creating parquet from Arrow format: 100%|██████████| 20/20 [00:00<00:00, 24.00ba/s]\n",
      "Pushing dataset shards to the dataset hub: 100%|██████████| 1/1 [00:24<00:00, 24.79s/it]\n"
     ]
    }
   ],
   "source": [
    "dataset.push_to_hub(\"dim/camel_ai_physics\")"
   ]
  },
  {
   "cell_type": "code",
   "execution_count": 9,
   "metadata": {},
   "outputs": [],
   "source": [
    "import tiktoken\n",
    "\n",
    "# To get the tokeniser corresponding to a specific model in the OpenAI API:\n",
    "tokenizer = tiktoken.encoding_for_model(\"gpt-3.5-turbo\")"
   ]
  },
  {
   "cell_type": "code",
   "execution_count": 6,
   "metadata": {},
   "outputs": [
    {
     "data": {
      "text/plain": [
       "[15339, 1917]"
      ]
     },
     "execution_count": 6,
     "metadata": {},
     "output_type": "execute_result"
    }
   ],
   "source": [
    "tokenizer.encode(\"hello world\")"
   ]
  },
  {
   "cell_type": "code",
   "execution_count": 10,
   "metadata": {},
   "outputs": [
    {
     "data": {
      "text/plain": [
       "[54745, 28089, 8341, 11562, 78746]"
      ]
     },
     "execution_count": 10,
     "metadata": {},
     "output_type": "execute_result"
    }
   ],
   "source": [
    "tokenizer.encode(\"Привет мир\")"
   ]
  },
  {
   "cell_type": "code",
   "execution_count": 11,
   "metadata": {},
   "outputs": [
    {
     "name": "stderr",
     "output_type": "stream",
     "text": [
      "Map (num_proc=20): 100%|██████████| 20000/20000 [00:01<00:00, 12099.77 examples/s]\n"
     ]
    }
   ],
   "source": [
    "dataset = dataset.map(\n",
    "    lambda x: {\n",
    "        **x,\n",
    "        \"len_en\": len(\n",
    "            tokenizer.encode(x[\"message_1\"] + x[\"message_2\"]),\n",
    "        ),\n",
    "    },\n",
    "    num_proc=20,\n",
    ")"
   ]
  },
  {
   "cell_type": "code",
   "execution_count": 13,
   "metadata": {},
   "outputs": [],
   "source": [
    "dataset = dataset.to_pandas()"
   ]
  },
  {
   "cell_type": "code",
   "execution_count": 14,
   "metadata": {},
   "outputs": [
    {
     "data": {
      "text/html": [
       "<div>\n",
       "<style scoped>\n",
       "    .dataframe tbody tr th:only-of-type {\n",
       "        vertical-align: middle;\n",
       "    }\n",
       "\n",
       "    .dataframe tbody tr th {\n",
       "        vertical-align: top;\n",
       "    }\n",
       "\n",
       "    .dataframe thead th {\n",
       "        text-align: right;\n",
       "    }\n",
       "</style>\n",
       "<table border=\"1\" class=\"dataframe\">\n",
       "  <thead>\n",
       "    <tr style=\"text-align: right;\">\n",
       "      <th></th>\n",
       "      <th>role_1</th>\n",
       "      <th>topic;</th>\n",
       "      <th>sub_topic</th>\n",
       "      <th>message_1</th>\n",
       "      <th>message_2</th>\n",
       "      <th>len_en</th>\n",
       "    </tr>\n",
       "  </thead>\n",
       "  <tbody>\n",
       "    <tr>\n",
       "      <th>0</th>\n",
       "      <td>Physicist_RoleType.ASSISTANT</td>\n",
       "      <td>Quantum mechanics</td>\n",
       "      <td>The Schrödinger equation and its solutions</td>\n",
       "      <td>What is the probability of finding a particle ...</td>\n",
       "      <td>To find the probability of finding a particle ...</td>\n",
       "      <td>635</td>\n",
       "    </tr>\n",
       "    <tr>\n",
       "      <th>1</th>\n",
       "      <td>Physicist_RoleType.ASSISTANT</td>\n",
       "      <td>Quantum mechanics</td>\n",
       "      <td>The Schrödinger equation and its solutions</td>\n",
       "      <td>What is the time-independent Schrödinger equat...</td>\n",
       "      <td>The time-independent Schrödinger equation is a...</td>\n",
       "      <td>586</td>\n",
       "    </tr>\n",
       "    <tr>\n",
       "      <th>2</th>\n",
       "      <td>Physicist_RoleType.ASSISTANT</td>\n",
       "      <td>Quantum mechanics</td>\n",
       "      <td>The Schrödinger equation and its solutions</td>\n",
       "      <td>Determine the wave function and energy eigenva...</td>\n",
       "      <td>To determine the wave function and energy eige...</td>\n",
       "      <td>526</td>\n",
       "    </tr>\n",
       "    <tr>\n",
       "      <th>3</th>\n",
       "      <td>Physicist_RoleType.ASSISTANT</td>\n",
       "      <td>Quantum mechanics</td>\n",
       "      <td>The Schrödinger equation and its solutions</td>\n",
       "      <td>What are the possible energy levels and wave f...</td>\n",
       "      <td>To solve this problem, we need to apply the ti...</td>\n",
       "      <td>871</td>\n",
       "    </tr>\n",
       "    <tr>\n",
       "      <th>4</th>\n",
       "      <td>Physicist_RoleType.ASSISTANT</td>\n",
       "      <td>Quantum mechanics</td>\n",
       "      <td>The Schrödinger equation and its solutions</td>\n",
       "      <td>If a particle is located in a one-dimensional ...</td>\n",
       "      <td>Yes, I can help you find the possible energy l...</td>\n",
       "      <td>569</td>\n",
       "    </tr>\n",
       "    <tr>\n",
       "      <th>...</th>\n",
       "      <td>...</td>\n",
       "      <td>...</td>\n",
       "      <td>...</td>\n",
       "      <td>...</td>\n",
       "      <td>...</td>\n",
       "      <td>...</td>\n",
       "    </tr>\n",
       "    <tr>\n",
       "      <th>19995</th>\n",
       "      <td>Physicist_RoleType.ASSISTANT</td>\n",
       "      <td>Biophysics</td>\n",
       "      <td>Modeling the dynamics of protein-protein aggre...</td>\n",
       "      <td>\"How can we use mathematical modeling to deter...</td>\n",
       "      <td>To use mathematical modeling to determine the ...</td>\n",
       "      <td>502</td>\n",
       "    </tr>\n",
       "    <tr>\n",
       "      <th>19996</th>\n",
       "      <td>Physicist_RoleType.ASSISTANT</td>\n",
       "      <td>Biophysics</td>\n",
       "      <td>Modeling the dynamics of protein-protein aggre...</td>\n",
       "      <td>What are the physical mechanisms that govern t...</td>\n",
       "      <td>The physical mechanisms that govern the dynami...</td>\n",
       "      <td>450</td>\n",
       "    </tr>\n",
       "    <tr>\n",
       "      <th>19997</th>\n",
       "      <td>Physicist_RoleType.ASSISTANT</td>\n",
       "      <td>Biophysics</td>\n",
       "      <td>Modeling the dynamics of protein-protein aggre...</td>\n",
       "      <td>What is the impact of external physical factor...</td>\n",
       "      <td>The impact of external physical factors, such ...</td>\n",
       "      <td>575</td>\n",
       "    </tr>\n",
       "    <tr>\n",
       "      <th>19998</th>\n",
       "      <td>Physicist_RoleType.ASSISTANT</td>\n",
       "      <td>Biophysics</td>\n",
       "      <td>Modeling the dynamics of protein-protein aggre...</td>\n",
       "      <td>How can we use mathematical modeling to predic...</td>\n",
       "      <td>Mathematical modeling can be a powerful tool f...</td>\n",
       "      <td>545</td>\n",
       "    </tr>\n",
       "    <tr>\n",
       "      <th>19999</th>\n",
       "      <td>Physicist_RoleType.ASSISTANT</td>\n",
       "      <td>Biophysics</td>\n",
       "      <td>Modeling the dynamics of protein-protein aggre...</td>\n",
       "      <td>What is the effect of protein concentration an...</td>\n",
       "      <td>Alzheimer's disease is characterized by the ac...</td>\n",
       "      <td>391</td>\n",
       "    </tr>\n",
       "  </tbody>\n",
       "</table>\n",
       "<p>20000 rows × 6 columns</p>\n",
       "</div>"
      ],
      "text/plain": [
       "                             role_1             topic;  \\\n",
       "0      Physicist_RoleType.ASSISTANT  Quantum mechanics   \n",
       "1      Physicist_RoleType.ASSISTANT  Quantum mechanics   \n",
       "2      Physicist_RoleType.ASSISTANT  Quantum mechanics   \n",
       "3      Physicist_RoleType.ASSISTANT  Quantum mechanics   \n",
       "4      Physicist_RoleType.ASSISTANT  Quantum mechanics   \n",
       "...                             ...                ...   \n",
       "19995  Physicist_RoleType.ASSISTANT         Biophysics   \n",
       "19996  Physicist_RoleType.ASSISTANT         Biophysics   \n",
       "19997  Physicist_RoleType.ASSISTANT         Biophysics   \n",
       "19998  Physicist_RoleType.ASSISTANT         Biophysics   \n",
       "19999  Physicist_RoleType.ASSISTANT         Biophysics   \n",
       "\n",
       "                                               sub_topic  \\\n",
       "0             The Schrödinger equation and its solutions   \n",
       "1             The Schrödinger equation and its solutions   \n",
       "2             The Schrödinger equation and its solutions   \n",
       "3             The Schrödinger equation and its solutions   \n",
       "4             The Schrödinger equation and its solutions   \n",
       "...                                                  ...   \n",
       "19995  Modeling the dynamics of protein-protein aggre...   \n",
       "19996  Modeling the dynamics of protein-protein aggre...   \n",
       "19997  Modeling the dynamics of protein-protein aggre...   \n",
       "19998  Modeling the dynamics of protein-protein aggre...   \n",
       "19999  Modeling the dynamics of protein-protein aggre...   \n",
       "\n",
       "                                               message_1  \\\n",
       "0      What is the probability of finding a particle ...   \n",
       "1      What is the time-independent Schrödinger equat...   \n",
       "2      Determine the wave function and energy eigenva...   \n",
       "3      What are the possible energy levels and wave f...   \n",
       "4      If a particle is located in a one-dimensional ...   \n",
       "...                                                  ...   \n",
       "19995  \"How can we use mathematical modeling to deter...   \n",
       "19996  What are the physical mechanisms that govern t...   \n",
       "19997  What is the impact of external physical factor...   \n",
       "19998  How can we use mathematical modeling to predic...   \n",
       "19999  What is the effect of protein concentration an...   \n",
       "\n",
       "                                               message_2  len_en  \n",
       "0      To find the probability of finding a particle ...     635  \n",
       "1      The time-independent Schrödinger equation is a...     586  \n",
       "2      To determine the wave function and energy eige...     526  \n",
       "3      To solve this problem, we need to apply the ti...     871  \n",
       "4      Yes, I can help you find the possible energy l...     569  \n",
       "...                                                  ...     ...  \n",
       "19995  To use mathematical modeling to determine the ...     502  \n",
       "19996  The physical mechanisms that govern the dynami...     450  \n",
       "19997  The impact of external physical factors, such ...     575  \n",
       "19998  Mathematical modeling can be a powerful tool f...     545  \n",
       "19999  Alzheimer's disease is characterized by the ac...     391  \n",
       "\n",
       "[20000 rows x 6 columns]"
      ]
     },
     "execution_count": 14,
     "metadata": {},
     "output_type": "execute_result"
    }
   ],
   "source": [
    "dataset"
   ]
  },
  {
   "cell_type": "code",
   "execution_count": 16,
   "metadata": {},
   "outputs": [
    {
     "data": {
      "text/plain": [
       "15.807661500000002"
      ]
     },
     "execution_count": 16,
     "metadata": {},
     "output_type": "execute_result"
    }
   ],
   "source": [
    "dataset['len_en'].sum() / 1000 * 0.0015"
   ]
  },
  {
   "cell_type": "code",
   "execution_count": null,
   "metadata": {},
   "outputs": [],
   "source": []
  }
 ],
 "metadata": {
  "kernelspec": {
   "display_name": "base",
   "language": "python",
   "name": "python3"
  },
  "language_info": {
   "codemirror_mode": {
    "name": "ipython",
    "version": 3
   },
   "file_extension": ".py",
   "mimetype": "text/x-python",
   "name": "python",
   "nbconvert_exporter": "python",
   "pygments_lexer": "ipython3",
   "version": "3.10.13"
  }
 },
 "nbformat": 4,
 "nbformat_minor": 2
}
