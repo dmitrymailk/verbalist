{
 "cells": [
  {
   "cell_type": "code",
   "execution_count": 1,
   "metadata": {},
   "outputs": [
    {
     "name": "stderr",
     "output_type": "stream",
     "text": [
      "/home/kosenko/miniconda3/lib/python3.10/site-packages/tqdm/auto.py:21: TqdmWarning: IProgress not found. Please update jupyter and ipywidgets. See https://ipywidgets.readthedocs.io/en/stable/user_install.html\n",
      "  from .autonotebook import tqdm as notebook_tqdm\n",
      "Repo card metadata block was not found. Setting CardData to empty.\n"
     ]
    }
   ],
   "source": [
    "from datasets import Dataset, load_dataset, concatenate_datasets\n",
    "\n",
    "dataset = load_dataset(\"Norquinal/claude_multiround_chat_30k\")\n",
    "dataset = dataset[\"train\"]"
   ]
  },
  {
   "cell_type": "code",
   "execution_count": 2,
   "metadata": {},
   "outputs": [
    {
     "data": {
      "text/plain": [
       "{'conversations': [{'from': 'human',\n",
       "   'value': 'Generate a code snippet in any programming language for a function that takes two integers as input and returns the sum of the two integers.'},\n",
       "  {'from': 'gpt',\n",
       "   'value': 'def add(a, b):\\n    \"\"\"This function takes two integer inputs and returns their sum.\"\"\"\\n    total = a + b\\n    return total'},\n",
       "  {'from': 'human',\n",
       "   'value': 'Now generate a code snippet for a function that takes in two integers and returns the product of those two integers.'},\n",
       "  {'from': 'gpt',\n",
       "   'value': 'def multiply(a, b):\\n    \"\"\"This function takes two integer inputs and returns their product.\"\"\"\\n    product = a * b   \\n    return product'},\n",
       "  {'from': 'human',\n",
       "   'value': 'Now generate a code snippet for a function that takes in two integers and returns the difference of the two (the result of the first minus the second).'},\n",
       "  {'from': 'gpt',\n",
       "   'value': 'def subtract(a, b):    \\n    \"\"\"This function takes two integer inputs and returns their difference.\"\"\"\\n    difference = a - b   \\n    return difference'}],\n",
       " 'id': '9OocirGc'}"
      ]
     },
     "execution_count": 2,
     "metadata": {},
     "output_type": "execute_result"
    }
   ],
   "source": [
    "dataset[0]"
   ]
  },
  {
   "cell_type": "code",
   "execution_count": 3,
   "metadata": {},
   "outputs": [
    {
     "name": "stderr",
     "output_type": "stream",
     "text": [
      "Creating parquet from Arrow format: 100%|██████████| 33/33 [00:00<00:00, 47.78ba/s]\n",
      "Pushing dataset shards to the dataset hub: 100%|██████████| 1/1 [00:19<00:00, 19.28s/it]\n"
     ]
    }
   ],
   "source": [
    "dataset.push_to_hub(\"dim/norquinal_claude_multiround_chat_30k\")"
   ]
  }
 ],
 "metadata": {
  "kernelspec": {
   "display_name": "base",
   "language": "python",
   "name": "python3"
  },
  "language_info": {
   "codemirror_mode": {
    "name": "ipython",
    "version": 3
   },
   "file_extension": ".py",
   "mimetype": "text/x-python",
   "name": "python",
   "nbconvert_exporter": "python",
   "pygments_lexer": "ipython3",
   "version": "3.10.13"
  }
 },
 "nbformat": 4,
 "nbformat_minor": 2
}
