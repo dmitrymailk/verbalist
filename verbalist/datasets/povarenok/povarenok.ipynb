{
 "cells": [
  {
   "cell_type": "code",
   "execution_count": 1,
   "metadata": {},
   "outputs": [],
   "source": [
    "import requests\n",
    "from bs4 import BeautifulSoup\n",
    "import pandas as pd\n",
    "import re\n",
    "from tqdm import tqdm\n",
    "import uuid\n",
    "\n",
    "from datasets import Dataset"
   ]
  },
  {
   "cell_type": "markdown",
   "metadata": {},
   "source": [
    "### parse card"
   ]
  },
  {
   "cell_type": "code",
   "execution_count": 6,
   "metadata": {},
   "outputs": [
    {
     "data": {
      "text/plain": [
       "15"
      ]
     },
     "execution_count": 6,
     "metadata": {},
     "output_type": "execute_result"
    }
   ],
   "source": [
    "url = \"https://www.povarenok.ru/recipes/~2/?sort=rating&order=desc\"\n",
    "response = requests.get(url=url)\n",
    "soup = BeautifulSoup(response.text)\n",
    "items = soup.find_all(\"article\", class_=\"item-bl\")\n",
    "len(items)"
   ]
  },
  {
   "cell_type": "code",
   "execution_count": 17,
   "metadata": {},
   "outputs": [
    {
     "data": {
      "text/plain": [
       "'Жареный картофель \"Хозяйка отдыхает\"'"
      ]
     },
     "execution_count": 17,
     "metadata": {},
     "output_type": "execute_result"
    }
   ],
   "source": [
    "card = items[0]\n",
    "\n",
    "title = card.find(\"h2\").text.strip()\n",
    "title"
   ]
  },
  {
   "cell_type": "code",
   "execution_count": 24,
   "metadata": {},
   "outputs": [
    {
     "data": {
      "text/plain": [
       "'https://www.povarenok.ru/recipes/show/54138/'"
      ]
     },
     "execution_count": 24,
     "metadata": {},
     "output_type": "execute_result"
    }
   ],
   "source": [
    "link = card.find(\"h2\").find(\"a\")[\"href\"]\n",
    "link"
   ]
  },
  {
   "cell_type": "code",
   "execution_count": 18,
   "metadata": {},
   "outputs": [
    {
     "data": {
      "text/plain": [
       "['Картофель',\n",
       " 'Морковь',\n",
       " 'Лук репчатый',\n",
       " 'Помидор',\n",
       " 'Приправа',\n",
       " 'Масло растительное',\n",
       " 'Масло оливковое',\n",
       " 'Зелень',\n",
       " 'Чеснок']"
      ]
     },
     "execution_count": 18,
     "metadata": {},
     "output_type": "execute_result"
    }
   ],
   "source": [
    "ingridients = [item.text for item in card.find(\"span\", class_=\"list\").find_all(\"a\")]\n",
    "ingridients"
   ]
  },
  {
   "cell_type": "code",
   "execution_count": 21,
   "metadata": {},
   "outputs": [
    {
     "data": {
      "text/plain": [
       "2639094"
      ]
     },
     "execution_count": 21,
     "metadata": {},
     "output_type": "execute_result"
    }
   ],
   "source": [
    "views = int(card.find(\"span\", class_=\"i-views\").text)\n",
    "views"
   ]
  },
  {
   "cell_type": "code",
   "execution_count": 22,
   "metadata": {},
   "outputs": [
    {
     "data": {
      "text/plain": [
       "20834"
      ]
     },
     "execution_count": 22,
     "metadata": {},
     "output_type": "execute_result"
    }
   ],
   "source": [
    "likes = int(card.find(\"span\", class_=\"i-likes\").text)\n",
    "likes"
   ]
  },
  {
   "cell_type": "code",
   "execution_count": 23,
   "metadata": {},
   "outputs": [
    {
     "data": {
      "text/plain": [
       "2554"
      ]
     },
     "execution_count": 23,
     "metadata": {},
     "output_type": "execute_result"
    }
   ],
   "source": [
    "ups = int(card.find(\"span\", class_=\"i-up\").text)\n",
    "ups"
   ]
  },
  {
   "cell_type": "markdown",
   "metadata": {},
   "source": [
    "### parse page"
   ]
  },
  {
   "cell_type": "code",
   "execution_count": 45,
   "metadata": {},
   "outputs": [
    {
     "data": {
      "text/plain": [
       "'Рецепт «Салат \"Архиерейский\" с мясом птицы»:'"
      ]
     },
     "execution_count": 45,
     "metadata": {},
     "output_type": "execute_result"
    }
   ],
   "source": [
    "url = \"https://www.povarenok.ru/recipes/show/130312/\"\n",
    "response = requests.get(url=url)\n",
    "soup = BeautifulSoup(response.text)\n",
    "title_receipt = soup.find_all(\"h2\")[2].text\n",
    "title_receipt"
   ]
  },
  {
   "cell_type": "code",
   "execution_count": 46,
   "metadata": {},
   "outputs": [
    {
     "data": {
      "text/plain": [
       "['Ингредиенты для приготовления салата.',\n",
       " 'Лук репчатый нашинковать полукольцами.',\n",
       " 'На сковороду добавить растительное масло (2 ст. ложки), выложить лук и легка припустить на слабом огне до прозрачности. Затем наклонить сковороду и слить масло. В салате оно не нужно.',\n",
       " 'Сырую морковь нашинковать на корейской терке.',\n",
       " 'Филе индейки отварить, порезать брусочками.',\n",
       " 'Яйца отварить, порезать брусочками.',\n",
       " 'Редьку натереть на корейской терке.',\n",
       " 'Ингредиенты соединить.',\n",
       " 'Добавить соль по вкусу. Заправить салат майонезом.',\n",
       " 'Приятного аппетита!']"
      ]
     },
     "execution_count": 46,
     "metadata": {},
     "output_type": "execute_result"
    }
   ],
   "source": [
    "items = soup.find_all(\"li\", class_=\"cooking-bl\")\n",
    "items = [item.text.strip() for item in items]\n",
    "items"
   ]
  },
  {
   "cell_type": "code",
   "execution_count": 47,
   "metadata": {},
   "outputs": [
    {
     "name": "stdout",
     "output_type": "stream",
     "text": [
      "Рецепт «Салат \"Архиерейский\" с мясом птицы»:\n",
      "1. Ингредиенты для приготовления салата.\n",
      "2. Лук репчатый нашинковать полукольцами.\n",
      "3. На сковороду добавить растительное масло (2 ст. ложки), выложить лук и легка припустить на слабом огне до прозрачности. Затем наклонить сковороду и слить масло. В салате оно не нужно.\n",
      "4. Сырую морковь нашинковать на корейской терке.\n",
      "5. Филе индейки отварить, порезать брусочками.\n",
      "6. Яйца отварить, порезать брусочками.\n",
      "7. Редьку натереть на корейской терке.\n",
      "8. Ингредиенты соединить.\n",
      "9. Добавить соль по вкусу. Заправить салат майонезом.\n",
      "10. Приятного аппетита!\n"
     ]
    }
   ],
   "source": [
    "full_receipt_text = [f\"{i+1}. {item}\" for i, item in enumerate(items)]\n",
    "full_receipt_text = \"\\n\".join(full_receipt_text)\n",
    "full_receipt_text = f\"{title_receipt}\\n{full_receipt_text}\"\n",
    "print(full_receipt_text)"
   ]
  },
  {
   "cell_type": "code",
   "execution_count": null,
   "metadata": {},
   "outputs": [],
   "source": [
    "from datasets import load_dataset\n",
    "dataset = load_dataset(\"dim/povarenok_links\")\n",
    "dataset = dataset['train']\n",
    "dataset['link'][:100]"
   ]
  },
  {
   "cell_type": "code",
   "execution_count": 55,
   "metadata": {},
   "outputs": [
    {
     "data": {
      "text/plain": [
       "{'title': 'Котлеты \"Ласточкино гнездо\"',\n",
       " 'ingridients': ['Фарш мясной',\n",
       "  'Хлеб',\n",
       "  'Чеснок',\n",
       "  'Укроп',\n",
       "  'Соль',\n",
       "  'Перец черный',\n",
       "  'Яйцо куриное',\n",
       "  'Майонез',\n",
       "  'Кетчуп',\n",
       "  'Лук репчатый',\n",
       "  'Помидор',\n",
       "  'Сыр твердый',\n",
       "  'Перец болгарский'],\n",
       " 'views': 6639388,\n",
       " 'likes': 33991,\n",
       " 'ups': 4683,\n",
       " 'link': 'https://www.povarenok.ru/recipes/show/5659/'}"
      ]
     },
     "execution_count": 55,
     "metadata": {},
     "output_type": "execute_result"
    }
   ],
   "source": [
    "dataset.to_list()[0]"
   ]
  },
  {
   "cell_type": "code",
   "execution_count": 2,
   "metadata": {},
   "outputs": [
    {
     "name": "stderr",
     "output_type": "stream",
     "text": [
      "Found cached dataset parquet (/home/kosenko/.cache/huggingface/datasets/dim___parquet/dim--povarenok-4e4232b00af85a09/0.0.0/2a3b91fbd88a2c90d1dbbb32b460cf621d31bd5b05b934492fdef7d8d6f236ec)\n"
     ]
    },
    {
     "data": {
      "application/vnd.jupyter.widget-view+json": {
       "model_id": "188c3d9ffa96426eadb656c9a63207f9",
       "version_major": 2,
       "version_minor": 0
      },
      "text/plain": [
       "  0%|          | 0/1 [00:00<?, ?it/s]"
      ]
     },
     "metadata": {},
     "output_type": "display_data"
    },
    {
     "data": {
      "text/plain": [
       "Dataset({\n",
       "    features: ['full_receipt_text', 'steps', 'title_receipt', 'title', 'ingridients', 'views', 'likes', 'ups', 'link'],\n",
       "    num_rows: 46500\n",
       "})"
      ]
     },
     "execution_count": 2,
     "metadata": {},
     "output_type": "execute_result"
    }
   ],
   "source": [
    "from datasets import load_dataset, Dataset, concatenate_datasets\n",
    "\n",
    "dataset = load_dataset(\"dim/povarenok\")\n",
    "dataset = dataset[\"train\"]\n",
    "dataset"
   ]
  },
  {
   "cell_type": "code",
   "execution_count": 4,
   "metadata": {},
   "outputs": [
    {
     "data": {
      "text/plain": [
       "{'full_receipt_text': 'Рецепт «Котлеты \"Ласточкино гнездо\"»:\\n1. К фаршу добавить соль, перец, приправы к мясу, мелко нарезанные чеснок и укроп, замоченный в молоке или воде и перекрученный на мясорубке батон, 2 яйца, \\r\\nхорошо вымесить и сформировать лепешки (у меня выходит 12 штук). \\r\\nВыложить их на смазанный растительным маслом противень.\\n2. Нарезать сыр, лук, помидор, перец (у меня сегодня его не было) тонкими ломтиками (кружочками). \\r\\nНа мясную лепешку выкладываем: кетчуп - лук - майонез - помидор - майонез - сыр. Кружочек перца вдавливаем вокруг начинки и саму начинку тоже легонько внутрь примять. В разогретую духовку - 180*С 30 мин.\\n3. Приятного аппетита!!!',\n",
       " 'steps': ['К фаршу добавить соль, перец, приправы к мясу, мелко нарезанные чеснок и укроп, замоченный в молоке или воде и перекрученный на мясорубке батон, 2 яйца, \\r\\nхорошо вымесить и сформировать лепешки (у меня выходит 12 штук). \\r\\nВыложить их на смазанный растительным маслом противень.',\n",
       "  'Нарезать сыр, лук, помидор, перец (у меня сегодня его не было) тонкими ломтиками (кружочками). \\r\\nНа мясную лепешку выкладываем: кетчуп - лук - майонез - помидор - майонез - сыр. Кружочек перца вдавливаем вокруг начинки и саму начинку тоже легонько внутрь примять. В разогретую духовку - 180*С 30 мин.',\n",
       "  'Приятного аппетита!!!'],\n",
       " 'title_receipt': 'Рецепт «Котлеты \"Ласточкино гнездо\"»:',\n",
       " 'title': 'Котлеты \"Ласточкино гнездо\"',\n",
       " 'ingridients': ['Фарш мясной',\n",
       "  'Хлеб',\n",
       "  'Чеснок',\n",
       "  'Укроп',\n",
       "  'Соль',\n",
       "  'Перец черный',\n",
       "  'Яйцо куриное',\n",
       "  'Майонез',\n",
       "  'Кетчуп',\n",
       "  'Лук репчатый',\n",
       "  'Помидор',\n",
       "  'Сыр твердый',\n",
       "  'Перец болгарский'],\n",
       " 'views': 6639388,\n",
       " 'likes': 33991,\n",
       " 'ups': 4683,\n",
       " 'link': 'https://www.povarenok.ru/recipes/show/5659/'}"
      ]
     },
     "execution_count": 4,
     "metadata": {},
     "output_type": "execute_result"
    }
   ],
   "source": [
    "dataset[0]"
   ]
  },
  {
   "cell_type": "code",
   "execution_count": 5,
   "metadata": {},
   "outputs": [
    {
     "data": {
      "text/plain": [
       "'Фарш мясной, Хлеб, Чеснок, Укроп, Соль, Перец черный, Яйцо куриное, Майонез, Кетчуп, Лук репчатый, Помидор, Сыр твердый, Перец болгарский'"
      ]
     },
     "execution_count": 5,
     "metadata": {},
     "output_type": "execute_result"
    }
   ],
   "source": [
    "\", \".join(dataset[0]['ingridients'])"
   ]
  }
 ],
 "metadata": {
  "kernelspec": {
   "display_name": "base",
   "language": "python",
   "name": "python3"
  },
  "language_info": {
   "codemirror_mode": {
    "name": "ipython",
    "version": 3
   },
   "file_extension": ".py",
   "mimetype": "text/x-python",
   "name": "python",
   "nbconvert_exporter": "python",
   "pygments_lexer": "ipython3",
   "version": "3.10.13"
  },
  "orig_nbformat": 4
 },
 "nbformat": 4,
 "nbformat_minor": 2
}
