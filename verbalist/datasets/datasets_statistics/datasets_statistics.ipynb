{
 "cells": [
  {
   "cell_type": "code",
   "execution_count": 1,
   "metadata": {},
   "outputs": [
    {
     "name": "stderr",
     "output_type": "stream",
     "text": [
      "/home/kosenko/miniconda3/lib/python3.10/site-packages/tqdm/auto.py:21: TqdmWarning: IProgress not found. Please update jupyter and ipywidgets. See https://ipywidgets.readthedocs.io/en/stable/user_install.html\n",
      "  from .autonotebook import tqdm as notebook_tqdm\n"
     ]
    }
   ],
   "source": [
    "from datasets import load_dataset\n",
    "\n",
    "dataset = load_dataset(\"dim/verbalist_prompts\")"
   ]
  },
  {
   "cell_type": "code",
   "execution_count": 2,
   "metadata": {},
   "outputs": [],
   "source": [
    "dataset_names = list(dataset.column_names.keys())"
   ]
  },
  {
   "cell_type": "code",
   "execution_count": 3,
   "metadata": {},
   "outputs": [],
   "source": [
    "from transformers import AutoTokenizer\n",
    "\n",
    "tokenizer = AutoTokenizer.from_pretrained(\"meta-llama/Llama-2-7b-hf\")"
   ]
  },
  {
   "cell_type": "code",
   "execution_count": 11,
   "metadata": {},
   "outputs": [
    {
     "name": "stderr",
     "output_type": "stream",
     "text": [
      "Map (num_proc=32): 100%|██████████| 2289/2289 [00:00<00:00, 4906.58 examples/s]\n",
      "Map (num_proc=32): 100%|██████████| 2220/2220 [00:00<00:00, 4904.51 examples/s]\n",
      "Map (num_proc=32): 100%|██████████| 1030/1030 [00:00<00:00, 2087.57 examples/s]\n",
      "Map (num_proc=32): 100%|██████████| 86/86 [00:00<00:00, 209.04 examples/s]\n",
      "Map (num_proc=32): 100%|██████████| 1995/1995 [00:01<00:00, 1951.92 examples/s]\n",
      "Map (num_proc=32): 100%|██████████| 2058/2058 [00:00<00:00, 2063.51 examples/s]\n",
      "Map (num_proc=32): 100%|██████████| 6361/6361 [00:01<00:00, 5447.78 examples/s]\n",
      "Map (num_proc=32): 100%|██████████| 253/253 [00:00<00:00, 461.31 examples/s]\n",
      "Map (num_proc=32): 100%|██████████| 150/150 [00:01<00:00, 112.49 examples/s]\n",
      "Map (num_proc=32): 100%|██████████| 7188/7188 [00:00<00:00, 11271.64 examples/s]\n",
      "num_proc must be <= 27. Reducing num_proc to 27 for dataset of size 27.\n",
      "Map (num_proc=27): 100%|██████████| 27/27 [00:00<00:00, 69.03 examples/s]\n",
      "Map (num_proc=32): 100%|██████████| 223/223 [00:00<00:00, 570.80 examples/s]\n",
      "Map (num_proc=32): 100%|██████████| 43/43 [00:00<00:00, 112.34 examples/s]\n",
      "Map (num_proc=32): 100%|██████████| 14222/14222 [00:00<00:00, 17820.99 examples/s]\n",
      "Map (num_proc=32): 100%|██████████| 8700/8700 [00:00<00:00, 9396.76 examples/s] \n",
      "Map (num_proc=32): 100%|██████████| 500/500 [00:00<00:00, 963.00 examples/s]\n",
      "Map (num_proc=32): 100%|██████████| 3229/3229 [00:00<00:00, 7062.24 examples/s]\n",
      "Map (num_proc=32): 100%|██████████| 481/481 [00:01<00:00, 403.50 examples/s] \n",
      "Map (num_proc=32): 100%|██████████| 3000/3000 [00:00<00:00, 6025.45 examples/s]\n",
      "Map (num_proc=32): 100%|██████████| 537/537 [00:00<00:00, 1299.32 examples/s]\n",
      "Map (num_proc=32): 100%|██████████| 5671/5671 [00:05<00:00, 981.08 examples/s] \n",
      "Map (num_proc=32): 100%|██████████| 11024/11024 [00:00<00:00, 12029.18 examples/s]\n",
      "Map (num_proc=32): 100%|██████████| 2106/2106 [00:00<00:00, 3839.88 examples/s]\n",
      "Map (num_proc=32): 100%|██████████| 14914/14914 [00:00<00:00, 18331.72 examples/s]\n",
      "Map (num_proc=32): 100%|██████████| 15011/15011 [00:00<00:00, 20257.12 examples/s]\n",
      "Map (num_proc=32): 100%|██████████| 82466/82466 [00:02<00:00, 41074.66 examples/s]\n",
      "Map (num_proc=32): 100%|██████████| 36591/36591 [00:03<00:00, 11086.44 examples/s]\n",
      "Map (num_proc=32): 100%|██████████| 80101/80101 [00:02<00:00, 33554.31 examples/s]\n",
      "Map (num_proc=32): 100%|██████████| 364/364 [00:00<00:00, 878.06 examples/s]\n",
      "Map (num_proc=32): 100%|██████████| 200000/200000 [00:07<00:00, 25309.64 examples/s]\n",
      "Map (num_proc=32): 100%|██████████| 17095/17095 [00:03<00:00, 4546.19 examples/s]\n",
      "Map (num_proc=32): 100%|██████████| 24343/24343 [00:02<00:00, 8504.49 examples/s] \n",
      "Map (num_proc=32): 100%|██████████| 10000/10000 [00:02<00:00, 4783.27 examples/s]\n",
      "Map (num_proc=32): 100%|██████████| 480/480 [00:00<00:00, 1195.00 examples/s]\n",
      "Map (num_proc=32): 100%|██████████| 46500/46500 [00:02<00:00, 20144.98 examples/s]\n",
      "Map (num_proc=32): 100%|██████████| 614/614 [00:00<00:00, 1519.53 examples/s]\n",
      "Map (num_proc=32): 100%|██████████| 5000/5000 [00:01<00:00, 3915.68 examples/s]\n",
      "Map (num_proc=32): 100%|██████████| 50000/50000 [00:01<00:00, 37759.39 examples/s]\n",
      "Map (num_proc=32): 100%|██████████| 7500/7500 [00:00<00:00, 13024.86 examples/s]\n",
      "Map (num_proc=32): 100%|██████████| 29597/29597 [00:04<00:00, 6840.51 examples/s]\n",
      "Map (num_proc=32): 100%|██████████| 47793/47793 [00:03<00:00, 14657.20 examples/s]\n",
      "Map (num_proc=32): 100%|██████████| 37699/37699 [00:02<00:00, 16060.64 examples/s]\n",
      "Map (num_proc=32): 100%|██████████| 5000/5000 [00:00<00:00, 10572.88 examples/s]\n",
      "Map (num_proc=32): 100%|██████████| 50000/50000 [00:03<00:00, 13754.92 examples/s]\n",
      "Map (num_proc=32): 100%|██████████| 8792/8792 [00:00<00:00, 18420.75 examples/s]\n",
      "Map (num_proc=32): 100%|██████████| 7138/7138 [00:00<00:00, 14830.90 examples/s]\n",
      "Map (num_proc=32): 100%|██████████| 7473/7473 [00:00<00:00, 15243.35 examples/s]\n",
      "Map (num_proc=32): 100%|██████████| 12460/12460 [00:00<00:00, 18036.94 examples/s]\n",
      "Map (num_proc=32): 100%|██████████| 24322/24322 [00:01<00:00, 17566.38 examples/s]\n",
      "Map (num_proc=32): 100%|██████████| 10000/10000 [00:00<00:00, 18184.93 examples/s]\n",
      "Map (num_proc=32): 100%|██████████| 200000/200000 [00:07<00:00, 26667.48 examples/s]\n",
      "Map (num_proc=32): 100%|██████████| 2048/2048 [00:00<00:00, 4443.67 examples/s]\n",
      "Map (num_proc=32): 100%|██████████| 1849/1849 [00:01<00:00, 1715.46 examples/s]\n",
      "Map (num_proc=32): 100%|██████████| 12460/12460 [00:00<00:00, 16558.07 examples/s]\n",
      "Map (num_proc=32): 100%|██████████| 64006/64006 [00:05<00:00, 11082.95 examples/s]\n"
     ]
    }
   ],
   "source": [
    "temp = dataset.map(\n",
    "    lambda x: {\n",
    "        **x,\n",
    "        \"tokens_amount\": len(\n",
    "            tokenizer.encode(\n",
    "                \"\\n\".join(\n",
    "                    x[\"conversation_text\"],\n",
    "                )\n",
    "            )\n",
    "        ),\n",
    "    },\n",
    "    num_proc=32,\n",
    ")"
   ]
  },
  {
   "cell_type": "code",
   "execution_count": 10,
   "metadata": {},
   "outputs": [
    {
     "data": {
      "text/plain": [
       "3"
      ]
     },
     "execution_count": 10,
     "metadata": {},
     "output_type": "execute_result"
    }
   ],
   "source": [
    "len(tokenizer.encode(\"Hello world\"))"
   ]
  },
  {
   "cell_type": "code",
   "execution_count": 20,
   "metadata": {},
   "outputs": [
    {
     "data": {
      "text/html": [
       "<div>\n",
       "<style scoped>\n",
       "    .dataframe tbody tr th:only-of-type {\n",
       "        vertical-align: middle;\n",
       "    }\n",
       "\n",
       "    .dataframe tbody tr th {\n",
       "        vertical-align: top;\n",
       "    }\n",
       "\n",
       "    .dataframe thead th {\n",
       "        text-align: right;\n",
       "    }\n",
       "</style>\n",
       "<table border=\"1\" class=\"dataframe\">\n",
       "  <thead>\n",
       "    <tr style=\"text-align: right;\">\n",
       "      <th></th>\n",
       "      <th>count</th>\n",
       "      <th>mean</th>\n",
       "      <th>std</th>\n",
       "      <th>min</th>\n",
       "      <th>25%</th>\n",
       "      <th>50%</th>\n",
       "      <th>75%</th>\n",
       "      <th>max</th>\n",
       "    </tr>\n",
       "  </thead>\n",
       "  <tbody>\n",
       "    <tr>\n",
       "      <th>tokens_amount</th>\n",
       "      <td>2289.0</td>\n",
       "      <td>468.678899</td>\n",
       "      <td>295.086439</td>\n",
       "      <td>17.0</td>\n",
       "      <td>264.0</td>\n",
       "      <td>410.0</td>\n",
       "      <td>618.0</td>\n",
       "      <td>2332.0</td>\n",
       "    </tr>\n",
       "  </tbody>\n",
       "</table>\n",
       "</div>"
      ],
      "text/plain": [
       "                count        mean         std   min    25%    50%    75%  \\\n",
       "tokens_amount  2289.0  468.678899  295.086439  17.0  264.0  410.0  618.0   \n",
       "\n",
       "                  max  \n",
       "tokens_amount  2332.0  "
      ]
     },
     "execution_count": 20,
     "metadata": {},
     "output_type": "execute_result"
    }
   ],
   "source": [
    "temp[dataset_names[0]].to_pandas().describe().transpose()"
   ]
  },
  {
   "cell_type": "code",
   "execution_count": 22,
   "metadata": {},
   "outputs": [
    {
     "data": {
      "text/plain": [
       "['count', 'mean', 'std', 'min', '25%', '50%', '75%', 'max']"
      ]
     },
     "execution_count": 22,
     "metadata": {},
     "output_type": "execute_result"
    }
   ],
   "source": [
    "temp[dataset_names[0]].to_pandas().describe().transpose().columns.tolist()"
   ]
  },
  {
   "cell_type": "code",
   "execution_count": 29,
   "metadata": {},
   "outputs": [
    {
     "data": {
      "text/plain": [
       "[2289.0,\n",
       " 468.6788990825688,\n",
       " 295.0864391190051,\n",
       " 17.0,\n",
       " 264.0,\n",
       " 410.0,\n",
       " 618.0,\n",
       " 2332.0]"
      ]
     },
     "execution_count": 29,
     "metadata": {},
     "output_type": "execute_result"
    }
   ],
   "source": [
    "temp[dataset_names[0]].to_pandas().describe().transpose().iloc[0].tolist()"
   ]
  },
  {
   "cell_type": "code",
   "execution_count": 34,
   "metadata": {},
   "outputs": [],
   "source": [
    "import pandas as pd\n",
    "\n",
    "column_names = temp[dataset_names[0]].to_pandas().describe().transpose().columns.tolist()\n",
    "\n",
    "length_statistics = []\n",
    "\n",
    "for dataset_name in dataset_names:\n",
    "    dataset_stats = temp[dataset_name].to_pandas().describe().transpose()\n",
    "    values = dataset_stats.iloc[0].tolist()\n",
    "    dict_stats = {}\n",
    "    dict_stats['dataset_name'] = dataset_name\n",
    "    for column_name, value in zip(column_names, values):\n",
    "        dict_stats[column_name] = value\n",
    "    length_statistics.append(dict_stats)\n",
    "    \n",
    "pd.DataFrame(length_statistics).to_csv(\"./verbalist/datasets/datasets_statistics/verbalist_datasets_statistics.csv\", index=False)"
   ]
  }
 ],
 "metadata": {
  "kernelspec": {
   "display_name": "base",
   "language": "python",
   "name": "python3"
  },
  "language_info": {
   "codemirror_mode": {
    "name": "ipython",
    "version": 3
   },
   "file_extension": ".py",
   "mimetype": "text/x-python",
   "name": "python",
   "nbconvert_exporter": "python",
   "pygments_lexer": "ipython3",
   "version": "3.10.13"
  },
  "orig_nbformat": 4
 },
 "nbformat": 4,
 "nbformat_minor": 2
}
