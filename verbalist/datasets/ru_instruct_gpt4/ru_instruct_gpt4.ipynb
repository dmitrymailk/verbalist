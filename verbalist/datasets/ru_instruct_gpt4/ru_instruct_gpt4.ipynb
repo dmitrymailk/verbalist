{
 "cells": [
  {
   "cell_type": "code",
   "execution_count": 1,
   "metadata": {},
   "outputs": [
    {
     "name": "stderr",
     "output_type": "stream",
     "text": [
      "/home/kosenko/miniconda3/lib/python3.10/site-packages/tqdm/auto.py:21: TqdmWarning: IProgress not found. Please update jupyter and ipywidgets. See https://ipywidgets.readthedocs.io/en/stable/user_install.html\n",
      "  from .autonotebook import tqdm as notebook_tqdm\n",
      "No config specified, defaulting to: ru_instruct_gpt4/default\n",
      "Found cached dataset ru_instruct_gpt4 (/home/kosenko/.cache/huggingface/datasets/lksy___ru_instruct_gpt4/default/0.0.1/b2cfa50a05a4e665ead398fce73de411b1fd8791d282289a2c79eede7097b1b4)\n",
      "100%|██████████| 1/1 [00:00<00:00, 482.99it/s]\n"
     ]
    },
    {
     "data": {
      "text/plain": [
       "Dataset({\n",
       "    features: ['instruction', 'input', 'output', 'full_output'],\n",
       "    num_rows: 15056\n",
       "})"
      ]
     },
     "execution_count": 1,
     "metadata": {},
     "output_type": "execute_result"
    }
   ],
   "source": [
    "from datasets import load_dataset\n",
    "\n",
    "dataset = load_dataset(\"lksy/ru_instruct_gpt4\")\n",
    "dataset = dataset[\"train\"]\n",
    "dataset"
   ]
  },
  {
   "cell_type": "code",
   "execution_count": 2,
   "metadata": {},
   "outputs": [],
   "source": [
    "def filter(string):\n",
    "    wrong_substrings = [\n",
    "        \"стих\",\n",
    "        'Проанализируй фразу и определи, какой философ ей бы отдавал предпочтение. \"Существование предшествует сущности.',\n",
    "        \n",
    "    ]\n",
    "\n",
    "    for item in wrong_substrings:\n",
    "        if item in string:\n",
    "            return False\n",
    "\n",
    "    return True\n",
    "\n",
    "\n",
    "def fix_string(string):\n",
    "    wrong_substrings = [\n",
    "        \"Input:\",\n",
    "        '\"На заре в деревне было тихо и спокойно.\"',\n",
    "        '\"магазине яблоки в купил\"',\n",
    "        'Выход:',\n",
    "        \"Вход:\"\n",
    "    ]\n",
    "\n",
    "    for item in wrong_substrings:\n",
    "        string = string.replace(item, \"\")\n",
    "\n",
    "    return string\n",
    "\n",
    "entire_string = \"\"\n",
    "new_dataset = []\n",
    "for i in range(len(dataset)):\n",
    "    instruction = dataset[i][\"instruction\"]\n",
    "    inp = dataset[i][\"input\"]\n",
    "    full_output = dataset[i][\"full_output\"]\n",
    "    output = dataset[i][\"output\"]\n",
    "\n",
    "    instruction = f\"{instruction} {inp}\"\n",
    "    instruction = fix_string(instruction)\n",
    "\n",
    "    result = None\n",
    "    if not full_output is None:\n",
    "        result = full_output\n",
    "    else:\n",
    "        result = output\n",
    "    result = fix_string(result)\n",
    "    \n",
    "    total_string = instruction + result\n",
    "    if filter(total_string):\n",
    "        entire_string += f\"{instruction}\\n\"\n",
    "        entire_string += f\"{result}\\n\"\n",
    "        new_dataset.append({\n",
    "            \"prompt\": instruction,\n",
    "            \"solution\": result\n",
    "        })\n",
    "        entire_string += f\"--------------------------------------------\\n\"\n",
    "        entire_string += f\"--------------------------------------------\\n\"\n",
    "        # print(instruction)\n",
    "        # print(result)\n",
    "\n",
    "    # print(\"-\" * 100)\n",
    "    # print(\"-\" * 100)\n",
    "# print(entire_string)"
   ]
  },
  {
   "cell_type": "code",
   "execution_count": 3,
   "metadata": {},
   "outputs": [],
   "source": [
    "from datasets import Dataset\n",
    "dataset = Dataset.from_list(new_dataset)"
   ]
  },
  {
   "cell_type": "code",
   "execution_count": 4,
   "metadata": {},
   "outputs": [
    {
     "name": "stderr",
     "output_type": "stream",
     "text": [
      "Creating parquet from Arrow format: 100%|██████████| 15/15 [00:00<00:00, 227.63ba/s]\n",
      "Pushing dataset shards to the dataset hub: 100%|██████████| 1/1 [00:03<00:00,  3.43s/it]\n",
      "Downloading metadata: 100%|██████████| 30.0/30.0 [00:00<00:00, 256kB/s]\n"
     ]
    }
   ],
   "source": [
    "dataset.push_to_hub(\"dim/ru_instruct_gpt4\")"
   ]
  }
 ],
 "metadata": {
  "kernelspec": {
   "display_name": "base",
   "language": "python",
   "name": "python3"
  },
  "language_info": {
   "codemirror_mode": {
    "name": "ipython",
    "version": 3
   },
   "file_extension": ".py",
   "mimetype": "text/x-python",
   "name": "python",
   "nbconvert_exporter": "python",
   "pygments_lexer": "ipython3",
   "version": "3.10.9"
  },
  "orig_nbformat": 4
 },
 "nbformat": 4,
 "nbformat_minor": 2
}
