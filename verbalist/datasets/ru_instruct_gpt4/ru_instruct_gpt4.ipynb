{
 "cells": [
  {
   "cell_type": "code",
   "execution_count": null,
   "metadata": {},
   "outputs": [],
   "source": [
    "from datasets import load_dataset\n",
    "\n",
    "dataset = load_dataset(\"lksy/ru_instruct_gpt4\")\n",
    "dataset = dataset[\"train\"]\n",
    "dataset"
   ]
  },
  {
   "cell_type": "code",
   "execution_count": 2,
   "metadata": {},
   "outputs": [],
   "source": [
    "def filter(string):\n",
    "    wrong_substrings = [\n",
    "        \"стих\",\n",
    "        'Проанализируй фразу и определи, какой философ ей бы отдавал предпочтение. \"Существование предшествует сущности.',\n",
    "        \n",
    "    ]\n",
    "\n",
    "    for item in wrong_substrings:\n",
    "        if item in string:\n",
    "            return False\n",
    "\n",
    "    return True\n",
    "\n",
    "\n",
    "def fix_string(string):\n",
    "    wrong_substrings = [\n",
    "        \"Input:\",\n",
    "        '\"На заре в деревне было тихо и спокойно.\"',\n",
    "        '\"магазине яблоки в купил\"',\n",
    "        'Выход:',\n",
    "        \"Вход:\"\n",
    "    ]\n",
    "\n",
    "    for item in wrong_substrings:\n",
    "        string = string.replace(item, \"\")\n",
    "\n",
    "    return string\n",
    "\n",
    "entire_string = \"\"\n",
    "new_dataset = []\n",
    "for i in range(len(dataset)):\n",
    "    instruction = dataset[i][\"instruction\"]\n",
    "    inp = dataset[i][\"input\"]\n",
    "    full_output = dataset[i][\"full_output\"]\n",
    "    output = dataset[i][\"output\"]\n",
    "\n",
    "    instruction = f\"{instruction} {inp}\"\n",
    "    instruction = fix_string(instruction)\n",
    "\n",
    "    result = None\n",
    "    if not full_output is None:\n",
    "        result = full_output\n",
    "    else:\n",
    "        result = output\n",
    "    result = fix_string(result)\n",
    "    \n",
    "    total_string = instruction + result\n",
    "    if filter(total_string):\n",
    "        entire_string += f\"{instruction}\\n\"\n",
    "        entire_string += f\"{result}\\n\"\n",
    "        new_dataset.append({\n",
    "            \"prompt\": instruction,\n",
    "            \"solution\": result\n",
    "        })\n",
    "        entire_string += f\"--------------------------------------------\\n\"\n",
    "        entire_string += f\"--------------------------------------------\\n\"\n",
    "        # print(instruction)\n",
    "        # print(result)\n",
    "\n",
    "    # print(\"-\" * 100)\n",
    "    # print(\"-\" * 100)\n",
    "# print(entire_string)"
   ]
  },
  {
   "cell_type": "code",
   "execution_count": 3,
   "metadata": {},
   "outputs": [],
   "source": [
    "from datasets import Dataset\n",
    "dataset = Dataset.from_list(new_dataset)"
   ]
  },
  {
   "cell_type": "code",
   "execution_count": 4,
   "metadata": {},
   "outputs": [
    {
     "name": "stderr",
     "output_type": "stream",
     "text": [
      "Creating parquet from Arrow format: 100%|██████████| 15/15 [00:00<00:00, 227.63ba/s]\n",
      "Pushing dataset shards to the dataset hub: 100%|██████████| 1/1 [00:03<00:00,  3.43s/it]\n",
      "Downloading metadata: 100%|██████████| 30.0/30.0 [00:00<00:00, 256kB/s]\n"
     ]
    }
   ],
   "source": [
    "dataset.push_to_hub(\"dim/ru_instruct_gpt4\")"
   ]
  },
  {
   "cell_type": "code",
   "execution_count": 2,
   "metadata": {},
   "outputs": [
    {
     "name": "stderr",
     "output_type": "stream",
     "text": [
      "Downloading readme: 100%|██████████| 252/252 [00:00<00:00, 2.20MB/s]\n"
     ]
    },
    {
     "name": "stdout",
     "output_type": "stream",
     "text": [
      "Downloading and preparing dataset None/None to /home/kosenko/.cache/huggingface/datasets/dim___parquet/dim--ru_instruct_gpt4-cb55b9e3467a29b2/0.0.0/2a3b91fbd88a2c90d1dbbb32b460cf621d31bd5b05b934492fdef7d8d6f236ec...\n"
     ]
    },
    {
     "name": "stderr",
     "output_type": "stream",
     "text": [
      "Downloading data: 100%|██████████| 9.37M/9.37M [00:00<00:00, 11.4MB/s]\n",
      "Downloading data files: 100%|██████████| 1/1 [00:02<00:00,  2.21s/it]\n",
      "Extracting data files: 100%|██████████| 1/1 [00:00<00:00, 254.54it/s]\n",
      "                                                                                        \r"
     ]
    },
    {
     "name": "stdout",
     "output_type": "stream",
     "text": [
      "Dataset parquet downloaded and prepared to /home/kosenko/.cache/huggingface/datasets/dim___parquet/dim--ru_instruct_gpt4-cb55b9e3467a29b2/0.0.0/2a3b91fbd88a2c90d1dbbb32b460cf621d31bd5b05b934492fdef7d8d6f236ec. Subsequent calls will reuse this data.\n"
     ]
    },
    {
     "name": "stderr",
     "output_type": "stream",
     "text": [
      "100%|██████████| 1/1 [00:00<00:00, 705.99it/s]\n"
     ]
    },
    {
     "data": {
      "text/plain": [
       "{'prompt': 'Расскажи сказку народов мира. Сказка африканского племени Маасай.',\n",
       " 'solution': 'Жили-были в далекой Африке мирные племена, и одним из них было племя Маасай. Маасай издревле были известны своей храбростью, умением общаться с силами природы и заботой об окружающей среде.\\n\\nОднажды утром мудрый старейшина Маасай собрал всех воинов племени вокруг себя и сказал, что настал чрезвычайно важный момент в истории их племени. У него было видение: одно из деревьев, стоящих на их земле, скрывает в себе великую силу, которая может обеспечить процветание и счастье всему племени. Это дерево по прозвищу Лунное, оно было самым древним и величественным среди всех на свете. Но чтобы открыть эту силу, племени потребовалась помощь всех его жителей.\\n\\nСтарейшина отправил воинов Маасай в путь к Лунному дереву – каждый должен был принести кусочек коры этого дерева, чтобы создать из него плоскую доску. Маасай верили, что каждый такой кусочек будет питаться силой и мощью дерева – непокорительными, как волна, и гибкими, как камыш.\\n\\nДнями и ночами воины стремительно двигались к дереву, стойко перенося голод, жажду и опасности. Наконец, они достигли цели – Лунное дерево стояло перед ними истинным королем леса.\\n\\nОни подошли к дереву и тут же отдали ему дань уважения. Молва шептала, что лунный свет может скользить по его коре и обретать новую жизнь среди его ветвей. Они продолжали следовать описаниям старейшины, осторожно снимая с Лунного дерева кору – идеально ровными и гладкими кусочками. Только тогда они поняли, что даже небольшая поддержка может оказать огромное влияние.\\n\\nВернувшись в свой родной поселок, Маасай создали из кусочков коры таинственную доску, которую разместили в центре своего лагеря. На глазах всех она отражала лунный свет, наполняя сердца людей силой, смелостью и уверенностью.\\n\\nВ те дни, когда солнце печет с неба, и в те дни, когда дожди лиют как из ведра, Лунное дерево продолжает заботиться о людях и животных. Матери учат детей песням, прославляющим старейшину и его видение, а самое главное урок – что покровительство других может наполнить этот мир невероятной красотой и покреплять дух любого племени.'}"
      ]
     },
     "execution_count": 2,
     "metadata": {},
     "output_type": "execute_result"
    }
   ],
   "source": [
    "from datasets import load_dataset\n",
    "\n",
    "dataset = load_dataset(\"dim/ru_instruct_gpt4\")\n",
    "dataset = dataset[\"train\"]\n",
    "dataset[0]"
   ]
  }
 ],
 "metadata": {
  "kernelspec": {
   "display_name": "base",
   "language": "python",
   "name": "python3"
  },
  "language_info": {
   "codemirror_mode": {
    "name": "ipython",
    "version": 3
   },
   "file_extension": ".py",
   "mimetype": "text/x-python",
   "name": "python",
   "nbconvert_exporter": "python",
   "pygments_lexer": "ipython3",
   "version": "3.10.9"
  },
  "orig_nbformat": 4
 },
 "nbformat": 4,
 "nbformat_minor": 2
}
