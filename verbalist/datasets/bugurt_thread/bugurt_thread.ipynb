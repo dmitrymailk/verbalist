{
 "cells": [
  {
   "cell_type": "code",
   "execution_count": 2,
   "metadata": {},
   "outputs": [],
   "source": [
    "import requests\n",
    "from bs4 import BeautifulSoup\n",
    "import pandas as pd\n",
    "import re\n",
    "from tqdm import tqdm\n",
    "import uuid\n",
    "\n",
    "from datasets import Dataset, load_dataset"
   ]
  },
  {
   "cell_type": "code",
   "execution_count": 3,
   "metadata": {},
   "outputs": [],
   "source": [
    "thread = open(\"./verbalist/datasets/bugurt_thread/messages30.html\").read()\n",
    "\n",
    "soup = BeautifulSoup(thread)\n",
    "all_messages = soup.find_all(\"div\", class_=\"message\")"
   ]
  },
  {
   "cell_type": "code",
   "execution_count": 23,
   "metadata": {},
   "outputs": [
    {
     "data": {
      "text/plain": [
       "1123"
      ]
     },
     "execution_count": 23,
     "metadata": {},
     "output_type": "execute_result"
    }
   ],
   "source": [
    "len(all_messages)"
   ]
  },
  {
   "cell_type": "code",
   "execution_count": 4,
   "metadata": {},
   "outputs": [
    {
     "name": "stdout",
     "output_type": "stream",
     "text": [
      "\n",
      "МОРАЛЬ СЕЙ БАСНИ ТАКОВА  \n",
      "@  \n",
      "ТОЛПОЮ ГАСЯТ ДАЖЕ ЛЬВА  \n",
      "@  \n",
      "НО НЕ В ЭТОМ СУТЬ ПОВЕРЬТЕ  \n",
      "@  \n",
      "ТОЛПОЮ ГАСЯТ ТОЛЬКО ЧЕРТИ\n",
      " \n"
     ]
    }
   ],
   "source": [
    "import markdownify\n",
    "\n",
    "text = str(all_messages[100].find(\"div\", class_=\"text\"))\n",
    "# text\n",
    "text = str(\n",
    "    markdownify.markdownify(\n",
    "        text,\n",
    "    )\n",
    ")\n",
    "text = text.replace(\"предложено через\", \"\")\n",
    "text = text.replace(\"[@tgbtbot](https://t.me/tgbtbot)\", \"\")\n",
    "text = text.replace(\"[БУГУРТ-ТРЕД](https://t.me/bugurtthread)\", \"\")\n",
    "print(text)"
   ]
  },
  {
   "cell_type": "code",
   "execution_count": 5,
   "metadata": {},
   "outputs": [
    {
     "data": {
      "text/plain": [
       "3"
      ]
     },
     "execution_count": 5,
     "metadata": {},
     "output_type": "execute_result"
    }
   ],
   "source": [
    "text.count(\"@\")"
   ]
  },
  {
   "cell_type": "code",
   "execution_count": 6,
   "metadata": {},
   "outputs": [],
   "source": [
    "import re\n",
    "\n",
    "dataset = []\n",
    "\n",
    "for num in range(30, 45):\n",
    "    thread = open(f\"./verbalist/datasets/bugurt_thread/messages{num}.html\").read()\n",
    "\n",
    "    soup = BeautifulSoup(thread)\n",
    "    all_messages = soup.find_all(\"div\", class_=\"message\")\n",
    "    for i in range(len(all_messages)):\n",
    "        text = str(all_messages[i].find(\"div\", class_=\"text\"))\n",
    "        # text\n",
    "        text = str(\n",
    "            markdownify.markdownify(\n",
    "                text,\n",
    "            )\n",
    "        )\n",
    "        text = text.replace(\"предложено через\", \"\")\n",
    "        text = text.replace(\"предложено  через\", \"\")\n",
    "        text = text.replace(\"[@tgbtbot](https://t.me/tgbtbot)\", \"\")\n",
    "        text = text.replace(\"[БУГУРТ-ТРЕД](https://t.me/bugurtthread)\", \"\")\n",
    "        text = re.sub(r\"\\[(.*?)\\]\\(.*?\\)\", \"\", text).strip()\n",
    "        if \"@\" in text:\n",
    "            if text.count(\"@\") >= 3:\n",
    "                # print(text)\n",
    "                dataset.append({\"bugurt\": text})\n",
    "                # print(\"=\" * 100)"
   ]
  },
  {
   "cell_type": "code",
   "execution_count": 7,
   "metadata": {},
   "outputs": [
    {
     "data": {
      "text/plain": [
       "8360"
      ]
     },
     "execution_count": 7,
     "metadata": {},
     "output_type": "execute_result"
    }
   ],
   "source": [
    "len(dataset)"
   ]
  },
  {
   "cell_type": "code",
   "execution_count": 8,
   "metadata": {},
   "outputs": [
    {
     "data": {
      "application/vnd.jupyter.widget-view+json": {
       "model_id": "76b157bf225043bea1a799dedc823bb5",
       "version_major": 2,
       "version_minor": 0
      },
      "text/plain": [
       "Pushing dataset shards to the dataset hub:   0%|          | 0/1 [00:00<?, ?it/s]"
      ]
     },
     "metadata": {},
     "output_type": "display_data"
    },
    {
     "data": {
      "application/vnd.jupyter.widget-view+json": {
       "model_id": "10caf8ab7eae4ae3a3d2b6991adeaef9",
       "version_major": 2,
       "version_minor": 0
      },
      "text/plain": [
       "Creating parquet from Arrow format:   0%|          | 0/9 [00:00<?, ?ba/s]"
      ]
     },
     "metadata": {},
     "output_type": "display_data"
    }
   ],
   "source": [
    "dataset  = Dataset.from_list(dataset)\n",
    "dataset.push_to_hub(\"dim/raw_bugurts_8k\")"
   ]
  },
  {
   "cell_type": "code",
   "execution_count": 29,
   "metadata": {},
   "outputs": [
    {
     "name": "stderr",
     "output_type": "stream",
     "text": [
      "Creating parquet from Arrow format: 100%|██████████| 5/5 [00:00<00:00, 15.61ba/s]\n",
      "Pushing dataset shards to the dataset hub: 100%|██████████| 1/1 [00:02<00:00,  2.75s/it]\n",
      "Deleting unused files from dataset repository: 100%|██████████| 1/1 [00:00<00:00,  4.86it/s]\n",
      "Downloading metadata: 100%|██████████| 197/197 [00:00<00:00, 1.17MB/s]\n",
      "Updating downloaded metadata with the new split.\n"
     ]
    }
   ],
   "source": [
    "new_dataset = Dataset.from_list(dataset)\n",
    "new_dataset = new_dataset.train_test_split(test_size=10000, seed=42)\n",
    "new_dataset = new_dataset['test']\n",
    "new_dataset.push_to_hub(\"dim/raw_bugurts_5k\")"
   ]
  },
  {
   "cell_type": "code",
   "execution_count": 44,
   "metadata": {},
   "outputs": [],
   "source": [
    "dataset = Dataset.from_list(dataset)"
   ]
  },
  {
   "cell_type": "code",
   "execution_count": 45,
   "metadata": {},
   "outputs": [
    {
     "name": "stderr",
     "output_type": "stream",
     "text": [
      "Creating CSV from Arrow format: 100%|██████████| 3/3 [00:00<00:00, 48.52ba/s]\n"
     ]
    },
    {
     "data": {
      "text/plain": [
       "2831798"
      ]
     },
     "execution_count": 45,
     "metadata": {},
     "output_type": "execute_result"
    }
   ],
   "source": [
    "dataset.to_csv(\"./verbalist/datasets/bugurt_thread/bugurt_thread.csv\")"
   ]
  },
  {
   "cell_type": "markdown",
   "metadata": {},
   "source": [
    "### sumarize bugurts\n"
   ]
  },
  {
   "cell_type": "code",
   "execution_count": 28,
   "metadata": {},
   "outputs": [
    {
     "name": "stdout",
     "output_type": "stream",
     "text": [
      "Hello! How can I assist you today?\n"
     ]
    }
   ],
   "source": [
    "import openai\n",
    "import pandas as pd\n",
    "import numpy as np\n",
    "import time\n",
    "\n",
    "openai.api_key = open(\"./chat_gpt_token\").read()\n",
    "\n",
    "\n",
    "def chat_with_chatgpt(prompt, model=\"gpt-3.5-turbo\"):\n",
    "    chat_completion = openai.ChatCompletion.create(\n",
    "        model=\"gpt-3.5-turbo\",\n",
    "        messages=[{\"role\": \"user\", \"content\": prompt}],\n",
    "        temperature=0.0,\n",
    "    )\n",
    "\n",
    "    return chat_completion[\"choices\"][0][\"message\"][\"content\"].strip()\n",
    "\n",
    "\n",
    "user_prompt = \"Hello world.\"\n",
    "chatbot_response = chat_with_chatgpt(user_prompt)\n",
    "print(chatbot_response)"
   ]
  },
  {
   "cell_type": "code",
   "execution_count": 43,
   "metadata": {},
   "outputs": [
    {
     "name": "stdout",
     "output_type": "stream",
     "text": [
      "\"у меня своя рок группа\"  \n",
      "@  \n",
      "ЕДИНСТВЕННЫМИ ПАЛОЧКАМИ В ЖИЗНИ БАРАБАНЩИКА БЫЛИ ПАЛОЧКИ ОТ СУШИ  \n",
      "@  \n",
      "БАСИСТ ДАЖЕ НЕ ЗНАЕТ ЧТО ОН В ГРУППЕ  \n",
      "@  \n",
      "ВОКАЛИСТА НЕТ  \n",
      "@  \n",
      "ВСЕ ПЕСНИ ЭТО ГАЧИКАВЕРЫ НА ЕГОРА ЛЕТОВА\n",
      "Напиши бугурт на тему \"безвокальная рок группа\":\n",
      "\"Молчание голоса, звук рока.\"\n"
     ]
    }
   ],
   "source": [
    "text = dataset[10][\"bugurt\"]\n",
    "\n",
    "prompt = f\"\"\"\n",
    "Текст: {text}\n",
    "\n",
    "Напиши бугурт на основе текста по типу:\n",
    "Напиши бугурт на тему...\n",
    "или\n",
    "Напиши бугурт про то как...\n",
    "или\n",
    "Напиши бугурт о том как...\n",
    "\n",
    "Бугурт должен быть довольно коротким 3-6 слов.\n",
    "\"\"\"\n",
    "print(text)\n",
    "chatbot_response = chat_with_chatgpt(prompt, model=\"gpt-4\")\n",
    "print(chatbot_response)"
   ]
  },
  {
   "cell_type": "markdown",
   "metadata": {},
   "source": [
    "### export labeled bugurts"
   ]
  },
  {
   "cell_type": "code",
   "execution_count": 13,
   "metadata": {},
   "outputs": [],
   "source": [
    "import pandas as pd\n",
    "from datasets import Dataset\n",
    "\n",
    "dataset = pd.read_csv(\"./verbalist/datasets/bugurt_thread/bugurt_thread_labeled_v2.csv\")\n",
    "dataset = dataset[~dataset['prompt'].isna()]\n",
    "dataset = dataset.to_dict('records')\n",
    "\n"
   ]
  },
  {
   "cell_type": "code",
   "execution_count": 14,
   "metadata": {},
   "outputs": [],
   "source": [
    "for i in range(len(dataset)):\n",
    "    dataset[i]['bugurt'] = dataset[i]['bugurt'].lower() "
   ]
  },
  {
   "cell_type": "code",
   "execution_count": 15,
   "metadata": {},
   "outputs": [
    {
     "data": {
      "text/plain": [
       "{'bugurt': '2015 год  \\n@  \\nты активно учавствуешь в срачах в комментариях, угараешь с рандомами над пастами про говно, клеймишь админа петухом за форс мемов \"ня, пока\" и \"кека\"  \\n@  \\nс основного аккаунта  \\n@  \\n2022 год  \\n@  \\nрешаешь оставить шуточный комментарий в %пабликнейм%  \\n@  \\n\"славка сычев комментирует запись\"  \\n@  \\n\"ваш друг славка сычев сидит в %пабликнейм%, возможно вам понравится это сообщество\"  \\n@  \\n\"вы знакомы со славкой сычевым? у вас 1 общий друг и 1 общее сообщество, в котором он жестко наваливает кринжа в комментариях\"  \\n@  \\nмодераторы вк лично отправляют ссылку на твой комментарий всем друзьям и родственникам  \\n@  \\nскриншот комментария рассылается твоим коллегам в офис через факс  \\n@  \\nтекст с твоим комментарием звучит в рекламе перед каждой попыткой послушать музыку  \\n@  \\nскриншот комментария развешивается на биллбордах над мкадом  \\n@  \\nк тебе в хату врывается батя на \"серьезный разговор\" о том, что они с матерью тебя не таким воспитывали',\n",
       " 'prompt': 'напиши мне бугурт про вк и то что он показывает все твои действия друзьям'}"
      ]
     },
     "execution_count": 15,
     "metadata": {},
     "output_type": "execute_result"
    }
   ],
   "source": [
    "dataset[4]"
   ]
  },
  {
   "cell_type": "code",
   "execution_count": 16,
   "metadata": {},
   "outputs": [
    {
     "name": "stderr",
     "output_type": "stream",
     "text": [
      "Creating parquet from Arrow format: 100%|██████████| 1/1 [00:00<00:00, 716.36ba/s]\n",
      "Pushing dataset shards to the dataset hub: 100%|██████████| 1/1 [00:01<00:00,  1.72s/it]\n",
      "Deleting unused files from dataset repository: 100%|██████████| 1/1 [00:00<00:00,  3.92it/s]\n",
      "Downloading metadata: 100%|██████████| 229/229 [00:00<00:00, 1.97MB/s]\n",
      "Updating downloaded metadata with the new split.\n"
     ]
    }
   ],
   "source": [
    "dataset = Dataset.from_list(dataset)\n",
    "dataset.push_to_hub(\"dim/bugurt_thread_prompts\")"
   ]
  },
  {
   "cell_type": "code",
   "execution_count": 17,
   "metadata": {},
   "outputs": [
    {
     "data": {
      "text/plain": [
       "Dataset({\n",
       "    features: ['bugurt', 'prompt'],\n",
       "    num_rows: 223\n",
       "})"
      ]
     },
     "execution_count": 17,
     "metadata": {},
     "output_type": "execute_result"
    }
   ],
   "source": [
    "dataset"
   ]
  },
  {
   "cell_type": "markdown",
   "metadata": {},
   "source": [
    "### create bugurt completion"
   ]
  },
  {
   "cell_type": "code",
   "execution_count": 3,
   "metadata": {},
   "outputs": [
    {
     "data": {
      "application/vnd.jupyter.widget-view+json": {
       "model_id": "342440e0d3b14eedbe1c501a6c3c269a",
       "version_major": 2,
       "version_minor": 0
      },
      "text/plain": [
       "Downloading readme:   0%|          | 0.00/358 [00:00<?, ?B/s]"
      ]
     },
     "metadata": {},
     "output_type": "display_data"
    },
    {
     "name": "stdout",
     "output_type": "stream",
     "text": [
      "Downloading and preparing dataset None/None to /home/kosenko/.cache/huggingface/datasets/dim___parquet/dim--raw_bugurts_8k-ec2a8631c271faa6/0.0.0/2a3b91fbd88a2c90d1dbbb32b460cf621d31bd5b05b934492fdef7d8d6f236ec...\n"
     ]
    },
    {
     "data": {
      "application/vnd.jupyter.widget-view+json": {
       "model_id": "61a140eaf44944ecb17d945aec5eab65",
       "version_major": 2,
       "version_minor": 0
      },
      "text/plain": [
       "Downloading data files:   0%|          | 0/1 [00:00<?, ?it/s]"
      ]
     },
     "metadata": {},
     "output_type": "display_data"
    },
    {
     "data": {
      "application/vnd.jupyter.widget-view+json": {
       "model_id": "f1164a64018b4d2fadae954fa0d2287f",
       "version_major": 2,
       "version_minor": 0
      },
      "text/plain": [
       "Downloading data:   0%|          | 0.00/4.34M [00:00<?, ?B/s]"
      ]
     },
     "metadata": {},
     "output_type": "display_data"
    },
    {
     "data": {
      "application/vnd.jupyter.widget-view+json": {
       "model_id": "be6378a7ab8e46bfbf1606f01942aecd",
       "version_major": 2,
       "version_minor": 0
      },
      "text/plain": [
       "Extracting data files:   0%|          | 0/1 [00:00<?, ?it/s]"
      ]
     },
     "metadata": {},
     "output_type": "display_data"
    },
    {
     "data": {
      "application/vnd.jupyter.widget-view+json": {
       "model_id": "71663fdc9895455ebf9bc2d4fe18648e",
       "version_major": 2,
       "version_minor": 0
      },
      "text/plain": [
       "Generating train split:   0%|          | 0/8360 [00:00<?, ? examples/s]"
      ]
     },
     "metadata": {},
     "output_type": "display_data"
    },
    {
     "name": "stdout",
     "output_type": "stream",
     "text": [
      "Dataset parquet downloaded and prepared to /home/kosenko/.cache/huggingface/datasets/dim___parquet/dim--raw_bugurts_8k-ec2a8631c271faa6/0.0.0/2a3b91fbd88a2c90d1dbbb32b460cf621d31bd5b05b934492fdef7d8d6f236ec. Subsequent calls will reuse this data.\n"
     ]
    },
    {
     "data": {
      "application/vnd.jupyter.widget-view+json": {
       "model_id": "8304d9fb08c043b9a6bbb98175f870b0",
       "version_major": 2,
       "version_minor": 0
      },
      "text/plain": [
       "  0%|          | 0/1 [00:00<?, ?it/s]"
      ]
     },
     "metadata": {},
     "output_type": "display_data"
    },
    {
     "data": {
      "text/plain": [
       "{'bugurt': 'ЭНЕРГЕТИКИ В ПАБГЕ  \\n@  \\nВОССТАНАВЛИВАЮТ ЗДОРОВЬЕ  \\n@  \\nЭНЕРГЕТИКИ В РЕАЛЕ  \\n@  \\nУМЕНЬШАЮТ ЗДОРОВЬЕ'}"
      ]
     },
     "execution_count": 3,
     "metadata": {},
     "output_type": "execute_result"
    }
   ],
   "source": [
    "dataset = load_dataset(\"dim/raw_bugurts_8k\")\n",
    "dataset = dataset['train']\n",
    "dataset = dataset.to_list()\n",
    "dataset[0]"
   ]
  },
  {
   "cell_type": "code",
   "execution_count": 4,
   "metadata": {},
   "outputs": [],
   "source": [
    "new_dataset = []\n",
    "for i in range(len(dataset)):\n",
    "    bugurt = dataset[i]['bugurt'].lower().strip() \n",
    "    first_line = bugurt.split(\"@\")[0]\n",
    "    prompt = f\"продолжи бугурт: {first_line}\".strip()\n",
    "    new_dataset.append({\n",
    "\t\t\"prompt\": prompt,\n",
    "\t\t\"bugurt\": bugurt\n",
    "\t})"
   ]
  },
  {
   "cell_type": "code",
   "execution_count": 5,
   "metadata": {},
   "outputs": [
    {
     "data": {
      "text/plain": [
       "{'prompt': 'продолжи бугурт: энергетики в пабге',\n",
       " 'bugurt': 'энергетики в пабге  \\n@  \\nвосстанавливают здоровье  \\n@  \\nэнергетики в реале  \\n@  \\nуменьшают здоровье'}"
      ]
     },
     "execution_count": 5,
     "metadata": {},
     "output_type": "execute_result"
    }
   ],
   "source": [
    "new_dataset[0]"
   ]
  },
  {
   "cell_type": "code",
   "execution_count": 6,
   "metadata": {},
   "outputs": [
    {
     "data": {
      "application/vnd.jupyter.widget-view+json": {
       "model_id": "79c5bcca82324991bffe1457558d9f07",
       "version_major": 2,
       "version_minor": 0
      },
      "text/plain": [
       "Pushing dataset shards to the dataset hub:   0%|          | 0/1 [00:00<?, ?it/s]"
      ]
     },
     "metadata": {},
     "output_type": "display_data"
    },
    {
     "data": {
      "application/vnd.jupyter.widget-view+json": {
       "model_id": "7708168bc04c492092cf3a8279983884",
       "version_major": 2,
       "version_minor": 0
      },
      "text/plain": [
       "Creating parquet from Arrow format:   0%|          | 0/9 [00:00<?, ?ba/s]"
      ]
     },
     "metadata": {},
     "output_type": "display_data"
    }
   ],
   "source": [
    "new_dataset = Dataset.from_list(new_dataset)\n",
    "new_dataset.push_to_hub(\"dim/bugurt_completion_prompts_8k\", private=True)"
   ]
  },
  {
   "cell_type": "code",
   "execution_count": 1,
   "metadata": {},
   "outputs": [
    {
     "name": "stderr",
     "output_type": "stream",
     "text": [
      "/home/kosenko/miniconda3/lib/python3.10/site-packages/tqdm/auto.py:21: TqdmWarning: IProgress not found. Please update jupyter and ipywidgets. See https://ipywidgets.readthedocs.io/en/stable/user_install.html\n",
      "  from .autonotebook import tqdm as notebook_tqdm\n",
      "Downloading readme: 100%|██████████| 404/404 [00:00<00:00, 3.42MB/s]\n"
     ]
    },
    {
     "name": "stdout",
     "output_type": "stream",
     "text": [
      "Downloading and preparing dataset None/None to /home/kosenko/.cache/huggingface/datasets/dim___parquet/dim--bugurt_completion_prompts-3dd6cb88dc70b252/0.0.0/2a3b91fbd88a2c90d1dbbb32b460cf621d31bd5b05b934492fdef7d8d6f236ec...\n"
     ]
    },
    {
     "name": "stderr",
     "output_type": "stream",
     "text": [
      "Downloading data: 100%|██████████| 2.81M/2.81M [00:00<00:00, 4.48MB/s]\n",
      "Downloading data files: 100%|██████████| 1/1 [00:01<00:00,  1.99s/it]\n",
      "Extracting data files: 100%|██████████| 1/1 [00:00<00:00, 355.15it/s]\n",
      "                                                                       \r"
     ]
    },
    {
     "name": "stdout",
     "output_type": "stream",
     "text": [
      "Dataset parquet downloaded and prepared to /home/kosenko/.cache/huggingface/datasets/dim___parquet/dim--bugurt_completion_prompts-3dd6cb88dc70b252/0.0.0/2a3b91fbd88a2c90d1dbbb32b460cf621d31bd5b05b934492fdef7d8d6f236ec. Subsequent calls will reuse this data.\n"
     ]
    },
    {
     "name": "stderr",
     "output_type": "stream",
     "text": [
      "100%|██████████| 1/1 [00:00<00:00, 716.36it/s]\n"
     ]
    },
    {
     "data": {
      "text/plain": [
       "{'prompt': 'продолжи бугурт: ты парень 16 лвл',\n",
       " 'bugurt': 'ты парень 16 лвл   \\n@  \\nв века стоит фамилия мирный/волков/забивной/высоцкий/\\\\*город нейм\\\\* ский/нурминский/етс  \\n@  \\nв описании профиля написана либо пацанская цитата аля \"волк не тот кто волк, а тот кто волк\" либо дата сброса листвы с настей мирной, чтобв все знали, что ты не такой сыч как остальные  \\n@  \\nна аватарке стоит фото волка/фото из интернета, где лицо закрыто эмодзи черта/фото в шапке с линзами на фоне полицейского авто  \\n@  \\nзаписи на твоей страничке представляют из себя цитаты с прикрепленной песней нурминского или ремиксом какой нибудь популярной песни (обязательно с розой в названии), либо фотографией такой же как твоя аватарка с той же прикрепленной песней  \\n@  \\nкаждого, кто пишет гадости тебе/насте мирной вызываешь на забив и угрожаешь найти  \\n@  \\nтвой круг общения состоит только из тебе подробных   \\n@  \\nв реальности ты гномоподобная тумбочка ванька тарасов 160 см весом 100 кг   \\n@  \\nвсерьез считаешь, что это не ты постыдное чмо, а парни вокруг бабы и ссыкуны, потому что не хотят с тобой общаться и быть такими же \"крутыми\" как ты'}"
      ]
     },
     "execution_count": 1,
     "metadata": {},
     "output_type": "execute_result"
    }
   ],
   "source": [
    "from datasets import load_dataset\n",
    "\n",
    "dataset = load_dataset(\"dim/bugurt_completion_prompts\")\n",
    "dataset = dataset[\"train\"]\n",
    "dataset[0]"
   ]
  }
 ],
 "metadata": {
  "kernelspec": {
   "display_name": "base",
   "language": "python",
   "name": "python3"
  },
  "language_info": {
   "codemirror_mode": {
    "name": "ipython",
    "version": 3
   },
   "file_extension": ".py",
   "mimetype": "text/x-python",
   "name": "python",
   "nbconvert_exporter": "python",
   "pygments_lexer": "ipython3",
   "version": "3.10.9"
  },
  "orig_nbformat": 4
 },
 "nbformat": 4,
 "nbformat_minor": 2
}
