{
 "cells": [
  {
   "cell_type": "code",
   "execution_count": 1,
   "metadata": {},
   "outputs": [
    {
     "name": "stderr",
     "output_type": "stream",
     "text": [
      "/home/kosenko/miniconda3/lib/python3.10/site-packages/tqdm/auto.py:21: TqdmWarning: IProgress not found. Please update jupyter and ipywidgets. See https://ipywidgets.readthedocs.io/en/stable/user_install.html\n",
      "  from .autonotebook import tqdm as notebook_tqdm\n"
     ]
    }
   ],
   "source": [
    "import requests\n",
    "from bs4 import BeautifulSoup\n",
    "import pandas as pd\n",
    "import re\n",
    "from tqdm import tqdm\n",
    "import uuid\n",
    "\n",
    "from datasets import Dataset"
   ]
  },
  {
   "cell_type": "code",
   "execution_count": 2,
   "metadata": {},
   "outputs": [],
   "source": [
    "thread = open(\"./verbalist/datasets/bugurt_thread/messages40.html\").read()\n",
    "\n",
    "soup = BeautifulSoup(thread)\n",
    "all_messages = soup.find_all(\"div\", class_=\"message\")"
   ]
  },
  {
   "cell_type": "code",
   "execution_count": 3,
   "metadata": {},
   "outputs": [
    {
     "data": {
      "text/plain": [
       "1068"
      ]
     },
     "execution_count": 3,
     "metadata": {},
     "output_type": "execute_result"
    }
   ],
   "source": [
    "len(all_messages)"
   ]
  },
  {
   "cell_type": "code",
   "execution_count": 15,
   "metadata": {},
   "outputs": [
    {
     "name": "stdout",
     "output_type": "stream",
     "text": [
      "\n",
      "СЫЧ ШАРИТ ЗА ВСЁ ЧТО ТОЛЬКО МОЖНО  \n",
      "@  \n",
      "ЗНАЕТ АНГЛИЙСКИЙ/РУССКИЙ/ТАТАРСКИЙ/КАЗАХСКИЙ/ЭЛЬФИЙСКИЙ ЯЗЫКИ И ПРИ ВИДЕ КАКОЙ ЛИБО ОШИБКИ В ЧУЖОМ ТЕКСТЕ НАЧИНАЕТ МИРОВУЮ ВОЙНУ  \n",
      "@  \n",
      "УМЕЕТ ВЫПОЛНЯТЬ ЗАДАЧКИ ИЗ ВЫСШЕЙ МАТЕМАТИКИ, В ШКОЛЕ ДИКО РОФЛИЛ С БЫДЛАНОВ ЕРОХ ТУПИВШИХ У ДОСКИ  \n",
      "@  \n",
      "ХОРОШО РАЗБИРАЕТСЯ В ПОЛИТИКЕ И УПРАВЛЕНИЕМ ГОСУДАРСТВА, ПОТОМУЧТО КАЖДЫЙ ДЕНЬ ИГРАЕТ В ХОЙКУ/ЦИВКУ И СМОТРИТ ПОЛИТИЧЕСКИЕ/ИСТОРИЧЕСКИЕ КАНАЛЫ  \n",
      "@  \n",
      "МИЛИТАРИСТ, ОЧЕНЬ СИЛЬНО ЗАИНТЕРЕСОВАН ОРУЖИЕМ И НЕ ПРОПУСКАЕТ НИОДНОГО ВИДЕО \"РАЗРУШИТЕЛЬНОЕ РАНЧО (В ПЕРЕВОДЕ ZEBRA)\"  \n",
      "@  \n",
      "ХОРОШО РАЗБИРАЕТСЯ В КАЧЕСТВЕНЫХ ФИЛЬМАХ/ИГРАХ/КНИГАХ/МУЗЫКЕ, ЕГО ВКУСЫ ОЧЕНЬ СИЛЬНО ВЫДЕЛЯЮТСЯ СРЕДИ СЕРОЙ МАССЫ БЫДЛАНОВ  \n",
      "@  \n",
      "ВСЕГДА ВЫИГРЫВАЕТ ВО ВСЕХ СПОРАХ В ИНТЕРНЕТЕ, УМЕЕТ ТРОЛИТЬ ВАТНОЕ БЫДЛО, ПОДЖИГАЕТ АНУС МОРАЛФАГАМ  \n",
      "@  \n",
      "НО ПРИ ЭТОМ ВСЁМ НЕ МОЖЕТ В ОБЩЕНИЕ/ОТНОШЕНИЯ С ДЕВУШКАМИ  \n",
      "  \n",
      "\n",
      "\n"
     ]
    }
   ],
   "source": [
    "import markdownify\n",
    "\n",
    "text = str(all_messages[100].find(\"div\", class_=\"text\"))\n",
    "# text\n",
    "text = str(\n",
    "    markdownify.markdownify(\n",
    "        text,\n",
    "    )\n",
    ")\n",
    "text = text.replace(\"предложено через\", \"\")\n",
    "text = text.replace(\"[@tgbtbot](https://t.me/tgbtbot)\", \"\")\n",
    "text = text.replace(\"[БУГУРТ-ТРЕД](https://t.me/bugurtthread)\", \"\")\n",
    "print(text)"
   ]
  },
  {
   "cell_type": "code",
   "execution_count": 16,
   "metadata": {},
   "outputs": [
    {
     "data": {
      "text/plain": [
       "7"
      ]
     },
     "execution_count": 16,
     "metadata": {},
     "output_type": "execute_result"
    }
   ],
   "source": [
    "text.count(\"@\")"
   ]
  },
  {
   "cell_type": "code",
   "execution_count": 46,
   "metadata": {},
   "outputs": [],
   "source": [
    "import re\n",
    "\n",
    "dataset = []\n",
    "\n",
    "for num in range(40, 45):\n",
    "    thread = open(f\"./verbalist/datasets/bugurt_thread/messages{num}.html\").read()\n",
    "\n",
    "    soup = BeautifulSoup(thread)\n",
    "    all_messages = soup.find_all(\"div\", class_=\"message\")\n",
    "    for i in range(len(all_messages)):\n",
    "        text = str(all_messages[i].find(\"div\", class_=\"text\"))\n",
    "        # text\n",
    "        text = str(\n",
    "            markdownify.markdownify(\n",
    "                text,\n",
    "            )\n",
    "        )\n",
    "        text = text.replace(\"предложено через\", \"\")\n",
    "        text = text.replace(\"предложено  через\", \"\")\n",
    "        text = text.replace(\"[@tgbtbot](https://t.me/tgbtbot)\", \"\")\n",
    "        text = text.replace(\"[БУГУРТ-ТРЕД](https://t.me/bugurtthread)\", \"\")\n",
    "        text = re.sub(r\"\\[(.*?)\\]\\(.*?\\)\", \"\", text).strip()\n",
    "        if \"@\" in text:\n",
    "            if text.count(\"@\") >= 3:\n",
    "                # print(text)\n",
    "                dataset.append({\"bugurt\": text})\n",
    "                # print(\"=\" * 100)"
   ]
  },
  {
   "cell_type": "code",
   "execution_count": 24,
   "metadata": {},
   "outputs": [
    {
     "data": {
      "text/plain": [
       "2521"
      ]
     },
     "execution_count": 24,
     "metadata": {},
     "output_type": "execute_result"
    }
   ],
   "source": [
    "len(dataset)"
   ]
  },
  {
   "cell_type": "code",
   "execution_count": 47,
   "metadata": {},
   "outputs": [
    {
     "name": "stderr",
     "output_type": "stream",
     "text": [
      "Pushing dataset shards to the dataset hub: 100%|██████████| 1/1 [00:00<00:00, 18641.35it/s]\n",
      "Downloading metadata: 100%|██████████| 203/203 [00:00<00:00, 1.89MB/s]\n",
      "Updating downloaded metadata with the new split.\n"
     ]
    }
   ],
   "source": [
    "Dataset.from_list(dataset).push_to_hub(\"dim/raw_bugurts_2.5k\")"
   ]
  },
  {
   "cell_type": "code",
   "execution_count": 44,
   "metadata": {},
   "outputs": [],
   "source": [
    "dataset = Dataset.from_list(dataset)"
   ]
  },
  {
   "cell_type": "code",
   "execution_count": 45,
   "metadata": {},
   "outputs": [
    {
     "name": "stderr",
     "output_type": "stream",
     "text": [
      "Creating CSV from Arrow format: 100%|██████████| 3/3 [00:00<00:00, 48.52ba/s]\n"
     ]
    },
    {
     "data": {
      "text/plain": [
       "2831798"
      ]
     },
     "execution_count": 45,
     "metadata": {},
     "output_type": "execute_result"
    }
   ],
   "source": [
    "dataset.to_csv(\"./verbalist/datasets/bugurt_thread/bugurt_thread.csv\")"
   ]
  },
  {
   "cell_type": "markdown",
   "metadata": {},
   "source": [
    "### sumarize bugurts\n"
   ]
  },
  {
   "cell_type": "code",
   "execution_count": 28,
   "metadata": {},
   "outputs": [
    {
     "name": "stdout",
     "output_type": "stream",
     "text": [
      "Hello! How can I assist you today?\n"
     ]
    }
   ],
   "source": [
    "import openai\n",
    "import pandas as pd\n",
    "import numpy as np\n",
    "import time\n",
    "\n",
    "openai.api_key = open(\"./chat_gpt_token\").read()\n",
    "\n",
    "\n",
    "def chat_with_chatgpt(prompt, model=\"gpt-3.5-turbo\"):\n",
    "    chat_completion = openai.ChatCompletion.create(\n",
    "        model=\"gpt-3.5-turbo\",\n",
    "        messages=[{\"role\": \"user\", \"content\": prompt}],\n",
    "        temperature=0.0,\n",
    "    )\n",
    "\n",
    "    return chat_completion[\"choices\"][0][\"message\"][\"content\"].strip()\n",
    "\n",
    "\n",
    "user_prompt = \"Hello world.\"\n",
    "chatbot_response = chat_with_chatgpt(user_prompt)\n",
    "print(chatbot_response)"
   ]
  },
  {
   "cell_type": "code",
   "execution_count": 43,
   "metadata": {},
   "outputs": [
    {
     "name": "stdout",
     "output_type": "stream",
     "text": [
      "\"у меня своя рок группа\"  \n",
      "@  \n",
      "ЕДИНСТВЕННЫМИ ПАЛОЧКАМИ В ЖИЗНИ БАРАБАНЩИКА БЫЛИ ПАЛОЧКИ ОТ СУШИ  \n",
      "@  \n",
      "БАСИСТ ДАЖЕ НЕ ЗНАЕТ ЧТО ОН В ГРУППЕ  \n",
      "@  \n",
      "ВОКАЛИСТА НЕТ  \n",
      "@  \n",
      "ВСЕ ПЕСНИ ЭТО ГАЧИКАВЕРЫ НА ЕГОРА ЛЕТОВА\n",
      "Напиши бугурт на тему \"безвокальная рок группа\":\n",
      "\"Молчание голоса, звук рока.\"\n"
     ]
    }
   ],
   "source": [
    "text = dataset[10][\"bugurt\"]\n",
    "\n",
    "prompt = f\"\"\"\n",
    "Текст: {text}\n",
    "\n",
    "Напиши бугурт на основе текста по типу:\n",
    "Напиши бугурт на тему...\n",
    "или\n",
    "Напиши бугурт про то как...\n",
    "или\n",
    "Напиши бугурт о том как...\n",
    "\n",
    "Бугурт должен быть довольно коротким 3-6 слов.\n",
    "\"\"\"\n",
    "print(text)\n",
    "chatbot_response = chat_with_chatgpt(prompt, model=\"gpt-4\")\n",
    "print(chatbot_response)"
   ]
  },
  {
   "cell_type": "markdown",
   "metadata": {},
   "source": [
    "### export labeled bugurts"
   ]
  },
  {
   "cell_type": "code",
   "execution_count": 55,
   "metadata": {},
   "outputs": [
    {
     "name": "stderr",
     "output_type": "stream",
     "text": [
      "Creating parquet from Arrow format: 100%|██████████| 1/1 [00:00<00:00, 1251.66ba/s]\n",
      "Pushing dataset shards to the dataset hub: 100%|██████████| 1/1 [00:01<00:00,  1.70s/it]\n",
      "Downloading metadata: 100%|██████████| 21.0/21.0 [00:00<00:00, 209kB/s]\n"
     ]
    }
   ],
   "source": [
    "import pandas as pd\n",
    "from datasets import Dataset\n",
    "\n",
    "dataset = pd.read_csv(\"./verbalist/datasets/bugurt_thread/bugurt_thread_labeled_v1.csv\")\n",
    "dataset = dataset[~dataset['prompt'].isna()]\n",
    "dataset = dataset.to_dict('records')\n",
    "dataset = Dataset.from_list(dataset)\n",
    "dataset.push_to_hub(\"dim/bugurt_thread_prompts\")"
   ]
  },
  {
   "cell_type": "code",
   "execution_count": 56,
   "metadata": {},
   "outputs": [
    {
     "data": {
      "text/plain": [
       "Dataset({\n",
       "    features: ['bugurt', 'prompt'],\n",
       "    num_rows: 108\n",
       "})"
      ]
     },
     "execution_count": 56,
     "metadata": {},
     "output_type": "execute_result"
    }
   ],
   "source": [
    "dataset"
   ]
  }
 ],
 "metadata": {
  "kernelspec": {
   "display_name": "base",
   "language": "python",
   "name": "python3"
  },
  "language_info": {
   "codemirror_mode": {
    "name": "ipython",
    "version": 3
   },
   "file_extension": ".py",
   "mimetype": "text/x-python",
   "name": "python",
   "nbconvert_exporter": "python",
   "pygments_lexer": "ipython3",
   "version": "3.10.9"
  },
  "orig_nbformat": 4
 },
 "nbformat": 4,
 "nbformat_minor": 2
}
