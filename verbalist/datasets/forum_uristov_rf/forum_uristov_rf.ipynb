{
 "cells": [
  {
   "cell_type": "code",
   "execution_count": 1,
   "metadata": {},
   "outputs": [],
   "source": [
    "import requests\n",
    "from bs4 import BeautifulSoup\n",
    "import pandas as pd\n",
    "import re\n",
    "from tqdm import tqdm\n",
    "import uuid\n",
    "\n",
    "from datasets import Dataset"
   ]
  },
  {
   "cell_type": "code",
   "execution_count": 26,
   "metadata": {},
   "outputs": [
    {
     "data": {
      "text/plain": [
       "(4,\n",
       " <li class=\"views-row views-row-1 views-row-odd views-row-first\"> <article about=\"/content/%D0%B8%D0%B7%D1%8A%D1%8F%D1%82%D0%B8%D0%B5-%D0%B8%D0%BF%D0%BE%D1%82%D0%B5%D1%87%D0%BD%D0%BE%D0%B9-%D0%BA%D0%B2%D0%B0%D1%80%D1%82%D0%B8%D1%80%D1%8B\" class=\"node node-forum node-teaser clearfix\" id=\"node-153\" typeof=\"sioc:Post sioct:BoardPost\">\n",
       " <header>\n",
       " <h2 class=\"title\"><a href=\"/content/%D0%B8%D0%B7%D1%8A%D1%8F%D1%82%D0%B8%D0%B5-%D0%B8%D0%BF%D0%BE%D1%82%D0%B5%D1%87%D0%BD%D0%BE%D0%B9-%D0%BA%D0%B2%D0%B0%D1%80%D1%82%D0%B8%D1%80%D1%8B\">изъятие ипотечной квартиры</a></h2>\n",
       " <span class=\"rdf-meta element-hidden\" content=\"изъятие ипотечной квартиры\" property=\"dc:title\"></span><span class=\"rdf-meta element-hidden\" content=\"1\" datatype=\"xsd:integer\" property=\"sioc:num_replies\"></span>\n",
       " <div class=\"submitted\"><span content=\"2018-03-29T16:04:35+03:00\" datatype=\"xsd:dateTime\" property=\"dc:date dc:created\" rel=\"sioc:has_creator\">Опубликовано чт, 03/29/2018 - 16:04 пользователем <a about=\"/users/alexlawyer\" class=\"username\" datatype=\"\" href=\"/users/alexlawyer\" property=\"foaf:name\" title=\"Просмотр профиля пользователя.\" typeof=\"sioc:UserAccount\" xml:lang=\"\">alexlawyer</a></span></div>\n",
       " </header>\n",
       " <div class=\"forum-starter-picture\"></div>\n",
       " <div class=\"content\">\n",
       " <div class=\"field field-name-taxonomy-forums field-type-taxonomy-term-reference field-label-above\"><div class=\"field-label\">Тема вопроса: </div><div class=\"field-items\"><div class=\"field-item even\" rel=\"sioc:has_container\"><a datatype=\"\" href=\"/%D1%84%D0%BE%D1%80%D1%83%D0%BC%D1%8B/%D1%81%D0%B5%D0%BC%D0%B5%D0%B9%D0%BD%D1%8B%D0%B9-%D1%8E%D1%80%D0%B8%D1%81%D1%82-%D0%BE%D0%BD%D0%BB%D0%B0%D0%B9%D0%BD\" property=\"rdfs:label skos:prefLabel\" typeof=\"sioc:Container sioc:Forum\">Семейный юрист онлайн</a></div></div></div><div class=\"field field-name-body field-type-text-with-summary field-label-hidden\"><div class=\"field-items\"><div class=\"field-item even\" property=\"content:encoded\">Здравствуйте, имеет ли права судебные приставы или банк забрать ипотечную квартиры если ее часть оплачена материнским капиталом.</div></div></div> </div>\n",
       " <footer>\n",
       " <ul class=\"links inline\"><li class=\"node-readmore first\"><a href=\"/content/%D0%B8%D0%B7%D1%8A%D1%8F%D1%82%D0%B8%D0%B5-%D0%B8%D0%BF%D0%BE%D1%82%D0%B5%D1%87%D0%BD%D0%BE%D0%B9-%D0%BA%D0%B2%D0%B0%D1%80%D1%82%D0%B8%D1%80%D1%8B\" rel=\"tag\" title=\"изъятие ипотечной квартиры\">Подробнее<span class=\"element-invisible\"> о изъятие ипотечной квартиры</span></a></li>\n",
       " <li class=\"comment-comments\"><a href=\"/content/%D0%B8%D0%B7%D1%8A%D1%8F%D1%82%D0%B8%D0%B5-%D0%B8%D0%BF%D0%BE%D1%82%D0%B5%D1%87%D0%BD%D0%BE%D0%B9-%D0%BA%D0%B2%D0%B0%D1%80%D1%82%D0%B8%D1%80%D1%8B#comments\" title=\"Перейти к первому комментарию.\">1 комментарий</a></li>\n",
       " <li class=\"comment_forbidden last\"><span><a href=\"/user/login?destination=node/153%23comment-form\">Войдите</a> или <a href=\"/user/register?destination=node/153%23comment-form\">зарегистрируйтесь</a>, чтобы отправлять комментарии</span></li>\n",
       " </ul> </footer>\n",
       " </article> <!-- /.node -->\n",
       " </li>)"
      ]
     },
     "execution_count": 26,
     "metadata": {},
     "output_type": "execute_result"
    }
   ],
   "source": [
    "url = \"https://xn----dtbrojdkckkfj9k.xn--p1ai/vopros-yuristu?page=560\"\n",
    "response = requests.get(url=url)\n",
    "soup = BeautifulSoup(response.text)\n",
    "items = soup.find(\"div\", id=\"block-system-main\")\n",
    "items = items.find(\"div\", class_=\"view-content\")\n",
    "items = items.find_all(\"li\", class_=\"views-row\")\n",
    "len(items), items[0]"
   ]
  },
  {
   "cell_type": "code",
   "execution_count": 25,
   "metadata": {},
   "outputs": [
    {
     "data": {
      "text/plain": [
       "'https://xn----dtbrojdkckkfj9k.xn--p1ai/content/%D0%B8%D0%B7%D1%8A%D1%8F%D1%82%D0%B8%D0%B5-%D0%B8%D0%BF%D0%BE%D1%82%D0%B5%D1%87%D0%BD%D0%BE%D0%B9-%D0%BA%D0%B2%D0%B0%D1%80%D1%82%D0%B8%D1%80%D1%8B'"
      ]
     },
     "execution_count": 25,
     "metadata": {},
     "output_type": "execute_result"
    }
   ],
   "source": [
    "link = items[0].find(\"h2\").find(\"a\")[\"href\"]\n",
    "link = f\"https://xn----dtbrojdkckkfj9k.xn--p1ai{link}\"\n",
    "link"
   ]
  },
  {
   "cell_type": "code",
   "execution_count": 28,
   "metadata": {},
   "outputs": [
    {
     "name": "stderr",
     "output_type": "stream",
     "text": [
      "100%|██████████| 571/571 [00:44<00:00, 12.85it/s]\n"
     ]
    }
   ],
   "source": [
    "from tqdm import tqdm\n",
    "\n",
    "\n",
    "class LawForumLinksParser:\n",
    "    def __init__(\n",
    "        self,\n",
    "    ) -> None:\n",
    "        self.dataset = []\n",
    "        self.domain = \"https://xn----dtbrojdkckkfj9k.xn--p1ai\"\n",
    "\n",
    "    def parse(\n",
    "        self,\n",
    "    ):\n",
    "        pages_amount = 571\n",
    "        for page_num in tqdm(range(pages_amount)):\n",
    "            url = f\"{self.domain}/vopros-yuristu?page={page_num}\"\n",
    "            response = requests.get(url=url)\n",
    "            soup = BeautifulSoup(response.text)\n",
    "            items = soup.find(\"div\", id=\"block-system-main\")\n",
    "            items = items.find(\"div\", class_=\"view-content\")\n",
    "            items = items.find_all(\"li\", class_=\"views-row\")\n",
    "\n",
    "            for item in items:\n",
    "                link = item.find(\"h2\").find(\"a\")[\"href\"]\n",
    "                link = f\"{self.domain}{link}\"\n",
    "                self.dataset.append({\"link\": link})\n",
    "\n",
    "        pd.DataFrame(data=self.dataset).to_csv(\n",
    "            \"./verbalist/datasets/forum_uristov_rf/forum_uristov_rf_links.csv\",\n",
    "            index=False,\n",
    "        )\n",
    "\n",
    "\n",
    "links_parser = LawForumLinksParser()\n",
    "links_parser.parse()"
   ]
  },
  {
   "cell_type": "code",
   "execution_count": null,
   "metadata": {},
   "outputs": [],
   "source": [
    "import markdownify\n",
    "\n",
    "url = \"https://xn----dtbrojdkckkfj9k.xn--p1ai/content/%D0%B8%D0%B7%D1%8A%D1%8F%D1%82%D0%B8%D0%B5-%D0%B8%D0%BF%D0%BE%D1%82%D0%B5%D1%87%D0%BD%D0%BE%D0%B9-%D0%BA%D0%B2%D0%B0%D1%80%D1%82%D0%B8%D1%80%D1%8B\"\n",
    "response = requests.get(url=url)\n",
    "soup = BeautifulSoup(response.text)\n",
    "items = soup.find_all(\"div\", class_=\"forum-post-content\")"
   ]
  },
  {
   "cell_type": "code",
   "execution_count": 42,
   "metadata": {},
   "outputs": [
    {
     "name": "stdout",
     "output_type": "stream",
     "text": [
      "Здравствуйте, имеет ли права судебные приставы или банк забрать ипотечную квартиры если ее часть оплачена материнским капиталом.\n"
     ]
    }
   ],
   "source": [
    "question = (\n",
    "    str(markdownify.markdownify(str(items[0]))).replace(\"Ваш вопрос:\", \"\").strip()\n",
    ")\n",
    "\n",
    "print(question)"
   ]
  },
  {
   "cell_type": "code",
   "execution_count": 40,
   "metadata": {},
   "outputs": [
    {
     "name": "stdout",
     "output_type": "stream",
     "text": [
      "Взыскание на ипотечную квартиру невозможно в следующих случаях:\n",
      "\n",
      "Согласно статье 348 Гражданского кодекса РФ:\n",
      "\n",
      "- взыскание на заложенное имущество для удовлетворения требований залогодержателя может быть обращено в случае неисполнения или ненадлежащего исполнения должником обеспеченного залогом обязательства (п. 1);\n",
      "\n",
      "- обращение взыскания на заложенное имущество не допускается, если допущенное должником нарушение обеспеченного залогом обязательства незначительно и размер требований залогодержателя вследствие этого явно несоразмерен стоимости заложенного имущества. Если не доказано иное, предполагается, что нарушение обеспеченного залогом обязательства незначительно и размер требований залогодержателя явно несоразмерен стоимости заложенного имущества при условии, что одновременно соблюдены следующие условия:\n",
      "\n",
      "Если ответчики распорядились материнским капиталом для улучшения жилищных условий семьи, малолетних детей, а обращение взыскания на заложенную квартиру с её реализацией может послужить основанием к их выселению из единственного для них пригодного для проживания жилья, что недопустимо с учетом действующего законодательства, положений ст. 7 Конституции Российской Федерации, предусматривающей государственную поддержку семьи, материнства, отцовства и детства, Федерального закона от 29 декабря 2006 года № 256-ФЗ «О дополнительных мерах государственной поддержки семей, имеющих детей», направленного на создание мер государственной поддержки семей, имеющих детей, для создания условий, обеспечивающих им достойную жизнь, защиты материнства и детства.\n",
      "\n",
      "УЛЬЯНОВСКИЙ ОБЛАСТНОЙ СУД, Дело № 33-1672/2015, А П Е Л Л Я Ц И О Н Н О Е   О П Р Е Д Е Л Е Н И Е от 28 апреля 2015 г.\n",
      "\n",
      "Таким образом, обращения взыскания на ипотечную квартиру зависит в том числе от суммы долга.\n"
     ]
    }
   ],
   "source": [
    "response = str(markdownify.markdownify(str(items[1]))).replace(\"\\n\\n\", \"\\n\").strip()\n",
    "print(response)"
   ]
  },
  {
   "cell_type": "code",
   "execution_count": 47,
   "metadata": {},
   "outputs": [
    {
     "name": "stderr",
     "output_type": "stream",
     "text": [
      "100%|██████████| 2283/2283 [09:44<00:00,  3.91it/s]\n"
     ]
    }
   ],
   "source": [
    "class ContentParser:\n",
    "    def __init__(self, urls: list[str]) -> None:\n",
    "        self.urls = urls\n",
    "\n",
    "        self.dataset = []\n",
    "\n",
    "    def parse(self):\n",
    "        for url in tqdm(self.urls):\n",
    "            # print(url)\n",
    "            response = requests.get(url=url)\n",
    "            soup = BeautifulSoup(response.text)\n",
    "            items = soup.find_all(\"div\", class_=\"forum-post-content\")\n",
    "            if len(items) == 2:\n",
    "                question = (\n",
    "                    str(markdownify.markdownify(str(items[0])))\n",
    "                    .replace(\"Ваш вопрос:\", \"\")\n",
    "                    .strip()\n",
    "                )\n",
    "                answer = (\n",
    "                    str(markdownify.markdownify(str(items[1])))\n",
    "                    .replace(\"\\n\\n\", \"\\n\")\n",
    "                    .strip()\n",
    "                )\n",
    "                self.dataset.append({\"prompt\": question, \"solution\": answer, \"link\": url})\n",
    "\n",
    "        pd.DataFrame(data=self.dataset).to_csv(\n",
    "            \"./verbalist/datasets/forum_uristov_rf/forum_uristov_rf_prompts.csv\",\n",
    "            index=False,\n",
    "        )\n",
    "\n",
    "urls = pd.read_csv(\"./verbalist/datasets/forum_uristov_rf/forum_uristov_rf_links.csv\")        \n",
    "urls = urls['link'] \n",
    "parser = ContentParser(urls=urls)\n",
    "parser.parse()"
   ]
  },
  {
   "cell_type": "code",
   "execution_count": 48,
   "metadata": {},
   "outputs": [
    {
     "data": {
      "text/plain": [
       "{'prompt': 'Регион:\\xa0[Россия](/regiony/rossiya)\\xa0Доброе утро.\\r\\nПокупаю приватизированную квартиру. На момент приватизации зарегистрированы в квартире были четверо — мать, отец, двое совершеннолетних сыновей. Сыновья в приватизации не участвовали. Один из сыновей уже снялся с учета и предоставил нотариально заверенное заявление такого содержания:\\r\\n«Я, Иванов Иван Иванович, настоящим заявлением подтверждаю, что мне известно, что на момент приватизации квартиры, находящейся по адресу …, и я был зарегистрирован в указанной квартире, но в число собственников включен не был. Подтверждаю, что претензий по приватизации вышеуказанной квартиры не имею, в суд по поводу признания договора передачи частично недействительным обращаться не буду. Я, Иванов Иван Иванович, настоящим заявлением не возражаю против продажи данной квартиры.»\\r\\nЗдесь ни слова о том, что в связи с добровольной сменой жительства его бессрочное право пользования квартирой ПРЕКРАЩЕНО. И к тому же, человек выписался \"в никуда\". Хотя везде пишут, что он должен в ОБЯЗАТЕЛЬНОМ порядке зарегистрироваться на новом месте.\\r\\nПодскажите, пожалуйста, безопасно покупать данную квартиру???\\r\\nЗаранее благодарю.',\n",
       " 'solution': 'Вам нужно получить вышеуказанное согласие с указанием формулировки о прекращении права проживания, либо он должен предоставить доказательства регистрации в ином месте',\n",
       " 'link': 'https://xn----dtbrojdkckkfj9k.xn--p1ai/content/pokupayu-privatizirovannuyu-kvartiruest-otkaznik'}"
      ]
     },
     "execution_count": 48,
     "metadata": {},
     "output_type": "execute_result"
    }
   ],
   "source": [
    "parser.dataset[0]"
   ]
  },
  {
   "cell_type": "code",
   "execution_count": 50,
   "metadata": {},
   "outputs": [
    {
     "data": {
      "text/plain": [
       "Dataset({\n",
       "    features: ['prompt', 'solution', 'link'],\n",
       "    num_rows: 1849\n",
       "})"
      ]
     },
     "execution_count": 50,
     "metadata": {},
     "output_type": "execute_result"
    }
   ],
   "source": [
    "dataset = Dataset.from_list(parser.dataset)\n",
    "dataset"
   ]
  },
  {
   "cell_type": "code",
   "execution_count": 51,
   "metadata": {},
   "outputs": [
    {
     "data": {
      "application/vnd.jupyter.widget-view+json": {
       "model_id": "61007ac207b74046b6fed645b6999433",
       "version_major": 2,
       "version_minor": 0
      },
      "text/plain": [
       "Pushing dataset shards to the dataset hub:   0%|          | 0/1 [00:00<?, ?it/s]"
      ]
     },
     "metadata": {},
     "output_type": "display_data"
    },
    {
     "data": {
      "application/vnd.jupyter.widget-view+json": {
       "model_id": "2cf9464ab96840c1a633c7395d8622d8",
       "version_major": 2,
       "version_minor": 0
      },
      "text/plain": [
       "Creating parquet from Arrow format:   0%|          | 0/2 [00:00<?, ?ba/s]"
      ]
     },
     "metadata": {},
     "output_type": "display_data"
    }
   ],
   "source": [
    "# dataset.push_to_hub(\"dim/forum_uristov_rf_prompts\", private=True)"
   ]
  }
 ],
 "metadata": {
  "kernelspec": {
   "display_name": "base",
   "language": "python",
   "name": "python3"
  },
  "language_info": {
   "codemirror_mode": {
    "name": "ipython",
    "version": 3
   },
   "file_extension": ".py",
   "mimetype": "text/x-python",
   "name": "python",
   "nbconvert_exporter": "python",
   "pygments_lexer": "ipython3",
   "version": "3.10.9"
  },
  "orig_nbformat": 4
 },
 "nbformat": 4,
 "nbformat_minor": 2
}
