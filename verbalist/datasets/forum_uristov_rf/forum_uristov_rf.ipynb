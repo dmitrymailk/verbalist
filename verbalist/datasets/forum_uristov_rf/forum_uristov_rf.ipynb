{
 "cells": [
  {
   "cell_type": "code",
   "execution_count": 1,
   "metadata": {},
   "outputs": [],
   "source": [
    "import requests\n",
    "from bs4 import BeautifulSoup\n",
    "import pandas as pd\n",
    "import re\n",
    "from tqdm import tqdm\n",
    "import uuid\n",
    "\n",
    "from datasets import Dataset"
   ]
  },
  {
   "cell_type": "code",
   "execution_count": 26,
   "metadata": {},
   "outputs": [
    {
     "data": {
      "text/plain": [
       "(4,\n",
       " <li class=\"views-row views-row-1 views-row-odd views-row-first\"> <article about=\"/content/%D0%B8%D0%B7%D1%8A%D1%8F%D1%82%D0%B8%D0%B5-%D0%B8%D0%BF%D0%BE%D1%82%D0%B5%D1%87%D0%BD%D0%BE%D0%B9-%D0%BA%D0%B2%D0%B0%D1%80%D1%82%D0%B8%D1%80%D1%8B\" class=\"node node-forum node-teaser clearfix\" id=\"node-153\" typeof=\"sioc:Post sioct:BoardPost\">\n",
       " <header>\n",
       " <h2 class=\"title\"><a href=\"/content/%D0%B8%D0%B7%D1%8A%D1%8F%D1%82%D0%B8%D0%B5-%D0%B8%D0%BF%D0%BE%D1%82%D0%B5%D1%87%D0%BD%D0%BE%D0%B9-%D0%BA%D0%B2%D0%B0%D1%80%D1%82%D0%B8%D1%80%D1%8B\">изъятие ипотечной квартиры</a></h2>\n",
       " <span class=\"rdf-meta element-hidden\" content=\"изъятие ипотечной квартиры\" property=\"dc:title\"></span><span class=\"rdf-meta element-hidden\" content=\"1\" datatype=\"xsd:integer\" property=\"sioc:num_replies\"></span>\n",
       " <div class=\"submitted\"><span content=\"2018-03-29T16:04:35+03:00\" datatype=\"xsd:dateTime\" property=\"dc:date dc:created\" rel=\"sioc:has_creator\">Опубликовано чт, 03/29/2018 - 16:04 пользователем <a about=\"/users/alexlawyer\" class=\"username\" datatype=\"\" href=\"/users/alexlawyer\" property=\"foaf:name\" title=\"Просмотр профиля пользователя.\" typeof=\"sioc:UserAccount\" xml:lang=\"\">alexlawyer</a></span></div>\n",
       " </header>\n",
       " <div class=\"forum-starter-picture\"></div>\n",
       " <div class=\"content\">\n",
       " <div class=\"field field-name-taxonomy-forums field-type-taxonomy-term-reference field-label-above\"><div class=\"field-label\">Тема вопроса: </div><div class=\"field-items\"><div class=\"field-item even\" rel=\"sioc:has_container\"><a datatype=\"\" href=\"/%D1%84%D0%BE%D1%80%D1%83%D0%BC%D1%8B/%D1%81%D0%B5%D0%BC%D0%B5%D0%B9%D0%BD%D1%8B%D0%B9-%D1%8E%D1%80%D0%B8%D1%81%D1%82-%D0%BE%D0%BD%D0%BB%D0%B0%D0%B9%D0%BD\" property=\"rdfs:label skos:prefLabel\" typeof=\"sioc:Container sioc:Forum\">Семейный юрист онлайн</a></div></div></div><div class=\"field field-name-body field-type-text-with-summary field-label-hidden\"><div class=\"field-items\"><div class=\"field-item even\" property=\"content:encoded\">Здравствуйте, имеет ли права судебные приставы или банк забрать ипотечную квартиры если ее часть оплачена материнским капиталом.</div></div></div> </div>\n",
       " <footer>\n",
       " <ul class=\"links inline\"><li class=\"node-readmore first\"><a href=\"/content/%D0%B8%D0%B7%D1%8A%D1%8F%D1%82%D0%B8%D0%B5-%D0%B8%D0%BF%D0%BE%D1%82%D0%B5%D1%87%D0%BD%D0%BE%D0%B9-%D0%BA%D0%B2%D0%B0%D1%80%D1%82%D0%B8%D1%80%D1%8B\" rel=\"tag\" title=\"изъятие ипотечной квартиры\">Подробнее<span class=\"element-invisible\"> о изъятие ипотечной квартиры</span></a></li>\n",
       " <li class=\"comment-comments\"><a href=\"/content/%D0%B8%D0%B7%D1%8A%D1%8F%D1%82%D0%B8%D0%B5-%D0%B8%D0%BF%D0%BE%D1%82%D0%B5%D1%87%D0%BD%D0%BE%D0%B9-%D0%BA%D0%B2%D0%B0%D1%80%D1%82%D0%B8%D1%80%D1%8B#comments\" title=\"Перейти к первому комментарию.\">1 комментарий</a></li>\n",
       " <li class=\"comment_forbidden last\"><span><a href=\"/user/login?destination=node/153%23comment-form\">Войдите</a> или <a href=\"/user/register?destination=node/153%23comment-form\">зарегистрируйтесь</a>, чтобы отправлять комментарии</span></li>\n",
       " </ul> </footer>\n",
       " </article> <!-- /.node -->\n",
       " </li>)"
      ]
     },
     "execution_count": 26,
     "metadata": {},
     "output_type": "execute_result"
    }
   ],
   "source": [
    "url = \"https://xn----dtbrojdkckkfj9k.xn--p1ai/vopros-yuristu?page=560\"\n",
    "response = requests.get(url=url)\n",
    "soup = BeautifulSoup(response.text)\n",
    "items = soup.find(\"div\", id=\"block-system-main\")\n",
    "items = items.find(\"div\", class_=\"view-content\")\n",
    "items = items.find_all(\"li\", class_=\"views-row\")\n",
    "len(items), items[0]"
   ]
  },
  {
   "cell_type": "code",
   "execution_count": 25,
   "metadata": {},
   "outputs": [
    {
     "data": {
      "text/plain": [
       "'https://xn----dtbrojdkckkfj9k.xn--p1ai/content/%D0%B8%D0%B7%D1%8A%D1%8F%D1%82%D0%B8%D0%B5-%D0%B8%D0%BF%D0%BE%D1%82%D0%B5%D1%87%D0%BD%D0%BE%D0%B9-%D0%BA%D0%B2%D0%B0%D1%80%D1%82%D0%B8%D1%80%D1%8B'"
      ]
     },
     "execution_count": 25,
     "metadata": {},
     "output_type": "execute_result"
    }
   ],
   "source": [
    "link = items[0].find(\"h2\").find(\"a\")[\"href\"]\n",
    "link = f\"https://xn----dtbrojdkckkfj9k.xn--p1ai{link}\"\n",
    "link"
   ]
  },
  {
   "cell_type": "code",
   "execution_count": 28,
   "metadata": {},
   "outputs": [
    {
     "name": "stderr",
     "output_type": "stream",
     "text": [
      "100%|██████████| 571/571 [00:44<00:00, 12.85it/s]\n"
     ]
    }
   ],
   "source": [
    "from tqdm import tqdm\n",
    "\n",
    "\n",
    "class LawForumLinksParser:\n",
    "    def __init__(\n",
    "        self,\n",
    "    ) -> None:\n",
    "        self.dataset = []\n",
    "        self.domain = \"https://xn----dtbrojdkckkfj9k.xn--p1ai\"\n",
    "\n",
    "    def parse(\n",
    "        self,\n",
    "    ):\n",
    "        pages_amount = 571\n",
    "        for page_num in tqdm(range(pages_amount)):\n",
    "            url = f\"{self.domain}/vopros-yuristu?page={page_num}\"\n",
    "            response = requests.get(url=url)\n",
    "            soup = BeautifulSoup(response.text)\n",
    "            items = soup.find(\"div\", id=\"block-system-main\")\n",
    "            items = items.find(\"div\", class_=\"view-content\")\n",
    "            items = items.find_all(\"li\", class_=\"views-row\")\n",
    "\n",
    "            for item in items:\n",
    "                link = item.find(\"h2\").find(\"a\")[\"href\"]\n",
    "                link = f\"{self.domain}{link}\"\n",
    "                self.dataset.append({\"link\": link})\n",
    "\n",
    "        pd.DataFrame(data=self.dataset).to_csv(\n",
    "            \"./verbalist/datasets/forum_uristov_rf/forum_uristov_rf_links.csv\",\n",
    "            index=False,\n",
    "        )\n",
    "\n",
    "\n",
    "links_parser = LawForumLinksParser()\n",
    "links_parser.parse()"
   ]
  },
  {
   "cell_type": "code",
   "execution_count": null,
   "metadata": {},
   "outputs": [],
   "source": [
    "import markdownify\n",
    "\n",
    "url = \"https://xn----dtbrojdkckkfj9k.xn--p1ai/content/%D0%B8%D0%B7%D1%8A%D1%8F%D1%82%D0%B8%D0%B5-%D0%B8%D0%BF%D0%BE%D1%82%D0%B5%D1%87%D0%BD%D0%BE%D0%B9-%D0%BA%D0%B2%D0%B0%D1%80%D1%82%D0%B8%D1%80%D1%8B\"\n",
    "response = requests.get(url=url)\n",
    "soup = BeautifulSoup(response.text)\n",
    "items = soup.find_all(\"div\", class_=\"forum-post-content\")"
   ]
  },
  {
   "cell_type": "code",
   "execution_count": 42,
   "metadata": {},
   "outputs": [
    {
     "name": "stdout",
     "output_type": "stream",
     "text": [
      "Здравствуйте, имеет ли права судебные приставы или банк забрать ипотечную квартиры если ее часть оплачена материнским капиталом.\n"
     ]
    }
   ],
   "source": [
    "question = (\n",
    "    str(markdownify.markdownify(str(items[0]))).replace(\"Ваш вопрос:\", \"\").strip()\n",
    ")\n",
    "\n",
    "print(question)"
   ]
  },
  {
   "cell_type": "code",
   "execution_count": 40,
   "metadata": {},
   "outputs": [
    {
     "name": "stdout",
     "output_type": "stream",
     "text": [
      "Взыскание на ипотечную квартиру невозможно в следующих случаях:\n",
      "\n",
      "Согласно статье 348 Гражданского кодекса РФ:\n",
      "\n",
      "- взыскание на заложенное имущество для удовлетворения требований залогодержателя может быть обращено в случае неисполнения или ненадлежащего исполнения должником обеспеченного залогом обязательства (п. 1);\n",
      "\n",
      "- обращение взыскания на заложенное имущество не допускается, если допущенное должником нарушение обеспеченного залогом обязательства незначительно и размер требований залогодержателя вследствие этого явно несоразмерен стоимости заложенного имущества. Если не доказано иное, предполагается, что нарушение обеспеченного залогом обязательства незначительно и размер требований залогодержателя явно несоразмерен стоимости заложенного имущества при условии, что одновременно соблюдены следующие условия:\n",
      "\n",
      "Если ответчики распорядились материнским капиталом для улучшения жилищных условий семьи, малолетних детей, а обращение взыскания на заложенную квартиру с её реализацией может послужить основанием к их выселению из единственного для них пригодного для проживания жилья, что недопустимо с учетом действующего законодательства, положений ст. 7 Конституции Российской Федерации, предусматривающей государственную поддержку семьи, материнства, отцовства и детства, Федерального закона от 29 декабря 2006 года № 256-ФЗ «О дополнительных мерах государственной поддержки семей, имеющих детей», направленного на создание мер государственной поддержки семей, имеющих детей, для создания условий, обеспечивающих им достойную жизнь, защиты материнства и детства.\n",
      "\n",
      "УЛЬЯНОВСКИЙ ОБЛАСТНОЙ СУД, Дело № 33-1672/2015, А П Е Л Л Я Ц И О Н Н О Е   О П Р Е Д Е Л Е Н И Е от 28 апреля 2015 г.\n",
      "\n",
      "Таким образом, обращения взыскания на ипотечную квартиру зависит в том числе от суммы долга.\n"
     ]
    }
   ],
   "source": [
    "response = str(markdownify.markdownify(str(items[1]))).replace(\"\\n\\n\", \"\\n\").strip()\n",
    "print(response)"
   ]
  },
  {
   "cell_type": "code",
   "execution_count": 47,
   "metadata": {},
   "outputs": [
    {
     "name": "stderr",
     "output_type": "stream",
     "text": [
      "100%|██████████| 2283/2283 [09:44<00:00,  3.91it/s]\n"
     ]
    }
   ],
   "source": [
    "class ContentParser:\n",
    "    def __init__(self, urls: list[str]) -> None:\n",
    "        self.urls = urls\n",
    "\n",
    "        self.dataset = []\n",
    "\n",
    "    def parse(self):\n",
    "        for url in tqdm(self.urls):\n",
    "            # print(url)\n",
    "            response = requests.get(url=url)\n",
    "            soup = BeautifulSoup(response.text)\n",
    "            items = soup.find_all(\"div\", class_=\"forum-post-content\")\n",
    "            if len(items) == 2:\n",
    "                question = (\n",
    "                    str(markdownify.markdownify(str(items[0])))\n",
    "                    .replace(\"Ваш вопрос:\", \"\")\n",
    "                    .strip()\n",
    "                )\n",
    "                answer = (\n",
    "                    str(markdownify.markdownify(str(items[1])))\n",
    "                    .replace(\"\\n\\n\", \"\\n\")\n",
    "                    .strip()\n",
    "                )\n",
    "                self.dataset.append({\"prompt\": question, \"solution\": answer, \"link\": url})\n",
    "\n",
    "        pd.DataFrame(data=self.dataset).to_csv(\n",
    "            \"./verbalist/datasets/forum_uristov_rf/forum_uristov_rf_prompts.csv\",\n",
    "            index=False,\n",
    "        )\n",
    "\n",
    "urls = pd.read_csv(\"./verbalist/datasets/forum_uristov_rf/forum_uristov_rf_links.csv\")        \n",
    "urls = urls['link'] \n",
    "parser = ContentParser(urls=urls)\n",
    "parser.parse()"
   ]
  },
  {
   "cell_type": "code",
   "execution_count": 48,
   "metadata": {},
   "outputs": [
    {
     "data": {
      "text/plain": [
       "{'prompt': 'Регион:\\xa0[Россия](/regiony/rossiya)\\xa0Доброе утро.\\r\\nПокупаю приватизированную квартиру. На момент приватизации зарегистрированы в квартире были четверо — мать, отец, двое совершеннолетних сыновей. Сыновья в приватизации не участвовали. Один из сыновей уже снялся с учета и предоставил нотариально заверенное заявление такого содержания:\\r\\n«Я, Иванов Иван Иванович, настоящим заявлением подтверждаю, что мне известно, что на момент приватизации квартиры, находящейся по адресу …, и я был зарегистрирован в указанной квартире, но в число собственников включен не был. Подтверждаю, что претензий по приватизации вышеуказанной квартиры не имею, в суд по поводу признания договора передачи частично недействительным обращаться не буду. Я, Иванов Иван Иванович, настоящим заявлением не возражаю против продажи данной квартиры.»\\r\\nЗдесь ни слова о том, что в связи с добровольной сменой жительства его бессрочное право пользования квартирой ПРЕКРАЩЕНО. И к тому же, человек выписался \"в никуда\". Хотя везде пишут, что он должен в ОБЯЗАТЕЛЬНОМ порядке зарегистрироваться на новом месте.\\r\\nПодскажите, пожалуйста, безопасно покупать данную квартиру???\\r\\nЗаранее благодарю.',\n",
       " 'solution': 'Вам нужно получить вышеуказанное согласие с указанием формулировки о прекращении права проживания, либо он должен предоставить доказательства регистрации в ином месте',\n",
       " 'link': 'https://xn----dtbrojdkckkfj9k.xn--p1ai/content/pokupayu-privatizirovannuyu-kvartiruest-otkaznik'}"
      ]
     },
     "execution_count": 48,
     "metadata": {},
     "output_type": "execute_result"
    }
   ],
   "source": [
    "parser.dataset[0]"
   ]
  },
  {
   "cell_type": "code",
   "execution_count": 50,
   "metadata": {},
   "outputs": [
    {
     "data": {
      "text/plain": [
       "Dataset({\n",
       "    features: ['prompt', 'solution', 'link'],\n",
       "    num_rows: 1849\n",
       "})"
      ]
     },
     "execution_count": 50,
     "metadata": {},
     "output_type": "execute_result"
    }
   ],
   "source": [
    "dataset = Dataset.from_list(parser.dataset)\n",
    "dataset"
   ]
  },
  {
   "cell_type": "code",
   "execution_count": 51,
   "metadata": {},
   "outputs": [
    {
     "data": {
      "application/vnd.jupyter.widget-view+json": {
       "model_id": "61007ac207b74046b6fed645b6999433",
       "version_major": 2,
       "version_minor": 0
      },
      "text/plain": [
       "Pushing dataset shards to the dataset hub:   0%|          | 0/1 [00:00<?, ?it/s]"
      ]
     },
     "metadata": {},
     "output_type": "display_data"
    },
    {
     "data": {
      "application/vnd.jupyter.widget-view+json": {
       "model_id": "2cf9464ab96840c1a633c7395d8622d8",
       "version_major": 2,
       "version_minor": 0
      },
      "text/plain": [
       "Creating parquet from Arrow format:   0%|          | 0/2 [00:00<?, ?ba/s]"
      ]
     },
     "metadata": {},
     "output_type": "display_data"
    }
   ],
   "source": [
    "# dataset.push_to_hub(\"dim/forum_uristov_rf_prompts\", private=True)"
   ]
  },
  {
   "cell_type": "code",
   "execution_count": 2,
   "metadata": {},
   "outputs": [
    {
     "name": "stderr",
     "output_type": "stream",
     "text": [
      "Found cached dataset parquet (/home/kosenko/.cache/huggingface/datasets/dim___parquet/dim--forum_uristov_rf_prompts-2aab464e757ede42/0.0.0/2a3b91fbd88a2c90d1dbbb32b460cf621d31bd5b05b934492fdef7d8d6f236ec)\n"
     ]
    },
    {
     "data": {
      "application/vnd.jupyter.widget-view+json": {
       "model_id": "b941affea1f9406a9567e6c5ed9a3597",
       "version_major": 2,
       "version_minor": 0
      },
      "text/plain": [
       "  0%|          | 0/1 [00:00<?, ?it/s]"
      ]
     },
     "metadata": {},
     "output_type": "display_data"
    },
    {
     "data": {
      "text/plain": [
       "Dataset({\n",
       "    features: ['prompt', 'solution', 'link'],\n",
       "    num_rows: 1849\n",
       "})"
      ]
     },
     "execution_count": 2,
     "metadata": {},
     "output_type": "execute_result"
    }
   ],
   "source": [
    "from datasets import load_dataset, Dataset, concatenate_datasets\n",
    "\n",
    "dataset = load_dataset(\"dim/forum_uristov_rf_prompts\")\n",
    "dataset = dataset[\"train\"]\n",
    "dataset"
   ]
  },
  {
   "cell_type": "code",
   "execution_count": 5,
   "metadata": {},
   "outputs": [
    {
     "data": {
      "text/plain": [
       "{'prompt': 'Регион:\\xa0[Россия](/regiony/rossiya)\\xa0Я начала оплачивать 2 позиции на 900 р. Когда оплата прошла, я увидела, что с карты списалось 2500р. Я сразу же, написала в техподдержку и попросила отменить заказ, потому что в заказ включились позиции, которые я не планировала заказывать и оплачивать.\\r\\n\\r\\nНа что вайлдберис мне ответили:\\r\\n\"У нас нет функции Отмены заказа. Вы сможет отказаться от товаров только в пункте выдачи. При этом за каждую позицию мы удержим 150 р за доставку.\"\\r\\nЯ им пишу, что товар еще не отправлен, отмените его до отправки и не взымайте у меня стоимость допоставки. Зачем Вы мне навязываете услугу доставки, которая мне не нужна? \\r\\nОни отказываются отменять заказ до отправки. И навязывают мне оплатить доставку. При этом если я откажусь от 7 позиций, то сумма доставки будет 7\\\\*150 р - 1050р.\\r\\nРазве это не мошенничество? Почему в Интернет-магазине я не могу отказаться от товара, до его доставки? Почему меня вынуждают купить доставку?\\r\\nПри этом я смотрела ответ Роспотребнадзора на похожий случай, и он просто удивителен:\\r\\n\\r\\n\\r\\n\"Мария\\r\\nПри заказе товара на сайте магазина Wildberries товар по ошибке добавился в корзину трижды. Кнопки отмены или редактирования заказа в личном кабинете не было, поэтому я сразу же написала в техподдержку через форму на сайте (произошло это через несколько минут после покупки). Получила ответ, что отмена заказа невозможна и единственный способ отказаться от него - это дождаться доставки и оформить возврат ненужных товаров, заплатив по 100 рублей за каждый. На сайте магазина указано, что плата за возврат взимается для покрытия транспортных расходов на обратную доставку. Однако в моем случае никакой доставки не было, заказ даже еще не начали собирать, т. е. мне навязали ее принудительно. На каком основании магазин не позволяет отменить заказ, который еще не поступил в работу, и навязывает его доставку и платную отмену? Правомерны ли действия магазина? Прилагаю один из скринов переписки с поддержкой.\\r\\nОТВЕТЫ\\r\\n\\r\\nДобрый день! В связи с возросшим числом комментариев в социальных сетях о том, что некоторые потребители столкнулись с удержанием денежных средств за возврат некачественных товаров, Роспотребнадзор разъясняет: у потребителя есть право вернуть некачественный товар продавцу, в том числе через маркетплейс (который в терминологии Закона называется «владельцем агрегатора информации о товарах»). При возврате некачественного товара продавцы или маркетплейсы не могут взимать или удерживать денежные средства потребителей, поскольку именно на продавца законом возложена обязанность принять товар с недостатками и провести проверку качества, а также вернуть потребителю стоимость недоброкачественной вещи (если наличие недостатков подтвердилось). 30 января представители Wildberries подтвердили Роспотребнадзору, что в настоящее время компания ведет работу по автоматическому возврату денежных средств, списанных за обратную доставку бракованного товара. Отдельного обращения в службу поддержки не требуется, поскольку вся информация о заказах потребителей, по которым было подтверждено наличие брака, есть у торговой площадки. Жалобы обрабатываются в реальном времени, ответы по ним будут доведены до сведения заявителей. Указанная проблема могла возникнуть в связи с переходом компании на новый сервис возврата бракованных товаров. Представители Wildberries сообщили, что в целях повышения качества обслуживания в ближайшее время обращения по браку начнут обрабатываться продавцами самостоятельно. Поскольку компенсация потребителю стоимости обратной доставки в таких случаях будет осуществляться продавцом, это повысит их информированность о претензиях потребителей и заинтересованность в продаже более качественных товаров. Если покупатель будет не согласен с принятым продавцом решением, он сможет обжаловать его на портале. Также в компании сообщили, что программа ответственных покупок, запущенная в Wildberries с 2021 года, позволяет покупателям, которые возвращают мало вещей и имеют высокий процент выкупа, не оплачивать услугу обратной транспортировки качественных товаров, не подошедших по каким-либо причинам. Стандартная доставка товаров в большинство регионов осуществляется бесплатно. Учитывая повышенный интерес со стороны потребителей к изменениям привычных сервисов и уровня обслуживания, Роспотребнадзор в настоящее время уделяет повышенное внимание к ситуации с возвратом товаров и еще раз напоминает: 1. Возврат некачественных товаров не может сопровождаться требованием оплатить расходы на такой возврат (пункт 1 статьи 18 Закона «О защите прав потребителей»: по требованию продавца и за его счет потребитель должен возвратить товар с недостатками.). 2. Возврат качественных товаров (в течение 7 дней с момента передачи товара), приобретенных дистанционно, может сопровождаться взиманием платы (пункт 4 статьи 26.1 Закона «О защите прав потребителей»: при отказе потребителя от товара продавец должен возвратить ему денежную сумму, уплаченную потребителем по договору, за исключением расходов продавца на доставку от потребителя возвращенного товара, не позднее чем через десять дней со дня предъявления потребителем соответствующего требования). 3. Продавцы и маркетплейсы вправе только улучшить условия возврата товаров. 4. Любые попытки ухудшить положения потребителей пресекаются Роспотребнадзором в рамках установленных полномочий в строгом соответствии с законом. Ситуация остается на контроле Роспотребнадзора.\\r\\n\\r\\nРазве законом можно навязывать услуги людям? Это какой-то рэкет. В какие инстанции я могу написать?',\n",
       " 'solution': 'Вы вправе направить претензию и если ее не удовлетворят, то подать иск в суд',\n",
       " 'link': 'https://xn----dtbrojdkckkfj9k.xn--p1ai/content/vopros-pro-vayldberis'}"
      ]
     },
     "execution_count": 5,
     "metadata": {},
     "output_type": "execute_result"
    }
   ],
   "source": [
    "dataset[15]"
   ]
  }
 ],
 "metadata": {
  "kernelspec": {
   "display_name": "base",
   "language": "python",
   "name": "python3"
  },
  "language_info": {
   "codemirror_mode": {
    "name": "ipython",
    "version": 3
   },
   "file_extension": ".py",
   "mimetype": "text/x-python",
   "name": "python",
   "nbconvert_exporter": "python",
   "pygments_lexer": "ipython3",
   "version": "3.10.9"
  },
  "orig_nbformat": 4
 },
 "nbformat": 4,
 "nbformat_minor": 2
}
