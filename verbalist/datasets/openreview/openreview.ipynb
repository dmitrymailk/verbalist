{
 "cells": [
  {
   "cell_type": "markdown",
   "metadata": {},
   "source": [
    "### combine latex\n"
   ]
  },
  {
   "cell_type": "code",
   "execution_count": 4,
   "metadata": {},
   "outputs": [],
   "source": [
    "import requests\n",
    "import urllib.request\n",
    "from zipfile import ZipFile\n",
    "import os\n",
    "from pathlib import Path\n",
    "import tarfile\n",
    "\n",
    "# url = \"https://arxiv.org/abs/2204.04998\"\n",
    "url = \"https://arxiv.org/abs/2202.10855\"\n",
    "latex_source = url.replace(\"abs\", \"e-print\")\n",
    "zip_name = latex_source.split(\"e-print/\")[1]\n",
    "\n",
    "folder_path = f\"./verbalist/datasets/openreview/{zip_name}\"\n",
    "save_path = f\"{folder_path}.zip\"\n",
    "\n",
    "if not os.path.isfile(save_path):\n",
    "    urllib.request.urlretrieve(latex_source, save_path)\n",
    "    \n",
    "with tarfile.open(save_path) as zip_obj:\n",
    "    Path(folder_path).mkdir(exist_ok=True)\n",
    "    zip_obj.extractall(folder_path)"
   ]
  },
  {
   "cell_type": "code",
   "execution_count": null,
   "metadata": {},
   "outputs": [],
   "source": []
  }
 ],
 "metadata": {
  "kernelspec": {
   "display_name": "base",
   "language": "python",
   "name": "python3"
  },
  "language_info": {
   "codemirror_mode": {
    "name": "ipython",
    "version": 3
   },
   "file_extension": ".py",
   "mimetype": "text/x-python",
   "name": "python",
   "nbconvert_exporter": "python",
   "pygments_lexer": "ipython3",
   "version": "3.10.9"
  },
  "orig_nbformat": 4
 },
 "nbformat": 4,
 "nbformat_minor": 2
}
