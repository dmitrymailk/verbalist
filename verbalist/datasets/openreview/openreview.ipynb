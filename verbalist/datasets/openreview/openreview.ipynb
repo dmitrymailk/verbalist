{
 "cells": [
  {
   "cell_type": "markdown",
   "metadata": {},
   "source": [
    "### combine latex\n"
   ]
  },
  {
   "cell_type": "code",
   "execution_count": 34,
   "metadata": {},
   "outputs": [],
   "source": [
    "import requests\n",
    "import urllib.request\n",
    "from zipfile import ZipFile\n",
    "import os\n",
    "from pathlib import Path\n",
    "import tarfile"
   ]
  },
  {
   "cell_type": "code",
   "execution_count": 35,
   "metadata": {},
   "outputs": [],
   "source": [
    "import pandas as pd\n",
    "import json\n",
    "\n",
    "dataset = pd.read_csv(\"./verbalist/datasets/openreview/openreview.csv\")\n",
    "dataset = dataset[dataset[\"arxiv_link\"] != \"-\"]\n",
    "\n",
    "dataset = {item[\"paper_url\"].strip(): item for item in dataset.to_dict(\"records\")}\n",
    "\n",
    "with open(\"./verbalist/datasets/openreview/openreview.json\") as f:\n",
    "    json_dataset = json.load(f)\n",
    "\n",
    "\n",
    "json_dataset\n",
    "for item in json_dataset:\n",
    "    paper_url = item[\"paper_url\"]\n",
    "    if paper_url in dataset:\n",
    "        dataset[paper_url][\"reviews\"] = item[\"reviews\"]\n",
    "\n",
    "dataset = list(dataset.values())"
   ]
  },
  {
   "cell_type": "code",
   "execution_count": null,
   "metadata": {},
   "outputs": [],
   "source": [
    "dataset[0]"
   ]
  },
  {
   "cell_type": "code",
   "execution_count": 37,
   "metadata": {},
   "outputs": [],
   "source": [
    "def download_arxiv_paper(url):\n",
    "    latex_source = url.replace(\"abs\", \"e-print\")\n",
    "    zip_name = latex_source.split(\"e-print/\")[1]\n",
    "\n",
    "    folder_path = f\"./verbalist/datasets/openreview/papers/{zip_name}\"\n",
    "    save_path = f\"{folder_path}.zip\"\n",
    "\n",
    "    Path(folder_path).mkdir(exist_ok=True, parents=True)\n",
    "    \n",
    "    if not os.path.isfile(save_path):\n",
    "        urllib.request.urlretrieve(latex_source, save_path)\n",
    "\n",
    "    with tarfile.open(save_path) as zip_obj:\n",
    "        zip_obj.extractall(folder_path)\n",
    "    \n",
    "    os.remove(save_path)\n",
    "\n",
    "\n",
    "for item in dataset:\n",
    "    paper_url = item['arxiv_link']\n",
    "    # print(paper_url)\n",
    "    arxiv_url = download_arxiv_paper(url=paper_url)"
   ]
  }
 ],
 "metadata": {
  "kernelspec": {
   "display_name": "base",
   "language": "python",
   "name": "python3"
  },
  "language_info": {
   "codemirror_mode": {
    "name": "ipython",
    "version": 3
   },
   "file_extension": ".py",
   "mimetype": "text/x-python",
   "name": "python",
   "nbconvert_exporter": "python",
   "pygments_lexer": "ipython3",
   "version": "3.10.9"
  },
  "orig_nbformat": 4
 },
 "nbformat": 4,
 "nbformat_minor": 2
}
