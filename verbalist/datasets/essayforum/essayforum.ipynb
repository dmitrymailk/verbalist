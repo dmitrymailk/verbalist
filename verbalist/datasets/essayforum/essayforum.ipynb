{
 "cells": [
  {
   "cell_type": "code",
   "execution_count": 1,
   "metadata": {},
   "outputs": [
    {
     "name": "stderr",
     "output_type": "stream",
     "text": [
      "/home/kosenko/miniconda3/lib/python3.10/site-packages/tqdm/auto.py:21: TqdmWarning: IProgress not found. Please update jupyter and ipywidgets. See https://ipywidgets.readthedocs.io/en/stable/user_install.html\n",
      "  from .autonotebook import tqdm as notebook_tqdm\n"
     ]
    }
   ],
   "source": [
    "import requests\n",
    "from bs4 import BeautifulSoup\n",
    "import pandas as pd\n",
    "import markdownify\n",
    "import re\n",
    "from datasets import Dataset\n",
    "from tqdm import tqdm\n",
    "import itertools"
   ]
  },
  {
   "cell_type": "code",
   "execution_count": 82,
   "metadata": {},
   "outputs": [],
   "source": [
    "# url = \"https://essayforum.com/writing/average-cell-phone-national-fixed-87878/\"\n",
    "# url = \"https://essayforum.com/writing/people-think-students-study-science-food-94982/\"\n",
    "base_url = (\n",
    "    \"https://essayforum.com/writing/shortage-housing-big-cities-cause-severe-94815/\"\n",
    ")\n",
    "response = requests.get(url=base_url)\n",
    "soup = BeautifulSoup(response.text)\n",
    "all_messages = soup.find_all(\n",
    "    \"article\",\n",
    ")"
   ]
  },
  {
   "cell_type": "code",
   "execution_count": null,
   "metadata": {},
   "outputs": [],
   "source": [
    "import pprint\n",
    "\n",
    "pprint.pprint(str(all_messages[0]))"
   ]
  },
  {
   "cell_type": "code",
   "execution_count": 59,
   "metadata": {},
   "outputs": [
    {
     "data": {
      "text/plain": [
       "'Hazard'"
      ]
     },
     "execution_count": 59,
     "metadata": {},
     "output_type": "execute_result"
    }
   ],
   "source": [
    "author = all_messages[0].find(\"div\", \"fl\").find_all(\"a\")\n",
    "if len(author) > 0:\n",
    "    author = author[0].find(\"b\").text\n",
    "else:\n",
    "    author = all_messages[0].find(\"div\", \"fl\").text.replace(\"/\", \"\").strip()\n",
    "author"
   ]
  },
  {
   "cell_type": "code",
   "execution_count": 37,
   "metadata": {},
   "outputs": [
    {
     "data": {
      "text/plain": [
       "'3 hrs ago'"
      ]
     },
     "execution_count": 37,
     "metadata": {},
     "output_type": "execute_result"
    }
   ],
   "source": [
    "number = all_messages[0].find(\"div\", \"fr\").find(\"a\").text\n",
    "date = all_messages[0].find(\"div\", \"fr\").text.replace(number, \"\").strip()\n",
    "date"
   ]
  },
  {
   "cell_type": "code",
   "execution_count": null,
   "metadata": {},
   "outputs": [],
   "source": [
    "message = str(all_messages[0].find(\"div\", \"pTx\"))\n",
    "\n",
    "message = markdownify.markdownify(message, heading_style=\"ATX\")\n",
    "message = re.sub(\"\\!\\[\\]\\(\\w+.*\\)\", \"\", message).strip()\n",
    "print(message)"
   ]
  },
  {
   "cell_type": "code",
   "execution_count": null,
   "metadata": {},
   "outputs": [],
   "source": [
    "for message in all_messages:\n",
    "    author = message.find(\"div\", \"fl\").find(\"a\").find(\"b\").text.strip()\n",
    "    print(author)\n",
    "\n",
    "    number = all_messages[0].find(\"div\", \"fr\").find(\"a\").text\n",
    "    date = all_messages[0].find(\"div\", \"fr\").text.replace(number, \"\").strip()\n",
    "    print(date)\n",
    "\n",
    "    message = str(message.find(\"div\", \"pTx\"))\n",
    "    message = markdownify.markdownify(message, heading_style=\"ATX\")\n",
    "    message = re.sub(\"\\!\\[\\]\\(\\w+.*\\)\", \"\", message).strip()\n",
    "    print(message)\n",
    "    print(\"=\" * 100)\n",
    "    print(\"=\" * 100)"
   ]
  },
  {
   "cell_type": "code",
   "execution_count": 2,
   "metadata": {},
   "outputs": [
    {
     "name": "stderr",
     "output_type": "stream",
     "text": [
      "  0%|          | 0/10 [00:00<?, ?it/s]"
     ]
    },
    {
     "name": "stderr",
     "output_type": "stream",
     "text": [
      "/cephfs/home/kosenko/verbalist/verbalist/datasets/essayforum/essayforum.py:26: GuessedAtParserWarning: No parser was explicitly specified, so I'm using the best available HTML parser for this system (\"html.parser\"). This usually isn't a problem, but if you run this code on another system, or in a different virtual environment, it may use a different parser and behave differently.\n",
      "\n",
      "The code that caused this warning is on line 26 of the file /cephfs/home/kosenko/verbalist/verbalist/datasets/essayforum/essayforum.py. To get rid of this warning, pass the additional argument 'features=\"html.parser\"' to the BeautifulSoup constructor.\n",
      "\n",
      "  soup = BeautifulSoup(response.text)\n",
      "100%|██████████| 10/10 [00:04<00:00,  2.32it/s]\n"
     ]
    }
   ],
   "source": [
    "from verbalist.datasets.essayforum.essayforum import EssayForumMessagesParser\n",
    "\n",
    "\n",
    "links = pd.read_csv(\"./verbalist/datasets/essayforum/essayforum_writing_links.csv\")\n",
    "links = links.to_dict(\"records\")\n",
    "links = links[:10]\n",
    "\n",
    "parser = EssayForumMessagesParser(urls=links)\n",
    "parser.parse()"
   ]
  },
  {
   "cell_type": "code",
   "execution_count": 3,
   "metadata": {},
   "outputs": [
    {
     "data": {
      "text/plain": [
       "Dataset({\n",
       "    features: ['message', 'author', 'date', 'position', 'url', 'forum_type'],\n",
       "    num_rows: 13\n",
       "})"
      ]
     },
     "execution_count": 3,
     "metadata": {},
     "output_type": "execute_result"
    }
   ],
   "source": [
    "Dataset.from_list(parser.dataset)"
   ]
  },
  {
   "cell_type": "code",
   "execution_count": null,
   "metadata": {},
   "outputs": [],
   "source": [
    "parser.dataset"
   ]
  },
  {
   "cell_type": "markdown",
   "metadata": {},
   "source": [
    "### parse links\n"
   ]
  },
  {
   "cell_type": "code",
   "execution_count": 64,
   "metadata": {},
   "outputs": [],
   "source": [
    "base_url = \"https://essayforum.com/writing/2/\"\n",
    "response = requests.get(url=base_url)\n",
    "soup = BeautifulSoup(response.text)\n",
    "all_links = soup.find_all(\"a\", class_=\"txtNr\")"
   ]
  },
  {
   "cell_type": "code",
   "execution_count": 70,
   "metadata": {},
   "outputs": [
    {
     "data": {
      "text/plain": [
       "'https://essayforum.com/writing/discuss-view-give-opinion-zoo-closed-due-94830/'"
      ]
     },
     "execution_count": 70,
     "metadata": {},
     "output_type": "execute_result"
    }
   ],
   "source": [
    "all_links[0][\"href\"]"
   ]
  },
  {
   "cell_type": "code",
   "execution_count": 68,
   "metadata": {},
   "outputs": [
    {
     "data": {
      "text/plain": [
       "'478'"
      ]
     },
     "execution_count": 68,
     "metadata": {},
     "output_type": "execute_result"
    }
   ],
   "source": [
    "total_pages = soup.find_all(\"a\", class_=\"navCell\")[-1].text\n",
    "total_pages = int(total_pages)"
   ]
  },
  {
   "cell_type": "code",
   "execution_count": 73,
   "metadata": {},
   "outputs": [
    {
     "name": "stderr",
     "output_type": "stream",
     "text": [
      "100%|██████████| 478/478 [05:56<00:00,  1.34it/s]\n"
     ]
    }
   ],
   "source": [
    "from verbalist.datasets.essayforum.essayforum import EssayForumLinksParser\n",
    "\n",
    "links_parser = EssayForumLinksParser(urls=[\"https://essayforum.com/writing\"])\n",
    "links_parser.parse()"
   ]
  },
  {
   "cell_type": "code",
   "execution_count": 75,
   "metadata": {},
   "outputs": [
    {
     "data": {
      "text/plain": [
       "28669"
      ]
     },
     "execution_count": 75,
     "metadata": {},
     "output_type": "execute_result"
    }
   ],
   "source": [
    "len(links_parser.dataset)"
   ]
  },
  {
   "cell_type": "code",
   "execution_count": 77,
   "metadata": {},
   "outputs": [],
   "source": [
    "pd.DataFrame(links_parser.dataset).to_csv(\n",
    "    \"./verbalist/datasets/essayforum/essayforum_writing_links.csv\",\n",
    "    index=False,\n",
    ")"
   ]
  },
  {
   "cell_type": "markdown",
   "metadata": {},
   "source": [
    "### convert into prompts for llm\n"
   ]
  },
  {
   "cell_type": "code",
   "execution_count": 31,
   "metadata": {},
   "outputs": [
    {
     "name": "stderr",
     "output_type": "stream",
     "text": [
      "Found cached dataset parquet (/home/kosenko/.cache/huggingface/datasets/dim___parquet/dim--essayforum_writing_10k-208b845e5ffb772e/0.0.0/2a3b91fbd88a2c90d1dbbb32b460cf621d31bd5b05b934492fdef7d8d6f236ec)\n",
      "100%|██████████| 1/1 [00:00<00:00, 568.26it/s]\n"
     ]
    },
    {
     "data": {
      "text/html": [
       "<div>\n",
       "<style scoped>\n",
       "    .dataframe tbody tr th:only-of-type {\n",
       "        vertical-align: middle;\n",
       "    }\n",
       "\n",
       "    .dataframe tbody tr th {\n",
       "        vertical-align: top;\n",
       "    }\n",
       "\n",
       "    .dataframe thead th {\n",
       "        text-align: right;\n",
       "    }\n",
       "</style>\n",
       "<table border=\"1\" class=\"dataframe\">\n",
       "  <thead>\n",
       "    <tr style=\"text-align: right;\">\n",
       "      <th></th>\n",
       "      <th>message</th>\n",
       "      <th>author</th>\n",
       "      <th>date</th>\n",
       "      <th>position</th>\n",
       "      <th>url</th>\n",
       "      <th>forum_type</th>\n",
       "    </tr>\n",
       "  </thead>\n",
       "  <tbody>\n",
       "    <tr>\n",
       "      <th>0</th>\n",
       "      <td>## Some companies block their employees from u...</td>\n",
       "      <td>mrhuyprono1</td>\n",
       "      <td>Feb 4, 2023</td>\n",
       "      <td>0</td>\n",
       "      <td>https://essayforum.com/writing/toeic-part-comp...</td>\n",
       "      <td>essayforum.com_writing_</td>\n",
       "    </tr>\n",
       "    <tr>\n",
       "      <th>1</th>\n",
       "      <td>The presentation is not grammatically perfect ...</td>\n",
       "      <td>Holt</td>\n",
       "      <td>Feb 4, 2023</td>\n",
       "      <td>1</td>\n",
       "      <td>https://essayforum.com/writing/toeic-part-comp...</td>\n",
       "      <td>essayforum.com_writing_</td>\n",
       "    </tr>\n",
       "    <tr>\n",
       "      <th>2</th>\n",
       "      <td>***Some people believe that the personal infor...</td>\n",
       "      <td>Heo Nguyen</td>\n",
       "      <td>Jan 28, 2023</td>\n",
       "      <td>0</td>\n",
       "      <td>https://essayforum.com/writing/violent-crimina...</td>\n",
       "      <td>essayforum.com_writing_</td>\n",
       "    </tr>\n",
       "    <tr>\n",
       "      <th>3</th>\n",
       "      <td>It is a common belief  \\nA \"common belief\" can...</td>\n",
       "      <td>Holt</td>\n",
       "      <td>Jan 28, 2023</td>\n",
       "      <td>1</td>\n",
       "      <td>https://essayforum.com/writing/violent-crimina...</td>\n",
       "      <td>essayforum.com_writing_</td>\n",
       "    </tr>\n",
       "    <tr>\n",
       "      <th>4</th>\n",
       "      <td>Regarding the introduction, it is my view that...</td>\n",
       "      <td>Camtu25</td>\n",
       "      <td>Jan 28, 2023</td>\n",
       "      <td>2</td>\n",
       "      <td>https://essayforum.com/writing/violent-crimina...</td>\n",
       "      <td>essayforum.com_writing_</td>\n",
       "    </tr>\n",
       "  </tbody>\n",
       "</table>\n",
       "</div>"
      ],
      "text/plain": [
       "                                             message       author  \\\n",
       "0  ## Some companies block their employees from u...  mrhuyprono1   \n",
       "1  The presentation is not grammatically perfect ...         Holt   \n",
       "2  ***Some people believe that the personal infor...   Heo Nguyen   \n",
       "3  It is a common belief  \\nA \"common belief\" can...         Holt   \n",
       "4  Regarding the introduction, it is my view that...      Camtu25   \n",
       "\n",
       "           date  position                                                url  \\\n",
       "0   Feb 4, 2023         0  https://essayforum.com/writing/toeic-part-comp...   \n",
       "1   Feb 4, 2023         1  https://essayforum.com/writing/toeic-part-comp...   \n",
       "2  Jan 28, 2023         0  https://essayforum.com/writing/violent-crimina...   \n",
       "3  Jan 28, 2023         1  https://essayforum.com/writing/violent-crimina...   \n",
       "4  Jan 28, 2023         2  https://essayforum.com/writing/violent-crimina...   \n",
       "\n",
       "                forum_type  \n",
       "0  essayforum.com_writing_  \n",
       "1  essayforum.com_writing_  \n",
       "2  essayforum.com_writing_  \n",
       "3  essayforum.com_writing_  \n",
       "4  essayforum.com_writing_  "
      ]
     },
     "execution_count": 31,
     "metadata": {},
     "output_type": "execute_result"
    }
   ],
   "source": [
    "from datasets import load_dataset, Dataset\n",
    "\n",
    "dataset = load_dataset(\"dim/essayforum_writing_10k\")\n",
    "dataset = dataset[\"train\"].to_pandas()\n",
    "dataset.head(5)"
   ]
  },
  {
   "cell_type": "code",
   "execution_count": 32,
   "metadata": {},
   "outputs": [],
   "source": [
    "write_reviews = {}\n",
    "\n",
    "for i in range(len(dataset)):\n",
    "    url = dataset[\"url\"].iloc[i]\n",
    "    pos = dataset[\"position\"].iloc[i]\n",
    "    message = dataset[\"message\"].iloc[i]\n",
    "    author = dataset[\"author\"].iloc[i]\n",
    "    if url in write_reviews and author == \"Holt\":\n",
    "        write_reviews[url][\"answer\"] = message\n",
    "    elif not url in write_reviews:\n",
    "        write_reviews[url] = {}\n",
    "        write_reviews[url][\"prompt\"] = message\n",
    "\n",
    "write_reviews = list(write_reviews.values())\n",
    "write_reviews = [item for item in write_reviews if \"answer\" in item]\n",
    "# write_reviews"
   ]
  },
  {
   "cell_type": "code",
   "execution_count": 34,
   "metadata": {},
   "outputs": [],
   "source": [
    "Dataset.from_list(write_reviews).to_pandas().to_csv(\n",
    "    \"./verbalist/datasets/essayforum/essayforum_writing_prompts_6k.csv\",\n",
    "    index=False,\n",
    ")"
   ]
  },
  {
   "cell_type": "code",
   "execution_count": 36,
   "metadata": {},
   "outputs": [
    {
     "name": "stderr",
     "output_type": "stream",
     "text": [
      "Creating parquet from Arrow format: 100%|██████████| 7/7 [00:00<00:00, 94.95ba/s]\n",
      "Pushing dataset shards to the dataset hub: 100%|██████████| 1/1 [00:04<00:00,  4.21s/it]\n"
     ]
    }
   ],
   "source": [
    "Dataset.from_list(write_reviews).push_to_hub(\"dim/essayforum_writing_prompts_6k\")"
   ]
  },
  {
   "cell_type": "code",
   "execution_count": null,
   "metadata": {},
   "outputs": [],
   "source": [
    "Dataset.from_list(write_reviews).to_pandas()"
   ]
  },
  {
   "cell_type": "code",
   "execution_count": 1,
   "metadata": {},
   "outputs": [
    {
     "name": "stderr",
     "output_type": "stream",
     "text": [
      "/home/kosenko/miniconda3/lib/python3.10/site-packages/tqdm/auto.py:21: TqdmWarning: IProgress not found. Please update jupyter and ipywidgets. See https://ipywidgets.readthedocs.io/en/stable/user_install.html\n",
      "  from .autonotebook import tqdm as notebook_tqdm\n",
      "Downloading readme: 100%|██████████| 411/411 [00:00<00:00, 3.31MB/s]\n"
     ]
    },
    {
     "name": "stdout",
     "output_type": "stream",
     "text": [
      "Downloading and preparing dataset None/None to /home/kosenko/.cache/huggingface/datasets/dim___parquet/dim--essayforum_writing_prompts_6k-a911bbef273f1337/0.0.0/2a3b91fbd88a2c90d1dbbb32b460cf621d31bd5b05b934492fdef7d8d6f236ec...\n"
     ]
    },
    {
     "name": "stderr",
     "output_type": "stream",
     "text": [
      "Downloading data: 100%|██████████| 11.8M/11.8M [00:00<00:00, 13.8MB/s]\n",
      "Downloading data files: 100%|██████████| 1/1 [00:02<00:00,  2.49s/it]\n",
      "Extracting data files: 100%|██████████| 1/1 [00:00<00:00, 250.32it/s]\n",
      "                                                                       \r"
     ]
    },
    {
     "name": "stdout",
     "output_type": "stream",
     "text": [
      "Dataset parquet downloaded and prepared to /home/kosenko/.cache/huggingface/datasets/dim___parquet/dim--essayforum_writing_prompts_6k-a911bbef273f1337/0.0.0/2a3b91fbd88a2c90d1dbbb32b460cf621d31bd5b05b934492fdef7d8d6f236ec. Subsequent calls will reuse this data.\n"
     ]
    },
    {
     "name": "stderr",
     "output_type": "stream",
     "text": [
      "100%|██████████| 1/1 [00:00<00:00, 643.20it/s]\n"
     ]
    },
    {
     "data": {
      "text/plain": [
       "{'prompt': \"## Some companies block their employees from using social media network\\n\\n  \\n  \\nIn many corporations, despite its rules, staff cannot access social media platforms like Facebook, Twitter, and Instagram during working time. Personally, I totally agree with that decision. Indeed, prohibiting employees from using social media can help them avoid getting distracted, get more attention to their tasks, build real-life relationships with other employees, and lead to a result that boosts company performance.  \\n  \\nWithout a doubt, social media is a common source of interruption. For example, people can quickly get interested in something new that pops up in their newsfeed or their friend's messages when using Facebook. Some researchers said that you need an average of 20 minutes to get back to work when visiting social media platforms.  \\n  \\nSo that, if they are prohibited from using social media, employees will hardly get any other distraction sources in the office. For that reason, they clearly spend more time on work, and when needing the support of their colleagues, they must make real-life conversations with their co-workers. In the long path, it will decrease the time required for tasks and create friendly social behavior in the company and all of that benefits help the company thrives.  \\n  \\nIn conclusion, I think that restricting the use of social media networks in the workplace is a wise decision. Lots of managers realize the benefits when comparing the company's performance before and after publicizing that policy. I hope that blocking access to social media platforms when working will become more and more common in the future.  \\n  \\nShort brief: Prohibiting staff from using social media when working is a wise decision because it stops them from being distracted, reduces the time required for tasks, and improves the real-life relationship between co-workers.\",\n",
       " 'answer': 'The presentation is not grammatically perfect but works for the purpose of the writer. While there are some incorrect phrases and references used in the essay, it does not deter the reader from understanding the opinion of the writer. The fact that he uses public knowledge as references works well for the presentation. However, some personal experience information would have also been beneficial to the presentation since it would have balanced the discussion between public and personal throughout the paragraphs.  \\n  \\nSometimes the reasoning the writer provides feels incomplete. Paragraph 2 in particular, feels under developed. It could have used better experience and knowledge referencing to add to the impact of the explanation. It almost feels like the next paragraph was accidentally separated from the previous paragraph. Had the 2 paragraphs combined, the discussion would have been better developed.  \\n  \\nThe writer shows enough knowlege of everyday English words. The discussion feels natural to a limited extent. I believe the limitation was caused by the ESL writing method of the student. There are instances when he seems to have transliterated the sentences, leading to incorrect sentence formation. This can be overcome in the future through regular English language speaking and writing practice.'}"
      ]
     },
     "execution_count": 1,
     "metadata": {},
     "output_type": "execute_result"
    }
   ],
   "source": [
    "from datasets import load_dataset\n",
    "\n",
    "dataset = load_dataset(\"dim/essayforum_writing_prompts_6k\")\n",
    "dataset[\"train\"][0]"
   ]
  },
  {
   "cell_type": "markdown",
   "metadata": {},
   "source": [
    "### generate prompts with tasks, chatgpt\n"
   ]
  },
  {
   "cell_type": "code",
   "execution_count": 2,
   "metadata": {},
   "outputs": [],
   "source": [
    "import openai\n",
    "import pandas as pd\n",
    "import numpy as np\n",
    "import time\n",
    "\n",
    "openai.api_key = open(\"./chat_gpt_token\").read()"
   ]
  },
  {
   "cell_type": "code",
   "execution_count": 12,
   "metadata": {},
   "outputs": [
    {
     "name": "stdout",
     "output_type": "stream",
     "text": [
      "Hello! How can I assist you today?\n"
     ]
    }
   ],
   "source": [
    "def chat_with_chatgpt(prompt, model=\"gpt-3.5-turbo\"):\n",
    "    chat_completion = openai.ChatCompletion.create(\n",
    "        model=\"gpt-3.5-turbo\",\n",
    "        messages=[{\"role\": \"user\", \"content\": prompt}],\n",
    "        temperature=0.0,\n",
    "    )\n",
    "\n",
    "    return chat_completion[\"choices\"][0][\"message\"][\"content\"].strip()\n",
    "\n",
    "\n",
    "user_prompt = \"Hello world.\"\n",
    "chatbot_response = chat_with_chatgpt(user_prompt)\n",
    "print(chatbot_response)"
   ]
  },
  {
   "cell_type": "code",
   "execution_count": null,
   "metadata": {},
   "outputs": [],
   "source": [
    "from datasets import load_dataset\n",
    "\n",
    "dataset = load_dataset(\"dim/essayforum_writing_prompts_6k\")\n",
    "dataset = dataset[\"train\"]"
   ]
  },
  {
   "cell_type": "code",
   "execution_count": 9,
   "metadata": {},
   "outputs": [
    {
     "data": {
      "text/plain": [
       "{'prompt': \"## Some companies block their employees from using social media network\\n\\n  \\n  \\nIn many corporations, despite its rules, staff cannot access social media platforms like Facebook, Twitter, and Instagram during working time. Personally, I totally agree with that decision. Indeed, prohibiting employees from using social media can help them avoid getting distracted, get more attention to their tasks, build real-life relationships with other employees, and lead to a result that boosts company performance.  \\n  \\nWithout a doubt, social media is a common source of interruption. For example, people can quickly get interested in something new that pops up in their newsfeed or their friend's messages when using Facebook. Some researchers said that you need an average of 20 minutes to get back to work when visiting social media platforms.  \\n  \\nSo that, if they are prohibited from using social media, employees will hardly get any other distraction sources in the office. For that reason, they clearly spend more time on work, and when needing the support of their colleagues, they must make real-life conversations with their co-workers. In the long path, it will decrease the time required for tasks and create friendly social behavior in the company and all of that benefits help the company thrives.  \\n  \\nIn conclusion, I think that restricting the use of social media networks in the workplace is a wise decision. Lots of managers realize the benefits when comparing the company's performance before and after publicizing that policy. I hope that blocking access to social media platforms when working will become more and more common in the future.  \\n  \\nShort brief: Prohibiting staff from using social media when working is a wise decision because it stops them from being distracted, reduces the time required for tasks, and improves the real-life relationship between co-workers.\",\n",
       " 'answer': 'The presentation is not grammatically perfect but works for the purpose of the writer. While there are some incorrect phrases and references used in the essay, it does not deter the reader from understanding the opinion of the writer. The fact that he uses public knowledge as references works well for the presentation. However, some personal experience information would have also been beneficial to the presentation since it would have balanced the discussion between public and personal throughout the paragraphs.  \\n  \\nSometimes the reasoning the writer provides feels incomplete. Paragraph 2 in particular, feels under developed. It could have used better experience and knowledge referencing to add to the impact of the explanation. It almost feels like the next paragraph was accidentally separated from the previous paragraph. Had the 2 paragraphs combined, the discussion would have been better developed.  \\n  \\nThe writer shows enough knowlege of everyday English words. The discussion feels natural to a limited extent. I believe the limitation was caused by the ESL writing method of the student. There are instances when he seems to have transliterated the sentences, leading to incorrect sentence formation. This can be overcome in the future through regular English language speaking and writing practice.'}"
      ]
     },
     "execution_count": 9,
     "metadata": {},
     "output_type": "execute_result"
    }
   ],
   "source": [
    "dataset[0]"
   ]
  },
  {
   "cell_type": "code",
   "execution_count": 23,
   "metadata": {},
   "outputs": [
    {
     "name": "stdout",
     "output_type": "stream",
     "text": [
      "\n",
      "Essay: ## nitrogen oxide emission\n",
      "\n",
      "  \n",
      "  \n",
      "The given line chart provided comparison of the amount of nitrogen oxide released by diesel car, petrol car, lorries and buses. From an overall perspective, it is evident that buses and lorries are more pollutant than two remained cars. While diesel car and petrol car dispose the same amount of emission as the speed increase, the figure for buses and lorries fluctuate mildly.  \n",
      "  \n",
      "At the slowest level of pace, buses account for the highest amount of nitrogen oxide gas produced, at precisely 40 gam per kilometer. By contrast, lorries release nearly 33 gam per kilometer, which is slightly lower than buses but still much higher than other vehicles. The figure for diesel car and petrol car stands at approximately 7 g/k and 12g/k, respectively.  \n",
      "  \n",
      "With the speed increases from 10 to 130 kph, the nitrogen oxide waste of buses experiences an oscillation, with the amount of emission decreases to 22 g/k at 60 kph before goes up to 45 g/k at the maximum speed. Similarly, lorries saw a steadily fall in the emission when the speed increase to 90 kph, but bucks the trend with 7 g/k rise at 130 kmh. While the amount of diesel car emission slightly fell by 2 g/k at the fastest pace, the figure for petrol car witnesses a small increase to 13 g/k  \n",
      "  \n",
      "*\n",
      "Evaluation: Never forget to analyze the timeline provided in the image. There is always a clue as to whether this is a continuing process / measurement, previously completed task, or past measurement consideration. In this case, where no dates or years are mentioned, it is safe to use the present tense reference seeing as how these could be considered a continuing or ongoing task. This is a slight GRA inaccuracy and a partial C+C misanalysis on the part of the writer. He chose to use the incorrect time reference this time.  \n",
      "  \n",
      "There will be LR deductions in addition to increase GRA deductions due to lack of clarity in a sentence. When he wrote:  \n",
      "  \n",
      "slowest level of pace  \n",
      "he neglected to double check the meaning of the words level and pace. These are 2 different measurement references that cannot be used together due to the different measurement basis:  \n",
      "  \n",
      "level - having no part higher than another; having a flat or even surface.  \n",
      "  \n",
      "pace - a rate of activity, progress, growth, performance  \n",
      "  \n",
      "Therefore the reference should be \"slowest pace\" since it refers to the speed of the line graph presentation.  \n",
      "  \n",
      "Most of the problems the writer has are in reference to word usage, sentence structure, and how these relate to the clarity of the presentation. He must work on improving these areas next time.\n",
      "\n",
      "write a prompt based on 'Essay' and 'Evaluation' that asks to evaluate the essay. Answer only prompt.\n",
      "\n",
      "====================================================================================================\n",
      "====================================================================================================\n",
      "Evaluate the essay based on the given prompt and provide your analysis.\n"
     ]
    }
   ],
   "source": [
    "num = 80\n",
    "question = dataset[num][\"prompt\"]\n",
    "solution = dataset[num][\"answer\"]\n",
    "\n",
    "input_text = f\"\"\"\n",
    "Essay: {question}\n",
    "Evaluation: {solution}\n",
    "\n",
    "write a prompt based on 'Essay' and 'Evaluation' that asks to evaluate the essay. Answer only prompt.\n",
    "\"\"\"\n",
    "print(input_text)\n",
    "chatbot_response = chat_with_chatgpt(input_text)\n",
    "print(\"=\" * 100)\n",
    "print(\"=\" * 100)\n",
    "print(chatbot_response)"
   ]
  },
  {
   "cell_type": "code",
   "execution_count": 15,
   "metadata": {},
   "outputs": [
    {
     "name": "stdout",
     "output_type": "stream",
     "text": [
      "Prompt: On a scale of 1-10, rate the essay based on its clarity, organization, and use of evidence to support the argument. Justify your rating with specific examples from the essay and evaluation.\n"
     ]
    }
   ],
   "source": []
  },
  {
   "cell_type": "code",
   "execution_count": 28,
   "metadata": {},
   "outputs": [],
   "source": [
    "evaluation_prompts = [\n",
    "    \"rate the essay based on its clarity, organization, and use of evidence to support the argument. Justify your rating with specific examples from the essay and evaluation.\",\n",
    "    \"Rate the essay based on the clarity of the writer's opinion, development of reasoning paragraphs, and effectiveness of the concluding summary.\",\n",
    "    \"Rate the essay based on the writer's ability to present a clear and cohesive argument, provide relevant examples and reasoning, and effectively address the topic.\",\n",
    "    \"Evaluate the essay provided in terms of coherence, cohesiveness, and the appropriateness of the response to the given question.\",\n",
    "    \"Evaluate the essay by discussing its strengths and weaknesses.\",\n",
    "    \"Evaluate the essay provided above. Assess the writer's ability to follow the given instructions and provide a well-structured and coherent response.\",\n",
    "    \"Evaluate the essay based on the given prompt and provide your analysis.\",\n",
    "    \"Please rate the essay based on how clear it is, how well it is organized, and how effectively it uses evidence to support the argument. Please justify your rating with specific examples from the essay and your evaluation.\",\n",
    "    \"Hey there! Can you please rate this essay for me? I'd like you to consider how clear it is, how well it's organized, and how effectively it uses evidence to support its argument. It would be great if you could back up your rating with specific examples from the essay and explain your evaluation. Thanks a bunch!\",\n",
    "    \"Rate the essay based on how clear the writer's opinion is, how well they develop their reasoning paragraphs, and how effective their concluding summary is.\",\n",
    "    \"Rate the essay based on the writer's ability to present a clear and cohesive argument, provide relevant examples and reasoning, and effectively address the topic. Can you do that for me, please?\",\n",
    "    \"Hey there! Can you please take a look at this essay and tell me what you think about its coherence, cohesiveness, and how well it responds to the given question? Thanks!\",\n",
    "    \"Hey there! Can you take a look at this essay and give me your thoughts on it? I'd love to hear about its strengths and weaknesses.\",\n",
    "    \"Can you please evaluate the essay above? I want to know if the writer followed the instructions properly and if their response is well-structured and coherent.\",\n",
    "    \"hey, can you read this essay and tell me what you think?\",\n",
    "]"
   ]
  },
  {
   "cell_type": "code",
   "execution_count": 27,
   "metadata": {},
   "outputs": [
    {
     "name": "stdout",
     "output_type": "stream",
     "text": [
      "rate the essay based on its clarity, organization, and use of evidence to support the argument. Justify your rating with specific examples from the essay and evaluation.\n",
      "====================================================================================================\n",
      "Hey there! Can you please rate this essay for me? I'd like you to consider how clear it is, how well it's organized, and how effectively it uses evidence to support its argument. It would be great if you could back up your rating with specific examples from the essay and explain your evaluation. Thanks a bunch!\n",
      "====================================================================================================\n",
      "====================================================================================================\n",
      "Rate the essay based on the clarity of the writer's opinion, development of reasoning paragraphs, and effectiveness of the concluding summary.\n",
      "====================================================================================================\n",
      "Rate the essay based on how clear the writer's opinion is, how well they develop their reasoning paragraphs, and how effective their concluding summary is.\n",
      "====================================================================================================\n",
      "====================================================================================================\n",
      "Rate the essay based on the writer's ability to present a clear and cohesive argument, provide relevant examples and reasoning, and effectively address the topic.\n",
      "====================================================================================================\n",
      "Rate the essay based on the writer's ability to present a clear and cohesive argument, provide relevant examples and reasoning, and effectively address the topic. Can you do that for me, please?\n",
      "====================================================================================================\n",
      "====================================================================================================\n",
      "Evaluate the essay provided in terms of coherence, cohesiveness, and the appropriateness of the response to the given question.\n",
      "====================================================================================================\n",
      "Hey there! Can you please take a look at this essay and tell me what you think about its coherence, cohesiveness, and how well it responds to the given question? Thanks!\n",
      "====================================================================================================\n",
      "====================================================================================================\n",
      "Evaluate the essay by discussing its strengths and weaknesses.\n",
      "====================================================================================================\n",
      "Hey there! Can you take a look at this essay and give me your thoughts on it? I'd love to hear about its strengths and weaknesses.\n",
      "====================================================================================================\n",
      "====================================================================================================\n",
      "Evaluate the essay provided above. Assess the writer's ability to follow the given instructions and provide a well-structured and coherent response.\n",
      "====================================================================================================\n",
      "Can you please evaluate the essay above? I want to know if the writer followed the instructions properly and if their response is well-structured and coherent.\n",
      "====================================================================================================\n",
      "====================================================================================================\n",
      "Evaluate the essay based on the given prompt and provide your analysis.\n",
      "====================================================================================================\n",
      "Prompt: hey, can you read this essay and tell me what you think?\n",
      "====================================================================================================\n",
      "====================================================================================================\n"
     ]
    }
   ],
   "source": [
    "for prompt in evaluation_prompts:\n",
    "    # prompt = evaluation_prompts[0]\n",
    "    input_text = f\"\"\"\n",
    "\tPrompt: {prompt}\n",
    "\n",
    "\tMake this prompt more human like. You can add small letters, errors and everything you want.\n",
    "\t\"\"\"\n",
    "    print(prompt)\n",
    "    print(\"=\" * 100)\n",
    "    chatbot_response = chat_with_chatgpt(input_text)\n",
    "    print(chatbot_response)\n",
    "    print(\"=\" * 100)\n",
    "    print(\"=\" * 100)"
   ]
  },
  {
   "cell_type": "code",
   "execution_count": 30,
   "metadata": {},
   "outputs": [],
   "source": [
    "summarized_prompts = []\n",
    "for prompt in evaluation_prompts:\n",
    "    # prompt = evaluation_prompts[0]\n",
    "    input_text = f\"\"\"\n",
    "\tPrompt: {prompt}\n",
    "\n",
    "\tSummarize this prompt in 4-8 words.\n",
    "\t\"\"\"\n",
    "    # print(prompt)\n",
    "    # print(\"=\"*100)\n",
    "    chatbot_response = chat_with_chatgpt(input_text)\n",
    "    summarized_prompts.append(chatbot_response)\n",
    "    # print(chatbot_response)\n",
    "    # print(\"=\"*100)\n",
    "    # print(\"=\"*100)"
   ]
  },
  {
   "cell_type": "code",
   "execution_count": 31,
   "metadata": {},
   "outputs": [
    {
     "data": {
      "text/plain": [
       "['Rate essay on clarity, organization, and evidence.',\n",
       " 'Rate essay on clarity, development, and conclusion.',\n",
       " 'Rate essay on clarity, examples, reasoning, and topic.',\n",
       " 'Evaluate coherence, cohesiveness, and appropriateness of essay.',\n",
       " \"Evaluate essay's strengths and weaknesses.\",\n",
       " 'Evaluate essay structure and coherence.',\n",
       " 'Evaluate and analyze an essay based on a prompt.',\n",
       " 'Rating essay clarity, organization, and evidence usage.',\n",
       " 'Rate essay on clarity, organization, and evidence.',\n",
       " 'Rate essay on clarity, reasoning development, and conclusion.',\n",
       " 'Rate essay on clarity, examples, reasoning, and addressing topic.',\n",
       " 'Prompt summary: Evaluate essay coherence, cohesiveness, and relevance.',\n",
       " \"Evaluate essay's strengths and weaknesses.\",\n",
       " 'Evaluate essay structure and coherence.',\n",
       " 'Request for feedback on an essay.']"
      ]
     },
     "execution_count": 31,
     "metadata": {},
     "output_type": "execute_result"
    }
   ],
   "source": [
    "summarized_prompts"
   ]
  },
  {
   "cell_type": "code",
   "execution_count": 33,
   "metadata": {},
   "outputs": [
    {
     "data": {
      "text/plain": [
       "['rate the essay based on its clarity, organization, and use of evidence to support the argument. Justify your rating with specific examples from the essay and evaluation.',\n",
       " \"Rate the essay based on the clarity of the writer's opinion, development of reasoning paragraphs, and effectiveness of the concluding summary.\",\n",
       " \"Rate the essay based on the writer's ability to present a clear and cohesive argument, provide relevant examples and reasoning, and effectively address the topic.\",\n",
       " 'Evaluate the essay provided in terms of coherence, cohesiveness, and the appropriateness of the response to the given question.',\n",
       " 'Evaluate the essay by discussing its strengths and weaknesses.',\n",
       " \"Evaluate the essay provided above. Assess the writer's ability to follow the given instructions and provide a well-structured and coherent response.\",\n",
       " 'Evaluate the essay based on the given prompt and provide your analysis.',\n",
       " 'Please rate the essay based on how clear it is, how well it is organized, and how effectively it uses evidence to support the argument. Please justify your rating with specific examples from the essay and your evaluation.',\n",
       " \"Hey there! Can you please rate this essay for me? I'd like you to consider how clear it is, how well it's organized, and how effectively it uses evidence to support its argument. It would be great if you could back up your rating with specific examples from the essay and explain your evaluation. Thanks a bunch!\",\n",
       " \"Rate the essay based on how clear the writer's opinion is, how well they develop their reasoning paragraphs, and how effective their concluding summary is.\",\n",
       " \"Rate the essay based on the writer's ability to present a clear and cohesive argument, provide relevant examples and reasoning, and effectively address the topic. Can you do that for me, please?\",\n",
       " 'Hey there! Can you please take a look at this essay and tell me what you think about its coherence, cohesiveness, and how well it responds to the given question? Thanks!',\n",
       " \"Hey there! Can you take a look at this essay and give me your thoughts on it? I'd love to hear about its strengths and weaknesses.\",\n",
       " 'Can you please evaluate the essay above? I want to know if the writer followed the instructions properly and if their response is well-structured and coherent.',\n",
       " 'hey, can you read this essay and tell me what you think?',\n",
       " 'Rate essay on clarity, organization, and evidence.',\n",
       " 'Rate essay on clarity, development, and conclusion.',\n",
       " 'Rate essay on clarity, examples, reasoning, and topic.',\n",
       " 'Evaluate coherence, cohesiveness, and appropriateness of essay.',\n",
       " \"Evaluate essay's strengths and weaknesses.\",\n",
       " 'Evaluate essay structure and coherence.',\n",
       " 'Evaluate and analyze an essay based on a prompt.',\n",
       " 'Rating essay clarity, organization, and evidence usage.',\n",
       " 'Rate essay on clarity, organization, and evidence.',\n",
       " 'Rate essay on clarity, reasoning development, and conclusion.',\n",
       " 'Rate essay on clarity, examples, reasoning, and addressing topic.',\n",
       " 'Prompt summary: Evaluate essay coherence, cohesiveness, and relevance.',\n",
       " \"Evaluate essay's strengths and weaknesses.\",\n",
       " 'Evaluate essay structure and coherence.',\n",
       " 'Request for feedback on an essay.']"
      ]
     },
     "execution_count": 33,
     "metadata": {},
     "output_type": "execute_result"
    }
   ],
   "source": [
    "evaluation_prompts + summarized_prompts"
   ]
  },
  {
   "cell_type": "code",
   "execution_count": null,
   "metadata": {},
   "outputs": [],
   "source": [
    "selected_prompts = [\n",
    "    \"rate the essay based on its clarity, organization, and use of evidence to support the argument. Justify your rating with specific examples from the essay and evaluation.\",\n",
    "    \"Rate the essay based on the clarity of the writer's opinion, development of reasoning paragraphs, and effectiveness of the concluding summary.\",\n",
    "    \"Rate the essay based on the writer's ability to present a clear and cohesive argument, provide relevant examples and reasoning, and effectively address the topic.\",\n",
    "    \"Evaluate the essay provided in terms of coherence, cohesiveness, and the appropriateness of the response to the given question.\",\n",
    "    \"Evaluate the essay by discussing its strengths and weaknesses.\",\n",
    "    \"Evaluate the essay provided above. Assess the writer's ability to follow the given instructions and provide a well-structured and coherent response.\",\n",
    "    \"Evaluate the essay based on the given prompt and provide your analysis.\",\n",
    "    \"Please rate the essay based on how clear it is, how well it is organized, and how effectively it uses evidence to support the argument. Please justify your rating with specific examples from the essay and your evaluation.\",\n",
    "    \"Hey there! Can you please rate this essay for me? I'd like you to consider how clear it is, how well it's organized, and how effectively it uses evidence to support its argument. It would be great if you could back up your rating with specific examples from the essay and explain your evaluation. Thanks a bunch!\",\n",
    "    \"Rate the essay based on how clear the writer's opinion is, how well they develop their reasoning paragraphs, and how effective their concluding summary is.\",\n",
    "    \"Rate the essay based on the writer's ability to present a clear and cohesive argument, provide relevant examples and reasoning, and effectively address the topic. Can you do that for me, please?\",\n",
    "    \"Hey there! Can you please take a look at this essay and tell me what you think about its coherence, cohesiveness, and how well it responds to the given question? Thanks!\",\n",
    "    \"Hey there! Can you take a look at this essay and give me your thoughts on it? I'd love to hear about its strengths and weaknesses.\",\n",
    "    \"Can you please evaluate the essay above? I want to know if the writer followed the instructions properly and if their response is well-structured and coherent.\",\n",
    "    \"hey, can you read this essay and tell me what you think?\",\n",
    "    \"Rate essay on clarity, organization, and evidence.\",\n",
    "    \"Rate essay on clarity, development, and conclusion.\",\n",
    "    \"Rate essay on clarity, examples, reasoning, and topic.\",\n",
    "    \"Evaluate coherence, cohesiveness, and appropriateness of essay.\",\n",
    "    \"Evaluate essay's strengths and weaknesses.\",\n",
    "    \"Evaluate essay structure and coherence.\",\n",
    "    \"Evaluate and analyze an essay based on a prompt.\",\n",
    "    \"Rating essay clarity, organization, and evidence usage.\",\n",
    "    \"Rate essay on clarity, organization, and evidence.\",\n",
    "    \"Rate essay on clarity, reasoning development, and conclusion.\",\n",
    "    \"Rate essay on clarity, examples, reasoning, and addressing topic.\",\n",
    "    \"Prompt summary: Evaluate essay coherence, cohesiveness, and relevance.\",\n",
    "    \"Evaluate essay's strengths and weaknesses.\",\n",
    "    \"Evaluate essay structure and coherence.\",\n",
    "    \"Request for feedback on an essay.\",\n",
    "    'evaluate this essay',\n",
    "    'evaluate essay',\n",
    "    'rate essay',\n",
    "]\n",
    "\n"
   ]
  }
 ],
 "metadata": {
  "kernelspec": {
   "display_name": "base",
   "language": "python",
   "name": "python3"
  },
  "language_info": {
   "codemirror_mode": {
    "name": "ipython",
    "version": 3
   },
   "file_extension": ".py",
   "mimetype": "text/x-python",
   "name": "python",
   "nbconvert_exporter": "python",
   "pygments_lexer": "ipython3",
   "version": "3.10.9"
  },
  "orig_nbformat": 4
 },
 "nbformat": 4,
 "nbformat_minor": 2
}
