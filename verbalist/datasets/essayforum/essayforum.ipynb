{
 "cells": [
  {
   "cell_type": "code",
   "execution_count": 72,
   "metadata": {},
   "outputs": [],
   "source": [
    "import requests\n",
    "from bs4 import BeautifulSoup\n",
    "import pandas as pd\n",
    "import markdownify\n",
    "import re\n",
    "from tqdm import tqdm"
   ]
  },
  {
   "cell_type": "code",
   "execution_count": 58,
   "metadata": {},
   "outputs": [],
   "source": [
    "# url = \"https://essayforum.com/writing/average-cell-phone-national-fixed-87878/\"\n",
    "# url = \"https://essayforum.com/writing/people-think-students-study-science-food-94982/\"\n",
    "base_url = (\n",
    "    \"https://essayforum.com/writing/shortage-housing-big-cities-cause-severe-94815/\"\n",
    ")\n",
    "response = requests.get(url=base_url)\n",
    "soup = BeautifulSoup(response.text)\n",
    "all_messages = soup.find_all(\n",
    "    \"article\",\n",
    ")"
   ]
  },
  {
   "cell_type": "code",
   "execution_count": null,
   "metadata": {},
   "outputs": [],
   "source": [
    "import pprint\n",
    "\n",
    "pprint.pprint(str(all_messages[0]))"
   ]
  },
  {
   "cell_type": "code",
   "execution_count": 59,
   "metadata": {},
   "outputs": [
    {
     "data": {
      "text/plain": [
       "'Hazard'"
      ]
     },
     "execution_count": 59,
     "metadata": {},
     "output_type": "execute_result"
    }
   ],
   "source": [
    "author = all_messages[0].find(\"div\", \"fl\").find_all(\"a\")\n",
    "if len(author) > 0:\n",
    "    author = author[0].find(\"b\").text\n",
    "else:\n",
    "    author = all_messages[0].find(\"div\", \"fl\").text.replace(\"/\", \"\").strip()\n",
    "author"
   ]
  },
  {
   "cell_type": "code",
   "execution_count": 37,
   "metadata": {},
   "outputs": [
    {
     "data": {
      "text/plain": [
       "'3 hrs ago'"
      ]
     },
     "execution_count": 37,
     "metadata": {},
     "output_type": "execute_result"
    }
   ],
   "source": [
    "number = all_messages[0].find(\"div\", \"fr\").find(\"a\").text\n",
    "date = all_messages[0].find(\"div\", \"fr\").text.replace(number, \"\").strip()\n",
    "date"
   ]
  },
  {
   "cell_type": "code",
   "execution_count": null,
   "metadata": {},
   "outputs": [],
   "source": [
    "message = str(all_messages[0].find(\"div\", \"pTx\"))\n",
    "\n",
    "message = markdownify.markdownify(message, heading_style=\"ATX\")\n",
    "message = re.sub(\"\\!\\[\\]\\(\\w+.*\\)\", \"\", message).strip()\n",
    "print(message)"
   ]
  },
  {
   "cell_type": "code",
   "execution_count": 41,
   "metadata": {},
   "outputs": [
    {
     "name": "stdout",
     "output_type": "stream",
     "text": [
      "huong1234\n",
      "Jul 27, 2023\n",
      "## Many women are choosing to have children later in life.\n",
      "\n",
      "  \n",
      "***Why is this? Do the advantages outweigh the disadvantages?***  \n",
      "  \n",
      "In modern society, there has been a major concern about the increasing number of women choosing to delay pregnancy. This essay attempts to depict plausible causes and shed light on both the merits and demerits of this phenomenon.  \n",
      "  \n",
      "In the past, most wives relied on the breadwinner-their husband, and stayed at home to do chores, give birth, and raise their children. Throughout industrial evolution, a number of changes have been made in the role of women in society, in which they have the right to make decisions themselves. Especially in democratic regions, this equality between genders has been considerably enhanced, which decisively raises the awareness of women about their own rights, leading to widespread non-child tendency in this sex. Moreover, due to globalization, the potential opportunities in occupations and education have been expanded to allow numerous women to spend their lifespans taking part in and pursuing their own ambitions and careers.  \n",
      "  \n",
      "Regarding the advantages of this change, this delay may significantly improve women's satisfaction and fulfillment on the grounds that they can land the chance to follow their own path instead of the stereotypical lifestyles of the past. It is refutable that the more individuals participate in the job market, the larger the workforce a country has, which then leads to the rising development of a thriving economy. On the other hand, having children late may result in a decline in the annual birth rate of nations, which means the young workforce in the foreseeable future will fall significantly. In addition, owing to the sexual characteristics of women, a number of related health risks are likely to occur if they become pregnant in old age.  \n",
      "  \n",
      "In conclusion, the main precursors to the increasing number of women giving birth late are equality in modern society and the expansion of job and education opportunities. Although this phenomenon bestows enormous advantages upon women and countries through their well-being and contributions to economic growth, it is undeniable that it may result in a fall in birth rates and higher risks to their welfare.\n",
      "====================================================================================================\n",
      "====================================================================================================\n",
      "Holt\n",
      "Jul 27, 2023\n",
      "Your prompt restatement and writer's opinion paragraph will receive a failing score. You failed to accurately represent the original topic, then followed error up with an empty reference to the writing instructions rather than establishing a thesis sentence. There is no basis for your succeeding discussion representations. You cannot receive a score for this paragraph. You never established if you saw this as an advantage or disadvantage so you failed to meet the opinion requirement for the paragraph.  \n",
      "  \n",
      "The paragraphs would benefit from the use of anchor topics as the first sentence. That will help establish the clarity of the presentation paragraph based on the subject of the presentation. You have not given clearly discussed paragraphs here. It takes you too long to get to the point of the paragraph. You cannot expect to receive a passing score when your C+C section is not going to receive a passing consideration.\n",
      "====================================================================================================\n",
      "====================================================================================================\n"
     ]
    }
   ],
   "source": [
    "for message in all_messages:\n",
    "    author = message.find(\"div\", \"fl\").find(\"a\").find(\"b\").text.strip()\n",
    "    print(author)\n",
    "\n",
    "    number = all_messages[0].find(\"div\", \"fr\").find(\"a\").text\n",
    "    date = all_messages[0].find(\"div\", \"fr\").text.replace(number, \"\").strip()\n",
    "    print(date)\n",
    "\n",
    "    message = str(message.find(\"div\", \"pTx\"))\n",
    "    message = markdownify.markdownify(message, heading_style=\"ATX\")\n",
    "    message = re.sub(\"\\!\\[\\]\\(\\w+.*\\)\", \"\", message).strip()\n",
    "    print(message)\n",
    "    print(\"=\" * 100)\n",
    "    print(\"=\" * 100)"
   ]
  },
  {
   "cell_type": "code",
   "execution_count": 62,
   "metadata": {},
   "outputs": [],
   "source": [
    "class EssayForumMessagesParser:\n",
    "    def __init__(self, urls) -> None:\n",
    "        self.urls = [\n",
    "            \"https://essayforum.com/writing/increasing-number-women-choosing-delay-94853/\",\n",
    "            \"https://essayforum.com/writing/shortage-housing-big-cities-cause-severe-94815/\",\n",
    "        ]\n",
    "\n",
    "        self.dataset = []\n",
    "\n",
    "    def parse(self):\n",
    "        for url in self.urls:\n",
    "            response = requests.get(url=url)\n",
    "            soup = BeautifulSoup(response.text)\n",
    "            all_messages = soup.find_all(\"article\")\n",
    "            dataset_item = []\n",
    "            for pos, message in enumerate(all_messages):\n",
    "                author = message.find(\"div\", \"fl\").find_all(\"a\")\n",
    "                if len(author) > 0:\n",
    "                    author = author[0].find(\"b\").text\n",
    "                else:\n",
    "                    author = message.find(\"div\", \"fl\").text.replace(\"/\", \"\").strip()\n",
    "                # print(author)\n",
    "\n",
    "                number = all_messages[0].find(\"div\", \"fr\").find(\"a\").text\n",
    "                date = (\n",
    "                    all_messages[0].find(\"div\", \"fr\").text.replace(number, \"\").strip()\n",
    "                )\n",
    "                # print(date)\n",
    "\n",
    "                message = str(message.find(\"div\", \"pTx\"))\n",
    "                message = markdownify.markdownify(message, heading_style=\"ATX\")\n",
    "                message = re.sub(\"\\!\\[\\]\\(\\w+.*\\)\", \"\", message).strip()\n",
    "                # print(message)\n",
    "                # print(\"=\" * 100)\n",
    "                # print(\"=\" * 100)\n",
    "                dataset_item.append(\n",
    "                    {\n",
    "                        \"message\": message,\n",
    "                        \"author\": author,\n",
    "                        \"date\": date,\n",
    "                        \"position\": pos,\n",
    "                        \"url\": url,\n",
    "                    }\n",
    "                )\n",
    "\n",
    "            self.dataset.append(dataset_item)\n",
    "\n",
    "\n",
    "parser = EssayForumMessagesParser(urls=[])\n",
    "parser.parse()"
   ]
  },
  {
   "cell_type": "code",
   "execution_count": 63,
   "metadata": {},
   "outputs": [
    {
     "data": {
      "text/plain": [
       "[[{'message': \"## Many women are choosing to have children later in life.\\n\\n  \\n***Why is this? Do the advantages outweigh the disadvantages?***  \\n  \\nIn modern society, there has been a major concern about the increasing number of women choosing to delay pregnancy. This essay attempts to depict plausible causes and shed light on both the merits and demerits of this phenomenon.  \\n  \\nIn the past, most wives relied on the breadwinner-their husband, and stayed at home to do chores, give birth, and raise their children. Throughout industrial evolution, a number of changes have been made in the role of women in society, in which they have the right to make decisions themselves. Especially in democratic regions, this equality between genders has been considerably enhanced, which decisively raises the awareness of women about their own rights, leading to widespread non-child tendency in this sex. Moreover, due to globalization, the potential opportunities in occupations and education have been expanded to allow numerous women to spend their lifespans taking part in and pursuing their own ambitions and careers.  \\n  \\nRegarding the advantages of this change, this delay may significantly improve women's satisfaction and fulfillment on the grounds that they can land the chance to follow their own path instead of the stereotypical lifestyles of the past. It is refutable that the more individuals participate in the job market, the larger the workforce a country has, which then leads to the rising development of a thriving economy. On the other hand, having children late may result in a decline in the annual birth rate of nations, which means the young workforce in the foreseeable future will fall significantly. In addition, owing to the sexual characteristics of women, a number of related health risks are likely to occur if they become pregnant in old age.  \\n  \\nIn conclusion, the main precursors to the increasing number of women giving birth late are equality in modern society and the expansion of job and education opportunities. Although this phenomenon bestows enormous advantages upon women and countries through their well-being and contributions to economic growth, it is undeniable that it may result in a fall in birth rates and higher risks to their welfare.\",\n",
       "   'author': 'huong1234',\n",
       "   'date': 'Jul 27, 2023',\n",
       "   'position': 0,\n",
       "   'url': 'https://essayforum.com/writing/increasing-number-women-choosing-delay-94853/'},\n",
       "  {'message': \"Your prompt restatement and writer's opinion paragraph will receive a failing score. You failed to accurately represent the original topic, then followed error up with an empty reference to the writing instructions rather than establishing a thesis sentence. There is no basis for your succeeding discussion representations. You cannot receive a score for this paragraph. You never established if you saw this as an advantage or disadvantage so you failed to meet the opinion requirement for the paragraph.  \\n  \\nThe paragraphs would benefit from the use of anchor topics as the first sentence. That will help establish the clarity of the presentation paragraph based on the subject of the presentation. You have not given clearly discussed paragraphs here. It takes you too long to get to the point of the paragraph. You cannot expect to receive a passing score when your C+C section is not going to receive a passing consideration.\",\n",
       "   'author': 'Holt',\n",
       "   'date': 'Jul 27, 2023',\n",
       "   'position': 1,\n",
       "   'url': 'https://essayforum.com/writing/increasing-number-women-choosing-delay-94853/'}],\n",
       " [{'message': \"**IELTS task 2:  \\n*The shortage of housing in big cities can cause severe consequences, and only government action can solve the problem***.  \\n## To what extent do you agree or disagree?\\n\\n  \\n  \\nThere is an ongoing debate whether the national authorities are the only option to solve the shortage of housing in cities whereas this role could be done by private companies. While I acknowledge the good customer service of these housing companies bring for individuals, I absolutely agree with the notion due to the important role of government in providing affordable and reliable housing for people.  \\n  \\nOn the one hand, housing companies could play a crucial role in solving housing issue, which may cause severe consequences in big cities. These companies could provide people with good customer housing service as the existence of these private companies rely on customer satisfaction. Thus, the service of the houses, which were built by these companies, may be better, such as more spacious living place, have security personnel and parking lot. Moreover, residents of such house could easier to lodge their complaint if the companies did not provide them service in contract due to the credibility of these private companies, which is the vital element for their existence, may be tarnished.  \\n  \\nAs the quality also come with price, thus the housing price of these companies can be unaffordable for the low-income people. Therefore, the national authorities still play an important role in providing houses for general people. The government houses are cheaper due to the fact that it was subside by the authorities as the result, make it available for underprivileged people. For example: In communist countries like VietNam house price was subside 10% for the low-income people. Furthermore, the reliability of governmental house is trustworthy as these houses are under the administration of the national authorities. As the result, these houses are protected by the government and people may secure when buying these houses  \\n  \\nIn conclusion, despite the good customer service that the private housing companies can provide for people, nothing could replace the authorities' role in solving housing problems as they could provide houses for a general people. However, it is ideal to provide houses, made by government and housing companies, as people can have more options to choose an appropriate house  \\n  \\nThank you\",\n",
       "   'author': 'Hazard',\n",
       "   'date': 'Jul 23, 2023',\n",
       "   'position': 0,\n",
       "   'url': 'https://essayforum.com/writing/shortage-housing-big-cities-cause-severe-94815/'},\n",
       "  {'message': \"this role could be done by private companies  \\nYou are making an assumption in the prompt restatement that is not cited in the original presentation. As such, this has led to a misleading restatement, that has affected the efficiency of your paraphrasing. You will receive a score markdown for including information that cannot be supported by the original statement. If this is a personal opinion, then you should include it in the writer's opinion section instead.  \\n  \\nThe overall discussion does not run along the lines of discussion as provided by the original prompt either. That is because the essay continues to discuss private company participation, where none was referred to before. As such, this essay will be scored as having an unrelated response and will not receive a passing score.\",\n",
       "   'author': 'Holt',\n",
       "   'date': 'Jul 23, 2023',\n",
       "   'position': 1,\n",
       "   'url': 'https://essayforum.com/writing/shortage-housing-big-cities-cause-severe-94815/'}]]"
      ]
     },
     "execution_count": 63,
     "metadata": {},
     "output_type": "execute_result"
    }
   ],
   "source": [
    "parser.dataset"
   ]
  },
  {
   "cell_type": "markdown",
   "metadata": {},
   "source": [
    "### parse links\n"
   ]
  },
  {
   "cell_type": "code",
   "execution_count": 64,
   "metadata": {},
   "outputs": [],
   "source": [
    "base_url = \"https://essayforum.com/writing/2/\"\n",
    "response = requests.get(url=base_url)\n",
    "soup = BeautifulSoup(response.text)\n",
    "all_links = soup.find_all(\"a\", class_=\"txtNr\")"
   ]
  },
  {
   "cell_type": "code",
   "execution_count": 70,
   "metadata": {},
   "outputs": [
    {
     "data": {
      "text/plain": [
       "'https://essayforum.com/writing/discuss-view-give-opinion-zoo-closed-due-94830/'"
      ]
     },
     "execution_count": 70,
     "metadata": {},
     "output_type": "execute_result"
    }
   ],
   "source": [
    "all_links[0][\"href\"]"
   ]
  },
  {
   "cell_type": "code",
   "execution_count": 68,
   "metadata": {},
   "outputs": [
    {
     "data": {
      "text/plain": [
       "'478'"
      ]
     },
     "execution_count": 68,
     "metadata": {},
     "output_type": "execute_result"
    }
   ],
   "source": [
    "total_pages = soup.find_all(\"a\", class_=\"navCell\")[-1].text\n",
    "total_pages = int(total_pages)"
   ]
  },
  {
   "cell_type": "code",
   "execution_count": 73,
   "metadata": {},
   "outputs": [
    {
     "name": "stderr",
     "output_type": "stream",
     "text": [
      "100%|██████████| 478/478 [05:56<00:00,  1.34it/s]\n"
     ]
    }
   ],
   "source": [
    "class EssayForumLinksParser:\n",
    "    def __init__(self, urls) -> None:\n",
    "        self.base_urls = urls\n",
    "\n",
    "        self.dataset = []\n",
    "\n",
    "    def parse(self):\n",
    "        for base_url in self.base_urls:\n",
    "            response = requests.get(url=base_url)\n",
    "            soup = BeautifulSoup(response.text)\n",
    "\n",
    "            total_pages = soup.find_all(\"a\", class_=\"navCell\")[-1].text\n",
    "            total_pages = int(total_pages)\n",
    "\n",
    "            forum_type = base_url.replace(\"https://\", \"\")\n",
    "            forum_type = forum_type.replace(\"/\", \"_\")\n",
    "\n",
    "            for pos in tqdm(range(1, total_pages + 1)):\n",
    "                url = f\"{base_url}/{pos}\"\n",
    "                response = requests.get(url=url)\n",
    "                soup = BeautifulSoup(response.text)\n",
    "                all_links = soup.find_all(\"a\", class_=\"txtNr\")\n",
    "\n",
    "                for link in all_links:\n",
    "                    self.dataset.append({\"forum_type\": forum_type, \"url\": link[\"href\"]})\n",
    "\n",
    "\n",
    "links_parser = EssayForumLinksParser(urls=[\"https://essayforum.com/writing\"])\n",
    "links_parser.parse()"
   ]
  },
  {
   "cell_type": "code",
   "execution_count": 75,
   "metadata": {},
   "outputs": [
    {
     "data": {
      "text/plain": [
       "28669"
      ]
     },
     "execution_count": 75,
     "metadata": {},
     "output_type": "execute_result"
    }
   ],
   "source": [
    "len(links_parser.dataset)"
   ]
  },
  {
   "cell_type": "code",
   "execution_count": 77,
   "metadata": {},
   "outputs": [],
   "source": [
    "pd.DataFrame(links_parser.dataset).to_csv(\n",
    "    \"./verbalist/datasets/essayforum/essayforum_writing_links.csv\",\n",
    "    index=False,\n",
    ")"
   ]
  }
 ],
 "metadata": {
  "kernelspec": {
   "display_name": "base",
   "language": "python",
   "name": "python3"
  },
  "language_info": {
   "codemirror_mode": {
    "name": "ipython",
    "version": 3
   },
   "file_extension": ".py",
   "mimetype": "text/x-python",
   "name": "python",
   "nbconvert_exporter": "python",
   "pygments_lexer": "ipython3",
   "version": "3.10.9"
  },
  "orig_nbformat": 4
 },
 "nbformat": 4,
 "nbformat_minor": 2
}
