{
 "cells": [
  {
   "cell_type": "code",
   "execution_count": 1,
   "metadata": {},
   "outputs": [
    {
     "data": {
      "application/vnd.jupyter.widget-view+json": {
       "model_id": "4c9e47a9aa4148a1a8dd67075bade584",
       "version_major": 2,
       "version_minor": 0
      },
      "text/plain": [
       "Downloading readme:   0%|          | 0.00/597 [00:00<?, ?B/s]"
      ]
     },
     "metadata": {},
     "output_type": "display_data"
    },
    {
     "name": "stdout",
     "output_type": "stream",
     "text": [
      "Downloading and preparing dataset json/its5Q--panorama to /home/kosenko/.cache/huggingface/datasets/its5Q___json/its5Q--panorama-370002eb339cf36c/0.0.0/fe5dd6ea2639a6df622901539cb550cf8797e5a6b2dd7af1cf934bed8e233e6e...\n"
     ]
    },
    {
     "data": {
      "application/vnd.jupyter.widget-view+json": {
       "model_id": "c19931ccf6454427ba08a800167f3c35",
       "version_major": 2,
       "version_minor": 0
      },
      "text/plain": [
       "Downloading data files:   0%|          | 0/1 [00:00<?, ?it/s]"
      ]
     },
     "metadata": {},
     "output_type": "display_data"
    },
    {
     "data": {
      "application/vnd.jupyter.widget-view+json": {
       "model_id": "35673dee6fba46ce8b49f58b047e5c80",
       "version_major": 2,
       "version_minor": 0
      },
      "text/plain": [
       "Downloading data:   0%|          | 0.00/28.2M [00:00<?, ?B/s]"
      ]
     },
     "metadata": {},
     "output_type": "display_data"
    },
    {
     "data": {
      "application/vnd.jupyter.widget-view+json": {
       "model_id": "8cabfdb80a0b4469a8a325ec7a9ef5b4",
       "version_major": 2,
       "version_minor": 0
      },
      "text/plain": [
       "Extracting data files:   0%|          | 0/1 [00:00<?, ?it/s]"
      ]
     },
     "metadata": {},
     "output_type": "display_data"
    },
    {
     "data": {
      "application/vnd.jupyter.widget-view+json": {
       "model_id": "a14c1e892acd483cba3882e9c1495c7b",
       "version_major": 2,
       "version_minor": 0
      },
      "text/plain": [
       "Generating train split: 0 examples [00:00, ? examples/s]"
      ]
     },
     "metadata": {},
     "output_type": "display_data"
    },
    {
     "name": "stdout",
     "output_type": "stream",
     "text": [
      "Dataset json downloaded and prepared to /home/kosenko/.cache/huggingface/datasets/its5Q___json/its5Q--panorama-370002eb339cf36c/0.0.0/fe5dd6ea2639a6df622901539cb550cf8797e5a6b2dd7af1cf934bed8e233e6e. Subsequent calls will reuse this data.\n"
     ]
    },
    {
     "data": {
      "application/vnd.jupyter.widget-view+json": {
       "model_id": "6d0f5c4a4f3d480f9cb69eee78e489c9",
       "version_major": 2,
       "version_minor": 0
      },
      "text/plain": [
       "  0%|          | 0/1 [00:00<?, ?it/s]"
      ]
     },
     "metadata": {},
     "output_type": "display_data"
    },
    {
     "data": {
      "text/plain": [
       "Dataset({\n",
       "    features: ['title', 'body'],\n",
       "    num_rows: 11024\n",
       "})"
      ]
     },
     "execution_count": 1,
     "metadata": {},
     "output_type": "execute_result"
    }
   ],
   "source": [
    "from datasets import load_dataset, Dataset, concatenate_datasets\n",
    "\n",
    "dataset = load_dataset(\"its5Q/panorama\")\n",
    "dataset = dataset[\"train\"]\n",
    "dataset"
   ]
  },
  {
   "cell_type": "code",
   "execution_count": 5,
   "metadata": {},
   "outputs": [
    {
     "name": "stderr",
     "output_type": "stream",
     "text": [
      "Loading cached split indices for dataset at /home/kosenko/.cache/huggingface/datasets/its5Q___json/its5Q--panorama-370002eb339cf36c/0.0.0/fe5dd6ea2639a6df622901539cb550cf8797e5a6b2dd7af1cf934bed8e233e6e/cache-e9d740ccb87f7a15.arrow and /home/kosenko/.cache/huggingface/datasets/its5Q___json/its5Q--panorama-370002eb339cf36c/0.0.0/fe5dd6ea2639a6df622901539cb550cf8797e5a6b2dd7af1cf934bed8e233e6e/cache-bb33bfba0c5a868d.arrow\n"
     ]
    },
    {
     "data": {
      "text/plain": [
       "Dataset({\n",
       "    features: ['title', 'body'],\n",
       "    num_rows: 5000\n",
       "})"
      ]
     },
     "execution_count": 5,
     "metadata": {},
     "output_type": "execute_result"
    }
   ],
   "source": [
    "dataset = dataset.train_test_split(test_size=5000, seed=42)\n",
    "dataset = dataset[\"test\"]\n",
    "dataset"
   ]
  },
  {
   "cell_type": "code",
   "execution_count": 3,
   "metadata": {},
   "outputs": [],
   "source": [
    "new_dataset = []\n",
    "\n",
    "for item in dataset:\n",
    "    title = item[\"title\"]\n",
    "    text = item[\"body\"]\n",
    "    prompt = f\"напиши новость в стиле панорамы для заголовка: {title}\"\n",
    "    new_dataset.append(\n",
    "        {\n",
    "            \"prompt\": prompt,\n",
    "            \"title\": title,\n",
    "            \"text\": text,\n",
    "        }\n",
    "    )"
   ]
  },
  {
   "cell_type": "code",
   "execution_count": 4,
   "metadata": {},
   "outputs": [
    {
     "data": {
      "text/plain": [
       "11024"
      ]
     },
     "execution_count": 4,
     "metadata": {},
     "output_type": "execute_result"
    }
   ],
   "source": [
    "len(new_dataset)"
   ]
  },
  {
   "cell_type": "code",
   "execution_count": 5,
   "metadata": {},
   "outputs": [
    {
     "data": {
      "text/plain": [
       "{'prompt': 'напиши новость в стиле панорамы для заголовка: Школьник из Нового Уренгоя выступит с покаятельной речью на открытии Олимпиады-2018',\n",
       " 'title': 'Школьник из Нового Уренгоя выступит с покаятельной речью на открытии Олимпиады-2018',\n",
       " 'text': 'Ученик новоуренгойской гимназии №1 Николай Десятниченко выступит с речью на церемонии открытия зимних Олимпийских игр, которые состоятся в феврале 2018 года в южнокорейском Пхёнчхане. Об этом сообщил Президент МОК Томас Бах.\\n\"Меня очень впечатлило выступление этого замечательного парня в Бундестаге, когда он один смог покаяться от лица всей нации. Радует, что в России есть люди, которые не боятся брать на себя ответственность за преступления своих соотечественников. Для этого требуется проявить огромную храбрость, сравнимую с мировыми рекордами спортсменов\" - заявил руководитель МОК.\\nПо словам Баха, речь для выступления уже пишется пресс-службой МОК и фондом Сороса. В качестве основных тезисов планируется полное признание государственной допинговой программы в России и извинения перед МОК и олимпийцами государств, которые не смогли завоевать медали по вине \"мошенников из России\".\\nРедакции ИА \"Панорама\" не удалось связаться с Николаем Десятниченко, но его друзья сообщили нам, что \"Коля уже приготовил олимпийский флаг, с которым планирует сфотографироваться на фоне олимпийской деревни Пхёнчана\".'}"
      ]
     },
     "execution_count": 5,
     "metadata": {},
     "output_type": "execute_result"
    }
   ],
   "source": [
    "new_dataset[10]"
   ]
  },
  {
   "cell_type": "code",
   "execution_count": 6,
   "metadata": {},
   "outputs": [
    {
     "data": {
      "application/vnd.jupyter.widget-view+json": {
       "model_id": "62f82e9cc3374b93972c8e527bba7b72",
       "version_major": 2,
       "version_minor": 0
      },
      "text/plain": [
       "Pushing dataset shards to the dataset hub:   0%|          | 0/1 [00:00<?, ?it/s]"
      ]
     },
     "metadata": {},
     "output_type": "display_data"
    },
    {
     "data": {
      "application/vnd.jupyter.widget-view+json": {
       "model_id": "6c0b34320c354225b185d26a278d57b0",
       "version_major": 2,
       "version_minor": 0
      },
      "text/plain": [
       "Creating parquet from Arrow format:   0%|          | 0/12 [00:00<?, ?ba/s]"
      ]
     },
     "metadata": {},
     "output_type": "display_data"
    }
   ],
   "source": [
    "new_dataset = Dataset.from_list(new_dataset)\n",
    "new_dataset.push_to_hub(\"dim/panorama_prompts_10k\", private=True)"
   ]
  },
  {
   "cell_type": "code",
   "execution_count": 1,
   "metadata": {},
   "outputs": [
    {
     "name": "stderr",
     "output_type": "stream",
     "text": [
      "/home/kosenko/miniconda3/lib/python3.10/site-packages/tqdm/auto.py:21: TqdmWarning: IProgress not found. Please update jupyter and ipywidgets. See https://ipywidgets.readthedocs.io/en/stable/user_install.html\n",
      "  from .autonotebook import tqdm as notebook_tqdm\n",
      "Downloading readme: 100%|██████████| 429/429 [00:00<00:00, 3.50MB/s]\n"
     ]
    },
    {
     "name": "stdout",
     "output_type": "stream",
     "text": [
      "Downloading and preparing dataset None/None to /home/kosenko/.cache/huggingface/datasets/dim___parquet/dim--panorama_prompts-a191c48bc8bf407b/0.0.0/2a3b91fbd88a2c90d1dbbb32b460cf621d31bd5b05b934492fdef7d8d6f236ec...\n"
     ]
    },
    {
     "name": "stderr",
     "output_type": "stream",
     "text": [
      "Downloading data: 100%|██████████| 7.18M/7.18M [00:00<00:00, 11.4MB/s]\n",
      "Downloading data files: 100%|██████████| 1/1 [00:01<00:00,  1.90s/it]\n",
      "Extracting data files: 100%|██████████| 1/1 [00:00<00:00, 242.59it/s]\n",
      "                                                                       \r"
     ]
    },
    {
     "name": "stdout",
     "output_type": "stream",
     "text": [
      "Dataset parquet downloaded and prepared to /home/kosenko/.cache/huggingface/datasets/dim___parquet/dim--panorama_prompts-a191c48bc8bf407b/0.0.0/2a3b91fbd88a2c90d1dbbb32b460cf621d31bd5b05b934492fdef7d8d6f236ec. Subsequent calls will reuse this data.\n"
     ]
    },
    {
     "name": "stderr",
     "output_type": "stream",
     "text": [
      "100%|██████████| 1/1 [00:00<00:00, 708.50it/s]\n"
     ]
    },
    {
     "data": {
      "text/plain": [
       "{'prompt': 'напиши новость в стиле панорамы для заголовка: Депутаты жалуются на двойников, принимающих иностранное подданство',\n",
       " 'title': 'Депутаты жалуются на двойников, принимающих иностранное подданство',\n",
       " 'text': 'Более 20 депутатов Госдумы написали пояснительные записки на имя главы парламентского комитета по борьбе с иностранным вмешательством во внутренние дела России Алексея Мельникова. Парламентарии указали, что информация, опубликованная в зарубежных и отечественных СМИ о наличии у них иностранных паспортов, не является достоверной, а документы принадлежат иным лицам с их именами и фамилиями.\\nПарламентарии добавляют, что, помимо непосредственно документов, их деловая репутация пострадала от действий двойников, приобретавших недвижимость и переводивших на банковские счета крупные суммы денег из России. Некоторые парламентарии подчеркнули, что имеют фальшивые паспорта стран ЕС, чтобы легче передвигаться по европейским государствам, в том числе для участия в заседаниях Парламентской ассамблеи Совета Европы.\\nВ соответствии с указанными фактами Госдума планирует обратиться в Роскомнадзор с требованием заблокировать порочащую честь российского парламентария информацию и вынести предупреждение ресурсам, распространявшим её. При повторном нарушении доступ к таким сайт будет закрыт на территории России навсегда.\\nМинистерство иностранных дел РФ осудило политику иностранных государств, направленную на массовое создание двойников российских парламентариев и чиновников, и отметило недопустимость нарушения Конституции России.'}"
      ]
     },
     "execution_count": 1,
     "metadata": {},
     "output_type": "execute_result"
    }
   ],
   "source": [
    "from datasets import load_dataset\n",
    "\n",
    "dataset = load_dataset(\"dim/panorama_prompts\")\n",
    "dataset = dataset[\"train\"]\n",
    "dataset[104]"
   ]
  }
 ],
 "metadata": {
  "kernelspec": {
   "display_name": "base",
   "language": "python",
   "name": "python3"
  },
  "language_info": {
   "codemirror_mode": {
    "name": "ipython",
    "version": 3
   },
   "file_extension": ".py",
   "mimetype": "text/x-python",
   "name": "python",
   "nbconvert_exporter": "python",
   "pygments_lexer": "ipython3",
   "version": "3.10.9"
  },
  "orig_nbformat": 4
 },
 "nbformat": 4,
 "nbformat_minor": 2
}
