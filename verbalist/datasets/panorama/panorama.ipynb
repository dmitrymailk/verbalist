{
 "cells": [
  {
   "cell_type": "code",
   "execution_count": 4,
   "metadata": {},
   "outputs": [
    {
     "name": "stderr",
     "output_type": "stream",
     "text": [
      "Found cached dataset json (/home/kosenko/.cache/huggingface/datasets/its5Q___json/its5Q--panorama-370002eb339cf36c/0.0.0/fe5dd6ea2639a6df622901539cb550cf8797e5a6b2dd7af1cf934bed8e233e6e)\n",
      "100%|██████████| 1/1 [00:00<00:00, 619.82it/s]\n"
     ]
    },
    {
     "data": {
      "text/plain": [
       "Dataset({\n",
       "    features: ['title', 'body'],\n",
       "    num_rows: 11024\n",
       "})"
      ]
     },
     "execution_count": 4,
     "metadata": {},
     "output_type": "execute_result"
    }
   ],
   "source": [
    "from datasets import load_dataset, Dataset, concatenate_datasets\n",
    "\n",
    "dataset = load_dataset(\"its5Q/panorama\")\n",
    "dataset = dataset[\"train\"]\n",
    "dataset"
   ]
  },
  {
   "cell_type": "code",
   "execution_count": 5,
   "metadata": {},
   "outputs": [
    {
     "name": "stderr",
     "output_type": "stream",
     "text": [
      "Loading cached split indices for dataset at /home/kosenko/.cache/huggingface/datasets/its5Q___json/its5Q--panorama-370002eb339cf36c/0.0.0/fe5dd6ea2639a6df622901539cb550cf8797e5a6b2dd7af1cf934bed8e233e6e/cache-e9d740ccb87f7a15.arrow and /home/kosenko/.cache/huggingface/datasets/its5Q___json/its5Q--panorama-370002eb339cf36c/0.0.0/fe5dd6ea2639a6df622901539cb550cf8797e5a6b2dd7af1cf934bed8e233e6e/cache-bb33bfba0c5a868d.arrow\n"
     ]
    },
    {
     "data": {
      "text/plain": [
       "Dataset({\n",
       "    features: ['title', 'body'],\n",
       "    num_rows: 5000\n",
       "})"
      ]
     },
     "execution_count": 5,
     "metadata": {},
     "output_type": "execute_result"
    }
   ],
   "source": [
    "dataset = dataset.train_test_split(test_size=5000, seed=42)\n",
    "dataset = dataset[\"test\"]\n",
    "dataset"
   ]
  },
  {
   "cell_type": "code",
   "execution_count": 6,
   "metadata": {},
   "outputs": [],
   "source": [
    "new_dataset = []\n",
    "\n",
    "for item in dataset:\n",
    "    title = item[\"title\"]\n",
    "    text = item[\"body\"]\n",
    "    prompt = f\"напиши новость в стиле панорамы для заголовка: {title}\"\n",
    "    new_dataset.append(\n",
    "        {\n",
    "            \"prompt\": prompt,\n",
    "            \"title\": title,\n",
    "            \"text\": text,\n",
    "        }\n",
    "    )"
   ]
  },
  {
   "cell_type": "code",
   "execution_count": 7,
   "metadata": {},
   "outputs": [
    {
     "data": {
      "text/plain": [
       "5000"
      ]
     },
     "execution_count": 7,
     "metadata": {},
     "output_type": "execute_result"
    }
   ],
   "source": [
    "len(new_dataset)"
   ]
  },
  {
   "cell_type": "code",
   "execution_count": 8,
   "metadata": {},
   "outputs": [
    {
     "data": {
      "text/plain": [
       "{'prompt': 'напиши новость в стиле панорамы для заголовка: Лукашенко требует ограничить долю \"КАМАЗа\" на российском рынке',\n",
       " 'title': 'Лукашенко требует ограничить долю \"КАМАЗа\" на российском рынке',\n",
       " 'text': 'Президент Белоруссии Александр Лукашенко в рамках избирательной кампании представил новую протекционистскую стратегию по поддержке белорусских предприятий. Впервые документ говорит не только о внутреннем рынке, но и предполагает защиту производителей на внешних рынках.\\nОсновным рынком, судя из документа, для белорусской продукции вновь останется Россия, при этом Минск рассчитывает увеличить свою долю. Отдельного внимания заслужили производители грузовых автомобилей и автобусов: Белаз и МАЗ, которым, по мнению Лукашенко, мешает развиваться \"КАМАЗ\". Для устранения такого недоразумения глава государства потребовал от российского Минпромторга ограничить долю производителя на рынке России. В противном случае он обещает \"КАМАЗу\" проблемы со сбытом и обслуживанием в Белоруссии.\\n\"Мы ведь союзное государство или как? Неужели наш Белаз или МАЗ хуже \"КАМАЗа\"? Вот вы спросите любого в Жодино. Он вам расскажет. Почему же в России их не берут? Потому что всё заточено под \"КАМАЗ\". Ну ладно, пусть будет, но нужно ограничить его долю на рынке. Должно же быть уважение к нашим белорусским мужикам, которые день и ночь горбатятся. Мы долго терпели, но сил уже нет. Если потребуется, примем санкции\", - сказал Лукашенко.'}"
      ]
     },
     "execution_count": 8,
     "metadata": {},
     "output_type": "execute_result"
    }
   ],
   "source": [
    "new_dataset[10]"
   ]
  },
  {
   "cell_type": "code",
   "execution_count": 9,
   "metadata": {},
   "outputs": [
    {
     "name": "stderr",
     "output_type": "stream",
     "text": [
      "Creating parquet from Arrow format: 100%|██████████| 5/5 [00:00<00:00, 102.27ba/s]\n",
      "Pushing dataset shards to the dataset hub: 100%|██████████| 1/1 [00:03<00:00,  3.19s/it]\n"
     ]
    }
   ],
   "source": [
    "new_dataset = Dataset.from_list(new_dataset)\n",
    "new_dataset.push_to_hub(\"dim/panorama_prompts\")"
   ]
  }
 ],
 "metadata": {
  "kernelspec": {
   "display_name": "base",
   "language": "python",
   "name": "python3"
  },
  "language_info": {
   "codemirror_mode": {
    "name": "ipython",
    "version": 3
   },
   "file_extension": ".py",
   "mimetype": "text/x-python",
   "name": "python",
   "nbconvert_exporter": "python",
   "pygments_lexer": "ipython3",
   "version": "3.10.9"
  },
  "orig_nbformat": 4
 },
 "nbformat": 4,
 "nbformat_minor": 2
}
