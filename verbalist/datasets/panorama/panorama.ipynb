{
 "cells": [
  {
   "cell_type": "code",
   "execution_count": 4,
   "metadata": {},
   "outputs": [
    {
     "name": "stderr",
     "output_type": "stream",
     "text": [
      "Found cached dataset json (/home/kosenko/.cache/huggingface/datasets/its5Q___json/its5Q--panorama-370002eb339cf36c/0.0.0/fe5dd6ea2639a6df622901539cb550cf8797e5a6b2dd7af1cf934bed8e233e6e)\n",
      "100%|██████████| 1/1 [00:00<00:00, 619.82it/s]\n"
     ]
    },
    {
     "data": {
      "text/plain": [
       "Dataset({\n",
       "    features: ['title', 'body'],\n",
       "    num_rows: 11024\n",
       "})"
      ]
     },
     "execution_count": 4,
     "metadata": {},
     "output_type": "execute_result"
    }
   ],
   "source": [
    "from datasets import load_dataset, Dataset, concatenate_datasets\n",
    "\n",
    "dataset = load_dataset(\"its5Q/panorama\")\n",
    "dataset = dataset[\"train\"]\n",
    "dataset"
   ]
  },
  {
   "cell_type": "code",
   "execution_count": 5,
   "metadata": {},
   "outputs": [
    {
     "name": "stderr",
     "output_type": "stream",
     "text": [
      "Loading cached split indices for dataset at /home/kosenko/.cache/huggingface/datasets/its5Q___json/its5Q--panorama-370002eb339cf36c/0.0.0/fe5dd6ea2639a6df622901539cb550cf8797e5a6b2dd7af1cf934bed8e233e6e/cache-e9d740ccb87f7a15.arrow and /home/kosenko/.cache/huggingface/datasets/its5Q___json/its5Q--panorama-370002eb339cf36c/0.0.0/fe5dd6ea2639a6df622901539cb550cf8797e5a6b2dd7af1cf934bed8e233e6e/cache-bb33bfba0c5a868d.arrow\n"
     ]
    },
    {
     "data": {
      "text/plain": [
       "Dataset({\n",
       "    features: ['title', 'body'],\n",
       "    num_rows: 5000\n",
       "})"
      ]
     },
     "execution_count": 5,
     "metadata": {},
     "output_type": "execute_result"
    }
   ],
   "source": [
    "dataset = dataset.train_test_split(test_size=5000, seed=42)\n",
    "dataset = dataset[\"test\"]\n",
    "dataset"
   ]
  },
  {
   "cell_type": "code",
   "execution_count": 6,
   "metadata": {},
   "outputs": [],
   "source": [
    "new_dataset = []\n",
    "\n",
    "for item in dataset:\n",
    "    title = item[\"title\"]\n",
    "    text = item[\"body\"]\n",
    "    prompt = f\"напиши новость в стиле панорамы для заголовка: {title}\"\n",
    "    new_dataset.append(\n",
    "        {\n",
    "            \"prompt\": prompt,\n",
    "            \"title\": title,\n",
    "            \"text\": text,\n",
    "        }\n",
    "    )"
   ]
  },
  {
   "cell_type": "code",
   "execution_count": 7,
   "metadata": {},
   "outputs": [
    {
     "data": {
      "text/plain": [
       "5000"
      ]
     },
     "execution_count": 7,
     "metadata": {},
     "output_type": "execute_result"
    }
   ],
   "source": [
    "len(new_dataset)"
   ]
  },
  {
   "cell_type": "code",
   "execution_count": 8,
   "metadata": {},
   "outputs": [
    {
     "data": {
      "text/plain": [
       "{'prompt': 'напиши новость в стиле панорамы для заголовка: Лукашенко требует ограничить долю \"КАМАЗа\" на российском рынке',\n",
       " 'title': 'Лукашенко требует ограничить долю \"КАМАЗа\" на российском рынке',\n",
       " 'text': 'Президент Белоруссии Александр Лукашенко в рамках избирательной кампании представил новую протекционистскую стратегию по поддержке белорусских предприятий. Впервые документ говорит не только о внутреннем рынке, но и предполагает защиту производителей на внешних рынках.\\nОсновным рынком, судя из документа, для белорусской продукции вновь останется Россия, при этом Минск рассчитывает увеличить свою долю. Отдельного внимания заслужили производители грузовых автомобилей и автобусов: Белаз и МАЗ, которым, по мнению Лукашенко, мешает развиваться \"КАМАЗ\". Для устранения такого недоразумения глава государства потребовал от российского Минпромторга ограничить долю производителя на рынке России. В противном случае он обещает \"КАМАЗу\" проблемы со сбытом и обслуживанием в Белоруссии.\\n\"Мы ведь союзное государство или как? Неужели наш Белаз или МАЗ хуже \"КАМАЗа\"? Вот вы спросите любого в Жодино. Он вам расскажет. Почему же в России их не берут? Потому что всё заточено под \"КАМАЗ\". Ну ладно, пусть будет, но нужно ограничить его долю на рынке. Должно же быть уважение к нашим белорусским мужикам, которые день и ночь горбатятся. Мы долго терпели, но сил уже нет. Если потребуется, примем санкции\", - сказал Лукашенко.'}"
      ]
     },
     "execution_count": 8,
     "metadata": {},
     "output_type": "execute_result"
    }
   ],
   "source": [
    "new_dataset[10]"
   ]
  },
  {
   "cell_type": "code",
   "execution_count": 9,
   "metadata": {},
   "outputs": [
    {
     "name": "stderr",
     "output_type": "stream",
     "text": [
      "Creating parquet from Arrow format: 100%|██████████| 5/5 [00:00<00:00, 102.27ba/s]\n",
      "Pushing dataset shards to the dataset hub: 100%|██████████| 1/1 [00:03<00:00,  3.19s/it]\n"
     ]
    }
   ],
   "source": [
    "new_dataset = Dataset.from_list(new_dataset)\n",
    "new_dataset.push_to_hub(\"dim/panorama_prompts\")"
   ]
  },
  {
   "cell_type": "code",
   "execution_count": 1,
   "metadata": {},
   "outputs": [
    {
     "name": "stderr",
     "output_type": "stream",
     "text": [
      "/home/kosenko/miniconda3/lib/python3.10/site-packages/tqdm/auto.py:21: TqdmWarning: IProgress not found. Please update jupyter and ipywidgets. See https://ipywidgets.readthedocs.io/en/stable/user_install.html\n",
      "  from .autonotebook import tqdm as notebook_tqdm\n",
      "Downloading readme: 100%|██████████| 429/429 [00:00<00:00, 3.50MB/s]\n"
     ]
    },
    {
     "name": "stdout",
     "output_type": "stream",
     "text": [
      "Downloading and preparing dataset None/None to /home/kosenko/.cache/huggingface/datasets/dim___parquet/dim--panorama_prompts-a191c48bc8bf407b/0.0.0/2a3b91fbd88a2c90d1dbbb32b460cf621d31bd5b05b934492fdef7d8d6f236ec...\n"
     ]
    },
    {
     "name": "stderr",
     "output_type": "stream",
     "text": [
      "Downloading data: 100%|██████████| 7.18M/7.18M [00:00<00:00, 11.4MB/s]\n",
      "Downloading data files: 100%|██████████| 1/1 [00:01<00:00,  1.90s/it]\n",
      "Extracting data files: 100%|██████████| 1/1 [00:00<00:00, 242.59it/s]\n",
      "                                                                       \r"
     ]
    },
    {
     "name": "stdout",
     "output_type": "stream",
     "text": [
      "Dataset parquet downloaded and prepared to /home/kosenko/.cache/huggingface/datasets/dim___parquet/dim--panorama_prompts-a191c48bc8bf407b/0.0.0/2a3b91fbd88a2c90d1dbbb32b460cf621d31bd5b05b934492fdef7d8d6f236ec. Subsequent calls will reuse this data.\n"
     ]
    },
    {
     "name": "stderr",
     "output_type": "stream",
     "text": [
      "100%|██████████| 1/1 [00:00<00:00, 708.50it/s]\n"
     ]
    },
    {
     "data": {
      "text/plain": [
       "{'prompt': 'напиши новость в стиле панорамы для заголовка: Депутаты жалуются на двойников, принимающих иностранное подданство',\n",
       " 'title': 'Депутаты жалуются на двойников, принимающих иностранное подданство',\n",
       " 'text': 'Более 20 депутатов Госдумы написали пояснительные записки на имя главы парламентского комитета по борьбе с иностранным вмешательством во внутренние дела России Алексея Мельникова. Парламентарии указали, что информация, опубликованная в зарубежных и отечественных СМИ о наличии у них иностранных паспортов, не является достоверной, а документы принадлежат иным лицам с их именами и фамилиями.\\nПарламентарии добавляют, что, помимо непосредственно документов, их деловая репутация пострадала от действий двойников, приобретавших недвижимость и переводивших на банковские счета крупные суммы денег из России. Некоторые парламентарии подчеркнули, что имеют фальшивые паспорта стран ЕС, чтобы легче передвигаться по европейским государствам, в том числе для участия в заседаниях Парламентской ассамблеи Совета Европы.\\nВ соответствии с указанными фактами Госдума планирует обратиться в Роскомнадзор с требованием заблокировать порочащую честь российского парламентария информацию и вынести предупреждение ресурсам, распространявшим её. При повторном нарушении доступ к таким сайт будет закрыт на территории России навсегда.\\nМинистерство иностранных дел РФ осудило политику иностранных государств, направленную на массовое создание двойников российских парламентариев и чиновников, и отметило недопустимость нарушения Конституции России.'}"
      ]
     },
     "execution_count": 1,
     "metadata": {},
     "output_type": "execute_result"
    }
   ],
   "source": [
    "from datasets import load_dataset\n",
    "\n",
    "dataset = load_dataset(\"dim/panorama_prompts\")\n",
    "dataset = dataset[\"train\"]\n",
    "dataset[104]"
   ]
  }
 ],
 "metadata": {
  "kernelspec": {
   "display_name": "base",
   "language": "python",
   "name": "python3"
  },
  "language_info": {
   "codemirror_mode": {
    "name": "ipython",
    "version": 3
   },
   "file_extension": ".py",
   "mimetype": "text/x-python",
   "name": "python",
   "nbconvert_exporter": "python",
   "pygments_lexer": "ipython3",
   "version": "3.10.9"
  },
  "orig_nbformat": 4
 },
 "nbformat": 4,
 "nbformat_minor": 2
}
