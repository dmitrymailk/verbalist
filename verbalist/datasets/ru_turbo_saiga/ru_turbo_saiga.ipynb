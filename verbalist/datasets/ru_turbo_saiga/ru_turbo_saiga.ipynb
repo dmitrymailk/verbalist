{
 "cells": [
  {
   "cell_type": "code",
   "execution_count": 1,
   "metadata": {},
   "outputs": [
    {
     "name": "stderr",
     "output_type": "stream",
     "text": [
      "/home/kosenko/miniconda3/lib/python3.10/site-packages/tqdm/auto.py:21: TqdmWarning: IProgress not found. Please update jupyter and ipywidgets. See https://ipywidgets.readthedocs.io/en/stable/user_install.html\n",
      "  from .autonotebook import tqdm as notebook_tqdm\n",
      "No config specified, defaulting to: ru_turbo_saiga/default\n",
      "Found cached dataset ru_turbo_saiga (/home/kosenko/.cache/huggingface/datasets/IlyaGusev___ru_turbo_saiga/default/0.0.1/28415c7ce4ae7d7de9064f6f7e18a089ba79edce3adc4a43fdbb09e9cd39f16c)\n",
      "100%|██████████| 1/1 [00:00<00:00,  1.59it/s]\n"
     ]
    },
    {
     "data": {
      "text/plain": [
       "{'messages': {'role': ['user', 'bot', 'user', 'bot', 'user', 'bot'],\n",
       "  'content': ['У меня есть вопрос на тему поступления в университет. Влияет ли редкость национальности/этноса кандидата на поступление?',\n",
       "   'На поступление в университет влияет множество факторов, таких как успеваемость, результаты экзаменов, рекомендации и другие. Однако, языковой барьер и многие другие факторы могут существенно повлиять на возможность поступления.',\n",
       "   'Где-то читал, что шанс к примеру кандидата из Китая крайне мал. Это правда?',\n",
       "   'На самом деле, этот вопрос не может быть решен однозначно, поскольку каждый университет имеет свои собственные критерии отбора и политику приема на учебу. Редкость национальности/этноса кандидата может влиять на его шансы, но это не гарантирует отказа. Кроме того, есть специализированные программы, которые могут поддерживать студентов поступивших с других стран.',\n",
       "   'Понятно, спасибо за ответ. А как лучше подготовиться к поступлению и увеличить свои шансы?',\n",
       "   'Лучший способ подготовиться к поступлению - это начать раньше и посвятить достаточно времени подготовке. Можно записаться на курсы подготовки или нанять преподавателя. Также, необходимо уделить внимание написанию эссе, письмам рекомендации и подтверждающим документам. И помни, что удача не в последнюю очередь зависит от подготовления и решительности.']},\n",
       " 'seed': 'Влияет ли редкость национальности/этноса кандидата на поступление? Где-то читал, что шанс к примеру кандидата из Китая крайне мал.?',\n",
       " 'source': 'yandex_q'}"
      ]
     },
     "execution_count": 1,
     "metadata": {},
     "output_type": "execute_result"
    }
   ],
   "source": [
    "from datasets import load_dataset\n",
    "dataset = load_dataset(\"IlyaGusev/ru_turbo_saiga\")\n",
    "dataset['train'][0]"
   ]
  },
  {
   "cell_type": "code",
   "execution_count": 3,
   "metadata": {},
   "outputs": [
    {
     "name": "stderr",
     "output_type": "stream",
     "text": [
      "Creating parquet from Arrow format: 100%|██████████| 3/3 [00:00<00:00, 28.73ba/s]\n",
      "Pushing dataset shards to the dataset hub: 100%|██████████| 1/1 [00:02<00:00,  2.57s/it]\n",
      "Downloading metadata: 100%|██████████| 21.0/21.0 [00:00<00:00, 133kB/s]\n"
     ]
    }
   ],
   "source": [
    "dataset = dataset['train'].train_test_split(test_size=3000, seed=42)\n",
    "dataset = dataset['test']\n",
    "dataset.push_to_hub('dim/ru_turbo_saiga_3k')"
   ]
  }
 ],
 "metadata": {
  "kernelspec": {
   "display_name": "base",
   "language": "python",
   "name": "python3"
  },
  "language_info": {
   "codemirror_mode": {
    "name": "ipython",
    "version": 3
   },
   "file_extension": ".py",
   "mimetype": "text/x-python",
   "name": "python",
   "nbconvert_exporter": "python",
   "pygments_lexer": "ipython3",
   "version": "3.10.9"
  },
  "orig_nbformat": 4
 },
 "nbformat": 4,
 "nbformat_minor": 2
}
