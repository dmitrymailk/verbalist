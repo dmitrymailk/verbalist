{
 "cells": [
  {
   "cell_type": "code",
   "execution_count": 17,
   "metadata": {},
   "outputs": [],
   "source": [
    "# from datasets import load_dataset\n",
    "\n",
    "# dataset = load_dataset(\"openchat/openchat_sharegpt4_dataset\")\n",
    "import json\n",
    "\n",
    "with open(\"./verbalist/datasets/openchat_sharegpt4_dataset/sharegpt_gpt4.json\") as f:\n",
    "    dataset = json.load(f)"
   ]
  },
  {
   "cell_type": "code",
   "execution_count": 4,
   "metadata": {},
   "outputs": [
    {
     "data": {
      "text/plain": [
       "6206"
      ]
     },
     "execution_count": 4,
     "metadata": {},
     "output_type": "execute_result"
    }
   ],
   "source": [
    "len(dataset)"
   ]
  },
  {
   "cell_type": "code",
   "execution_count": 18,
   "metadata": {},
   "outputs": [],
   "source": [
    "import re\n",
    "\n",
    "\n",
    "def filter_string(string):\n",
    "    has = True\n",
    "    has_zh = not len(re.findall(r\"[\\u4e00-\\u9fff]+\", string)) > 0\n",
    "    has_ko = not len(re.findall(r\"[\\u3131-\\ucb4c]+\", string)) > 0\n",
    "    has = has_zh and has_ko\n",
    "    invalid_letters = \"ієùéàçğİ\"\n",
    "    for letter in invalid_letters:\n",
    "        if letter in string:\n",
    "            return False\n",
    "    return has"
   ]
  },
  {
   "cell_type": "code",
   "execution_count": 19,
   "metadata": {},
   "outputs": [],
   "source": [
    "clean_dataset = []\n",
    "\n",
    "for conv in dataset:\n",
    "    all_conv = [item[\"value\"] for item in conv[\"items\"]]\n",
    "    all_conv = \"\".join(all_conv)\n",
    "    if filter_string(all_conv):\n",
    "        clean_dataset.append(conv)"
   ]
  },
  {
   "cell_type": "code",
   "execution_count": null,
   "metadata": {},
   "outputs": [],
   "source": [
    "for conv in clean_dataset:\n",
    "    all_conv = [item[\"value\"] for item in conv[\"items\"]]\n",
    "    all_conv = \"\\n=================\\n\".join(all_conv)\n",
    "    print(all_conv)\n",
    "    print(\"=\" * 100)\n",
    "    print(\"=\" * 100)\n",
    "    print(\"=\" * 100)"
   ]
  },
  {
   "cell_type": "code",
   "execution_count": 20,
   "metadata": {},
   "outputs": [
    {
     "data": {
      "text/plain": [
       "4210"
      ]
     },
     "execution_count": 20,
     "metadata": {},
     "output_type": "execute_result"
    }
   ],
   "source": [
    "len(clean_dataset)"
   ]
  },
  {
   "cell_type": "markdown",
   "metadata": {},
   "source": [
    "## sharegpt_clean\n"
   ]
  },
  {
   "cell_type": "code",
   "execution_count": 1,
   "metadata": {},
   "outputs": [],
   "source": [
    "import json\n",
    "\n",
    "with open(\"verbalist/datasets/openchat_sharegpt4_dataset/sharegpt_clean.json\") as f:\n",
    "    dataset = json.load(f)"
   ]
  },
  {
   "cell_type": "code",
   "execution_count": null,
   "metadata": {},
   "outputs": [],
   "source": [
    "dataset[0]"
   ]
  },
  {
   "cell_type": "code",
   "execution_count": null,
   "metadata": {},
   "outputs": [],
   "source": [
    "for conv in dataset[:10000]:\n",
    "    all_conv = [item[\"value\"] for item in conv[\"items\"]]\n",
    "    all_conv = \"\\n=================\\n\".join(all_conv)\n",
    "    print(all_conv)\n",
    "    print(\"=\" * 100)\n",
    "    print(\"=\" * 100)\n",
    "    print(\"=\" * 100)"
   ]
  }
 ],
 "metadata": {
  "kernelspec": {
   "display_name": "base",
   "language": "python",
   "name": "python3"
  },
  "language_info": {
   "codemirror_mode": {
    "name": "ipython",
    "version": 3
   },
   "file_extension": ".py",
   "mimetype": "text/x-python",
   "name": "python",
   "nbconvert_exporter": "python",
   "pygments_lexer": "ipython3",
   "version": "3.10.9"
  },
  "orig_nbformat": 4
 },
 "nbformat": 4,
 "nbformat_minor": 2
}
