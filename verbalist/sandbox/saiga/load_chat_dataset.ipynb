{
 "cells": [
  {
   "cell_type": "code",
   "execution_count": 13,
   "metadata": {},
   "outputs": [],
   "source": [
    "from src.dataset import ChatDataset\n",
    "from src.util.io import read_jsonl\n",
    "\n",
    "from transformers import AutoTokenizer\n",
    "\n",
    "# train_file = \"./train.jsonl\"\n",
    "train_file = \"./valid.jsonl\"\n",
    "train_records = read_jsonl(train_file)\n",
    "\n",
    "model_name = \"meta-llama/Llama-2-7b-hf\"\n",
    "tokenizer = AutoTokenizer.from_pretrained(model_name)\n",
    "\n",
    "max_tokens_count = 2000\n",
    "train_sample_rate = 1.0\n",
    "templates_path = \"internal_prompts/saiga_v2.json\"\n",
    "only_target_loss = True"
   ]
  },
  {
   "cell_type": "code",
   "execution_count": 14,
   "metadata": {},
   "outputs": [
    {
     "name": "stdout",
     "output_type": "stream",
     "text": [
      "b'meta-llama/Llama-2-7b-hf1.0internal_prompts/saiga_v2.json2000'\n",
      "./models/temp/49ab3d165776cfe78d0910b3ae4d7bd9574dfe24b0ffdac3ba2c0ee71134ca9e_valid.bin\n"
     ]
    },
    {
     "name": "stderr",
     "output_type": "stream",
     "text": [
      "  2%|▏         | 43/2824 [00:00<00:06, 427.83it/s]"
     ]
    },
    {
     "name": "stdout",
     "output_type": "stream",
     "text": [
      "Prompt example\n",
      "<s>system\n",
      "Ты — Сайга, русскоязычный автоматический ассистент. Ты разговариваешь с людьми и помогаешь им.</s>\n",
      "<s>user\n",
      "Сформулируйте логическую цепочку рассуждений, которая позволяет объяснить, почему анекдот про зебру вызывает у людей смех и как это связано с их ожиданиями от обычного описания животных.</s>\n",
      "<s>bot\n",
      "1) Животные обычно описываются с определенными качествами и характеристиками.\n",
      "2) Например, зебра обычно ассоциируется с черно-белым цветом и полосатым рисунком на теле.\n",
      "3) Анекдот про зебру нарушает эти ожидания, так как описывает зебру совершенно по-другому: \"Один заяц спросил у другого: «Ты когда-нибудь видел зебру?». «Нет» — ответил второй. «А черную лошадь с белыми полосами?». «Нет». «А белую лошадь с черными полосами?». «Нет». «А зебру?». «Точно не видел»\".\n",
      "4) Такое неожиданное и нестандартное описание зебры вызывает комический эффект и смех у людей.</s>\n",
      "<s>user\n",
      "Предложите конкретный заголовок для статьи, описывающей процесс создания веб-приложения с помощью языка программирования Python и фреймворка Django. Учитывайте сложность процесса создания приложения и важность использования правильной структуры аргументов и связей при формулировке заголовка.</s>\n",
      "<s>bot\n",
      "\"Создание мощного веб-приложения с помощью Python и Django: Подробный гид по правильной структуре аргументов и связей\"</s>\n"
     ]
    },
    {
     "name": "stderr",
     "output_type": "stream",
     "text": [
      "100%|██████████| 2824/2824 [00:04<00:00, 564.95it/s]\n"
     ]
    }
   ],
   "source": [
    "train_dataset = ChatDataset(\n",
    "    train_records,\n",
    "    tokenizer,\n",
    "    max_tokens_count=max_tokens_count,\n",
    "    sample_rate=train_sample_rate,\n",
    "    templates_path=templates_path,\n",
    "    only_target_loss=only_target_loss,\n",
    "    # dataset_type=\"train\",\n",
    "    dataset_type=\"valid\",\n",
    ")"
   ]
  },
  {
   "cell_type": "code",
   "execution_count": 15,
   "metadata": {},
   "outputs": [
    {
     "data": {
      "text/plain": [
       "2824"
      ]
     },
     "execution_count": 15,
     "metadata": {},
     "output_type": "execute_result"
    }
   ],
   "source": [
    "len(train_dataset.records)"
   ]
  }
 ],
 "metadata": {
  "kernelspec": {
   "display_name": "base",
   "language": "python",
   "name": "python3"
  },
  "language_info": {
   "codemirror_mode": {
    "name": "ipython",
    "version": 3
   },
   "file_extension": ".py",
   "mimetype": "text/x-python",
   "name": "python",
   "nbconvert_exporter": "python",
   "pygments_lexer": "ipython3",
   "version": "3.10.9"
  },
  "orig_nbformat": 4
 },
 "nbformat": 4,
 "nbformat_minor": 2
}
