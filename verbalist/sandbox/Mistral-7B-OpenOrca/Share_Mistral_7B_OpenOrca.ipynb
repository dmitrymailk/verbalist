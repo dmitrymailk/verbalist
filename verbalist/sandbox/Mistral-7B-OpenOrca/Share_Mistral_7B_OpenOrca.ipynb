{
  "cells": [
    {
      "cell_type": "markdown",
      "metadata": {
        "id": "Lz1BrGwnBvOy"
      },
      "source": [
        "# Setup\n"
      ]
    },
    {
      "cell_type": "code",
      "execution_count": null,
      "metadata": {
        "id": "gkTcL-Y8Ah8h"
      },
      "outputs": [],
      "source": [
        "! pip install datasets einops sentencepiece tokenizers\n",
        "! pip install git+https://github.com/huggingface/transformers"
      ]
    },
    {
      "cell_type": "markdown",
      "metadata": {
        "id": "Ifv2qeonBw2O"
      },
      "source": [
        "# Download\n"
      ]
    },
    {
      "cell_type": "code",
      "execution_count": 1,
      "metadata": {
        "id": "_0m69EdhKziv"
      },
      "outputs": [
        {
          "name": "stderr",
          "output_type": "stream",
          "text": [
            "/home/kosenko/miniconda3/lib/python3.10/site-packages/tqdm/auto.py:21: TqdmWarning: IProgress not found. Please update jupyter and ipywidgets. See https://ipywidgets.readthedocs.io/en/stable/user_install.html\n",
            "  from .autonotebook import tqdm as notebook_tqdm\n",
            "Special tokens have been added in the vocabulary, make sure the associated word embeddings are fine-tuned or trained.\n",
            "Special tokens have been added in the vocabulary, make sure the associated word embeddings are fine-tuned or trained.\n"
          ]
        }
      ],
      "source": [
        "import os\n",
        "\n",
        "os.environ[\"CUDA_VISIBLE_DEVICES\"] = \"1\"\n",
        "import torch\n",
        "from transformers import AutoModelForCausalLM, AutoTokenizer, GenerationConfig\n",
        "\n",
        "device = \"cuda\"\n",
        "# model = AutoModelForCausalLM.from_pretrained(\"Open-Orca/Mistral-7B-OpenOrca\").to(device)\n",
        "tokenizer = AutoTokenizer.from_pretrained(\"Open-Orca/Mistral-7B-OpenOrca\")"
      ]
    },
    {
      "cell_type": "code",
      "execution_count": 4,
      "metadata": {},
      "outputs": [
        {
          "data": {
            "text/plain": [
              "([12435], [2188])"
            ]
          },
          "execution_count": 4,
          "metadata": {},
          "output_type": "execute_result"
        }
      ],
      "source": [
        "tokenizer.encode(\"bot\", add_special_tokens=False), tokenizer.encode(\"user\", add_special_tokens=False) "
      ]
    },
    {
      "cell_type": "code",
      "execution_count": 6,
      "metadata": {},
      "outputs": [
        {
          "data": {
            "text/plain": [
              "([1], [2])"
            ]
          },
          "execution_count": 6,
          "metadata": {},
          "output_type": "execute_result"
        }
      ],
      "source": [
        "tokenizer.encode(\"<s>\", add_special_tokens=False), tokenizer.encode(\"</s>\", add_special_tokens=False) "
      ]
    },
    {
      "cell_type": "code",
      "execution_count": 10,
      "metadata": {},
      "outputs": [
        {
          "name": "stderr",
          "output_type": "stream",
          "text": [
            "Using sep_token, but it is not set yet.\n",
            "Using pad_token, but it is not set yet.\n",
            "Using cls_token, but it is not set yet.\n",
            "Using mask_token, but it is not set yet.\n"
          ]
        },
        {
          "name": "stdout",
          "output_type": "stream",
          "text": [
            "<|im_start|>system\n",
            "You are MistralOrca, a large language model trained by Alignment Lab AI. Write out your reasoning step-by-step to be sure you get the right answers!<|im_end|>\n",
            "<|im_start|>user\n",
            "How are you?<|im_end|>\n",
            "<|im_start|>assistant\n",
            "I am doing well!<|im_end|>\n",
            "<|im_start|>user\n",
            "Please tell me about how mistral winds have attracted super-orcas.<|im_end|>\n",
            "\n"
          ]
        }
      ],
      "source": [
        "chat = [\n",
        "    {\n",
        "        \"role\": \"system\",\n",
        "        \"content\": \"You are MistralOrca, a large language model trained by Alignment Lab AI. Write out your reasoning step-by-step to be sure you get the right answers!\",\n",
        "    },\n",
        "    {\n",
        "        \"role\": \"user\",\n",
        "        \"content\": \"How are you?\",\n",
        "    },\n",
        "    {\n",
        "        \"role\": \"assistant\",\n",
        "        \"content\": \"I am doing well!\",\n",
        "    },\n",
        "    {\n",
        "        \"role\": \"user\",\n",
        "        \"content\": \"Please tell me about how mistral winds have attracted super-orcas.\",\n",
        "    },\n",
        "]\n",
        "chat_tokenizer_template = tokenizer.apply_chat_template(\n",
        "    chat,\n",
        "    # tokenize=True,\n",
        "    tokenize=False,\n",
        "    add_generation_prompt=True,\n",
        ")\n",
        "print(chat_tokenizer_template)"
      ]
    },
    {
      "cell_type": "markdown",
      "metadata": {
        "id": "SIOYz3-TB0GU"
      },
      "source": [
        "# Run\n"
      ]
    },
    {
      "cell_type": "code",
      "execution_count": 14,
      "metadata": {
        "id": "TuYgiMHgLDo9"
      },
      "outputs": [
        {
          "name": "stderr",
          "output_type": "stream",
          "text": [
            "Using sep_token, but it is not set yet.\n",
            "Using pad_token, but it is not set yet.\n",
            "Using cls_token, but it is not set yet.\n",
            "Using mask_token, but it is not set yet.\n",
            "The attention mask and the pad token id were not set. As a consequence, you may observe unexpected behavior. Please pass your input's `attention_mask` to obtain reliable results.\n",
            "Setting `pad_token_id` to `eos_token_id`:32000 for open-end generation.\n"
          ]
        },
        {
          "name": "stdout",
          "output_type": "stream",
          "text": [
            "<|im_start|> system\n",
            "You are MistralOrca, a large language model trained by Alignment Lab AI. Write out your reasoning step-by-step to be sure you get the right answers!<|im_end|><|im_start|> user\n",
            "How are you?<|im_end|><|im_start|> assistant\n",
            "I am doing well!<|im_end|><|im_start|> user\n",
            "Please tell me about how mistral winds have attracted super-orcas.<|im_end|> \n",
            "\n",
            "Step 1: Understand the question\n",
            "The user is asking about the relationship between mistral winds and super-orcas.\n",
            "\n",
            "Step 2: Research the topic\n",
            "Mistral winds are strong, cold, and dry winds that blow from the northeast in the Mediterranean region. Super-orcas are a term used to describe large, powerful orcas (killer whales) that are known for their impressive size and strength.\n",
            "\n",
            "Step 3: Analyze the relationship between the two\n",
            "There is no direct relationship between mistral winds and super-orcas. Mistral winds are a weather phenomenon, while super-orcas are a type of marine animal. However, it is possible that the presence of mistral winds could affect the behavior or distribution of orcas in the Mediterranean region.\n",
            "\n",
            "Step 4: Provide a response\n",
            "Mistral winds do not have a direct impact on super-orcas. However, these strong winds could potentially influence the behavior or distribution of orcas in the Mediterranean region. It is important to note that the relationship between mistral winds and super-orcas is not well-established and would require further research to better understand any potential connections.<|im_end|>\n"
          ]
        }
      ],
      "source": [
        "inputs = tokenizer.apply_chat_template(\n",
        "    chat,\n",
        "    tokenize=True,\n",
        "    # tokenize=False,\n",
        "    # add_generation_prompt=True,\n",
        "    return_tensors='pt'\n",
        ").to(device)\n",
        "outputs = model.generate(\n",
        "    input_ids=inputs,\n",
        "    max_new_tokens=256,\n",
        "    use_cache=True,\n",
        "    do_sample=True,\n",
        "    temperature=0.2,\n",
        "    top_p=0.95\n",
        ")\n",
        "text = tokenizer.batch_decode(outputs)[0]\n",
        "print(text)\n"
      ]
    },
    {
      "cell_type": "code",
      "execution_count": 5,
      "metadata": {
        "id": "C65lxy1PBr5m"
      },
      "outputs": [
        {
          "name": "stdout",
          "output_type": "stream",
          "text": [
            "<s><|im_start|> system\n",
            "A chat.<|im_end|><|im_start|> user\n",
            "Сколько у человека пальцев. Ответь с научной точки зрения.<|im_end|><|im_start|> assistant\n",
            " У взрослого человека на каждой руке по 5 пальцев. На ногах у взрослого человека также по 5 пальцев на каждом пне. Однако у детей количество пальцев может быть немного больше на начальных стадиях развития.<|im_end|>\n"
          ]
        }
      ],
      "source": [
        "sys_prompt = \"A chat.\"\n",
        "# prompt = \"Tell me a joke.\"\n",
        "# prompt = \"Напиши алгоритм как погладить котика\"\n",
        "prompt = \"Сколько у человека пальцев. Ответь с научной точки зрения.\"\n",
        "\n",
        "prefix = \"<|im_start|>\"\n",
        "suffix = \"<|im_end|>\\n\"\n",
        "sys_format = prefix + \"system\\n\" + sys_prompt + suffix\n",
        "user_format = prefix + \"user\\n\" + prompt + suffix\n",
        "assistant_format = prefix + \"assistant\\n\"\n",
        "input_text = sys_format + user_format + assistant_format\n",
        "\n",
        "generation_config = GenerationConfig(\n",
        "    max_length=256,\n",
        "    temperature=1.1,\n",
        "    top_p=0.95,\n",
        "    repetition_penalty=1.0,\n",
        "    do_sample=True,\n",
        "    use_cache=True,\n",
        "    eos_token_id=tokenizer.eos_token_id,\n",
        "    pad_token_id=tokenizer.eos_token_id,\n",
        "    transformers_version=\"4.34.0.dev0\",\n",
        ")\n",
        "\n",
        "inputs = tokenizer(input_text, return_tensors=\"pt\", return_attention_mask=True).to(\n",
        "    device\n",
        ")\n",
        "outputs = model.generate(**inputs, generation_config=generation_config)\n",
        "\n",
        "text = tokenizer.batch_decode(outputs)[0]\n",
        "print(text)"
      ]
    },
    {
      "cell_type": "markdown",
      "metadata": {
        "id": "clXKow5r25b6"
      },
      "source": [
        "# Debug\n"
      ]
    },
    {
      "cell_type": "code",
      "execution_count": null,
      "metadata": {
        "colab": {
          "base_uri": "https://localhost:8080/"
        },
        "id": "pbiLHvBhQMaZ",
        "outputId": "87e02cc1-d16a-49aa-a4ef-e6a3665119a6"
      },
      "outputs": [
        {
          "name": "stdout",
          "output_type": "stream",
          "text": [
            "2\n",
            "2\n",
            "None\n",
            "None\n"
          ]
        }
      ],
      "source": [
        "print(tokenizer.eos_token_id)\n",
        "print(model.config.eos_token_id)\n",
        "print(tokenizer.pad_token_id)\n",
        "print(model.config.pad_token_id)"
      ]
    },
    {
      "cell_type": "code",
      "execution_count": null,
      "metadata": {
        "colab": {
          "base_uri": "https://localhost:8080/"
        },
        "id": "zr5szONSTlxI",
        "outputId": "d4ffe4f3-3c2a-4acd-bcef-39aa9c2ffab1"
      },
      "outputs": [
        {
          "name": "stdout",
          "output_type": "stream",
          "text": [
            "<s></s><|im_end|><|im_start|>\n"
          ]
        }
      ],
      "source": [
        "text = tokenizer.decode([1, 2, 32000, 32001])\n",
        "print(text)"
      ]
    },
    {
      "cell_type": "code",
      "execution_count": null,
      "metadata": {
        "colab": {
          "base_uri": "https://localhost:8080/"
        },
        "id": "vUsP1IVOVTpm",
        "outputId": "b973c1e3-de7b-4805-a52f-d94cc5f811df"
      },
      "outputs": [
        {
          "data": {
            "text/plain": [
              "32000"
            ]
          },
          "execution_count": 38,
          "metadata": {},
          "output_type": "execute_result"
        }
      ],
      "source": [
        "tokenizer.convert_tokens_to_ids(\"<|im_end|>\")"
      ]
    },
    {
      "cell_type": "code",
      "execution_count": null,
      "metadata": {
        "id": "NorLc3FzX32I"
      },
      "outputs": [],
      "source": []
    }
  ],
  "metadata": {
    "accelerator": "GPU",
    "colab": {
      "collapsed_sections": [
        "clXKow5r25b6"
      ],
      "gpuType": "T4",
      "machine_shape": "hm",
      "provenance": []
    },
    "kernelspec": {
      "display_name": "Python 3 (ipykernel)",
      "language": "python",
      "name": "python3"
    },
    "language_info": {
      "codemirror_mode": {
        "name": "ipython",
        "version": 3
      },
      "file_extension": ".py",
      "mimetype": "text/x-python",
      "name": "python",
      "nbconvert_exporter": "python",
      "pygments_lexer": "ipython3",
      "version": "3.10.13"
    }
  },
  "nbformat": 4,
  "nbformat_minor": 0
}
