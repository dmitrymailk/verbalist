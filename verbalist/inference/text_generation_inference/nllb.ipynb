{
 "cells": [
  {
   "cell_type": "code",
   "execution_count": 41,
   "metadata": {},
   "outputs": [
    {
     "name": "stdout",
     "output_type": "stream",
     "text": [
      "{'generated_text': '¿Cansado de desplazarte por los mismos mensajes? Cuando creas una cuenta siempre volverás a donde lo dejaste'}\n"
     ]
    }
   ],
   "source": [
    "import requests\n",
    "from transformers import AutoModelForSeq2SeqLM, AutoTokenizer\n",
    "\n",
    "headers = {\n",
    "    \"Content-Type\": \"application/json\",\n",
    "}\n",
    "tokenizer = AutoTokenizer.from_pretrained(\"facebook/nllb-200-3.3B\")\n",
    "data = {\n",
    "    \"inputs\": \"Tired of scrolling through the same posts? When you create an account you’ll always come back to where you left off\",\n",
    "    \"parameters\": {\n",
    "        \"max_new_tokens\": 100,\n",
    "        \"forced_bos_token_id\": tokenizer.lang_code_to_id[\"jpn_Jpan\"],\n",
    "        \"src_lang\": tokenizer.lang_code_to_id[\"eng_Latn\"],\n",
    "    },\n",
    "    \"forced_bos_token_id\": tokenizer.lang_code_to_id[\"jpn_Jpan\"],\n",
    "    \"src_lang\": tokenizer.lang_code_to_id[\"eng_Latn\"],\n",
    "}\n",
    "\n",
    "response = requests.post(\"http://0.0.0.0:8081/generate\", headers=headers, json=data)\n",
    "print(response.json())\n",
    "# {'generated_text': '\\n\\nDeep Learning is a subset of Machine Learning that is concerned with the development of algorithms that can'}"
   ]
  },
  {
   "cell_type": "code",
   "execution_count": 11,
   "metadata": {},
   "outputs": [
    {
     "data": {
      "text/plain": [
       "256047"
      ]
     },
     "execution_count": 11,
     "metadata": {},
     "output_type": "execute_result"
    }
   ],
   "source": [
    "tokenizer.lang_code_to_id[\"eng_Latn\"]"
   ]
  }
 ],
 "metadata": {
  "kernelspec": {
   "display_name": "base",
   "language": "python",
   "name": "python3"
  },
  "language_info": {
   "codemirror_mode": {
    "name": "ipython",
    "version": 3
   },
   "file_extension": ".py",
   "mimetype": "text/x-python",
   "name": "python",
   "nbconvert_exporter": "python",
   "pygments_lexer": "ipython3",
   "version": "3.10.13"
  }
 },
 "nbformat": 4,
 "nbformat_minor": 2
}
